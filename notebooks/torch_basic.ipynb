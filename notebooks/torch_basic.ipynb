{
 "cells": [
  {
   "cell_type": "markdown",
   "metadata": {},
   "source": [
    "## Манипулирование данными"
   ]
  },
  {
   "cell_type": "markdown",
   "metadata": {},
   "source": [
    "Невозможно что-либо сделать, если мы не умеем манипулировать данными. Две основные операции, которые нам нужно сделать с данными - (i) получить их и (ii) обработать. Нет смысла собирать данные, если мы даже не знаем, как их хранить, поэтому давайте сначала поработаем с синтетическими данными. Мы начнем с torch.tensor. Это основной инструмент для хранения и преобразования данных в torch. Если вы раньше работали с NumPy, вы заметите, что он по своей конструкции очень похож на многомерный массив NumPy. Тем не менее, он даёт несколько ключевых преимуществ. Во-первых, torch.tensor поддерживает асинхронные вычисления на CPU и GPU. Во-вторых, он обеспечивает поддержку автоматического дифференцирования.\n",
    "\n",
    "Начнем с импорта torch"
   ]
  },
  {
   "cell_type": "code",
   "execution_count": 1,
   "metadata": {
    "ExecuteTime": {
     "end_time": "2019-11-04T10:14:16.567789Z",
     "start_time": "2019-11-04T10:14:16.347872Z"
    }
   },
   "outputs": [],
   "source": [
    "import torch"
   ]
  },
  {
   "cell_type": "markdown",
   "metadata": {},
   "source": [
    "Tensor - есть массив (возможно, многомерный) числовых значений. tensor с одной осью называется (в математике) вектором, с двумя - матрицей. Для массивов с более чем двумя осями нет специальных имен - их называют просто тензорами.\n",
    "Самый простой объект, который мы можем создать - это вектор. Для начала мы можем использовать arange для создания вектора строки с 12 последовательными целыми числами."
   ]
  },
  {
   "cell_type": "code",
   "execution_count": 7,
   "metadata": {
    "ExecuteTime": {
     "end_time": "2019-11-04T10:14:17.372987Z",
     "start_time": "2019-11-04T10:14:17.356289Z"
    }
   },
   "outputs": [
    {
     "data": {
      "text/plain": [
       "tensor([ 0,  1,  2,  3,  4,  5,  6,  7,  8,  9, 10, 11])"
      ]
     },
     "execution_count": 7,
     "metadata": {},
     "output_type": "execute_result"
    }
   ],
   "source": [
    "x = torch.arange(12)\n",
    "x"
   ]
  },
  {
   "cell_type": "markdown",
   "metadata": {},
   "source": [
    "Мы можем получить форму экземпляра tensor через свойство shape."
   ]
  },
  {
   "cell_type": "code",
   "execution_count": 3,
   "metadata": {
    "ExecuteTime": {
     "end_time": "2019-11-04T10:14:18.208820Z",
     "start_time": "2019-11-04T10:14:18.203579Z"
    },
    "scrolled": true
   },
   "outputs": [
    {
     "data": {
      "text/plain": [
       "torch.Size([12])"
      ]
     },
     "execution_count": 3,
     "metadata": {},
     "output_type": "execute_result"
    }
   ],
   "source": [
    "x.shape"
   ]
  },
  {
   "cell_type": "markdown",
   "metadata": {},
   "source": [
    "Узнать расположен ли он на gpu или cpu можно через специальный аттрибут - device"
   ]
  },
  {
   "cell_type": "code",
   "execution_count": 4,
   "metadata": {
    "ExecuteTime": {
     "end_time": "2019-11-04T10:14:19.063918Z",
     "start_time": "2019-11-04T10:14:19.059582Z"
    }
   },
   "outputs": [
    {
     "data": {
      "text/plain": [
       "device(type='cpu')"
      ]
     },
     "execution_count": 4,
     "metadata": {},
     "output_type": "execute_result"
    }
   ],
   "source": [
    "x.device"
   ]
  },
  {
   "cell_type": "markdown",
   "metadata": {},
   "source": [
    "Мы используем функцию view, чтобы изменить форму одного (возможно многомерного) массива на другой, который содержит такое же количество элементов. Например, мы можем преобразовать форму нашего векторного вектора x в (3, 4), который содержит те же значения, но интерпретирует их как матрицу, содержащую 3 строки и 4 столбца. Обратите внимание, что, хотя форма изменилась, элементы в x не изменились. Причем количество элементов осталось прежним."
   ]
  },
  {
   "cell_type": "code",
   "execution_count": 8,
   "metadata": {
    "ExecuteTime": {
     "end_time": "2019-11-04T10:14:19.880948Z",
     "start_time": "2019-11-04T10:14:19.875637Z"
    }
   },
   "outputs": [
    {
     "data": {
      "text/plain": [
       "tensor([[ 0,  1,  2,  3],\n",
       "        [ 4,  5,  6,  7],\n",
       "        [ 8,  9, 10, 11]])"
      ]
     },
     "execution_count": 8,
     "metadata": {},
     "output_type": "execute_result"
    }
   ],
   "source": [
    "x.view((3,4))"
   ]
  },
  {
   "cell_type": "markdown",
   "metadata": {},
   "source": [
    "Указывать каждое измерение вручную достаточно утомительно. К счастью, torch может автоматически выводить одно измерение, учитывая другие. Мы можем указать -1 для измерения, которое мы хотели бы, чтобы torch автоматически выводил. В нашем случае вместо x.view((3, 4)) мы могли бы использовать x.view ((- 1, 4)) или x.view((3, -1))."
   ]
  },
  {
   "cell_type": "code",
   "execution_count": 9,
   "metadata": {
    "ExecuteTime": {
     "end_time": "2019-11-04T10:14:20.729317Z",
     "start_time": "2019-11-04T10:14:20.723038Z"
    }
   },
   "outputs": [
    {
     "data": {
      "text/plain": [
       "tensor([[ 0,  1,  2,  3],\n",
       "        [ 4,  5,  6,  7],\n",
       "        [ 8,  9, 10, 11]])"
      ]
     },
     "execution_count": 9,
     "metadata": {},
     "output_type": "execute_result"
    }
   ],
   "source": [
    "x.view((-1, 4))"
   ]
  },
  {
   "cell_type": "markdown",
   "metadata": {},
   "source": [
    "Другие две полезные функции - zeros и ones. Они создают массивы из всех нулей и всех единиц. Они принимают форму создаваемого тензора в качестве параметра"
   ]
  },
  {
   "cell_type": "code",
   "execution_count": 10,
   "metadata": {
    "ExecuteTime": {
     "end_time": "2019-11-04T10:14:21.649246Z",
     "start_time": "2019-11-04T10:14:21.643331Z"
    }
   },
   "outputs": [
    {
     "data": {
      "text/plain": [
       "tensor([[[0., 0., 0., 0.],\n",
       "         [0., 0., 0., 0.],\n",
       "         [0., 0., 0., 0.]],\n",
       "\n",
       "        [[0., 0., 0., 0.],\n",
       "         [0., 0., 0., 0.],\n",
       "         [0., 0., 0., 0.]]])"
      ]
     },
     "execution_count": 10,
     "metadata": {},
     "output_type": "execute_result"
    }
   ],
   "source": [
    "torch.zeros((2,3,4))"
   ]
  },
  {
   "cell_type": "code",
   "execution_count": 11,
   "metadata": {
    "ExecuteTime": {
     "end_time": "2019-11-04T10:14:22.158209Z",
     "start_time": "2019-11-04T10:14:22.150974Z"
    }
   },
   "outputs": [
    {
     "data": {
      "text/plain": [
       "tensor([[[1., 1., 1., 1.],\n",
       "         [1., 1., 1., 1.],\n",
       "         [1., 1., 1., 1.]],\n",
       "\n",
       "        [[1., 1., 1., 1.],\n",
       "         [1., 1., 1., 1.],\n",
       "         [1., 1., 1., 1.]]])"
      ]
     },
     "execution_count": 11,
     "metadata": {},
     "output_type": "execute_result"
    }
   ],
   "source": [
    "torch.ones((2,3,4))"
   ]
  },
  {
   "cell_type": "markdown",
   "metadata": {},
   "source": [
    "Конечно же, можно создать тензор явно указав все значения"
   ]
  },
  {
   "cell_type": "code",
   "execution_count": 12,
   "metadata": {
    "ExecuteTime": {
     "end_time": "2019-11-04T10:14:23.152529Z",
     "start_time": "2019-11-04T10:14:23.146816Z"
    }
   },
   "outputs": [
    {
     "data": {
      "text/plain": [
       "tensor([[1, 2, 3],\n",
       "        [4, 5, 6]])"
      ]
     },
     "execution_count": 12,
     "metadata": {},
     "output_type": "execute_result"
    }
   ],
   "source": [
    "torch.tensor([[1,2,3], [4,5,6]])"
   ]
  },
  {
   "cell_type": "markdown",
   "metadata": {},
   "source": [
    "Иногда бывает полезно создать массив, заполненный случайными значениями. Для этого используются функции torch.rand и torch.randn. Первое использовает равномерное распределение, второе - нормальное"
   ]
  },
  {
   "cell_type": "code",
   "execution_count": 13,
   "metadata": {
    "ExecuteTime": {
     "end_time": "2019-11-04T10:14:23.845174Z",
     "start_time": "2019-11-04T10:14:23.839071Z"
    }
   },
   "outputs": [
    {
     "data": {
      "text/plain": [
       "tensor([[[0.0452, 0.2364, 0.6373, 0.5347],\n",
       "         [0.0480, 0.7876, 0.5950, 0.9931],\n",
       "         [0.4442, 0.3718, 0.0490, 0.3989]],\n",
       "\n",
       "        [[0.3089, 0.7946, 0.4930, 0.3801],\n",
       "         [0.6376, 0.0091, 0.8587, 0.2271],\n",
       "         [0.3283, 0.4759, 0.7667, 0.4571]]])"
      ]
     },
     "execution_count": 13,
     "metadata": {},
     "output_type": "execute_result"
    }
   ],
   "source": [
    "torch.rand((2,3,4))"
   ]
  },
  {
   "cell_type": "code",
   "execution_count": 14,
   "metadata": {
    "ExecuteTime": {
     "end_time": "2019-11-04T10:14:24.535647Z",
     "start_time": "2019-11-04T10:14:24.529761Z"
    }
   },
   "outputs": [
    {
     "data": {
      "text/plain": [
       "tensor([[[-1.7930,  1.2863, -1.3661,  0.3593],\n",
       "         [-1.0710,  1.3657,  0.7144,  0.6120],\n",
       "         [-1.5319,  1.0918, -0.1389, -0.8918]],\n",
       "\n",
       "        [[-0.2147, -0.4941, -1.1890,  1.8570],\n",
       "         [-0.9764,  1.4591,  1.6405,  0.0170],\n",
       "         [-0.9866,  1.0291,  0.3622,  0.2834]]])"
      ]
     },
     "execution_count": 14,
     "metadata": {},
     "output_type": "execute_result"
    }
   ],
   "source": [
    "torch.randn((2,3,4))"
   ]
  },
  {
   "cell_type": "markdown",
   "metadata": {},
   "source": [
    "## Операции"
   ]
  },
  {
   "cell_type": "markdown",
   "metadata": {},
   "source": [
    "Обычно мы хотим не только создавать массивы, но и применять к ним функции. Самые простые и полезные из них - это поэлементные функции. Они работают, выполняя одну скалярную операцию над соответствующими элементами двух массивов. "
   ]
  },
  {
   "cell_type": "code",
   "execution_count": 15,
   "metadata": {
    "ExecuteTime": {
     "end_time": "2019-11-04T10:14:26.032545Z",
     "start_time": "2019-11-04T10:14:26.019806Z"
    }
   },
   "outputs": [
    {
     "name": "stdout",
     "output_type": "stream",
     "text": [
      "x = tensor([1., 2., 4., 8.])\n",
      "y = tensor([2., 2., 2., 2.])\n",
      "x + y tensor([ 3.,  4.,  6., 10.])\n",
      "x - y tensor([-1.,  0.,  2.,  6.])\n",
      "x * y tensor([ 2.,  4.,  8., 16.])\n",
      "x / y tensor([0.5000, 1.0000, 2.0000, 4.0000])\n"
     ]
    }
   ],
   "source": [
    "x = torch.tensor([1., 2., 4., 8.])\n",
    "y = torch.ones_like(x) * 2\n",
    "print('x =', x)\n",
    "print('y =', y)\n",
    "print('x + y', x + y)\n",
    "print('x - y', x - y)\n",
    "print('x * y', x * y)\n",
    "print('x / y', x / y)"
   ]
  },
  {
   "cell_type": "markdown",
   "metadata": {
    "ExecuteTime": {
     "end_time": "2019-10-15T19:38:22.460619Z",
     "start_time": "2019-10-15T19:38:22.450666Z"
    }
   },
   "source": [
    "Еще больше операций может быть выполненно поэлементно. Например - операции exp"
   ]
  },
  {
   "cell_type": "code",
   "execution_count": 16,
   "metadata": {
    "ExecuteTime": {
     "end_time": "2019-11-04T10:14:26.798539Z",
     "start_time": "2019-11-04T10:14:26.793446Z"
    }
   },
   "outputs": [
    {
     "data": {
      "text/plain": [
       "tensor([2.7183e+00, 7.3891e+00, 5.4598e+01, 2.9810e+03])"
      ]
     },
     "execution_count": 16,
     "metadata": {},
     "output_type": "execute_result"
    }
   ],
   "source": [
    "x.exp()"
   ]
  },
  {
   "cell_type": "markdown",
   "metadata": {},
   "source": [
    "В дополнение к поэлементным вычислениям, мы также можем выполнять матричные операции. Например, матричное умножение. Для этого используется функция mm."
   ]
  },
  {
   "cell_type": "code",
   "execution_count": 17,
   "metadata": {
    "ExecuteTime": {
     "end_time": "2019-11-04T10:14:27.634306Z",
     "start_time": "2019-11-04T10:14:27.627369Z"
    }
   },
   "outputs": [
    {
     "data": {
      "text/plain": [
       "tensor([[ 18,  20,  10],\n",
       "        [ 58,  60,  50],\n",
       "        [ 98, 100,  90]])"
      ]
     },
     "execution_count": 17,
     "metadata": {},
     "output_type": "execute_result"
    }
   ],
   "source": [
    "x = torch.arange(12).reshape((3,4))\n",
    "y = torch.tensor([[2, 1, 4, 3], [1, 2, 3, 4], [4, 3, 2, 1]])\n",
    "torch.mm(x, y.T)"
   ]
  },
  {
   "cell_type": "markdown",
   "metadata": {},
   "source": [
    "Мы также можем объединить несколько тензоров. Для этого нам нужно указать, по какому измерению производить объединение. В приведенном ниже примере объединяются две матрицы по измерению 0 (по строкам) и измерению 1 (по столбцам) соответственно."
   ]
  },
  {
   "cell_type": "code",
   "execution_count": 18,
   "metadata": {
    "ExecuteTime": {
     "end_time": "2019-11-04T10:14:28.280923Z",
     "start_time": "2019-11-04T10:14:28.275297Z"
    }
   },
   "outputs": [
    {
     "data": {
      "text/plain": [
       "tensor([[ 0,  1,  2,  3],\n",
       "        [ 4,  5,  6,  7],\n",
       "        [ 8,  9, 10, 11],\n",
       "        [ 2,  1,  4,  3],\n",
       "        [ 1,  2,  3,  4],\n",
       "        [ 4,  3,  2,  1]])"
      ]
     },
     "execution_count": 18,
     "metadata": {},
     "output_type": "execute_result"
    }
   ],
   "source": [
    "torch.cat((x, y), dim=0)"
   ]
  },
  {
   "cell_type": "code",
   "execution_count": 19,
   "metadata": {
    "ExecuteTime": {
     "end_time": "2019-11-04T10:14:28.620471Z",
     "start_time": "2019-11-04T10:14:28.615092Z"
    }
   },
   "outputs": [
    {
     "data": {
      "text/plain": [
       "tensor([[ 0,  1,  2,  3,  2,  1,  4,  3],\n",
       "        [ 4,  5,  6,  7,  1,  2,  3,  4],\n",
       "        [ 8,  9, 10, 11,  4,  3,  2,  1]])"
      ]
     },
     "execution_count": 19,
     "metadata": {},
     "output_type": "execute_result"
    }
   ],
   "source": [
    "torch.cat((x, y), dim=1)"
   ]
  },
  {
   "cell_type": "markdown",
   "metadata": {},
   "source": [
    "Для получения булевых тензоров можно использовать булевы операторы. Например, можно сравнить два тензора при помощи оператора =="
   ]
  },
  {
   "cell_type": "code",
   "execution_count": 20,
   "metadata": {
    "ExecuteTime": {
     "end_time": "2019-11-04T10:14:29.471560Z",
     "start_time": "2019-11-04T10:14:29.467255Z"
    },
    "scrolled": true
   },
   "outputs": [
    {
     "data": {
      "text/plain": [
       "tensor([[False,  True, False,  True],\n",
       "        [False, False, False, False],\n",
       "        [False, False, False, False]])"
      ]
     },
     "execution_count": 20,
     "metadata": {},
     "output_type": "execute_result"
    }
   ],
   "source": [
    "x == y"
   ]
  },
  {
   "cell_type": "markdown",
   "metadata": {},
   "source": [
    "Суммирование всех элементов тезора дает тензор с одним элементом."
   ]
  },
  {
   "cell_type": "code",
   "execution_count": 21,
   "metadata": {
    "ExecuteTime": {
     "end_time": "2019-11-04T10:14:30.004374Z",
     "start_time": "2019-11-04T10:14:29.998934Z"
    }
   },
   "outputs": [
    {
     "data": {
      "text/plain": [
       "tensor(66)"
      ]
     },
     "execution_count": 21,
     "metadata": {},
     "output_type": "execute_result"
    }
   ],
   "source": [
    "x.sum()"
   ]
  },
  {
   "cell_type": "markdown",
   "metadata": {},
   "source": [
    "Мы можем преобразовать результат в скаляр в Python, используя функцию item"
   ]
  },
  {
   "cell_type": "code",
   "execution_count": 22,
   "metadata": {
    "ExecuteTime": {
     "end_time": "2019-11-04T10:14:30.596014Z",
     "start_time": "2019-11-04T10:14:30.591238Z"
    }
   },
   "outputs": [
    {
     "data": {
      "text/plain": [
       "66"
      ]
     },
     "execution_count": 22,
     "metadata": {},
     "output_type": "execute_result"
    }
   ],
   "source": [
    "x.sum().item()"
   ]
  },
  {
   "cell_type": "markdown",
   "metadata": {},
   "source": [
    "## Broadcast \n",
    "\n",
    "Выполнять операции можно не только с тензорами одинакового размера, но и разного. Когда их формы различаются, запускается механизм broadcast'а: Сначала элементы копируются соответствующим образом, чтобы два тензора имели одинаковую форму, а затем операции выполняются поэлементно."
   ]
  },
  {
   "cell_type": "code",
   "execution_count": 23,
   "metadata": {
    "ExecuteTime": {
     "end_time": "2019-11-04T10:14:31.348854Z",
     "start_time": "2019-11-04T10:14:31.342921Z"
    },
    "scrolled": true
   },
   "outputs": [
    {
     "data": {
      "text/plain": [
       "(tensor([[0],\n",
       "         [1],\n",
       "         [2]]), tensor([[0, 1]]))"
      ]
     },
     "execution_count": 23,
     "metadata": {},
     "output_type": "execute_result"
    }
   ],
   "source": [
    "a = torch.arange(3).reshape((3, 1))\n",
    "b = torch.arange(2).reshape((1, 2))\n",
    "a, b"
   ]
  },
  {
   "cell_type": "markdown",
   "metadata": {},
   "source": [
    "Поскольку a и b являются матрицами (3x1) и (1x2) соответственно, их формы не совпадают. Torch решает эту проблему путем broadcast'а значений обеих матриц в большую (3x2) матрицу следующим образом: для матрицы a он реплицирует столбцы, для матрицы b он реплицирует строки. После чего запускается операция сложения"
   ]
  },
  {
   "cell_type": "code",
   "execution_count": 24,
   "metadata": {
    "ExecuteTime": {
     "end_time": "2019-11-04T10:14:31.915612Z",
     "start_time": "2019-11-04T10:14:31.910912Z"
    }
   },
   "outputs": [
    {
     "data": {
      "text/plain": [
       "tensor([[0, 1],\n",
       "        [1, 2],\n",
       "        [2, 3]])"
      ]
     },
     "execution_count": 24,
     "metadata": {},
     "output_type": "execute_result"
    }
   ],
   "source": [
    "a + b"
   ]
  },
  {
   "cell_type": "markdown",
   "metadata": {},
   "source": [
    "## Индексирование\n",
    "\n",
    "Как и в любом другом массиве Python, элементы в тензоре могут быть доступны по их индексу. По традиции первый элемент имеет индекс 0, а диапазоны указываются для включения первого, но не последнего элемента. По этой логике `1: 3` выбирает второй и третий элемент из тензора"
   ]
  },
  {
   "cell_type": "code",
   "execution_count": 25,
   "metadata": {
    "ExecuteTime": {
     "end_time": "2019-11-04T10:14:32.723721Z",
     "start_time": "2019-11-04T10:14:32.719130Z"
    }
   },
   "outputs": [
    {
     "data": {
      "text/plain": [
       "tensor([[ 0,  1,  2,  3],\n",
       "        [ 4,  5,  6,  7],\n",
       "        [ 8,  9, 10, 11]])"
      ]
     },
     "execution_count": 25,
     "metadata": {},
     "output_type": "execute_result"
    }
   ],
   "source": [
    "x"
   ]
  },
  {
   "cell_type": "code",
   "execution_count": 26,
   "metadata": {
    "ExecuteTime": {
     "end_time": "2019-11-04T10:14:32.939575Z",
     "start_time": "2019-11-04T10:14:32.934721Z"
    }
   },
   "outputs": [
    {
     "data": {
      "text/plain": [
       "tensor([[ 4,  5,  6,  7],\n",
       "        [ 8,  9, 10, 11]])"
      ]
     },
     "execution_count": 26,
     "metadata": {},
     "output_type": "execute_result"
    }
   ],
   "source": [
    "x[1:3]"
   ]
  },
  {
   "cell_type": "markdown",
   "metadata": {},
   "source": [
    "Мы так же можем изменять значения в тензоре"
   ]
  },
  {
   "cell_type": "code",
   "execution_count": 27,
   "metadata": {
    "ExecuteTime": {
     "end_time": "2019-11-04T10:14:33.555946Z",
     "start_time": "2019-11-04T10:14:33.550844Z"
    }
   },
   "outputs": [
    {
     "data": {
      "text/plain": [
       "tensor([[ 0,  1,  2,  3],\n",
       "        [ 4,  5,  9,  7],\n",
       "        [ 8,  9, 10, 11]])"
      ]
     },
     "execution_count": 27,
     "metadata": {},
     "output_type": "execute_result"
    }
   ],
   "source": [
    "x[1, 2] = 9\n",
    "x"
   ]
  },
  {
   "cell_type": "markdown",
   "metadata": {},
   "source": [
    "Если мы хотим присвоить нескольким элементам одно и то же значение, мы просто индексируем все из них (при помощи оператора `:`), а затем присваиваем им значение. Например, `[0:2,:]` обращается к первой и второй строчкам."
   ]
  },
  {
   "cell_type": "code",
   "execution_count": 28,
   "metadata": {
    "ExecuteTime": {
     "end_time": "2019-11-04T10:14:34.014251Z",
     "start_time": "2019-11-04T10:14:34.009693Z"
    }
   },
   "outputs": [
    {
     "data": {
      "text/plain": [
       "tensor([[12, 12, 12, 12],\n",
       "        [12, 12, 12, 12],\n",
       "        [ 8,  9, 10, 11]])"
      ]
     },
     "execution_count": 28,
     "metadata": {},
     "output_type": "execute_result"
    }
   ],
   "source": [
    "x[0:2, :] = 12\n",
    "x"
   ]
  },
  {
   "cell_type": "markdown",
   "metadata": {},
   "source": [
    "## В numpy и назад"
   ]
  },
  {
   "cell_type": "code",
   "execution_count": 29,
   "metadata": {
    "ExecuteTime": {
     "end_time": "2019-11-04T10:14:34.658050Z",
     "start_time": "2019-11-04T10:14:34.653115Z"
    }
   },
   "outputs": [
    {
     "data": {
      "text/plain": [
       "array([[12, 12, 12, 12],\n",
       "       [12, 12, 12, 12],\n",
       "       [ 8,  9, 10, 11]])"
      ]
     },
     "execution_count": 29,
     "metadata": {},
     "output_type": "execute_result"
    }
   ],
   "source": [
    "x.numpy()"
   ]
  },
  {
   "cell_type": "code",
   "execution_count": 30,
   "metadata": {
    "ExecuteTime": {
     "end_time": "2019-10-15T19:55:23.232506Z",
     "start_time": "2019-10-15T19:55:23.224403Z"
    }
   },
   "outputs": [
    {
     "data": {
      "text/plain": [
       "tensor([[12, 12, 12, 12],\n",
       "        [12, 12, 12, 12],\n",
       "        [ 8,  9, 10, 11]])"
      ]
     },
     "execution_count": 30,
     "metadata": {},
     "output_type": "execute_result"
    }
   ],
   "source": [
    "y = torch.tensor(x.numpy())\n",
    "y"
   ]
  },
  {
   "cell_type": "markdown",
   "metadata": {},
   "source": [
    "## Немного практики"
   ]
  },
  {
   "cell_type": "markdown",
   "metadata": {},
   "source": [
    "1. Матрица B называется обратной к матрице A, если A*B = I (где I - единичная матрица). Найдите (перебором) обратную к матрице A = ((1,1), (1,2))\n",
    "2. Примениете оператор преобразования A = ((1,2), (3,4)) к квадрату с вершинами в точка (1,1), (1,-1), (-1, -1), (-1, 1) и найдите расстояния между получившимся вершинами"
   ]
  },
  {
   "cell_type": "code",
   "execution_count": 33,
   "metadata": {},
   "outputs": [
    {
     "data": {
      "text/plain": [
       "tensor([[1., 1.],\n",
       "        [1., 2.]])"
      ]
     },
     "execution_count": 33,
     "metadata": {},
     "output_type": "execute_result"
    }
   ],
   "source": [
    "x = torch.tensor([1., 1., 1., 2.]).reshape((2, 2))\n",
    "x"
   ]
  },
  {
   "cell_type": "code",
   "execution_count": 111,
   "metadata": {},
   "outputs": [
    {
     "data": {
      "text/plain": [
       "tensor([[ 2., -1.],\n",
       "        [-1.,  1.]])"
      ]
     },
     "execution_count": 111,
     "metadata": {},
     "output_type": "execute_result"
    }
   ],
   "source": [
    "y = torch.tensor([2., -1., -1., 1.]).reshape((2, 2))\n",
    "y"
   ]
  },
  {
   "cell_type": "code",
   "execution_count": 112,
   "metadata": {},
   "outputs": [
    {
     "data": {
      "text/plain": [
       "tensor([[1., 0.],\n",
       "        [0., 1.]])"
      ]
     },
     "execution_count": 112,
     "metadata": {},
     "output_type": "execute_result"
    }
   ],
   "source": [
    "torch.mm(x, y)"
   ]
  },
  {
   "cell_type": "code",
   "execution_count": 142,
   "metadata": {
    "ExecuteTime": {
     "end_time": "2019-11-05T17:23:49.804403Z",
     "start_time": "2019-11-05T17:23:49.799436Z"
    }
   },
   "outputs": [],
   "source": [
    "verteces = [[1.,1.], [1.,-1.], [-1., -1.], [-1., 1.]]\n",
    "vt = [torch.tensor(v) for v in verteces]\n",
    "op = torch.tensor([[1.,2.], [3.,4.]])"
   ]
  },
  {
   "cell_type": "code",
   "execution_count": 143,
   "metadata": {
    "ExecuteTime": {
     "end_time": "2019-11-05T17:24:06.963442Z",
     "start_time": "2019-11-05T17:24:06.959920Z"
    }
   },
   "outputs": [],
   "source": [
    "transformed = [torch.mv(op, t) for t in vt]"
   ]
  },
  {
   "cell_type": "code",
   "execution_count": 144,
   "metadata": {
    "ExecuteTime": {
     "end_time": "2019-11-05T17:24:31.888828Z",
     "start_time": "2019-11-05T17:24:31.873035Z"
    }
   },
   "outputs": [
    {
     "name": "stdout",
     "output_type": "stream",
     "text": [
      "Distance between tensor([-1.,  1.]) and tensor([1., 1.]) was 2.000\n",
      "Distance between tensor([1., 1.]) and tensor([3., 7.]) now 6.325\n",
      "Distance between tensor([1., 1.]) and tensor([ 1., -1.]) was 2.000\n",
      "Distance between tensor([3., 7.]) and tensor([-1., -1.]) now 8.944\n",
      "Distance between tensor([ 1., -1.]) and tensor([-1., -1.]) was 2.000\n",
      "Distance between tensor([-1., -1.]) and tensor([-3., -7.]) now 6.325\n",
      "Distance between tensor([-1., -1.]) and tensor([-1.,  1.]) was 2.000\n",
      "Distance between tensor([-3., -7.]) and tensor([1., 1.]) now 8.944\n"
     ]
    }
   ],
   "source": [
    "for i in range(-1, 3):\n",
    "    v1 = vt[i]\n",
    "    v2 = vt[i + 1]\n",
    "    distance = torch.sqrt(((v1 - v2)**2).sum())\n",
    "    print(\"Distance between {} and {} was {:.3f}\".format(v1, v2, distance.item()))\n",
    "    \n",
    "    v1 = transformed[i]\n",
    "    v2 = transformed[i + 1]\n",
    "    distance = torch.sqrt(((v1 - v2)**2).sum())\n",
    "    print(\"Distance between {} and {} now {:.3f}\".format(v1, v2, distance.item()))"
   ]
  },
  {
   "cell_type": "markdown",
   "metadata": {},
   "source": [
    "## Вероятности"
   ]
  },
  {
   "cell_type": "code",
   "execution_count": 32,
   "metadata": {
    "ExecuteTime": {
     "end_time": "2019-11-04T10:35:40.072759Z",
     "start_time": "2019-11-04T10:35:40.067263Z"
    }
   },
   "outputs": [],
   "source": [
    "# Равномерное распределение вероятности"
   ]
  },
  {
   "cell_type": "code",
   "execution_count": 116,
   "metadata": {
    "ExecuteTime": {
     "end_time": "2019-11-04T10:35:53.933752Z",
     "start_time": "2019-11-04T10:35:53.928481Z"
    }
   },
   "outputs": [
    {
     "data": {
      "text/plain": [
       "tensor([0.3528, 0.9636, 0.2153, 0.7639, 0.4550, 0.1256, 0.7638, 0.7503, 0.4827,\n",
       "        0.4207])"
      ]
     },
     "execution_count": 116,
     "metadata": {},
     "output_type": "execute_result"
    }
   ],
   "source": [
    "torch.rand(10)"
   ]
  },
  {
   "cell_type": "code",
   "execution_count": 117,
   "metadata": {
    "ExecuteTime": {
     "end_time": "2019-11-04T10:36:02.270795Z",
     "start_time": "2019-11-04T10:36:02.268400Z"
    }
   },
   "outputs": [],
   "source": [
    "## Нормальное распределение"
   ]
  },
  {
   "cell_type": "code",
   "execution_count": 118,
   "metadata": {
    "ExecuteTime": {
     "end_time": "2019-11-04T10:36:10.044224Z",
     "start_time": "2019-11-04T10:36:10.032788Z"
    }
   },
   "outputs": [
    {
     "data": {
      "text/plain": [
       "tensor([ 0.2809, -1.0046, -0.3552, -0.7143,  1.1127,  0.4387, -1.4626, -1.4606,\n",
       "         0.0567, -1.0216])"
      ]
     },
     "execution_count": 118,
     "metadata": {},
     "output_type": "execute_result"
    }
   ],
   "source": [
    "torch.randn(10)"
   ]
  },
  {
   "cell_type": "code",
   "execution_count": 119,
   "metadata": {
    "ExecuteTime": {
     "end_time": "2019-11-04T10:36:29.458108Z",
     "start_time": "2019-11-04T10:36:29.455040Z"
    }
   },
   "outputs": [],
   "source": [
    "## Равномерное на целых числах"
   ]
  },
  {
   "cell_type": "code",
   "execution_count": 120,
   "metadata": {
    "ExecuteTime": {
     "end_time": "2019-11-04T10:36:55.575964Z",
     "start_time": "2019-11-04T10:36:55.564475Z"
    }
   },
   "outputs": [
    {
     "data": {
      "text/plain": [
       "tensor([8, 4, 7, 1, 0, 1, 4, 8, 2, 4])"
      ]
     },
     "execution_count": 120,
     "metadata": {},
     "output_type": "execute_result"
    }
   ],
   "source": [
    "torch.randint(0, 10, (10,))"
   ]
  },
  {
   "cell_type": "markdown",
   "metadata": {},
   "source": [
    "## Постройте график плотности для нормального распределения"
   ]
  },
  {
   "cell_type": "code",
   "execution_count": 123,
   "metadata": {},
   "outputs": [],
   "source": [
    "import matplotlib.pyplot as plt"
   ]
  },
  {
   "cell_type": "code",
   "execution_count": 130,
   "metadata": {},
   "outputs": [
    {
     "data": {
      "image/png": "[encoded data removed]",
      "text/plain": [
       "<Figure size 432x288 with 1 Axes>"
      ]
     },
     "metadata": {
      "needs_background": "light"
     },
     "output_type": "display_data"
    }
   ],
   "source": [
    "plt.hist(torch.randn(10000), bins=100);"
   ]
  },
  {
   "cell_type": "markdown",
   "metadata": {},
   "source": [
    "## Теорема Баеса"
   ]
  },
  {
   "cell_type": "code",
   "execution_count": 131,
   "metadata": {
    "ExecuteTime": {
     "end_time": "2019-11-04T10:38:01.240059Z",
     "start_time": "2019-11-04T10:38:01.054722Z"
    }
   },
   "outputs": [],
   "source": [
    "import torchvision"
   ]
  },
  {
   "cell_type": "code",
   "execution_count": 132,
   "metadata": {
    "ExecuteTime": {
     "end_time": "2019-11-04T10:44:14.593070Z",
     "start_time": "2019-11-04T10:44:14.589491Z"
    }
   },
   "outputs": [],
   "source": [
    "def transform(data):\n",
    "    data = torch.tensor(data.getdata(), dtype=torch.float32)\n",
    "    return torch.floor(data / 128.).squeeze(axis=-1)"
   ]
  },
  {
   "cell_type": "code",
   "execution_count": 133,
   "metadata": {
    "ExecuteTime": {
     "end_time": "2019-11-04T10:44:15.031006Z",
     "start_time": "2019-11-04T10:44:14.978507Z"
    }
   },
   "outputs": [
    {
     "name": "stderr",
     "output_type": "stream",
     "text": [
      "0it [00:00, ?it/s]"
     ]
    },
    {
     "name": "stdout",
     "output_type": "stream",
     "text": [
      "Downloading http://yann.lecun.com/exdb/mnist/train-images-idx3-ubyte.gz to ./MNIST/raw/train-images-idx3-ubyte.gz\n"
     ]
    },
    {
     "name": "stderr",
     "output_type": "stream",
     "text": [
      "100%|█████████▉| 9912320/9912422 [03:14<00:00, 62666.33it/s]"
     ]
    },
    {
     "name": "stdout",
     "output_type": "stream",
     "text": [
      "Extracting ./MNIST/raw/train-images-idx3-ubyte.gz to ./MNIST/raw\n"
     ]
    },
    {
     "name": "stderr",
     "output_type": "stream",
     "text": [
      "\n",
      "0it [00:00, ?it/s]\u001b[A"
     ]
    },
    {
     "name": "stdout",
     "output_type": "stream",
     "text": [
      "Downloading http://yann.lecun.com/exdb/mnist/train-labels-idx1-ubyte.gz to ./MNIST/raw/train-labels-idx1-ubyte.gz\n"
     ]
    },
    {
     "name": "stderr",
     "output_type": "stream",
     "text": [
      "\n",
      "  0%|          | 0/28881 [00:00<?, ?it/s]\u001b[A\n",
      " 57%|█████▋    | 16384/28881 [00:00<00:00, 129258.20it/s]\u001b[A\n",
      "32768it [00:00, 64119.24it/s] \n",
      "\n",
      "0it [00:00, ?it/s]\u001b[A"
     ]
    },
    {
     "name": "stdout",
     "output_type": "stream",
     "text": [
      "Extracting ./MNIST/raw/train-labels-idx1-ubyte.gz to ./MNIST/raw\n",
      "Downloading http://yann.lecun.com/exdb/mnist/t10k-images-idx3-ubyte.gz to ./MNIST/raw/t10k-images-idx3-ubyte.gz\n"
     ]
    },
    {
     "name": "stderr",
     "output_type": "stream",
     "text": [
      "\n",
      "  0%|          | 0/1648877 [00:00<?, ?it/s]\u001b[A\n",
      "  1%|          | 16384/1648877 [00:00<00:14, 115118.61it/s]\u001b[A\n",
      "  2%|▏         | 32768/1648877 [00:00<00:13, 117001.39it/s]\u001b[A\n",
      "  2%|▏         | 40960/1648877 [00:00<00:24, 66962.08it/s] \u001b[A\n",
      "  4%|▍         | 65536/1648877 [00:01<00:23, 67226.64it/s]\u001b[A\n",
      "  5%|▍         | 81920/1648877 [00:01<00:19, 79188.18it/s]\u001b[A\n",
      "  5%|▌         | 90112/1648877 [00:01<00:23, 66678.54it/s]\u001b[A\n",
      "  6%|▌         | 98304/1648877 [00:01<00:27, 56397.30it/s]\u001b[A\n",
      "  6%|▋         | 106496/1648877 [00:01<00:35, 43359.57it/s]\u001b[A\n",
      "  7%|▋         | 114688/1648877 [00:02<00:31, 48471.96it/s]\u001b[A\n",
      "  7%|▋         | 122880/1648877 [00:02<00:29, 52479.95it/s]\u001b[A\n",
      "  8%|▊         | 131072/1648877 [00:02<00:40, 37904.59it/s]\u001b[A\n",
      "  9%|▉         | 147456/1648877 [00:02<00:39, 37557.80it/s]\u001b[A\n",
      "  9%|▉         | 155648/1648877 [00:03<00:34, 43340.99it/s]\u001b[A\n",
      " 10%|▉         | 163840/1648877 [00:03<00:39, 37654.14it/s]\u001b[A\n",
      " 10%|█         | 172032/1648877 [00:03<00:36, 40828.94it/s]\u001b[A\n",
      " 11%|█         | 180224/1648877 [00:03<00:36, 40731.56it/s]\u001b[A\n",
      " 11%|█▏        | 188416/1648877 [00:03<00:31, 45948.84it/s]\u001b[A\n",
      " 12%|█▏        | 196608/1648877 [00:04<00:28, 50638.40it/s]\u001b[A\n",
      " 12%|█▏        | 204800/1648877 [00:04<00:26, 54754.88it/s]\u001b[A\n",
      " 13%|█▎        | 212992/1648877 [00:04<00:24, 58101.10it/s]\u001b[A\n",
      " 14%|█▍        | 229376/1648877 [00:04<00:21, 66736.02it/s]\u001b[A\n",
      " 14%|█▍        | 237568/1648877 [00:04<00:21, 66971.54it/s]\u001b[A\n",
      " 15%|█▌        | 253952/1648877 [00:04<00:17, 78411.92it/s]\u001b[A\n",
      " 16%|█▋        | 270336/1648877 [00:04<00:17, 78891.26it/s]\u001b[A\n",
      " 17%|█▋        | 286720/1648877 [00:05<00:19, 71080.85it/s]\u001b[A\n",
      " 18%|█▊        | 303104/1648877 [00:05<00:22, 59933.20it/s]\u001b[A\n",
      " 20%|█▉        | 327680/1648877 [00:05<00:20, 65789.21it/s]\u001b[A\n",
      " 20%|██        | 335872/1648877 [00:06<00:28, 45502.04it/s]\u001b[A\n",
      " 21%|██        | 344064/1648877 [00:06<00:26, 48437.03it/s]\u001b[A\n",
      " 21%|██▏       | 352256/1648877 [00:06<00:37, 34796.37it/s]\u001b[A\n",
      " 22%|██▏       | 360448/1648877 [00:07<00:43, 29734.10it/s]\u001b[A\n",
      " 22%|██▏       | 368640/1648877 [00:07<01:09, 18462.02it/s]\u001b[A\n",
      " 23%|██▎       | 376832/1648877 [00:08<00:59, 21306.87it/s]\u001b[A\n",
      " 23%|██▎       | 385024/1648877 [00:08<01:19, 15868.59it/s]\u001b[A\n",
      " 24%|██▍       | 393216/1648877 [00:09<01:23, 15026.97it/s]\u001b[A\n",
      " 24%|██▍       | 401408/1648877 [00:09<01:09, 18027.39it/s]\u001b[A\n",
      " 25%|██▍       | 409600/1648877 [00:10<01:10, 17674.78it/s]\u001b[A\n",
      " 25%|██▌       | 417792/1648877 [00:10<01:01, 19964.98it/s]\u001b[A\n",
      " 26%|██▌       | 425984/1648877 [00:10<00:53, 22740.61it/s]\u001b[A\n",
      " 26%|██▋       | 434176/1648877 [00:11<00:48, 25218.66it/s]\u001b[A\n",
      " 27%|██▋       | 442368/1648877 [00:11<00:42, 28575.87it/s]\u001b[A\n",
      " 27%|██▋       | 450560/1648877 [00:11<00:36, 32683.95it/s]\u001b[A\n",
      " 28%|██▊       | 458752/1648877 [00:11<00:30, 38508.46it/s]\u001b[A\n",
      " 28%|██▊       | 466944/1648877 [00:11<00:26, 44152.72it/s]\u001b[A\n",
      " 29%|██▉       | 475136/1648877 [00:11<00:23, 49257.76it/s]\u001b[A\n",
      " 29%|██▉       | 483328/1648877 [00:11<00:21, 53452.83it/s]\u001b[A\n",
      " 30%|███       | 499712/1648877 [00:12<00:19, 59768.79it/s]\u001b[A\n",
      " 31%|███       | 507904/1648877 [00:12<00:18, 62901.79it/s]\u001b[A\n",
      " 32%|███▏      | 524288/1648877 [00:12<00:19, 57057.01it/s]\u001b[A\n",
      " 33%|███▎      | 540672/1648877 [00:12<00:18, 59570.44it/s]\u001b[A\n",
      " 33%|███▎      | 548864/1648877 [00:12<00:17, 61343.24it/s]\u001b[A\n",
      " 34%|███▍      | 557056/1648877 [00:13<00:22, 49091.35it/s]\u001b[A\n",
      " 34%|███▍      | 565248/1648877 [00:13<00:25, 43133.16it/s]\u001b[A\n",
      " 35%|███▍      | 573440/1648877 [00:13<00:22, 48159.78it/s]\u001b[A\n",
      " 35%|███▌      | 581632/1648877 [00:13<00:24, 42867.01it/s]\u001b[A\n",
      " 36%|███▌      | 589824/1648877 [00:13<00:22, 46898.21it/s]\u001b[A\n",
      " 36%|███▋      | 598016/1648877 [00:14<00:24, 42898.32it/s]\u001b[A\n",
      "9920512it [03:30, 62666.33it/s]                             \n",
      " 37%|███▋      | 614400/1648877 [00:14<00:28, 36717.20it/s]\u001b[A\n",
      " 38%|███▊      | 622592/1648877 [00:14<00:26, 38313.69it/s]\u001b[A\n",
      " 38%|███▊      | 630784/1648877 [00:15<00:25, 40591.09it/s]\u001b[A\n",
      " 39%|███▉      | 638976/1648877 [00:15<00:22, 45797.94it/s]\u001b[A\n",
      " 39%|███▉      | 647168/1648877 [00:15<00:19, 50651.10it/s]\u001b[A\n",
      " 40%|███▉      | 655360/1648877 [00:15<00:18, 54165.51it/s]\u001b[A\n",
      " 40%|████      | 663552/1648877 [00:15<00:17, 57175.00it/s]\u001b[A\n",
      " 41%|████      | 679936/1648877 [00:15<00:15, 64260.09it/s]\u001b[A\n",
      " 42%|████▏     | 688128/1648877 [00:15<00:14, 65175.49it/s]\u001b[A\n",
      " 42%|████▏     | 696320/1648877 [00:15<00:14, 67398.74it/s]\u001b[A\n",
      " 43%|████▎     | 704512/1648877 [00:16<00:16, 55665.31it/s]\u001b[A\n",
      " 44%|████▎     | 720896/1648877 [00:16<00:13, 67592.78it/s]\u001b[A\n",
      " 45%|████▍     | 737280/1648877 [00:16<00:13, 67483.97it/s]\u001b[A\n",
      " 45%|████▌     | 745472/1648877 [00:16<00:12, 70971.28it/s]\u001b[A\n",
      " 46%|████▌     | 761856/1648877 [00:16<00:11, 75536.30it/s]\u001b[A\n",
      " 47%|████▋     | 778240/1648877 [00:17<00:12, 70848.68it/s]\u001b[A\n",
      " 48%|████▊     | 786432/1648877 [00:17<00:11, 72670.25it/s]\u001b[A\n",
      " 48%|████▊     | 794624/1648877 [00:17<00:15, 55874.24it/s]\u001b[A\n",
      " 49%|████▊     | 802816/1648877 [00:17<00:14, 56732.85it/s]\u001b[A\n",
      " 49%|████▉     | 811008/1648877 [00:17<00:17, 48589.85it/s]\u001b[A\n",
      " 50%|████▉     | 819200/1648877 [00:17<00:15, 52570.43it/s]\u001b[A\n",
      " 50%|█████     | 827392/1648877 [00:18<00:14, 54848.36it/s]\u001b[A\n",
      " 51%|█████     | 835584/1648877 [00:18<00:13, 58820.93it/s]\u001b[A\n",
      " 51%|█████     | 843776/1648877 [00:18<00:13, 60790.48it/s]\u001b[A\n",
      " 52%|█████▏    | 851968/1648877 [00:18<00:12, 62303.03it/s]\u001b[A\n",
      " 52%|█████▏    | 860160/1648877 [00:18<00:12, 63626.07it/s]\u001b[A\n",
      " 53%|█████▎    | 868352/1648877 [00:18<00:15, 51981.58it/s]\u001b[A\n",
      " 54%|█████▎    | 884736/1648877 [00:18<00:12, 59186.89it/s]\u001b[A\n",
      " 54%|█████▍    | 892928/1648877 [00:19<00:12, 61443.60it/s]\u001b[A\n",
      " 55%|█████▍    | 901120/1648877 [00:19<00:11, 63103.28it/s]\u001b[A\n",
      " 55%|█████▌    | 909312/1648877 [00:19<00:11, 64012.68it/s]\u001b[A\n",
      " 56%|█████▌    | 925696/1648877 [00:19<00:09, 75184.74it/s]\u001b[A\n",
      " 57%|█████▋    | 942080/1648877 [00:19<00:09, 72500.58it/s]\u001b[A\n",
      " 58%|█████▊    | 958464/1648877 [00:19<00:08, 83422.42it/s]\u001b[A\n",
      " 59%|█████▉    | 974848/1648877 [00:20<00:09, 70737.73it/s]\u001b[A\n",
      " 60%|█████▉    | 983040/1648877 [00:20<00:13, 48275.64it/s]\u001b[A\n",
      " 61%|██████    | 999424/1648877 [00:20<00:12, 52743.40it/s]\u001b[A\n",
      " 61%|██████    | 1007616/1648877 [00:20<00:15, 41799.97it/s]\u001b[A\n",
      " 62%|██████▏   | 1015808/1648877 [00:21<00:16, 39064.44it/s]\u001b[A\n",
      " 62%|██████▏   | 1024000/1648877 [00:21<00:14, 41923.86it/s]\u001b[A\n",
      " 63%|██████▎   | 1032192/1648877 [00:21<00:20, 29527.95it/s]\u001b[A\n",
      " 63%|██████▎   | 1040384/1648877 [00:22<00:29, 20839.10it/s]\u001b[A\n",
      " 64%|██████▎   | 1048576/1648877 [00:22<00:25, 23520.16it/s]\u001b[A\n",
      " 64%|██████▍   | 1056768/1648877 [00:22<00:22, 25810.64it/s]\u001b[A\n",
      " 65%|██████▍   | 1064960/1648877 [00:23<00:21, 27672.01it/s]\u001b[A\n",
      " 65%|██████▌   | 1073152/1648877 [00:23<00:17, 33311.24it/s]\u001b[A\n",
      " 66%|██████▌   | 1081344/1648877 [00:23<00:15, 35928.27it/s]\u001b[A\n",
      " 66%|██████▌   | 1089536/1648877 [00:23<00:14, 38150.03it/s]\u001b[A\n",
      " 67%|██████▋   | 1097728/1648877 [00:24<00:22, 25031.85it/s]\u001b[A\n",
      " 67%|██████▋   | 1105920/1648877 [00:24<00:22, 23909.29it/s]\u001b[A\n",
      " 68%|██████▊   | 1114112/1648877 [00:25<00:29, 17945.38it/s]\u001b[A\n",
      " 68%|██████▊   | 1122304/1648877 [00:25<00:27, 19077.12it/s]\u001b[A\n",
      " 69%|██████▊   | 1130496/1648877 [00:25<00:21, 24260.33it/s]\u001b[A\n",
      " 69%|██████▉   | 1138688/1648877 [00:26<00:19, 26497.95it/s]\u001b[A\n",
      " 70%|██████▉   | 1146880/1648877 [00:26<00:15, 32285.02it/s]\u001b[A\n",
      " 70%|███████   | 1155072/1648877 [00:26<00:12, 38065.97it/s]\u001b[A\n",
      " 71%|███████   | 1163264/1648877 [00:26<00:11, 43395.77it/s]\u001b[A\n",
      " 71%|███████   | 1171456/1648877 [00:26<00:09, 47793.79it/s]\u001b[A\n",
      " 72%|███████▏  | 1179648/1648877 [00:26<00:09, 51758.40it/s]\u001b[A\n",
      " 72%|███████▏  | 1187840/1648877 [00:26<00:08, 57145.08it/s]\u001b[A\n",
      " 73%|███████▎  | 1196032/1648877 [00:27<00:12, 36552.31it/s]\u001b[A\n",
      " 74%|███████▎  | 1212416/1648877 [00:27<00:09, 46749.81it/s]\u001b[A\n",
      " 74%|███████▍  | 1220608/1648877 [00:27<00:08, 49929.16it/s]\u001b[A\n",
      " 75%|███████▍  | 1228800/1648877 [00:27<00:07, 53922.69it/s]\u001b[A\n",
      " 75%|███████▌  | 1236992/1648877 [00:27<00:07, 57245.11it/s]\u001b[A\n",
      " 76%|███████▌  | 1245184/1648877 [00:27<00:06, 59872.59it/s]\u001b[A\n",
      " 76%|███████▌  | 1253376/1648877 [00:28<00:06, 61817.33it/s]\u001b[A\n",
      " 77%|███████▋  | 1269760/1648877 [00:28<00:05, 72679.43it/s]\u001b[A\n",
      " 78%|███████▊  | 1286144/1648877 [00:28<00:05, 70784.53it/s]\u001b[A\n",
      " 79%|███████▉  | 1302528/1648877 [00:28<00:05, 59769.28it/s]\u001b[A\n",
      " 80%|███████▉  | 1318912/1648877 [00:28<00:04, 71756.32it/s]\u001b[A\n",
      " 81%|████████  | 1335296/1648877 [00:29<00:05, 60792.39it/s]\u001b[A\n",
      " 81%|████████▏ | 1343488/1648877 [00:29<00:08, 34049.84it/s]\u001b[A\n",
      " 82%|████████▏ | 1351680/1648877 [00:30<00:08, 33766.53it/s]\u001b[A\n",
      " 82%|████████▏ | 1359872/1648877 [00:30<00:07, 39397.01it/s]\u001b[A\n",
      " 83%|████████▎ | 1368064/1648877 [00:30<00:07, 37116.03it/s]\u001b[A\n",
      " 83%|████████▎ | 1376256/1648877 [00:30<00:09, 28615.28it/s]\u001b[A\n",
      " 84%|████████▍ | 1384448/1648877 [00:31<00:09, 28526.86it/s]\u001b[A\n",
      " 84%|████████▍ | 1392640/1648877 [00:31<00:09, 26373.18it/s]\u001b[A\n",
      " 85%|████████▍ | 1400832/1648877 [00:31<00:09, 26251.60it/s]\u001b[A\n",
      " 85%|████████▌ | 1409024/1648877 [00:32<00:10, 23277.43it/s]\u001b[A\n",
      " 86%|████████▌ | 1417216/1648877 [00:32<00:08, 28725.54it/s]\u001b[A\n",
      " 86%|████████▋ | 1425408/1648877 [00:32<00:06, 34398.74it/s]\u001b[A\n",
      " 87%|████████▋ | 1433600/1648877 [00:32<00:06, 34276.18it/s]\u001b[A\n",
      " 87%|████████▋ | 1441792/1648877 [00:32<00:05, 40066.93it/s]\u001b[A\n",
      " 88%|████████▊ | 1449984/1648877 [00:33<00:04, 45351.04it/s]\u001b[A\n",
      " 88%|████████▊ | 1458176/1648877 [00:33<00:03, 49950.93it/s]\u001b[A\n",
      " 89%|████████▉ | 1466368/1648877 [00:33<00:03, 54010.69it/s]\u001b[A\n",
      " 89%|████████▉ | 1474560/1648877 [00:33<00:04, 35491.24it/s]\u001b[A\n",
      " 90%|█████████ | 1490944/1648877 [00:34<00:04, 38079.48it/s]\u001b[A\n",
      " 91%|█████████ | 1499136/1648877 [00:34<00:03, 44721.31it/s]\u001b[A\n",
      " 91%|█████████▏| 1507328/1648877 [00:34<00:03, 39965.20it/s]\u001b[A\n",
      " 92%|█████████▏| 1515520/1648877 [00:34<00:04, 29105.70it/s]\u001b[A\n",
      " 92%|█████████▏| 1523712/1648877 [00:34<00:03, 35065.97it/s]\u001b[A\n",
      " 93%|█████████▎| 1531904/1648877 [00:35<00:03, 38143.97it/s]\u001b[A\n",
      " 93%|█████████▎| 1540096/1648877 [00:35<00:02, 43816.96it/s]\u001b[A\n",
      " 94%|█████████▍| 1548288/1648877 [00:35<00:02, 48921.35it/s]\u001b[A\n",
      " 94%|█████████▍| 1556480/1648877 [00:35<00:01, 53376.04it/s]\u001b[A\n",
      " 95%|█████████▍| 1564672/1648877 [00:35<00:01, 57339.09it/s]\u001b[A\n",
      " 95%|█████████▌| 1572864/1648877 [00:35<00:01, 41716.49it/s]\u001b[A\n",
      " 97%|█████████▋| 1597440/1648877 [00:36<00:00, 52497.14it/s]\u001b[A\n",
      " 97%|█████████▋| 1605632/1648877 [00:36<00:01, 40127.47it/s]\u001b[A\n",
      " 98%|█████████▊| 1613824/1648877 [00:36<00:00, 38002.93it/s]\u001b[A\n",
      " 98%|█████████▊| 1622016/1648877 [00:37<00:00, 29975.32it/s]\u001b[A\n",
      " 99%|█████████▉| 1630208/1648877 [00:37<00:00, 27142.10it/s]\u001b[A\n",
      " 99%|█████████▉| 1638400/1648877 [00:37<00:00, 28799.46it/s]\u001b[A\n",
      "100%|█████████▉| 1646592/1648877 [00:37<00:00, 34587.01it/s]\u001b[A\n",
      "\n",
      "0it [00:00, ?it/s]\u001b[A\u001b[A"
     ]
    },
    {
     "name": "stdout",
     "output_type": "stream",
     "text": [
      "Extracting ./MNIST/raw/t10k-images-idx3-ubyte.gz to ./MNIST/raw\n",
      "Downloading http://yann.lecun.com/exdb/mnist/t10k-labels-idx1-ubyte.gz to ./MNIST/raw/t10k-labels-idx1-ubyte.gz\n"
     ]
    },
    {
     "name": "stderr",
     "output_type": "stream",
     "text": [
      "\n",
      "\n",
      "  0%|          | 0/4542 [00:00<?, ?it/s]\u001b[A\u001b[A\n",
      "\n",
      "8192it [00:00, 15341.07it/s]\n"
     ]
    },
    {
     "name": "stdout",
     "output_type": "stream",
     "text": [
      "Extracting ./MNIST/raw/t10k-labels-idx1-ubyte.gz to ./MNIST/raw\n",
      "Processing...\n",
      "Done!\n"
     ]
    },
    {
     "name": "stderr",
     "output_type": "stream",
     "text": [
      "\n",
      "1654784it [00:54, 34587.01it/s]                             \u001b[A"
     ]
    }
   ],
   "source": [
    "mnist_train = torchvision.datasets.MNIST('.', train=True, transform=transform, download=True)\n",
    "mnist_test  = torchvision.datasets.MNIST('.', train=False, transform=transform, download=True)"
   ]
  },
  {
   "cell_type": "code",
   "execution_count": 134,
   "metadata": {
    "ExecuteTime": {
     "end_time": "2019-11-04T10:45:12.869451Z",
     "start_time": "2019-11-04T10:45:12.861240Z"
    }
   },
   "outputs": [
    {
     "data": {
      "text/plain": [
       "(tensor([0., 0., 0., 0., 0., 0., 0., 0., 0., 0., 0., 0., 0., 0., 0., 0., 0., 0.,\n",
       "         0., 0., 0., 0., 0., 0., 0., 0., 0., 0., 0., 0., 0., 0., 0., 0., 0., 0.,\n",
       "         0., 0., 0., 0., 0., 0., 0., 0., 0., 0., 0., 0., 0., 0., 0., 0., 0., 0.,\n",
       "         0., 0., 0., 0., 0., 0., 0., 0., 0., 0., 0., 0., 0., 0., 0., 0., 0., 0.,\n",
       "         0., 0., 0., 0., 0., 0., 0., 0., 0., 0., 0., 0., 0., 0., 0., 0., 0., 0.,\n",
       "         0., 0., 0., 0., 0., 0., 0., 0., 0., 0., 0., 0., 0., 0., 0., 0., 0., 0.,\n",
       "         0., 0., 0., 0., 0., 0., 0., 0., 0., 0., 0., 0., 0., 0., 0., 0., 0., 0.,\n",
       "         0., 0., 0., 0., 0., 0., 0., 0., 0., 0., 0., 0., 0., 0., 0., 0., 0., 0.,\n",
       "         0., 0., 0., 0., 0., 0., 0., 0., 0., 0., 0., 0., 0., 1., 1., 0., 1., 1.,\n",
       "         1., 0., 0., 0., 0., 0., 0., 0., 0., 0., 0., 0., 0., 0., 0., 0., 0., 1.,\n",
       "         1., 1., 1., 1., 1., 1., 1., 1., 1., 1., 1., 0., 0., 0., 0., 0., 0., 0.,\n",
       "         0., 0., 0., 0., 0., 0., 1., 1., 1., 1., 1., 1., 1., 1., 1., 1., 0., 0.,\n",
       "         0., 0., 0., 0., 0., 0., 0., 0., 0., 0., 0., 0., 0., 0., 0., 0., 1., 1.,\n",
       "         1., 1., 1., 1., 1., 1., 1., 1., 0., 0., 0., 0., 0., 0., 0., 0., 0., 0.,\n",
       "         0., 0., 0., 0., 0., 0., 0., 0., 0., 1., 0., 1., 1., 1., 0., 0., 0., 1.,\n",
       "         0., 0., 0., 0., 0., 0., 0., 0., 0., 0., 0., 0., 0., 0., 0., 0., 0., 0.,\n",
       "         0., 0., 0., 1., 1., 0., 0., 0., 0., 0., 0., 0., 0., 0., 0., 0., 0., 0.,\n",
       "         0., 0., 0., 0., 0., 0., 0., 0., 0., 0., 0., 0., 0., 1., 1., 1., 0., 0.,\n",
       "         0., 0., 0., 0., 0., 0., 0., 0., 0., 0., 0., 0., 0., 0., 0., 0., 0., 0.,\n",
       "         0., 0., 0., 0., 0., 0., 1., 1., 0., 0., 0., 0., 0., 0., 0., 0., 0., 0.,\n",
       "         0., 0., 0., 0., 0., 0., 0., 0., 0., 0., 0., 0., 0., 0., 0., 0., 0., 1.,\n",
       "         1., 1., 0., 0., 0., 0., 0., 0., 0., 0., 0., 0., 0., 0., 0., 0., 0., 0.,\n",
       "         0., 0., 0., 0., 0., 0., 0., 0., 0., 0., 1., 1., 1., 0., 0., 0., 0., 0.,\n",
       "         0., 0., 0., 0., 0., 0., 0., 0., 0., 0., 0., 0., 0., 0., 0., 0., 0., 0.,\n",
       "         0., 0., 0., 1., 1., 1., 1., 0., 0., 0., 0., 0., 0., 0., 0., 0., 0., 0.,\n",
       "         0., 0., 0., 0., 0., 0., 0., 0., 0., 0., 0., 0., 0., 0., 0., 1., 1., 1.,\n",
       "         0., 0., 0., 0., 0., 0., 0., 0., 0., 0., 0., 0., 0., 0., 0., 0., 0., 0.,\n",
       "         0., 0., 0., 0., 0., 0., 0., 1., 1., 1., 0., 0., 0., 0., 0., 0., 0., 0.,\n",
       "         0., 0., 0., 0., 0., 0., 0., 0., 0., 0., 0., 0., 0., 0., 0., 1., 1., 1.,\n",
       "         1., 1., 0., 0., 0., 0., 0., 0., 0., 0., 0., 0., 0., 0., 0., 0., 0., 0.,\n",
       "         0., 0., 0., 0., 0., 1., 1., 1., 1., 1., 1., 1., 0., 0., 0., 0., 0., 0.,\n",
       "         0., 0., 0., 0., 0., 0., 0., 0., 0., 0., 0., 0., 0., 0., 1., 1., 1., 1.,\n",
       "         1., 1., 0., 0., 0., 0., 0., 0., 0., 0., 0., 0., 0., 0., 0., 0., 0., 0.,\n",
       "         0., 0., 0., 0., 1., 1., 1., 1., 1., 1., 0., 0., 0., 0., 0., 0., 0., 0.,\n",
       "         0., 0., 0., 0., 0., 0., 0., 0., 0., 0., 0., 1., 1., 1., 1., 1., 1., 1.,\n",
       "         0., 0., 0., 0., 0., 0., 0., 0., 0., 0., 0., 0., 0., 0., 0., 0., 0., 0.,\n",
       "         0., 1., 1., 1., 1., 1., 1., 1., 1., 0., 0., 0., 0., 0., 0., 0., 0., 0.,\n",
       "         0., 0., 0., 0., 0., 0., 0., 0., 0., 0., 1., 1., 1., 1., 1., 1., 1., 0.,\n",
       "         0., 0., 0., 0., 0., 0., 0., 0., 0., 0., 0., 0., 0., 0., 0., 0., 0., 0.,\n",
       "         0., 0., 0., 0., 0., 0., 0., 0., 0., 0., 0., 0., 0., 0., 0., 0., 0., 0.,\n",
       "         0., 0., 0., 0., 0., 0., 0., 0., 0., 0., 0., 0., 0., 0., 0., 0., 0., 0.,\n",
       "         0., 0., 0., 0., 0., 0., 0., 0., 0., 0., 0., 0., 0., 0., 0., 0., 0., 0.,\n",
       "         0., 0., 0., 0., 0., 0., 0., 0., 0., 0., 0., 0., 0., 0., 0., 0., 0., 0.,\n",
       "         0., 0., 0., 0., 0., 0., 0., 0., 0., 0.]), 5)"
      ]
     },
     "execution_count": 134,
     "metadata": {},
     "output_type": "execute_result"
    }
   ],
   "source": [
    "mnist_train[0]"
   ]
  },
  {
   "cell_type": "code",
   "execution_count": 135,
   "metadata": {
    "ExecuteTime": {
     "end_time": "2019-11-04T10:44:58.840112Z",
     "start_time": "2019-11-04T10:44:58.835224Z"
    }
   },
   "outputs": [
    {
     "data": {
      "text/plain": [
       "torch.Size([784])"
      ]
     },
     "execution_count": 135,
     "metadata": {},
     "output_type": "execute_result"
    }
   ],
   "source": [
    "mnist_train[0][0].shape"
   ]
  },
  {
   "cell_type": "code",
   "execution_count": 136,
   "metadata": {
    "ExecuteTime": {
     "end_time": "2019-11-04T10:45:58.919510Z",
     "start_time": "2019-11-04T10:45:58.425460Z"
    }
   },
   "outputs": [],
   "source": [
    "import matplotlib.pyplot as plt\n",
    "%matplotlib inline"
   ]
  },
  {
   "cell_type": "code",
   "execution_count": 137,
   "metadata": {
    "ExecuteTime": {
     "end_time": "2019-11-04T10:46:54.051375Z",
     "start_time": "2019-11-04T10:46:54.041789Z"
    }
   },
   "outputs": [
    {
     "data": {
      "text/plain": [
       "tensor([0., 0., 0., 0., 0., 0., 0., 0., 0., 0., 0., 0., 0., 0., 0., 0., 0., 0.,\n",
       "        0., 0., 0., 0., 0., 0., 0., 0., 0., 0., 0., 0., 0., 0., 0., 0., 0., 0.,\n",
       "        0., 0., 0., 0., 0., 0., 0., 0., 0., 0., 0., 0., 0., 0., 0., 0., 0., 0.,\n",
       "        0., 0., 0., 0., 0., 0., 0., 0., 0., 0., 0., 0., 0., 0., 0., 0., 0., 0.,\n",
       "        0., 0., 0., 0., 0., 0., 0., 0., 0., 0., 0., 0., 0., 0., 0., 0., 0., 0.,\n",
       "        0., 0., 0., 0., 0., 0., 0., 0., 0., 0., 0., 0., 0., 0., 0., 0., 0., 0.,\n",
       "        0., 0., 0., 0., 0., 0., 0., 0., 0., 0., 0., 0., 0., 0., 0., 0., 0., 0.,\n",
       "        0., 0., 0., 0., 0., 0., 0., 0., 0., 0., 0., 0., 0., 0., 0., 0., 0., 0.,\n",
       "        0., 0., 0., 0., 0., 0., 0., 0., 0., 0., 0., 0., 0., 1., 1., 0., 1., 1.,\n",
       "        1., 0., 0., 0., 0., 0., 0., 0., 0., 0., 0., 0., 0., 0., 0., 0., 0., 1.,\n",
       "        1., 1., 1., 1., 1., 1., 1., 1., 1., 1., 1., 0., 0., 0., 0., 0., 0., 0.,\n",
       "        0., 0., 0., 0., 0., 0., 1., 1., 1., 1., 1., 1., 1., 1., 1., 1., 0., 0.,\n",
       "        0., 0., 0., 0., 0., 0., 0., 0., 0., 0., 0., 0., 0., 0., 0., 0., 1., 1.,\n",
       "        1., 1., 1., 1., 1., 1., 1., 1., 0., 0., 0., 0., 0., 0., 0., 0., 0., 0.,\n",
       "        0., 0., 0., 0., 0., 0., 0., 0., 0., 1., 0., 1., 1., 1., 0., 0., 0., 1.,\n",
       "        0., 0., 0., 0., 0., 0., 0., 0., 0., 0., 0., 0., 0., 0., 0., 0., 0., 0.,\n",
       "        0., 0., 0., 1., 1., 0., 0., 0., 0., 0., 0., 0., 0., 0., 0., 0., 0., 0.,\n",
       "        0., 0., 0., 0., 0., 0., 0., 0., 0., 0., 0., 0., 0., 1., 1., 1., 0., 0.,\n",
       "        0., 0., 0., 0., 0., 0., 0., 0., 0., 0., 0., 0., 0., 0., 0., 0., 0., 0.,\n",
       "        0., 0., 0., 0., 0., 0., 1., 1., 0., 0., 0., 0., 0., 0., 0., 0., 0., 0.,\n",
       "        0., 0., 0., 0., 0., 0., 0., 0., 0., 0., 0., 0., 0., 0., 0., 0., 0., 1.,\n",
       "        1., 1., 0., 0., 0., 0., 0., 0., 0., 0., 0., 0., 0., 0., 0., 0., 0., 0.,\n",
       "        0., 0., 0., 0., 0., 0., 0., 0., 0., 0., 1., 1., 1., 0., 0., 0., 0., 0.,\n",
       "        0., 0., 0., 0., 0., 0., 0., 0., 0., 0., 0., 0., 0., 0., 0., 0., 0., 0.,\n",
       "        0., 0., 0., 1., 1., 1., 1., 0., 0., 0., 0., 0., 0., 0., 0., 0., 0., 0.,\n",
       "        0., 0., 0., 0., 0., 0., 0., 0., 0., 0., 0., 0., 0., 0., 0., 1., 1., 1.,\n",
       "        0., 0., 0., 0., 0., 0., 0., 0., 0., 0., 0., 0., 0., 0., 0., 0., 0., 0.,\n",
       "        0., 0., 0., 0., 0., 0., 0., 1., 1., 1., 0., 0., 0., 0., 0., 0., 0., 0.,\n",
       "        0., 0., 0., 0., 0., 0., 0., 0., 0., 0., 0., 0., 0., 0., 0., 1., 1., 1.,\n",
       "        1., 1., 0., 0., 0., 0., 0., 0., 0., 0., 0., 0., 0., 0., 0., 0., 0., 0.,\n",
       "        0., 0., 0., 0., 0., 1., 1., 1., 1., 1., 1., 1., 0., 0., 0., 0., 0., 0.,\n",
       "        0., 0., 0., 0., 0., 0., 0., 0., 0., 0., 0., 0., 0., 0., 1., 1., 1., 1.,\n",
       "        1., 1., 0., 0., 0., 0., 0., 0., 0., 0., 0., 0., 0., 0., 0., 0., 0., 0.,\n",
       "        0., 0., 0., 0., 1., 1., 1., 1., 1., 1., 0., 0., 0., 0., 0., 0., 0., 0.,\n",
       "        0., 0., 0., 0., 0., 0., 0., 0., 0., 0., 0., 1., 1., 1., 1., 1., 1., 1.,\n",
       "        0., 0., 0., 0., 0., 0., 0., 0., 0., 0., 0., 0., 0., 0., 0., 0., 0., 0.,\n",
       "        0., 1., 1., 1., 1., 1., 1., 1., 1., 0., 0., 0., 0., 0., 0., 0., 0., 0.,\n",
       "        0., 0., 0., 0., 0., 0., 0., 0., 0., 0., 1., 1., 1., 1., 1., 1., 1., 0.,\n",
       "        0., 0., 0., 0., 0., 0., 0., 0., 0., 0., 0., 0., 0., 0., 0., 0., 0., 0.,\n",
       "        0., 0., 0., 0., 0., 0., 0., 0., 0., 0., 0., 0., 0., 0., 0., 0., 0., 0.,\n",
       "        0., 0., 0., 0., 0., 0., 0., 0., 0., 0., 0., 0., 0., 0., 0., 0., 0., 0.,\n",
       "        0., 0., 0., 0., 0., 0., 0., 0., 0., 0., 0., 0., 0., 0., 0., 0., 0., 0.,\n",
       "        0., 0., 0., 0., 0., 0., 0., 0., 0., 0., 0., 0., 0., 0., 0., 0., 0., 0.,\n",
       "        0., 0., 0., 0., 0., 0., 0., 0., 0., 0.])"
      ]
     },
     "execution_count": 137,
     "metadata": {},
     "output_type": "execute_result"
    }
   ],
   "source": [
    "mnist_train[0][0]"
   ]
  },
  {
   "cell_type": "code",
   "execution_count": 138,
   "metadata": {
    "ExecuteTime": {
     "end_time": "2019-11-04T10:47:04.823458Z",
     "start_time": "2019-11-04T10:47:04.662416Z"
    }
   },
   "outputs": [
    {
     "data": {
      "text/plain": [
       "<matplotlib.image.AxesImage at 0x7fbad0486f60>"
      ]
     },
     "execution_count": 138,
     "metadata": {},
     "output_type": "execute_result"
    },
    {
     "data": {
      "image/png": "[encoded data removed]",
      "text/plain": [
       "<Figure size 432x288 with 1 Axes>"
      ]
     },
     "metadata": {
      "needs_background": "light"
     },
     "output_type": "display_data"
    }
   ],
   "source": [
    "plt.imshow(mnist_train[0][0].reshape(28, 28), cmap='gray', vmin=0, vmax=1)"
   ]
  },
  {
   "cell_type": "markdown",
   "metadata": {},
   "source": [
    "## Практика - реализуйте сами (без использования SKLEARN) наивный баесовский классификатор для этой задачи для меток 1 и 2"
   ]
  },
  {
   "cell_type": "code",
   "execution_count": 147,
   "metadata": {},
   "outputs": [
    {
     "data": {
      "text/plain": [
       "Dataset MNIST\n",
       "    Number of datapoints: 60000\n",
       "    Root location: .\n",
       "    Split: Train\n",
       "    StandardTransform\n",
       "Transform: <function transform at 0x7fbad0161400>"
      ]
     },
     "execution_count": 147,
     "metadata": {},
     "output_type": "execute_result"
    }
   ],
   "source": [
    "mnist_train"
   ]
  },
  {
   "cell_type": "code",
   "execution_count": 151,
   "metadata": {},
   "outputs": [
    {
     "name": "stdout",
     "output_type": "stream",
     "text": [
      "60000 6742 5958\n"
     ]
    }
   ],
   "source": [
    "n_class1 = 0\n",
    "n_class2 = 0\n",
    "n_all = 0\n",
    "for i in range(len(mnist_train)):\n",
    "    n_all += 1\n",
    "    n_class1 += 1 if mnist_train[i][1] == 1 else 0\n",
    "    n_class2 += 1 if mnist_train[i][1] == 2 else 0\n",
    "print(n_all, n_class1, n_class2)"
   ]
  },
  {
   "cell_type": "code",
   "execution_count": null,
   "metadata": {},
   "outputs": [],
   "source": [
    "p_1 = n_class1/n_all\n",
    "p_2 = n_class2/n_all\n"
   ]
  }
 ],
 "metadata": {
  "kernelspec": {
   "display_name": "Python 3",
   "language": "python",
   "name": "python3"
  },
  "language_info": {
   "codemirror_mode": {
    "name": "ipython",
    "version": 3
   },
   "file_extension": ".py",
   "mimetype": "text/x-python",
   "name": "python",
   "nbconvert_exporter": "python",
   "pygments_lexer": "ipython3",
   "version": "3.7.2"
  }
 },
 "nbformat": 4,
 "nbformat_minor": 2
}
