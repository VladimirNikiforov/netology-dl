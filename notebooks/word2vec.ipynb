{
  "nbformat": 4,
  "nbformat_minor": 0,
  "metadata": {
    "colab": {
      "name": "Copy of word2vec",
      "provenance": [],
      "collapsed_sections": [],
      "machine_shape": "hm"
    },
    "kernelspec": {
      "name": "python3",
      "display_name": "Python 3"
    }
  },
  "cells": [
    {
      "cell_type": "code",
      "metadata": {
        "id": "wcXRWrGpXXZH",
        "colab_type": "code",
        "colab": {}
      },
      "source": [
        "## Word 2 Vec с нуля"
      ],
      "execution_count": 0,
      "outputs": []
    },
    {
      "cell_type": "code",
      "metadata": {
        "id": "dLQGJyW1Qn5S",
        "colab_type": "code",
        "colab": {}
      },
      "source": [
        "import torch\n",
        "from torch.autograd import Variable\n",
        "import torch.nn as nn\n",
        "import torch.nn.functional as F\n",
        "import torch.optim as optim"
      ],
      "execution_count": 0,
      "outputs": []
    },
    {
      "cell_type": "code",
      "metadata": {
        "id": "_j50r_nEQZ3g",
        "colab_type": "code",
        "outputId": "3e542d93-a0e3-4031-882f-0c3450b70faa",
        "colab": {
          "base_uri": "https://localhost:8080/",
          "height": 34
        }
      },
      "source": [
        "CONTEXT_SIZE = 2  # 2 words to the left, 2 to the right\n",
        "text = \"\"\"We are about to study the idea of a computational process.\n",
        "Computational processes are abstract beings that inhabit computers.\n",
        "As they evolve, processes manipulate other abstract things called data.\n",
        "The evolution of a process is directed by a pattern of rules\n",
        "called a program. People create programs to direct processes. In effect,\n",
        "we conjure the spirits of the computer with our spells.\"\"\".split()\n",
        "\n",
        "split_ind = (int)(len(text) * 0.8)\n",
        "\n",
        "# By deriving a set from `raw_text`, we deduplicate the array\n",
        "vocab = set(text)\n",
        "vocab_size = len(vocab)\n",
        "print('vocab_size:', vocab_size)\n",
        "\n",
        "w2i = {w: i for i, w in enumerate(vocab)}\n",
        "i2w = {i: w for i, w in enumerate(vocab)}"
      ],
      "execution_count": 0,
      "outputs": [
        {
          "output_type": "stream",
          "text": [
            "vocab_size: 49\n"
          ],
          "name": "stdout"
        }
      ]
    },
    {
      "cell_type": "code",
      "metadata": {
        "id": "WbnYCT-ZSMPU",
        "colab_type": "code",
        "outputId": "505b2446-951d-4461-a124-364d9beaa744",
        "colab": {
          "base_uri": "https://localhost:8080/",
          "height": 51
        }
      },
      "source": [
        "# context window size is two\n",
        "def create_cbow_dataset(text):\n",
        "    data = []\n",
        "    for i in range(2, len(text) - 2):\n",
        "        context = [text[i - 2], text[i - 1],\n",
        "                   text[i + 1], text[i + 2]]\n",
        "        target = text[i]\n",
        "        data.append((context, target))\n",
        "    return data\n",
        "\n",
        "def create_skipgram_dataset(text):\n",
        "    import random\n",
        "    data = []\n",
        "    for i in range(2, len(text) - 2):\n",
        "        data.append((text[i], text[i-2], 1))\n",
        "        data.append((text[i], text[i-1], 1))\n",
        "        data.append((text[i], text[i+1], 1))\n",
        "        data.append((text[i], text[i+2], 1))\n",
        "        # negative sampling\n",
        "        for _ in range(4):\n",
        "            if random.random() < 0.5 or i >= len(text) - 3:\n",
        "                rand_id = random.randint(0, i-1)\n",
        "            else:\n",
        "                rand_id = random.randint(i+3, len(text)-1)\n",
        "            data.append((text[i], text[rand_id], 0))\n",
        "    return data\n",
        "\n",
        "cbow_train = create_cbow_dataset(text)\n",
        "skipgram_train = create_skipgram_dataset(text)\n",
        "print('cbow sample', cbow_train[0])\n",
        "print('skipgram sample', skipgram_train[0])"
      ],
      "execution_count": 0,
      "outputs": [
        {
          "output_type": "stream",
          "text": [
            "cbow sample (['We', 'are', 'to', 'study'], 'about')\n",
            "skipgram sample ('about', 'We', 1)\n"
          ],
          "name": "stdout"
        }
      ]
    },
    {
      "cell_type": "code",
      "metadata": {
        "id": "ewikZY5jQdqg",
        "colab_type": "code",
        "colab": {}
      },
      "source": [
        "class CBOW(nn.Module):\n",
        "    def __init__(self, vocab_size, embd_size, context_size, hidden_size):\n",
        "        super(CBOW, self).__init__()\n",
        "        self.embeddings = nn.Embedding(vocab_size, embd_size)\n",
        "        self.linear1 = nn.Linear(2*context_size*embd_size, hidden_size)\n",
        "        self.linear2 = nn.Linear(hidden_size, vocab_size)\n",
        "        \n",
        "    def forward(self, inputs):\n",
        "        embedded = self.embeddings(inputs).view((1, -1))\n",
        "        hid = F.relu(self.linear1(embedded))\n",
        "        out = self.linear2(hid)\n",
        "        log_probs = F.log_softmax(out)\n",
        "        return log_probs\n",
        "\n",
        "class SkipGram(nn.Module):\n",
        "    def __init__(self, vocab_size, embd_size):\n",
        "        super(SkipGram, self).__init__()\n",
        "        self.embeddings = nn.Embedding(vocab_size, embd_size)\n",
        "    \n",
        "    def forward(self, focus, context):\n",
        "        embed_focus = self.embeddings(focus).view((1, -1))\n",
        "        embed_ctx = self.embeddings(context).view((1, -1))\n",
        "        score = torch.mm(embed_focus, torch.t(embed_ctx))\n",
        "        log_probs = F.logsigmoid(score)\n",
        "    \n",
        "        return log_probs"
      ],
      "execution_count": 0,
      "outputs": []
    },
    {
      "cell_type": "code",
      "metadata": {
        "id": "cf1OSjF1Qfcg",
        "colab_type": "code",
        "outputId": "ad753bba-2792-4c5b-b067-fbe7f1b0a98b",
        "colab": {
          "base_uri": "https://localhost:8080/",
          "height": 203
        }
      },
      "source": [
        "embd_size = 100\n",
        "learning_rate = 0.001\n",
        "n_epoch = 30\n",
        "\n",
        "def train_cbow():\n",
        "    hidden_size = 64\n",
        "    losses = []\n",
        "    loss_fn = nn.NLLLoss()\n",
        "    model = CBOW(vocab_size, embd_size, CONTEXT_SIZE, hidden_size)\n",
        "    print(model)\n",
        "    optimizer = optim.SGD(model.parameters(), lr=learning_rate)\n",
        "\n",
        "    for epoch in range(n_epoch):\n",
        "        total_loss = .0\n",
        "        for context, target in cbow_train:\n",
        "            ctx_idxs = [w2i[w] for w in context]\n",
        "            ctx_var = Variable(torch.LongTensor(ctx_idxs))\n",
        "\n",
        "            model.zero_grad()\n",
        "            log_probs = model(ctx_var)\n",
        "\n",
        "            loss = loss_fn(log_probs, Variable(torch.LongTensor([w2i[target]])))\n",
        "\n",
        "            loss.backward()\n",
        "            optimizer.step()\n",
        "\n",
        "            total_loss += loss.item()\n",
        "        losses.append(total_loss)\n",
        "    return model, losses\n",
        "\n",
        "def train_skipgram():\n",
        "    losses = []\n",
        "    loss_fn = nn.MSELoss()\n",
        "    model = SkipGram(vocab_size, embd_size)\n",
        "    print(model)\n",
        "    optimizer = optim.SGD(model.parameters(), lr=learning_rate)\n",
        "    \n",
        "    for epoch in range(n_epoch):\n",
        "        total_loss = .0\n",
        "        for in_w, out_w, target in skipgram_train:\n",
        "            in_w_var = Variable(torch.LongTensor([w2i[in_w]]))\n",
        "            out_w_var = Variable(torch.LongTensor([w2i[out_w]]))\n",
        "            \n",
        "            model.zero_grad()\n",
        "            log_probs = model(in_w_var, out_w_var)\n",
        "            loss = loss_fn(log_probs[0], Variable(torch.Tensor([target])))\n",
        "            \n",
        "            loss.backward()\n",
        "            optimizer.step()\n",
        "\n",
        "            total_loss += loss.item()\n",
        "        losses.append(total_loss)\n",
        "    return model, losses\n",
        "    \n",
        "cbow_model, cbow_losses = train_cbow()\n",
        "sg_model, sg_losses = train_skipgram()"
      ],
      "execution_count": 0,
      "outputs": [
        {
          "output_type": "stream",
          "text": [
            "CBOW(\n",
            "  (embeddings): Embedding(49, 100)\n",
            "  (linear1): Linear(in_features=400, out_features=64, bias=True)\n",
            "  (linear2): Linear(in_features=64, out_features=49, bias=True)\n",
            ")\n"
          ],
          "name": "stdout"
        },
        {
          "output_type": "stream",
          "text": [
            "/usr/local/lib/python3.6/dist-packages/ipykernel_launcher.py:12: UserWarning: Implicit dimension choice for log_softmax has been deprecated. Change the call to include dim=X as an argument.\n",
            "  if sys.path[0] == '':\n"
          ],
          "name": "stderr"
        },
        {
          "output_type": "stream",
          "text": [
            "SkipGram(\n",
            "  (embeddings): Embedding(49, 100)\n",
            ")\n"
          ],
          "name": "stdout"
        }
      ]
    },
    {
      "cell_type": "code",
      "metadata": {
        "id": "vRjq4ZUUQgeN",
        "colab_type": "code",
        "outputId": "2f113dd8-c945-4348-bf02-40e9f9457169",
        "colab": {
          "base_uri": "https://localhost:8080/",
          "height": 1000
        }
      },
      "source": [
        "def test_cbow(test_data, model):\n",
        "    print('====Test CBOW===')\n",
        "    correct_ct = 0\n",
        "    for ctx, target in test_data:\n",
        "        ctx_idxs = [w2i[w] for w in ctx]\n",
        "        ctx_var = Variable(torch.LongTensor(ctx_idxs))\n",
        "\n",
        "        model.zero_grad()\n",
        "        log_probs = model(ctx_var)\n",
        "        _, predicted = torch.max(log_probs.data, 1)\n",
        "        predicted_word = i2w[predicted.item()]\n",
        "        print('predicted:', predicted_word)\n",
        "        print('label    :', target)\n",
        "        if predicted_word == target:\n",
        "            correct_ct += 1\n",
        "            \n",
        "    print('Accuracy: {:.1f}% ({:d}/{:d})'.format(correct_ct/len(test_data)*100, correct_ct, len(test_data)))\n",
        "\n",
        "def test_skipgram(test_data, model):\n",
        "    print('====Test SkipGram===')\n",
        "    correct_ct = 0\n",
        "    for in_w, out_w, target in test_data:\n",
        "        in_w_var = Variable(torch.LongTensor([w2i[in_w]]))\n",
        "        out_w_var = Variable(torch.LongTensor([w2i[out_w]]))\n",
        "\n",
        "        model.zero_grad()\n",
        "        log_probs = model(in_w_var, out_w_var)\n",
        "        _, predicted = torch.max(log_probs.data, 1)\n",
        "        predicted = predicted.item()\n",
        "        if predicted == target:\n",
        "            correct_ct += 1\n",
        "\n",
        "    print('Accuracy: {:.1f}% ({:d}/{:d})'.format(correct_ct/len(test_data)*100, correct_ct, len(test_data)))\n",
        "\n",
        "test_cbow(cbow_train, cbow_model)\n",
        "print('------')\n",
        "test_skipgram(skipgram_train, sg_model)"
      ],
      "execution_count": 0,
      "outputs": [
        {
          "output_type": "stream",
          "text": [
            "====Test CBOW===\n",
            "predicted: about\n",
            "label    : about\n",
            "predicted: to\n",
            "label    : to\n",
            "predicted: study\n",
            "label    : study\n",
            "predicted: the\n",
            "label    : the\n",
            "predicted: idea\n",
            "label    : idea\n",
            "predicted: of\n",
            "label    : of\n",
            "predicted: a\n",
            "label    : a\n",
            "predicted: computational\n",
            "label    : computational\n",
            "predicted: process.\n",
            "label    : process.\n",
            "predicted: Computational\n",
            "label    : Computational\n",
            "predicted: processes\n",
            "label    : processes\n",
            "predicted: are\n",
            "label    : are\n",
            "predicted: abstract\n",
            "label    : abstract\n",
            "predicted: beings\n",
            "label    : beings\n",
            "predicted: that\n",
            "label    : that\n",
            "predicted: inhabit\n",
            "label    : inhabit\n",
            "predicted: computers.\n",
            "label    : computers.\n",
            "predicted: As\n",
            "label    : As\n",
            "predicted: they\n",
            "label    : they\n",
            "predicted: evolve,\n",
            "label    : evolve,\n",
            "predicted: processes\n",
            "label    : processes\n",
            "predicted: manipulate\n",
            "label    : manipulate\n",
            "predicted: other\n",
            "label    : other\n",
            "predicted: abstract\n",
            "label    : abstract\n",
            "predicted: things\n",
            "label    : things\n",
            "predicted: called\n",
            "label    : called\n",
            "predicted: data.\n",
            "label    : data.\n",
            "predicted: The\n",
            "label    : The\n",
            "predicted: evolution\n",
            "label    : evolution\n",
            "predicted: of\n",
            "label    : of\n",
            "predicted: a\n",
            "label    : a\n",
            "predicted: process\n",
            "label    : process\n",
            "predicted: is\n",
            "label    : is\n",
            "predicted: directed\n",
            "label    : directed\n",
            "predicted: by\n",
            "label    : by\n",
            "predicted: a\n",
            "label    : a\n",
            "predicted: pattern\n",
            "label    : pattern\n",
            "predicted: of\n",
            "label    : of\n",
            "predicted: rules\n",
            "label    : rules\n",
            "predicted: called\n",
            "label    : called\n",
            "predicted: a\n",
            "label    : a\n",
            "predicted: program.\n",
            "label    : program.\n",
            "predicted: People\n",
            "label    : People\n",
            "predicted: create\n",
            "label    : create\n",
            "predicted: programs\n",
            "label    : programs\n",
            "predicted: to\n",
            "label    : to\n",
            "predicted: direct\n",
            "label    : direct\n",
            "predicted: processes.\n",
            "label    : processes.\n",
            "predicted: In\n",
            "label    : In\n",
            "predicted: effect,\n",
            "label    : effect,\n",
            "predicted: we\n",
            "label    : we\n",
            "predicted: conjure\n",
            "label    : conjure\n",
            "predicted: the\n",
            "label    : the\n",
            "predicted: spirits\n",
            "label    : spirits\n",
            "predicted: of\n",
            "label    : of\n",
            "predicted: the\n",
            "label    : the\n",
            "predicted: computer\n",
            "label    : computer\n",
            "predicted: with\n",
            "label    : with\n",
            "Accuracy: 100.0% (58/58)\n",
            "------\n",
            "====Test SkipGram===\n",
            "Accuracy: 50.0% (232/464)\n"
          ],
          "name": "stdout"
        },
        {
          "output_type": "stream",
          "text": [
            "/usr/local/lib/python3.6/dist-packages/ipykernel_launcher.py:12: UserWarning: Implicit dimension choice for log_softmax has been deprecated. Change the call to include dim=X as an argument.\n",
            "  if sys.path[0] == '':\n"
          ],
          "name": "stderr"
        }
      ]
    },
    {
      "cell_type": "code",
      "metadata": {
        "id": "owW40qNAQ2nD",
        "colab_type": "code",
        "outputId": "06656f18-08b4-4467-af53-9ec0bd246de3",
        "colab": {
          "base_uri": "https://localhost:8080/",
          "height": 546
        }
      },
      "source": [
        "%matplotlib inline\n",
        "import matplotlib.pyplot as plt\n",
        "import numpy as np\n",
        "\n",
        "def showPlot(points, title):\n",
        "    plt.figure()\n",
        "    fig, ax = plt.subplots()\n",
        "    plt.plot(points)\n",
        "\n",
        "showPlot(cbow_losses, 'CBOW Losses')\n",
        "showPlot(sg_losses, 'SkipGram Losses')"
      ],
      "execution_count": 0,
      "outputs": [
        {
          "output_type": "display_data",
          "data": {
            "text/plain": [
              "<Figure size 432x288 with 0 Axes>"
            ]
          },
          "metadata": {
            "tags": []
          }
        },
        {
          "output_type": "display_data",
          "data": {
            "image/png": "[encoded data removed]",
            "text/plain": [
              "<Figure size 432x288 with 1 Axes>"
            ]
          },
          "metadata": {
            "tags": []
          }
        },
        {
          "output_type": "display_data",
          "data": {
            "text/plain": [
              "<Figure size 432x288 with 0 Axes>"
            ]
          },
          "metadata": {
            "tags": []
          }
        },
        {
          "output_type": "display_data",
          "data": {
            "image/png": "[encoded data removed]",
            "text/plain": [
              "<Figure size 432x288 with 1 Axes>"
            ]
          },
          "metadata": {
            "tags": []
          }
        }
      ]
    },
    {
      "cell_type": "code",
      "metadata": {
        "id": "ZEck3pwxXef2",
        "colab_type": "code",
        "colab": {}
      },
      "source": [
        "## GenSim с нуля"
      ],
      "execution_count": 0,
      "outputs": []
    },
    {
      "cell_type": "code",
      "metadata": {
        "id": "8E1xpdnCVSNq",
        "colab_type": "code",
        "outputId": "85238c46-8174-491b-f60a-1f022ce032f6",
        "colab": {
          "base_uri": "https://localhost:8080/",
          "height": 566
        }
      },
      "source": [
        "from gensim.models import Word2Vec\n",
        "# define training data\n",
        "sentences = [['this', 'is', 'the', 'first', 'sentence', 'for', 'word2vec'],\n",
        "\t\t\t['this', 'is', 'the', 'second', 'sentence'],\n",
        "\t\t\t['yet', 'another', 'sentence'],\n",
        "\t\t\t['one', 'more', 'sentence'],\n",
        "\t\t\t['and', 'the', 'final', 'sentence']]\n",
        "# train model\n",
        "model = Word2Vec(sentences, min_count=1)\n",
        "# summarize the loaded model\n",
        "print(model)\n",
        "# summarize vocabulary\n",
        "words = list(model.wv.vocab)\n",
        "print(words)\n",
        "# access vector for one word\n",
        "print(model['sentence'])\n",
        "# save model\n",
        "model.save('model.bin')\n",
        "# load model\n",
        "new_model = Word2Vec.load('model.bin')\n",
        "print(new_model)\n"
      ],
      "execution_count": 0,
      "outputs": [
        {
          "output_type": "stream",
          "text": [
            "Word2Vec(vocab=14, size=100, alpha=0.025)\n",
            "['this', 'is', 'the', 'first', 'sentence', 'for', 'word2vec', 'second', 'yet', 'another', 'one', 'more', 'and', 'final']\n",
            "[ 3.2323442e-04  2.5678647e-03 -3.0831203e-03  3.7915867e-03\n",
            " -3.6789417e-05  1.5845978e-04  3.4413277e-03 -9.3107385e-04\n",
            "  4.0244414e-03 -8.6038216e-04 -1.3498807e-03 -3.1899237e-03\n",
            "  5.3109846e-04  1.4707999e-03  3.2714910e-03  1.5496209e-03\n",
            "  2.0806002e-03  9.8193146e-04 -4.5805024e-03 -3.9414871e-03\n",
            "  4.2560645e-03  2.5280481e-03  3.8394475e-04 -2.2159489e-03\n",
            " -1.2933323e-03 -2.8741164e-03  2.2977332e-03 -4.2318855e-03\n",
            " -1.5693028e-03  3.2724778e-03 -4.7255713e-03  2.5719984e-03\n",
            " -2.3946026e-03 -9.2625624e-04  2.2458287e-03 -2.7362334e-03\n",
            "  3.0132993e-03 -2.1682628e-03 -2.2048098e-03 -2.5001381e-04\n",
            "  3.1834452e-03  1.4372513e-03 -3.0151962e-03 -3.1306276e-03\n",
            "  1.7316741e-03 -2.8816236e-03 -3.9042006e-03 -2.4219212e-04\n",
            "  4.2849644e-03  2.6485389e-03 -1.6021084e-03 -1.8433586e-03\n",
            " -1.4459206e-03 -2.4519088e-03 -3.4791550e-03 -2.5588605e-03\n",
            "  4.1912487e-03  2.1695443e-03  2.2803261e-03 -1.6717655e-03\n",
            "  4.6747504e-03  7.9583348e-04 -2.2109372e-03 -6.3930941e-04\n",
            " -4.7427146e-03  9.1849465e-04 -3.8986474e-03  1.2633833e-04\n",
            "  3.1639577e-03 -4.9648993e-03 -4.5157485e-03 -4.3233340e-03\n",
            " -2.9077374e-03 -9.7474799e-04 -2.9023776e-03  9.3454361e-04\n",
            " -7.4497279e-04  3.3302491e-03  2.1511510e-03  4.2410176e-03\n",
            "  2.1251154e-03 -1.9299313e-03 -6.2052568e-04  3.3705065e-03\n",
            "  1.1886220e-03 -1.0605073e-03 -1.2362762e-03  4.1248230e-03\n",
            "  3.0138777e-04 -1.8724740e-03  3.7995868e-03  4.3790545e-03\n",
            "  2.1403667e-04 -3.6671248e-04 -2.7207565e-03  1.4801455e-03\n",
            "  3.1066779e-03  1.2664334e-04  5.8234512e-04 -4.0218537e-03]\n",
            "Word2Vec(vocab=14, size=100, alpha=0.025)\n"
          ],
          "name": "stdout"
        },
        {
          "output_type": "stream",
          "text": [
            "/usr/local/lib/python3.6/dist-packages/ipykernel_launcher.py:16: DeprecationWarning: Call to deprecated `__getitem__` (Method will be removed in 4.0.0, use self.wv.__getitem__() instead).\n",
            "  app.launch_new_instance()\n",
            "/usr/local/lib/python3.6/dist-packages/smart_open/smart_open_lib.py:402: UserWarning: This function is deprecated, use smart_open.open instead. See the migration notes for details: https://github.com/RaRe-Technologies/smart_open/blob/master/README.rst#migrating-to-the-new-open-function\n",
            "  'See the migration notes for details: %s' % _MIGRATION_NOTES_URL\n"
          ],
          "name": "stderr"
        }
      ]
    },
    {
      "cell_type": "code",
      "metadata": {
        "id": "aSAIhuKjWKS1",
        "colab_type": "code",
        "outputId": "5b847fdf-1900-4df3-c93d-e1996776c72b",
        "colab": {
          "base_uri": "https://localhost:8080/",
          "height": 71
        }
      },
      "source": [
        "X = model[model.wv.vocab]"
      ],
      "execution_count": 0,
      "outputs": [
        {
          "output_type": "stream",
          "text": [
            "/usr/local/lib/python3.6/dist-packages/ipykernel_launcher.py:1: DeprecationWarning: Call to deprecated `__getitem__` (Method will be removed in 4.0.0, use self.wv.__getitem__() instead).\n",
            "  \"\"\"Entry point for launching an IPython kernel.\n"
          ],
          "name": "stderr"
        }
      ]
    },
    {
      "cell_type": "code",
      "metadata": {
        "id": "DOPCOXI1WVLG",
        "colab_type": "code",
        "colab": {}
      },
      "source": [
        "from sklearn.decomposition import PCA\n",
        "pca = PCA(n_components=2)\n",
        "result = pca.fit_transform(X)"
      ],
      "execution_count": 0,
      "outputs": []
    },
    {
      "cell_type": "code",
      "metadata": {
        "id": "g8G0IvE8WWyc",
        "colab_type": "code",
        "outputId": "b2eae8c2-2a11-4139-fe98-c227bab6b345",
        "colab": {
          "base_uri": "https://localhost:8080/",
          "height": 268
        }
      },
      "source": [
        "plt.scatter(result[:, 0], result[:, 1])\n",
        "words = list(model.wv.vocab)\n",
        "for i, word in enumerate(words):\n",
        "\tplt.annotate(word, xy=(result[i, 0], result[i, 1]))\n",
        "plt.show()"
      ],
      "execution_count": 0,
      "outputs": [
        {
          "output_type": "display_data",
          "data": {
            "image/png": "[encoded data removed]",
            "text/plain": [
              "<Figure size 432x288 with 1 Axes>"
            ]
          },
          "metadata": {
            "tags": []
          }
        }
      ]
    },
    {
      "cell_type": "code",
      "metadata": {
        "id": "e3EWhTdrXhJ8",
        "colab_type": "code",
        "colab": {}
      },
      "source": [
        "## Gensim готовый"
      ],
      "execution_count": 0,
      "outputs": []
    },
    {
      "cell_type": "code",
      "metadata": {
        "id": "ATm9W1onWbQr",
        "colab_type": "code",
        "outputId": "b2322de8-d1b9-4902-c816-dd4986d8cb96",
        "colab": {
          "base_uri": "https://localhost:8080/",
          "height": 200
        }
      },
      "source": [
        "!wget https://s3.amazonaws.com/dl4j-distribution/GoogleNews-vectors-negative300.bin.gz"
      ],
      "execution_count": 0,
      "outputs": [
        {
          "output_type": "stream",
          "text": [
            "--2019-12-15 16:48:58--  https://s3.amazonaws.com/dl4j-distribution/GoogleNews-vectors-negative300.bin.gz\n",
            "Resolving s3.amazonaws.com (s3.amazonaws.com)... 52.216.129.53\n",
            "Connecting to s3.amazonaws.com (s3.amazonaws.com)|52.216.129.53|:443... connected.\n",
            "HTTP request sent, awaiting response... 200 OK\n",
            "Length: 1647046227 (1.5G) [application/x-gzip]\n",
            "Saving to: ‘GoogleNews-vectors-negative300.bin.gz’\n",
            "\n",
            "GoogleNews-vectors- 100%[===================>]   1.53G  84.3MB/s    in 17s     \n",
            "\n",
            "2019-12-15 16:49:14 (93.1 MB/s) - ‘GoogleNews-vectors-negative300.bin.gz’ saved [1647046227/1647046227]\n",
            "\n"
          ],
          "name": "stdout"
        }
      ]
    },
    {
      "cell_type": "code",
      "metadata": {
        "id": "Kq73kEVIWnxY",
        "colab_type": "code",
        "outputId": "b9cd56b2-e8a8-4853-d07d-a2caddc58a5d",
        "colab": {
          "base_uri": "https://localhost:8080/",
          "height": 120
        }
      },
      "source": [
        "from gensim.models import KeyedVectors\n",
        "# load the google word2vec model\n",
        "filename = 'GoogleNews-vectors-negative300.bin.gz'\n",
        "model = KeyedVectors.load_word2vec_format(filename, binary=True)\n",
        "# calculate: (king - man) + woman = ?\n",
        "result = model.most_similar(positive=['woman', 'king'], negative=['man'], topn=10)\n",
        "print(result)"
      ],
      "execution_count": 0,
      "outputs": [
        {
          "output_type": "stream",
          "text": [
            "/usr/local/lib/python3.6/dist-packages/smart_open/smart_open_lib.py:402: UserWarning: This function is deprecated, use smart_open.open instead. See the migration notes for details: https://github.com/RaRe-Technologies/smart_open/blob/master/README.rst#migrating-to-the-new-open-function\n",
            "  'See the migration notes for details: %s' % _MIGRATION_NOTES_URL\n",
            "/usr/local/lib/python3.6/dist-packages/gensim/matutils.py:737: FutureWarning: Conversion of the second argument of issubdtype from `int` to `np.signedinteger` is deprecated. In future, it will be treated as `np.int64 == np.dtype(int).type`.\n",
            "  if np.issubdtype(vec.dtype, np.int):\n"
          ],
          "name": "stderr"
        },
        {
          "output_type": "stream",
          "text": [
            "[('queen', 0.7118192911148071), ('monarch', 0.6189674139022827), ('princess', 0.5902431011199951), ('crown_prince', 0.5499460697174072), ('prince', 0.5377321243286133), ('kings', 0.5236844420433044), ('Queen_Consort', 0.5235945582389832), ('queens', 0.518113374710083), ('sultan', 0.5098593235015869), ('monarchy', 0.5087411999702454)]\n"
          ],
          "name": "stdout"
        }
      ]
    },
    {
      "cell_type": "code",
      "metadata": {
        "id": "f_tc5Q9PWrId",
        "colab_type": "code",
        "outputId": "48d53196-407a-4353-dd7c-89003bd4a783",
        "colab": {
          "base_uri": "https://localhost:8080/",
          "height": 128
        }
      },
      "source": [
        "## Домашнее задание\n",
        "1. Скачать датасет с фразами симпосонов - https://github.com/sujanjoejacob/Text-mining-with-Simpsons-Data\n",
        "2. Обучить word2vec на фразах персонажей\n",
        "3. Построить word cloud по самым частотным словам (top 1000)\n",
        "4. Найти самые близкие слова для:\n",
        "  homer - marge + bart\n",
        "  bart - lisa + school\n",
        "  marge - homer + home"
      ],
      "execution_count": 0,
      "outputs": [
        {
          "output_type": "error",
          "ename": "SyntaxError",
          "evalue": "ignored",
          "traceback": [
            "\u001b[0;36m  File \u001b[0;32m\"<ipython-input-67-c305d17a749f>\"\u001b[0;36m, line \u001b[0;32m1\u001b[0m\n\u001b[0;31m    1. Скачать датасет с фразами симпосонов - https://github.com/sujanjoejacob/Text-mining-with-Simpsons-Data\u001b[0m\n\u001b[0m             ^\u001b[0m\n\u001b[0;31mSyntaxError\u001b[0m\u001b[0;31m:\u001b[0m invalid syntax\n"
          ]
        }
      ]
    },
    {
      "cell_type": "code",
      "metadata": {
        "id": "Kh4wF6mSXVuv",
        "colab_type": "code",
        "colab": {}
      },
      "source": [
        ""
      ],
      "execution_count": 0,
      "outputs": []
    }
  ]
}