{
 "cells": [
  {
   "cell_type": "code",
   "execution_count": null,
   "metadata": {
    "ExecuteTime": {
     "end_time": "2019-12-01T16:41:36.157114Z",
     "start_time": "2019-12-01T16:41:36.153943Z"
    },
    "colab": {},
    "colab_type": "code",
    "id": "V-Pgx7NFzbsn"
   },
   "outputs": [],
   "source": [
    "import time\n",
    "import torch\n",
    "import zipfile\n",
    "import collections\n",
    "from torch import nn\n",
    "import math"
   ]
  },
  {
   "cell_type": "code",
   "execution_count": 50,
   "metadata": {
    "ExecuteTime": {
     "end_time": "2019-12-01T16:33:41.828639Z",
     "start_time": "2019-12-01T16:33:39.974462Z"
    },
    "colab": {
     "base_uri": "https://localhost:8080/",
     "height": 204
    },
    "colab_type": "code",
    "id": "x76z7owEzbss",
    "outputId": "defcaf9d-98e7-4ae1-ffa1-ab2ccf754fa3"
   },
   "outputs": [
    {
     "name": "stdout",
     "output_type": "stream",
     "text": [
      "--2020-01-21 16:02:08--  http://www.manythings.org/anki/fra-eng.zip\n",
      "Resolving www.manythings.org (www.manythings.org)... 104.24.108.196, 104.24.109.196, 2606:4700:3037::6818:6cc4, ...\n",
      "Connecting to www.manythings.org (www.manythings.org)|104.24.108.196|:80... connected.\n",
      "HTTP request sent, awaiting response... 200 OK\n",
      "Length: 5939832 (5.7M) [application/zip]\n",
      "Saving to: ‘fra-eng.zip.1’\n",
      "\n",
      "fra-eng.zip.1       100%[===================>]   5.66M  15.5MB/s    in 0.4s    \n",
      "\n",
      "2020-01-21 16:02:08 (15.5 MB/s) - ‘fra-eng.zip.1’ saved [5939832/5939832]\n",
      "\n"
     ]
    }
   ],
   "source": [
    "!wget http://www.manythings.org/anki/fra-eng.zip"
   ]
  },
  {
   "cell_type": "code",
   "execution_count": 51,
   "metadata": {
    "ExecuteTime": {
     "end_time": "2019-12-01T16:33:42.004436Z",
     "start_time": "2019-12-01T16:33:41.833003Z"
    },
    "colab": {
     "base_uri": "https://localhost:8080/",
     "height": 51
    },
    "colab_type": "code",
    "id": "EyYGsFgrzbsx",
    "outputId": "b5d1ecd7-bffe-4949-9c6d-18c1e5e740a8"
   },
   "outputs": [
    {
     "name": "stdout",
     "output_type": "stream",
     "text": [
      "Go.\tVa !\tCC-BY 2.0 (France) Attribution: tatoeba.org #2877272 (CM) & #1158250 (Wittydev)\n",
      "Hi.\tSa\n"
     ]
    }
   ],
   "source": [
    "with zipfile.ZipFile(\"fra-eng.zip\", 'r') as f:\n",
    "    raw_text = f.read('fra.txt').decode(\"utf-8\")\n",
    "print(raw_text[0:95])"
   ]
  },
  {
   "cell_type": "code",
   "execution_count": 52,
   "metadata": {
    "ExecuteTime": {
     "end_time": "2019-12-01T16:33:48.436593Z",
     "start_time": "2019-12-01T16:33:42.008191Z"
    },
    "colab": {
     "base_uri": "https://localhost:8080/",
     "height": 51
    },
    "colab_type": "code",
    "id": "AQicxPNuzbs1",
    "outputId": "14c1e657-276c-4d7d-bfdc-09727132f4b4",
    "scrolled": true
   },
   "outputs": [
    {
     "name": "stdout",
     "output_type": "stream",
     "text": [
      "go .\tva !\tcc-by 2 .0 (france) attribution: tatoeba .org #2877272 (cm) & #1158250 (wittydev)\n",
      "hi \n"
     ]
    }
   ],
   "source": [
    "def preprocess_raw(text):\n",
    "    text = text.replace('\\u202f', ' ').replace('\\xa0', ' ')\n",
    "    out = ''\n",
    "    for i, char in enumerate(text.lower()):\n",
    "        if char in (',', '!', '.') and i > 0 and text[i-1] != ' ':\n",
    "            out += ' '\n",
    "        out += char\n",
    "    return out\n",
    "\n",
    "text = preprocess_raw(raw_text)\n",
    "print(text[0:95])"
   ]
  },
  {
   "cell_type": "code",
   "execution_count": 53,
   "metadata": {
    "ExecuteTime": {
     "end_time": "2019-12-01T16:33:48.453533Z",
     "start_time": "2019-12-01T16:33:48.438876Z"
    },
    "colab": {
     "base_uri": "https://localhost:8080/",
     "height": 34
    },
    "colab_type": "code",
    "id": "tlouIgN5zbs5",
    "outputId": "5e371725-4ed8-4498-f14a-12e1213109fd"
   },
   "outputs": [
    {
     "data": {
      "text/plain": [
       "'go .\\tva !\\tcc-by 2 .0 (france) attribution: tatoeba .org #2877272 (cm) & #1158250 (wittydev)\\nhi .\\tsalut !\\tcc-by 2 .0 (france) attribution: tatoeba .org #538123 (cm) & #509819 (aiji)\\nhi .\\tsalut .\\tcc-by '"
      ]
     },
     "execution_count": 53,
     "metadata": {
      "tags": []
     },
     "output_type": "execute_result"
    }
   ],
   "source": [
    "text[:200]"
   ]
  },
  {
   "cell_type": "code",
   "execution_count": 92,
   "metadata": {
    "ExecuteTime": {
     "end_time": "2019-12-01T16:33:48.542176Z",
     "start_time": "2019-12-01T16:33:48.456601Z"
    },
    "colab": {
     "base_uri": "https://localhost:8080/",
     "height": 51
    },
    "colab_type": "code",
    "id": "7mjmKFVuzbs9",
    "outputId": "10ea36ab-40a4-414b-99a1-2ed9a66d90e4"
   },
   "outputs": [
    {
     "data": {
      "text/plain": [
       "([['go', '.'], ['hi', '.'], ['hi', '.']],\n",
       " [['va', '!'], ['salut', '!'], ['salut', '.']])"
      ]
     },
     "execution_count": 92,
     "metadata": {
      "tags": []
     },
     "output_type": "execute_result"
    }
   ],
   "source": [
    "num_examples = 1000\n",
    "source, target = [], []\n",
    "for i, line in enumerate(text.split('\\n')):\n",
    "    if i > num_examples:\n",
    "        break\n",
    "    parts = line.split('\\t')\n",
    "    if len(parts) == 3:\n",
    "        source.append(parts[0].split(' '))\n",
    "        target.append(parts[1].split(' '))\n",
    "\n",
    "source[0:3], target[0:3]"
   ]
  },
  {
   "cell_type": "code",
   "execution_count": null,
   "metadata": {
    "ExecuteTime": {
     "end_time": "2019-12-01T16:33:48.938198Z",
     "start_time": "2019-12-01T16:33:48.546080Z"
    },
    "colab": {},
    "colab_type": "code",
    "id": "4tsJAJMIzbtA"
   },
   "outputs": [],
   "source": [
    "%matplotlib inline\n",
    "import matplotlib.pyplot as plt"
   ]
  },
  {
   "cell_type": "code",
   "execution_count": 56,
   "metadata": {
    "ExecuteTime": {
     "end_time": "2019-12-01T16:33:49.094086Z",
     "start_time": "2019-12-01T16:33:48.940601Z"
    },
    "colab": {
     "base_uri": "https://localhost:8080/",
     "height": 265
    },
    "colab_type": "code",
    "id": "fx0XUWFMzbtD",
    "outputId": "9de842fb-3ad7-4f99-c0c9-749b280b4b74"
   },
   "outputs": [
    {
     "data": {
      "image/png": "[encoded data removed]",
      "text/plain": [
       "<Figure size 432x288 with 1 Axes>"
      ]
     },
     "metadata": {
      "tags": []
     },
     "output_type": "display_data"
    }
   ],
   "source": [
    "plt.hist([[len(l) for l in source], [len(l) for l in target]],\n",
    "             label=['source', 'target'])\n",
    "plt.legend(loc='upper right')\n",
    "plt.show()"
   ]
  },
  {
   "cell_type": "code",
   "execution_count": null,
   "metadata": {
    "ExecuteTime": {
     "end_time": "2019-12-01T16:33:49.106131Z",
     "start_time": "2019-12-01T16:33:49.096232Z"
    },
    "colab": {},
    "colab_type": "code",
    "id": "lv7etsxTzbtH"
   },
   "outputs": [],
   "source": [
    "class Vocab(object):\n",
    "    def __init__(self, tokens, min_freq=0, use_special_tokens=False):\n",
    "        counter = collections.Counter(tokens)\n",
    "        self.token_freqs = sorted(counter.items(), key=lambda x: x[0])\n",
    "        self.token_freqs.sort(key=lambda x: x[1], reverse=True)\n",
    "        if use_special_tokens:\n",
    "            self.pad, self.bos, self.eos, self.unk = (0, 1, 2, 3)\n",
    "            uniq_tokens = ['<pad>', '<bos>', '<eos>', '<unk>']\n",
    "        else:\n",
    "            self.unk, uniq_tokens = 0, ['<unk>']\n",
    "        uniq_tokens +=  [token for token, freq in self.token_freqs \n",
    "                         if freq >= min_freq and token not in uniq_tokens]\n",
    "        self.idx_to_token, self.token_to_idx = [], dict()\n",
    "        for token in uniq_tokens:\n",
    "            self.idx_to_token.append(token)\n",
    "            self.token_to_idx[token] = len(self.idx_to_token) - 1\n",
    "            \n",
    "    def __len__(self):\n",
    "        return len(self.idx_to_token)\n",
    "\n",
    "    def __getitem__(self, tokens):\n",
    "        if not isinstance(tokens, (list, tuple)):\n",
    "            return self.token_to_idx.get(tokens, self.unk)\n",
    "        return [self.__getitem__(token) for token in tokens]\n",
    "\n",
    "    def to_tokens(self, indices):\n",
    "        if not isinstance(indices, (list, tuple)):\n",
    "            return self.idx_to_token[indices]\n",
    "        return [self.idx_to_token[index] for index in indices]"
   ]
  },
  {
   "cell_type": "code",
   "execution_count": 58,
   "metadata": {
    "ExecuteTime": {
     "end_time": "2019-12-01T16:33:49.114035Z",
     "start_time": "2019-12-01T16:33:49.108556Z"
    },
    "colab": {
     "base_uri": "https://localhost:8080/",
     "height": 34
    },
    "colab_type": "code",
    "id": "zyp1wBCuzbtK",
    "outputId": "7c35e678-0a5f-4d4e-b4db-9362a998e48a"
   },
   "outputs": [
    {
     "data": {
      "text/plain": [
       "175"
      ]
     },
     "execution_count": 58,
     "metadata": {
      "tags": []
     },
     "output_type": "execute_result"
    }
   ],
   "source": [
    "def build_vocab(tokens):\n",
    "    tokens = [token for line in tokens for token in line]\n",
    "    return Vocab(tokens, min_freq=3, use_special_tokens=True)\n",
    "\n",
    "src_vocab = build_vocab(source)\n",
    "len(src_vocab)"
   ]
  },
  {
   "cell_type": "code",
   "execution_count": 59,
   "metadata": {
    "ExecuteTime": {
     "end_time": "2019-12-01T16:33:49.122605Z",
     "start_time": "2019-12-01T16:33:49.116449Z"
    },
    "colab": {
     "base_uri": "https://localhost:8080/",
     "height": 34
    },
    "colab_type": "code",
    "id": "hy336yvHzbtN",
    "outputId": "8c20f823-e0c4-4600-c009-9e36252ec19c"
   },
   "outputs": [
    {
     "data": {
      "text/plain": [
       "[9, 4, 0, 0, 0, 0, 0, 0, 0, 0]"
      ]
     },
     "execution_count": 59,
     "metadata": {
      "tags": []
     },
     "output_type": "execute_result"
    }
   ],
   "source": [
    "def pad(line, max_len, padding_token):\n",
    "    if len(line) > max_len:\n",
    "        return line[:max_len]\n",
    "    return line + [padding_token] * (max_len - len(line))\n",
    "\n",
    "pad(src_vocab[source[0]], 10, src_vocab.pad)"
   ]
  },
  {
   "cell_type": "code",
   "execution_count": null,
   "metadata": {
    "ExecuteTime": {
     "end_time": "2019-12-01T16:33:49.131148Z",
     "start_time": "2019-12-01T16:33:49.125106Z"
    },
    "colab": {},
    "colab_type": "code",
    "id": "P8-qcthxzbtR"
   },
   "outputs": [],
   "source": [
    "def build_array(lines, vocab, max_len, is_source, build_mask=False):\n",
    "    lines = [vocab[line] for line in lines]\n",
    "    if not is_source:\n",
    "        lines = [[vocab.bos] + line + [vocab.eos] for line in lines]\n",
    "    array = torch.LongTensor([pad(line, max_len, vocab.pad) for line in lines])\n",
    "    valid_len = (array != vocab.pad).sum(axis=1)\n",
    "    \n",
    "    if build_mask:\n",
    "        mask = torch.zeros_like(array).type(torch.float)\n",
    "        for i in range(len(valid_len)):\n",
    "            mask[i, :valid_len[i]]=1.\n",
    "        return array, valid_len, mask\n",
    "\n",
    "    return array, valid_len"
   ]
  },
  {
   "cell_type": "code",
   "execution_count": null,
   "metadata": {
    "ExecuteTime": {
     "end_time": "2019-12-01T16:33:49.138015Z",
     "start_time": "2019-12-01T16:33:49.133576Z"
    },
    "colab": {},
    "colab_type": "code",
    "id": "cApD8SIWzbtU"
   },
   "outputs": [],
   "source": [
    "def load_data_nmt(batch_size, max_len): \n",
    "    src_vocab, tgt_vocab = build_vocab(source), build_vocab(target)\n",
    "    src_array, src_valid_len = build_array(source, src_vocab, max_len, True, False)\n",
    "    tgt_array, tgt_valid_len, tgt_mask = build_array(target, tgt_vocab, max_len, False, True)\n",
    "    train_data = torch.utils.data.TensorDataset(\n",
    "        src_array, src_valid_len, tgt_array, tgt_valid_len, tgt_mask)\n",
    "    train_iter = torch.utils.data.DataLoader(train_data, batch_size, shuffle=True)\n",
    "    return src_vocab, tgt_vocab, train_iter"
   ]
  },
  {
   "cell_type": "code",
   "execution_count": 62,
   "metadata": {
    "ExecuteTime": {
     "end_time": "2019-12-01T16:33:49.172734Z",
     "start_time": "2019-12-01T16:33:49.140112Z"
    },
    "colab": {
     "base_uri": "https://localhost:8080/",
     "height": 153
    },
    "colab_type": "code",
    "id": "I6gOW3HIzbtX",
    "outputId": "a460e2e6-2093-448f-869e-9715ca7654d7"
   },
   "outputs": [
    {
     "name": "stdout",
     "output_type": "stream",
     "text": [
      "X = tensor([[ 5, 87,  4,  0,  0,  0,  0,  0],\n",
      "        [ 5, 26, 53,  4,  0,  0,  0,  0]], dtype=torch.int32) \n",
      "Valid lengths for X = tensor([3, 4]) \n",
      "Y = tensor([[  1,  31,   3,   4,   2,   0,   0,   0],\n",
      "        [  1,   6,  21, 159,   4,   2,   0,   0]], dtype=torch.int32) \n",
      "Valid lengths for Y = tensor([5, 6]) \n",
      "Y mask = tensor([[1., 1., 1., 1., 1., 0., 0., 0.],\n",
      "        [1., 1., 1., 1., 1., 1., 0., 0.]])\n"
     ]
    }
   ],
   "source": [
    "src_vocab, tgt_vocab, train_iter = load_data_nmt(batch_size=2, max_len=8)\n",
    "for X, X_valid_len, Y, Y_valid_len, y_mask in train_iter:\n",
    "    print('X =', X.type(torch.int), '\\nValid lengths for X =', X_valid_len,\n",
    "          '\\nY =', Y.type(torch.int), '\\nValid lengths for Y =', Y_valid_len,\n",
    "          '\\nY mask =', y_mask)\n",
    "    break"
   ]
  },
  {
   "cell_type": "code",
   "execution_count": null,
   "metadata": {
    "ExecuteTime": {
     "end_time": "2019-12-01T16:33:49.182063Z",
     "start_time": "2019-12-01T16:33:49.175703Z"
    },
    "colab": {},
    "colab_type": "code",
    "id": "t7LYFzLizbtb"
   },
   "outputs": [],
   "source": [
    "class Encoder(nn.Module):\n",
    "    def __init__(self, vocab_size, embed_size, num_hiddens, num_layers,\n",
    "                 dropout=0, **kwargs):\n",
    "        super().__init__(**kwargs)\n",
    "        self.embedding = nn.Embedding(vocab_size, embed_size)\n",
    "        self.rnn = nn.LSTM(embed_size, num_hiddens, num_layers, dropout=dropout)\n",
    "        self.num_hiddens = num_hiddens\n",
    "        self.num_layers = num_layers\n",
    "\n",
    "    def forward(self, X, *args):\n",
    "        X = self.embedding(X) \n",
    "        X = X.permute(1, 0, 2)\n",
    "        state = (torch.zeros((self.num_layers, X.shape[1],self.num_hiddens)), torch.zeros((self.num_layers, X.shape[1],self.num_hiddens)))\n",
    "        out, state = self.rnn(X, state)\n",
    "        return out, state"
   ]
  },
  {
   "cell_type": "code",
   "execution_count": 64,
   "metadata": {
    "ExecuteTime": {
     "end_time": "2019-12-01T16:33:49.351204Z",
     "start_time": "2019-12-01T16:33:49.190007Z"
    },
    "colab": {
     "base_uri": "https://localhost:8080/",
     "height": 34
    },
    "colab_type": "code",
    "id": "rkKPQ0jszbtf",
    "outputId": "299b9d6e-4e1b-400a-84ac-cf3ef3ad6628"
   },
   "outputs": [
    {
     "data": {
      "text/plain": [
       "(torch.Size([7, 4, 16]), 2, torch.Size([2, 4, 16]), torch.Size([2, 4, 16]))"
      ]
     },
     "execution_count": 64,
     "metadata": {
      "tags": []
     },
     "output_type": "execute_result"
    }
   ],
   "source": [
    "encoder = Encoder(vocab_size=10, embed_size=8,\n",
    "                         num_hiddens=16, num_layers=2)\n",
    "X = torch.zeros((4, 7)).type(torch.long)\n",
    "output, state = encoder(X)\n",
    "output.shape, len(state), state[0].shape, state[1].shape"
   ]
  },
  {
   "cell_type": "code",
   "execution_count": null,
   "metadata": {
    "ExecuteTime": {
     "end_time": "2019-12-01T16:33:49.361482Z",
     "start_time": "2019-12-01T16:33:49.354002Z"
    },
    "colab": {},
    "colab_type": "code",
    "id": "I-MZfSiZzbti"
   },
   "outputs": [],
   "source": [
    "class Decoder(nn.Module):\n",
    "    def __init__(self, vocab_size, embed_size, num_hiddens, num_layers,\n",
    "                 dropout=0, **kwargs):\n",
    "        super().__init__(**kwargs)\n",
    "        self.embedding = nn.Embedding(vocab_size, embed_size)\n",
    "        self.rnn = nn.LSTM(embed_size, num_hiddens, num_layers, dropout=dropout)\n",
    "        self.dense = nn.Linear(num_hiddens, vocab_size)\n",
    "        self.num_hiddens = num_hiddens\n",
    "        self.embed_size = embed_size\n",
    "        self.vocab_size = vocab_size\n",
    "\n",
    "    def init_state(self, enc_outputs, *args):\n",
    "        return enc_outputs[1]\n",
    "\n",
    "    def forward(self, X, state):\n",
    "        X = self.embedding(X).permute(1, 0, 2)\n",
    "        out, state = self.rnn(X, state)\n",
    "        out = self.dense(out.view(-1, self.num_hiddens)).view(out.shape[0], out.shape[1], self.vocab_size).permute(1, 0, 2)\n",
    "        return out, state"
   ]
  },
  {
   "cell_type": "code",
   "execution_count": 66,
   "metadata": {
    "ExecuteTime": {
     "end_time": "2019-12-01T16:33:49.373722Z",
     "start_time": "2019-12-01T16:33:49.363548Z"
    },
    "colab": {
     "base_uri": "https://localhost:8080/",
     "height": 34
    },
    "colab_type": "code",
    "id": "M2_ahdKzzbtl",
    "outputId": "58457895-da97-4f16-c9f0-cce18862afd8"
   },
   "outputs": [
    {
     "data": {
      "text/plain": [
       "(torch.Size([4, 7, 10]), 2, torch.Size([2, 4, 16]), torch.Size([2, 4, 16]))"
      ]
     },
     "execution_count": 66,
     "metadata": {
      "tags": []
     },
     "output_type": "execute_result"
    }
   ],
   "source": [
    "decoder = Decoder(vocab_size=10, embed_size=8,\n",
    "                         num_hiddens=16, num_layers=2)\n",
    "state = decoder.init_state(encoder(X))\n",
    "out, state = decoder(X, state)\n",
    "out.shape, len(state), state[0].shape, state[1].shape"
   ]
  },
  {
   "cell_type": "code",
   "execution_count": null,
   "metadata": {
    "ExecuteTime": {
     "end_time": "2019-12-01T16:33:49.380633Z",
     "start_time": "2019-12-01T16:33:49.376175Z"
    },
    "colab": {},
    "colab_type": "code",
    "id": "WK5My0bPzbto"
   },
   "outputs": [],
   "source": [
    "class EncoderDecoder(nn.Module):\n",
    "    def __init__(self, encoder, decoder, **kwargs):\n",
    "        super(EncoderDecoder, self).__init__(**kwargs)\n",
    "        self.encoder = encoder\n",
    "        self.decoder = decoder\n",
    "\n",
    "    def forward(self, enc_X, dec_X, *args):\n",
    "        enc_outputs = self.encoder(enc_X, *args)\n",
    "        dec_state = self.decoder.init_state(enc_outputs, *args)\n",
    "        return self.decoder(dec_X, dec_state)"
   ]
  },
  {
   "cell_type": "code",
   "execution_count": null,
   "metadata": {
    "ExecuteTime": {
     "end_time": "2019-12-01T16:33:49.391439Z",
     "start_time": "2019-12-01T16:33:49.383164Z"
    },
    "colab": {},
    "colab_type": "code",
    "id": "Z7MOkqsKzbtr"
   },
   "outputs": [],
   "source": [
    "def train(model, data_iter, lr, num_epochs, out_vocab_size):\n",
    "    trainer = torch.optim.Adam(model.parameters(), lr=lr)\n",
    "    loss = nn.CrossEntropyLoss(reduction='none')\n",
    "    tic = time.time()\n",
    "    for epoch in range(1, num_epochs+1):\n",
    "        l_sum, num_tokens_sum = 0.0, 0.0\n",
    "        for batch in data_iter:\n",
    "            trainer.zero_grad()\n",
    "            X, X_vlen, Y, Y_vlen, mask = [x for x in batch]\n",
    "            Y_input, Y_label, Y_vlen, mask = Y[:,:-1], Y[:,1:], Y_vlen-1, mask[:,1:]\n",
    "            Y_hat, _ = model(X, Y_input, X_vlen, Y_vlen)\n",
    "            \n",
    "            l = (loss(Y_hat.reshape(-1,out_vocab_size), Y_label.reshape(-1)) * mask.reshape(-1)).sum() \n",
    "            \n",
    "            l.backward()\n",
    "            num_tokens = Y_vlen.sum().item()\n",
    "            trainer.step()\n",
    "            l_sum += l.item()\n",
    "            num_tokens_sum += num_tokens\n",
    "\n",
    "        print(\"epoch %d, loss %.3f, time %.1f sec\" % (\n",
    "            epoch, l_sum/num_tokens_sum, time.time()-tic))\n",
    "        tic = time.time()"
   ]
  },
  {
   "cell_type": "code",
   "execution_count": 69,
   "metadata": {
    "ExecuteTime": {
     "end_time": "2019-12-01T16:35:45.995234Z",
     "start_time": "2019-12-01T16:33:49.393872Z"
    },
    "colab": {
     "base_uri": "https://localhost:8080/",
     "height": 1000
    },
    "colab_type": "code",
    "id": "bHSfLEWdzbtw",
    "outputId": "7c88d0be-8f09-41c2-f424-d7aa36a66cb5"
   },
   "outputs": [
    {
     "name": "stdout",
     "output_type": "stream",
     "text": [
      "epoch 1, loss 3.646, time 0.3 sec\n",
      "epoch 2, loss 2.716, time 0.3 sec\n",
      "epoch 3, loss 2.402, time 0.3 sec\n",
      "epoch 4, loss 2.235, time 0.3 sec\n",
      "epoch 5, loss 2.126, time 0.3 sec\n",
      "epoch 6, loss 2.037, time 0.3 sec\n",
      "epoch 7, loss 1.956, time 0.3 sec\n",
      "epoch 8, loss 1.880, time 0.3 sec\n",
      "epoch 9, loss 1.813, time 0.3 sec\n",
      "epoch 10, loss 1.763, time 0.4 sec\n",
      "epoch 11, loss 1.709, time 0.3 sec\n",
      "epoch 12, loss 1.654, time 0.3 sec\n",
      "epoch 13, loss 1.603, time 0.3 sec\n",
      "epoch 14, loss 1.557, time 0.3 sec\n",
      "epoch 15, loss 1.524, time 0.3 sec\n",
      "epoch 16, loss 1.481, time 0.3 sec\n",
      "epoch 17, loss 1.438, time 0.3 sec\n",
      "epoch 18, loss 1.410, time 0.3 sec\n",
      "epoch 19, loss 1.373, time 0.3 sec\n",
      "epoch 20, loss 1.335, time 0.4 sec\n",
      "epoch 21, loss 1.299, time 0.3 sec\n",
      "epoch 22, loss 1.263, time 0.3 sec\n",
      "epoch 23, loss 1.232, time 0.3 sec\n",
      "epoch 24, loss 1.196, time 0.3 sec\n",
      "epoch 25, loss 1.168, time 0.3 sec\n",
      "epoch 26, loss 1.140, time 0.3 sec\n",
      "epoch 27, loss 1.108, time 0.3 sec\n",
      "epoch 28, loss 1.080, time 0.3 sec\n",
      "epoch 29, loss 1.055, time 0.3 sec\n",
      "epoch 30, loss 1.029, time 0.3 sec\n",
      "epoch 31, loss 1.005, time 0.3 sec\n",
      "epoch 32, loss 0.981, time 0.3 sec\n",
      "epoch 33, loss 0.948, time 0.3 sec\n",
      "epoch 34, loss 0.932, time 0.4 sec\n",
      "epoch 35, loss 0.915, time 0.3 sec\n",
      "epoch 36, loss 0.894, time 0.3 sec\n",
      "epoch 37, loss 0.872, time 0.3 sec\n",
      "epoch 38, loss 0.851, time 0.3 sec\n",
      "epoch 39, loss 0.822, time 0.3 sec\n",
      "epoch 40, loss 0.803, time 0.3 sec\n",
      "epoch 41, loss 0.785, time 0.3 sec\n",
      "epoch 42, loss 0.770, time 0.3 sec\n",
      "epoch 43, loss 0.753, time 0.5 sec\n",
      "epoch 44, loss 0.737, time 0.4 sec\n",
      "epoch 45, loss 0.725, time 0.4 sec\n",
      "epoch 46, loss 0.711, time 0.4 sec\n",
      "epoch 47, loss 0.687, time 0.3 sec\n",
      "epoch 48, loss 0.674, time 0.3 sec\n",
      "epoch 49, loss 0.664, time 0.3 sec\n",
      "epoch 50, loss 0.648, time 0.3 sec\n",
      "epoch 51, loss 0.632, time 0.3 sec\n",
      "epoch 52, loss 0.619, time 0.3 sec\n",
      "epoch 53, loss 0.604, time 0.4 sec\n",
      "epoch 54, loss 0.591, time 0.4 sec\n",
      "epoch 55, loss 0.589, time 0.3 sec\n",
      "epoch 56, loss 0.581, time 0.3 sec\n",
      "epoch 57, loss 0.568, time 0.3 sec\n",
      "epoch 58, loss 0.554, time 0.4 sec\n",
      "epoch 59, loss 0.535, time 0.3 sec\n",
      "epoch 60, loss 0.524, time 0.3 sec\n",
      "epoch 61, loss 0.517, time 0.3 sec\n",
      "epoch 62, loss 0.508, time 0.3 sec\n",
      "epoch 63, loss 0.498, time 0.4 sec\n",
      "epoch 64, loss 0.491, time 0.3 sec\n",
      "epoch 65, loss 0.482, time 0.3 sec\n",
      "epoch 66, loss 0.472, time 0.3 sec\n",
      "epoch 67, loss 0.467, time 0.3 sec\n",
      "epoch 68, loss 0.464, time 0.4 sec\n",
      "epoch 69, loss 0.458, time 0.3 sec\n",
      "epoch 70, loss 0.448, time 0.3 sec\n",
      "epoch 71, loss 0.438, time 0.3 sec\n",
      "epoch 72, loss 0.433, time 0.3 sec\n",
      "epoch 73, loss 0.426, time 0.3 sec\n",
      "epoch 74, loss 0.419, time 0.3 sec\n",
      "epoch 75, loss 0.417, time 0.3 sec\n",
      "epoch 76, loss 0.419, time 0.3 sec\n",
      "epoch 77, loss 0.410, time 0.3 sec\n",
      "epoch 78, loss 0.400, time 0.3 sec\n",
      "epoch 79, loss 0.389, time 0.3 sec\n",
      "epoch 80, loss 0.385, time 0.4 sec\n",
      "epoch 81, loss 0.379, time 0.3 sec\n",
      "epoch 82, loss 0.380, time 0.3 sec\n",
      "epoch 83, loss 0.371, time 0.3 sec\n",
      "epoch 84, loss 0.366, time 0.3 sec\n",
      "epoch 85, loss 0.358, time 0.3 sec\n",
      "epoch 86, loss 0.354, time 0.3 sec\n",
      "epoch 87, loss 0.348, time 0.3 sec\n",
      "epoch 88, loss 0.342, time 0.3 sec\n",
      "epoch 89, loss 0.341, time 0.3 sec\n",
      "epoch 90, loss 0.339, time 0.3 sec\n",
      "epoch 91, loss 0.335, time 0.3 sec\n",
      "epoch 92, loss 0.335, time 0.3 sec\n",
      "epoch 93, loss 0.335, time 0.3 sec\n",
      "epoch 94, loss 0.340, time 0.3 sec\n",
      "epoch 95, loss 0.336, time 0.3 sec\n",
      "epoch 96, loss 0.338, time 0.3 sec\n",
      "epoch 97, loss 0.338, time 0.3 sec\n",
      "epoch 98, loss 0.335, time 0.3 sec\n",
      "epoch 99, loss 0.330, time 0.3 sec\n",
      "epoch 100, loss 0.328, time 0.3 sec\n",
      "epoch 101, loss 0.319, time 0.4 sec\n",
      "epoch 102, loss 0.317, time 0.3 sec\n",
      "epoch 103, loss 0.313, time 0.3 sec\n",
      "epoch 104, loss 0.311, time 0.3 sec\n",
      "epoch 105, loss 0.307, time 0.3 sec\n",
      "epoch 106, loss 0.303, time 0.3 sec\n",
      "epoch 107, loss 0.296, time 0.3 sec\n",
      "epoch 108, loss 0.294, time 0.3 sec\n",
      "epoch 109, loss 0.293, time 0.3 sec\n",
      "epoch 110, loss 0.294, time 0.3 sec\n",
      "epoch 111, loss 0.297, time 0.4 sec\n",
      "epoch 112, loss 0.297, time 0.4 sec\n",
      "epoch 113, loss 0.292, time 0.3 sec\n",
      "epoch 114, loss 0.291, time 0.3 sec\n",
      "epoch 115, loss 0.286, time 0.3 sec\n",
      "epoch 116, loss 0.285, time 0.3 sec\n",
      "epoch 117, loss 0.290, time 0.3 sec\n",
      "epoch 118, loss 0.288, time 0.3 sec\n",
      "epoch 119, loss 0.292, time 0.3 sec\n",
      "epoch 120, loss 0.286, time 0.3 sec\n",
      "epoch 121, loss 0.284, time 0.3 sec\n",
      "epoch 122, loss 0.306, time 0.3 sec\n",
      "epoch 123, loss 0.340, time 0.3 sec\n",
      "epoch 124, loss 0.329, time 0.3 sec\n",
      "epoch 125, loss 0.325, time 0.3 sec\n",
      "epoch 126, loss 0.314, time 0.3 sec\n",
      "epoch 127, loss 0.309, time 0.3 sec\n",
      "epoch 128, loss 0.301, time 0.3 sec\n",
      "epoch 129, loss 0.290, time 0.3 sec\n",
      "epoch 130, loss 0.281, time 0.3 sec\n",
      "epoch 131, loss 0.279, time 0.3 sec\n",
      "epoch 132, loss 0.275, time 0.3 sec\n",
      "epoch 133, loss 0.271, time 0.3 sec\n",
      "epoch 134, loss 0.270, time 0.4 sec\n",
      "epoch 135, loss 0.265, time 0.3 sec\n",
      "epoch 136, loss 0.262, time 0.4 sec\n",
      "epoch 137, loss 0.261, time 0.4 sec\n",
      "epoch 138, loss 0.260, time 0.5 sec\n",
      "epoch 139, loss 0.259, time 0.4 sec\n",
      "epoch 140, loss 0.257, time 0.3 sec\n",
      "epoch 141, loss 0.256, time 0.3 sec\n",
      "epoch 142, loss 0.256, time 0.3 sec\n",
      "epoch 143, loss 0.255, time 0.3 sec\n",
      "epoch 144, loss 0.254, time 0.3 sec\n",
      "epoch 145, loss 0.256, time 0.3 sec\n",
      "epoch 146, loss 0.251, time 0.4 sec\n",
      "epoch 147, loss 0.252, time 0.4 sec\n",
      "epoch 148, loss 0.251, time 0.5 sec\n",
      "epoch 149, loss 0.253, time 0.4 sec\n",
      "epoch 150, loss 0.252, time 0.3 sec\n",
      "epoch 151, loss 0.250, time 0.3 sec\n",
      "epoch 152, loss 0.251, time 0.4 sec\n",
      "epoch 153, loss 0.249, time 0.3 sec\n",
      "epoch 154, loss 0.251, time 0.3 sec\n",
      "epoch 155, loss 0.249, time 0.3 sec\n",
      "epoch 156, loss 0.248, time 0.3 sec\n",
      "epoch 157, loss 0.251, time 0.3 sec\n",
      "epoch 158, loss 0.252, time 0.4 sec\n",
      "epoch 159, loss 0.251, time 0.3 sec\n",
      "epoch 160, loss 0.264, time 0.3 sec\n",
      "epoch 161, loss 0.260, time 0.3 sec\n",
      "epoch 162, loss 0.261, time 0.3 sec\n",
      "epoch 163, loss 0.257, time 0.3 sec\n",
      "epoch 164, loss 0.253, time 0.3 sec\n",
      "epoch 165, loss 0.254, time 0.3 sec\n",
      "epoch 166, loss 0.254, time 0.3 sec\n",
      "epoch 167, loss 0.248, time 0.4 sec\n",
      "epoch 168, loss 0.245, time 0.3 sec\n",
      "epoch 169, loss 0.242, time 0.3 sec\n",
      "epoch 170, loss 0.242, time 0.3 sec\n",
      "epoch 171, loss 0.242, time 0.3 sec\n",
      "epoch 172, loss 0.241, time 0.3 sec\n",
      "epoch 173, loss 0.243, time 0.3 sec\n",
      "epoch 174, loss 0.240, time 0.3 sec\n",
      "epoch 175, loss 0.241, time 0.3 sec\n",
      "epoch 176, loss 0.243, time 0.3 sec\n",
      "epoch 177, loss 0.242, time 0.3 sec\n",
      "epoch 178, loss 0.242, time 0.3 sec\n",
      "epoch 179, loss 0.242, time 0.3 sec\n",
      "epoch 180, loss 0.241, time 0.3 sec\n",
      "epoch 181, loss 0.240, time 0.3 sec\n",
      "epoch 182, loss 0.237, time 0.3 sec\n",
      "epoch 183, loss 0.238, time 0.3 sec\n",
      "epoch 184, loss 0.238, time 0.3 sec\n",
      "epoch 185, loss 0.235, time 0.3 sec\n",
      "epoch 186, loss 0.235, time 0.3 sec\n",
      "epoch 187, loss 0.235, time 0.4 sec\n",
      "epoch 188, loss 0.236, time 0.3 sec\n",
      "epoch 189, loss 0.235, time 0.3 sec\n",
      "epoch 190, loss 0.235, time 0.3 sec\n",
      "epoch 191, loss 0.236, time 0.3 sec\n",
      "epoch 192, loss 0.235, time 0.3 sec\n",
      "epoch 193, loss 0.234, time 0.3 sec\n",
      "epoch 194, loss 0.234, time 0.3 sec\n",
      "epoch 195, loss 0.233, time 0.4 sec\n",
      "epoch 196, loss 0.233, time 0.3 sec\n",
      "epoch 197, loss 0.234, time 0.3 sec\n",
      "epoch 198, loss 0.233, time 0.4 sec\n",
      "epoch 199, loss 0.237, time 0.3 sec\n",
      "epoch 200, loss 0.236, time 0.3 sec\n",
      "epoch 201, loss 0.239, time 0.3 sec\n",
      "epoch 202, loss 0.239, time 0.3 sec\n",
      "epoch 203, loss 0.241, time 0.3 sec\n",
      "epoch 204, loss 0.243, time 0.3 sec\n",
      "epoch 205, loss 0.243, time 0.3 sec\n",
      "epoch 206, loss 0.249, time 0.3 sec\n",
      "epoch 207, loss 0.252, time 0.3 sec\n",
      "epoch 208, loss 0.255, time 0.3 sec\n",
      "epoch 209, loss 0.273, time 0.3 sec\n",
      "epoch 210, loss 0.320, time 0.3 sec\n",
      "epoch 211, loss 0.412, time 0.3 sec\n",
      "epoch 212, loss 0.416, time 0.3 sec\n",
      "epoch 213, loss 0.456, time 0.3 sec\n",
      "epoch 214, loss 0.402, time 0.3 sec\n",
      "epoch 215, loss 0.378, time 0.3 sec\n",
      "epoch 216, loss 0.332, time 0.3 sec\n",
      "epoch 217, loss 0.308, time 0.3 sec\n",
      "epoch 218, loss 0.287, time 0.3 sec\n",
      "epoch 219, loss 0.274, time 0.3 sec\n",
      "epoch 220, loss 0.266, time 0.3 sec\n",
      "epoch 221, loss 0.254, time 0.3 sec\n",
      "epoch 222, loss 0.249, time 0.3 sec\n",
      "epoch 223, loss 0.246, time 0.3 sec\n",
      "epoch 224, loss 0.243, time 0.4 sec\n",
      "epoch 225, loss 0.241, time 0.4 sec\n",
      "epoch 226, loss 0.241, time 0.3 sec\n",
      "epoch 227, loss 0.240, time 0.3 sec\n",
      "epoch 228, loss 0.238, time 0.3 sec\n",
      "epoch 229, loss 0.239, time 0.4 sec\n",
      "epoch 230, loss 0.235, time 0.3 sec\n",
      "epoch 231, loss 0.236, time 0.3 sec\n",
      "epoch 232, loss 0.234, time 0.3 sec\n",
      "epoch 233, loss 0.233, time 0.3 sec\n",
      "epoch 234, loss 0.234, time 0.5 sec\n",
      "epoch 235, loss 0.232, time 0.5 sec\n",
      "epoch 236, loss 0.232, time 0.4 sec\n",
      "epoch 237, loss 0.232, time 0.3 sec\n",
      "epoch 238, loss 0.232, time 0.3 sec\n",
      "epoch 239, loss 0.233, time 0.3 sec\n",
      "epoch 240, loss 0.232, time 0.3 sec\n",
      "epoch 241, loss 0.231, time 0.3 sec\n",
      "epoch 242, loss 0.230, time 0.4 sec\n",
      "epoch 243, loss 0.233, time 0.3 sec\n",
      "epoch 244, loss 0.232, time 0.3 sec\n",
      "epoch 245, loss 0.229, time 0.3 sec\n",
      "epoch 246, loss 0.229, time 0.3 sec\n",
      "epoch 247, loss 0.230, time 0.3 sec\n",
      "epoch 248, loss 0.227, time 0.3 sec\n",
      "epoch 249, loss 0.228, time 0.3 sec\n",
      "epoch 250, loss 0.227, time 0.4 sec\n",
      "epoch 251, loss 0.226, time 0.3 sec\n",
      "epoch 252, loss 0.226, time 0.3 sec\n",
      "epoch 253, loss 0.227, time 0.3 sec\n",
      "epoch 254, loss 0.226, time 0.3 sec\n",
      "epoch 255, loss 0.228, time 0.4 sec\n",
      "epoch 256, loss 0.226, time 0.3 sec\n",
      "epoch 257, loss 0.226, time 0.3 sec\n",
      "epoch 258, loss 0.227, time 0.3 sec\n",
      "epoch 259, loss 0.227, time 0.3 sec\n",
      "epoch 260, loss 0.225, time 0.3 sec\n",
      "epoch 261, loss 0.227, time 0.3 sec\n",
      "epoch 262, loss 0.229, time 0.4 sec\n",
      "epoch 263, loss 0.228, time 0.3 sec\n",
      "epoch 264, loss 0.226, time 0.3 sec\n",
      "epoch 265, loss 0.225, time 0.4 sec\n",
      "epoch 266, loss 0.225, time 0.3 sec\n",
      "epoch 267, loss 0.225, time 0.3 sec\n",
      "epoch 268, loss 0.225, time 0.4 sec\n",
      "epoch 269, loss 0.224, time 0.3 sec\n",
      "epoch 270, loss 0.228, time 0.3 sec\n",
      "epoch 271, loss 0.226, time 0.3 sec\n",
      "epoch 272, loss 0.226, time 0.3 sec\n",
      "epoch 273, loss 0.224, time 0.3 sec\n",
      "epoch 274, loss 0.226, time 0.3 sec\n",
      "epoch 275, loss 0.225, time 0.3 sec\n",
      "epoch 276, loss 0.227, time 0.3 sec\n",
      "epoch 277, loss 0.226, time 0.3 sec\n",
      "epoch 278, loss 0.225, time 0.3 sec\n",
      "epoch 279, loss 0.225, time 0.3 sec\n",
      "epoch 280, loss 0.224, time 0.3 sec\n",
      "epoch 281, loss 0.227, time 0.3 sec\n",
      "epoch 282, loss 0.224, time 0.3 sec\n",
      "epoch 283, loss 0.226, time 0.4 sec\n",
      "epoch 284, loss 0.225, time 0.4 sec\n",
      "epoch 285, loss 0.224, time 0.3 sec\n",
      "epoch 286, loss 0.223, time 0.3 sec\n",
      "epoch 287, loss 0.222, time 0.3 sec\n",
      "epoch 288, loss 0.223, time 0.3 sec\n",
      "epoch 289, loss 0.225, time 0.3 sec\n",
      "epoch 290, loss 0.223, time 0.3 sec\n",
      "epoch 291, loss 0.223, time 0.3 sec\n",
      "epoch 292, loss 0.222, time 0.3 sec\n",
      "epoch 293, loss 0.223, time 0.4 sec\n",
      "epoch 294, loss 0.222, time 0.3 sec\n",
      "epoch 295, loss 0.223, time 0.3 sec\n",
      "epoch 296, loss 0.223, time 0.3 sec\n",
      "epoch 297, loss 0.222, time 0.3 sec\n",
      "epoch 298, loss 0.223, time 0.3 sec\n",
      "epoch 299, loss 0.224, time 0.3 sec\n",
      "epoch 300, loss 0.222, time 0.3 sec\n"
     ]
    }
   ],
   "source": [
    "embed_size, num_hiddens, num_layers, dropout = 32, 32, 2, 0.0\n",
    "batch_size, max_len = 64, 10\n",
    "lr, num_epochs = 0.01, 300\n",
    "\n",
    "src_vocab, tgt_vocab, train_iter = load_data_nmt(batch_size, max_len)\n",
    "encoder = Encoder(\n",
    "    len(src_vocab), embed_size, num_hiddens, num_layers, dropout)\n",
    "decoder = Decoder(\n",
    "    len(tgt_vocab), embed_size, num_hiddens, num_layers, dropout)\n",
    "model = EncoderDecoder(encoder, decoder)\n",
    "train(model, train_iter, lr, num_epochs, len(tgt_vocab))"
   ]
  },
  {
   "cell_type": "code",
   "execution_count": null,
   "metadata": {
    "ExecuteTime": {
     "end_time": "2019-12-01T16:35:46.006785Z",
     "start_time": "2019-12-01T16:35:45.997361Z"
    },
    "colab": {},
    "colab_type": "code",
    "id": "kjWb3GFMzbt0"
   },
   "outputs": [],
   "source": [
    "def translate(model, src_sentence, src_vocab, tgt_vocab, max_len):\n",
    "    src_tokens = src_vocab[src_sentence.lower().split(' ')]\n",
    "    src_len = len(src_tokens)\n",
    "    if src_len < max_len:\n",
    "        src_tokens += [src_vocab.pad] * (max_len - src_len)\n",
    "    enc_X = torch.LongTensor(src_tokens)\n",
    "    enc_valid_length = torch.LongTensor([src_len])\n",
    "    enc_outputs = model.encoder(enc_X.unsqueeze(axis=0), enc_valid_length)\n",
    "    dec_state = model.decoder.init_state(enc_outputs, enc_valid_length)\n",
    "    dec_X = torch.LongTensor([tgt_vocab.bos]).unsqueeze(axis=0)\n",
    "    predict_tokens = []\n",
    "    for _ in range(max_len):\n",
    "        Y, dec_state = model.decoder(dec_X, dec_state)\n",
    "        dec_X = Y.argmax(axis=2)\n",
    "        py = dec_X.squeeze(axis=0).type(torch.long).item()\n",
    "        if py == tgt_vocab.eos:\n",
    "            break\n",
    "        predict_tokens.append(py)\n",
    "    return ' '.join(tgt_vocab.to_tokens(predict_tokens))"
   ]
  },
  {
   "cell_type": "code",
   "execution_count": 71,
   "metadata": {
    "ExecuteTime": {
     "end_time": "2019-12-01T16:35:46.034568Z",
     "start_time": "2019-12-01T16:35:46.009362Z"
    },
    "colab": {
     "base_uri": "https://localhost:8080/",
     "height": 85
    },
    "colab_type": "code",
    "id": "sLZ5WUSOzbt4",
    "outputId": "e5ae3abf-ca27-4700-d7a5-e7d1db7f5a1e"
   },
   "outputs": [
    {
     "name": "stdout",
     "output_type": "stream",
     "text": [
      "Go . => va !\n",
      "Wow ! => <unk> !\n",
      "I'm OK . => je vais bien .\n",
      "I won ! => j'ai gagné !\n"
     ]
    }
   ],
   "source": [
    "for sentence in ['Go .', 'Wow !', \"I'm OK .\", 'I won !']:\n",
    "    print(sentence + ' => ' + translate(\n",
    "        model, sentence, src_vocab, tgt_vocab, max_len))"
   ]
  },
  {
   "cell_type": "code",
   "execution_count": 72,
   "metadata": {
    "ExecuteTime": {
     "end_time": "2019-12-01T16:35:46.043303Z",
     "start_time": "2019-12-01T16:35:46.036953Z"
    },
    "colab": {
     "base_uri": "https://localhost:8080/",
     "height": 54
    },
    "colab_type": "code",
    "id": "0gnuTL5mzbt7",
    "outputId": "2b91806d-86bc-46cb-aedb-ab881c0a948a"
   },
   "outputs": [
    {
     "data": {
      "text/plain": [
       "'-> INPUT: GO . <pad> <pad> <pad>\\n    \\n    \\n-> TARGET:     <bos>  va    !  <eos> <pad> <pad>\\n-> MASK:         1    1     1    1     0     0\\n-> PREDICTION: <bos> HAHA HAHA <eos> <pad> <pad>\\n-> LOSS:         2    1.3   0.4  1     34    19\\n    \\n'"
      ]
     },
     "execution_count": 72,
     "metadata": {
      "tags": []
     },
     "output_type": "execute_result"
    }
   ],
   "source": [
    "'''-> INPUT: GO . <pad> <pad> <pad>\n",
    "    \n",
    "    \n",
    "-> TARGET:     <bos>  va    !  <eos> <pad> <pad>\n",
    "-> MASK:         1    1     1    1     0     0\n",
    "-> PREDICTION: <bos> HAHA HAHA <eos> <pad> <pad>\n",
    "-> LOSS:         2    1.3   0.4  1     34    19\n",
    "    \n",
    "'''\n"
   ]
  },
  {
   "cell_type": "code",
   "execution_count": null,
   "metadata": {
    "colab": {},
    "colab_type": "code",
    "id": "G_P0ETn1zbuA"
   },
   "outputs": [],
   "source": []
  },
  {
   "cell_type": "markdown",
   "metadata": {
    "colab_type": "text",
    "id": "IcGmDR-HzbuE"
   },
   "source": [
    "## Внимание"
   ]
  },
  {
   "cell_type": "markdown",
   "metadata": {
    "colab_type": "text",
    "id": "j_5tauUkzbuF"
   },
   "source": [
    "## Dot Product Attention\n",
    "\n",
    "$$\\alpha(\\mathbf Q, \\mathbf K) = \\langle \\mathbf Q, \\mathbf K^T \\rangle /\\sqrt{d}.$$"
   ]
  },
  {
   "cell_type": "code",
   "execution_count": null,
   "metadata": {
    "ExecuteTime": {
     "end_time": "2019-12-01T16:49:43.191899Z",
     "start_time": "2019-12-01T16:49:43.186031Z"
    },
    "colab": {},
    "colab_type": "code",
    "id": "MKPkDfQozbuG"
   },
   "outputs": [],
   "source": [
    "class DotProductAttention(nn.Module):  \n",
    "    def __init__(self, dropout, **kwargs):\n",
    "        super(DotProductAttention, self).__init__(**kwargs)\n",
    "        self.dropout = nn.Dropout(dropout)\n",
    "\n",
    "    # query: (batch_size, #queries, d)\n",
    "    # key: (batch_size, #kv_pairs, d)\n",
    "    # value: (batch_size, #kv_pairs, dim_v)\n",
    "    def forward(self, query, key, value):\n",
    "        d = query.shape[-1]\n",
    "        scores = torch.bmm(query, key.permute(0, 2, 1)) / math.sqrt(d)\n",
    "        attention_weights = self.dropout(torch.softmax(scores, dim=-1))\n",
    "        return torch.bmm(attention_weights, value)"
   ]
  },
  {
   "cell_type": "code",
   "execution_count": 74,
   "metadata": {
    "ExecuteTime": {
     "end_time": "2019-12-01T16:49:56.479613Z",
     "start_time": "2019-12-01T16:49:56.470968Z"
    },
    "colab": {
     "base_uri": "https://localhost:8080/",
     "height": 68
    },
    "colab_type": "code",
    "id": "LWG_xMpdzbuJ",
    "outputId": "434b675e-5f78-4674-b918-38fcb8869f22"
   },
   "outputs": [
    {
     "data": {
      "text/plain": [
       "tensor([[[20.8000, 21.6000, 22.4000, 23.2000]],\n",
       "\n",
       "        [[ 0.0000,  0.2000,  0.4000,  0.6000]]])"
      ]
     },
     "execution_count": 74,
     "metadata": {
      "tags": []
     },
     "output_type": "execute_result"
    }
   ],
   "source": [
    "atten = DotProductAttention(dropout=0.5)\n",
    "keys = torch.ones((2,10,2))\n",
    "values = torch.arange(40).reshape((1,10,4)).repeat(2,1,1).type(torch.float)\n",
    "atten(torch.ones((2,1,2)), keys, values)"
   ]
  },
  {
   "cell_type": "markdown",
   "metadata": {
    "ExecuteTime": {
     "end_time": "2019-12-01T16:50:22.325403Z",
     "start_time": "2019-12-01T16:50:22.318990Z"
    },
    "colab_type": "text",
    "id": "0xkWmTk9zbuM"
   },
   "source": [
    "## Multilayer Perception Attention\n",
    "\n",
    "$\\mathbf W_k\\in\\mathbb R^{h\\times d_k}$, $\\mathbf W_q\\in\\mathbb R^{h\\times d_q}$, and $\\mathbf v\\in\\mathbb R^{p}$:\n",
    "\n",
    "$$\\alpha(\\mathbf k, \\mathbf q) = \\mathbf v^T \\text{tanh}(\\mathbf W_k \\mathbf k + \\mathbf W_q\\mathbf q). $$\n",
    "\n"
   ]
  },
  {
   "cell_type": "code",
   "execution_count": null,
   "metadata": {
    "ExecuteTime": {
     "end_time": "2019-12-01T19:16:43.077500Z",
     "start_time": "2019-12-01T19:16:43.070765Z"
    },
    "colab": {},
    "colab_type": "code",
    "id": "WbXmlGpKzbuN"
   },
   "outputs": [],
   "source": [
    "class MLPAttention(nn.Module):  \n",
    "    def __init__(self, inputs, units, dropout, **kwargs):\n",
    "        super(MLPAttention, self).__init__(**kwargs)\n",
    "        self.W_k = nn.Linear(inputs, units, bias=False)\n",
    "        self.W_q = nn.Linear(inputs, units, bias=False)\n",
    "        self.v = nn.Linear(units, 1, bias=False)\n",
    "        self.dropout = nn.Dropout(dropout)\n",
    "\n",
    "    def forward(self, query, key, value):\n",
    "        query, key = torch.tanh(self.W_k(query)), torch.tanh(self.W_q(key))\n",
    "        # expand query to (batch_size, #querys, 1, units), and key to \n",
    "        # (batch_size, 1, #kv_pairs, units). Then plus them with broadcast.  \n",
    "        features = query.unsqueeze(2) + key.unsqueeze(1)\n",
    "        scores = self.v(features).squeeze(dim=-1)\n",
    "        attention_weights = self.dropout(scores.softmax(dim=-1))\n",
    "        return torch.bmm(attention_weights, value)"
   ]
  },
  {
   "cell_type": "code",
   "execution_count": 76,
   "metadata": {
    "ExecuteTime": {
     "end_time": "2019-12-01T19:16:43.517661Z",
     "start_time": "2019-12-01T19:16:43.508460Z"
    },
    "colab": {
     "base_uri": "https://localhost:8080/",
     "height": 68
    },
    "colab_type": "code",
    "id": "HG79i67zzbuQ",
    "outputId": "cb355e81-8d3c-470e-823b-03c3bebc80bb"
   },
   "outputs": [
    {
     "data": {
      "text/plain": [
       "tensor([[[20.0000, 21.1111, 22.2222, 23.3333]],\n",
       "\n",
       "        [[19.1111, 20.1111, 21.1111, 22.1111]]], grad_fn=<BmmBackward>)"
      ]
     },
     "execution_count": 76,
     "metadata": {
      "tags": []
     },
     "output_type": "execute_result"
    }
   ],
   "source": [
    "atten = MLPAttention(2, units=8, dropout=0.1)\n",
    "atten(torch.ones((2,1,2)), keys, values)"
   ]
  },
  {
   "cell_type": "code",
   "execution_count": null,
   "metadata": {
    "ExecuteTime": {
     "end_time": "2019-12-01T19:17:55.737695Z",
     "start_time": "2019-12-01T19:17:55.726847Z"
    },
    "colab": {},
    "colab_type": "code",
    "id": "biCF4r8FzbuU"
   },
   "outputs": [],
   "source": [
    "class AttentionDecoder(nn.Module):\n",
    "    def __init__(self, vocab_size, embed_size, num_hiddens, num_layers,\n",
    "                 dropout=0, **kwargs):\n",
    "        super().__init__(**kwargs)\n",
    "        self.attention_cell = MLPAttention(num_hiddens, num_hiddens, dropout)\n",
    "        self.embedding = nn.Embedding(vocab_size, embed_size)\n",
    "        self.rnn = nn.LSTM(embed_size + num_hiddens, num_hiddens, num_layers, dropout=dropout)\n",
    "        self.dense = nn.Linear(num_hiddens, vocab_size)\n",
    "        self.num_hiddens = num_hiddens\n",
    "        self.embed_size = embed_size\n",
    "        self.vocab_size = vocab_size\n",
    "\n",
    "    def init_state(self, enc_outputs, *args):\n",
    "        return (enc_outputs[0].permute(1,0,2), enc_outputs[1])\n",
    "\n",
    "    def forward(self, X, state):\n",
    "        enc_outputs, hidden_state = state\n",
    "        X = self.embedding(X).permute(1, 0, 2)\n",
    "        outputs = []\n",
    "        for x in X:\n",
    "            # query shape: (batch_size, 1, hidden_size)\n",
    "            query = hidden_state[0][-1].unsqueeze(1)\n",
    "            # context has same shape as query\n",
    "            context = self.attention_cell(query, enc_outputs, enc_outputs)\n",
    "            # concatenate on the feature dimension\n",
    "            x = torch.cat([context, x.unsqueeze(1)], dim=-1)\n",
    "            # reshape x to (1, batch_size, embed_size+hidden_size)\n",
    "            out, hidden_state = self.rnn(x.permute(1, 0, 2), hidden_state)\n",
    "            outputs.append(out)\n",
    "        outputs = self.dense(torch.cat(outputs, dim=0))\n",
    "        return outputs.permute(1, 0, 2), [enc_outputs, hidden_state]\n",
    "            \n",
    "            \n",
    "       # out, state = self.rnn(X, state)\n",
    "       # out = self.dense(out.view(-1, self.num_hiddens)).view(out.shape[0], out.shape[1], self.vocab_size).permute(1, 0, 2)\n",
    "       # return out, state"
   ]
  },
  {
   "cell_type": "code",
   "execution_count": 78,
   "metadata": {
    "ExecuteTime": {
     "end_time": "2019-12-01T19:17:56.228606Z",
     "start_time": "2019-12-01T19:17:56.202520Z"
    },
    "colab": {
     "base_uri": "https://localhost:8080/",
     "height": 34
    },
    "colab_type": "code",
    "id": "GNql5O3kzbuX",
    "outputId": "75c80b0a-90b4-4559-f460-3c458b448273"
   },
   "outputs": [
    {
     "data": {
      "text/plain": [
       "(torch.Size([4, 7, 10]), 2, torch.Size([4, 7, 16]), 2, torch.Size([2, 4, 16]))"
      ]
     },
     "execution_count": 78,
     "metadata": {
      "tags": []
     },
     "output_type": "execute_result"
    }
   ],
   "source": [
    "encoder = Encoder(vocab_size=10, embed_size=8,\n",
    "                             num_hiddens=16, num_layers=2)\n",
    "decoder = AttentionDecoder(vocab_size=10, embed_size=8, \n",
    "                                  num_hiddens=16, num_layers=2)\n",
    "X = torch.zeros((4, 7), dtype=torch.long)\n",
    "state = decoder.init_state(encoder(X))\n",
    "out, state = decoder(X, state)\n",
    "out.shape, len(state), state[0].shape, len(state[1]), state[1][0].shape"
   ]
  },
  {
   "cell_type": "code",
   "execution_count": 79,
   "metadata": {
    "ExecuteTime": {
     "end_time": "2019-12-01T19:21:38.863638Z",
     "start_time": "2019-12-01T19:18:40.387133Z"
    },
    "colab": {
     "base_uri": "https://localhost:8080/",
     "height": 1000
    },
    "colab_type": "code",
    "id": "ZTgumhq8zbuc",
    "outputId": "06b76f29-ec34-4e24-9028-11b4f182accd"
   },
   "outputs": [
    {
     "name": "stdout",
     "output_type": "stream",
     "text": [
      "epoch 1, loss 3.610, time 0.5 sec\n",
      "epoch 2, loss 2.757, time 0.6 sec\n",
      "epoch 3, loss 2.543, time 0.4 sec\n",
      "epoch 4, loss 2.373, time 0.5 sec\n",
      "epoch 5, loss 2.199, time 0.5 sec\n",
      "epoch 6, loss 2.046, time 0.4 sec\n",
      "epoch 7, loss 1.950, time 0.4 sec\n",
      "epoch 8, loss 1.882, time 0.5 sec\n",
      "epoch 9, loss 1.811, time 0.5 sec\n",
      "epoch 10, loss 1.756, time 0.5 sec\n",
      "epoch 11, loss 1.703, time 0.4 sec\n",
      "epoch 12, loss 1.656, time 0.5 sec\n",
      "epoch 13, loss 1.618, time 0.5 sec\n",
      "epoch 14, loss 1.575, time 0.4 sec\n",
      "epoch 15, loss 1.537, time 0.5 sec\n",
      "epoch 16, loss 1.494, time 0.5 sec\n",
      "epoch 17, loss 1.439, time 0.5 sec\n",
      "epoch 18, loss 1.402, time 0.5 sec\n",
      "epoch 19, loss 1.364, time 0.7 sec\n",
      "epoch 20, loss 1.330, time 0.6 sec\n",
      "epoch 21, loss 1.293, time 0.5 sec\n",
      "epoch 22, loss 1.255, time 0.5 sec\n",
      "epoch 23, loss 1.209, time 0.5 sec\n",
      "epoch 24, loss 1.180, time 0.6 sec\n",
      "epoch 25, loss 1.143, time 0.7 sec\n",
      "epoch 26, loss 1.106, time 0.6 sec\n",
      "epoch 27, loss 1.074, time 0.5 sec\n",
      "epoch 28, loss 1.053, time 0.5 sec\n",
      "epoch 29, loss 1.025, time 0.5 sec\n",
      "epoch 30, loss 0.999, time 0.4 sec\n",
      "epoch 31, loss 0.968, time 0.6 sec\n",
      "epoch 32, loss 0.949, time 0.6 sec\n",
      "epoch 33, loss 0.916, time 0.5 sec\n",
      "epoch 34, loss 0.886, time 0.4 sec\n",
      "epoch 35, loss 0.861, time 0.5 sec\n",
      "epoch 36, loss 0.840, time 0.4 sec\n",
      "epoch 37, loss 0.825, time 0.5 sec\n",
      "epoch 38, loss 0.806, time 0.4 sec\n",
      "epoch 39, loss 0.784, time 0.4 sec\n",
      "epoch 40, loss 0.763, time 0.5 sec\n",
      "epoch 41, loss 0.743, time 0.5 sec\n",
      "epoch 42, loss 0.725, time 0.5 sec\n",
      "epoch 43, loss 0.712, time 0.4 sec\n",
      "epoch 44, loss 0.695, time 0.5 sec\n",
      "epoch 45, loss 0.678, time 0.5 sec\n",
      "epoch 46, loss 0.665, time 0.4 sec\n",
      "epoch 47, loss 0.649, time 0.5 sec\n",
      "epoch 48, loss 0.633, time 0.4 sec\n",
      "epoch 49, loss 0.615, time 0.5 sec\n",
      "epoch 50, loss 0.605, time 0.5 sec\n",
      "epoch 51, loss 0.589, time 0.5 sec\n",
      "epoch 52, loss 0.587, time 0.4 sec\n",
      "epoch 53, loss 0.585, time 0.4 sec\n",
      "epoch 54, loss 0.563, time 0.4 sec\n",
      "epoch 55, loss 0.562, time 0.5 sec\n",
      "epoch 56, loss 0.542, time 0.5 sec\n",
      "epoch 57, loss 0.527, time 0.5 sec\n",
      "epoch 58, loss 0.517, time 0.5 sec\n",
      "epoch 59, loss 0.508, time 0.4 sec\n",
      "epoch 60, loss 0.496, time 0.5 sec\n",
      "epoch 61, loss 0.492, time 0.5 sec\n",
      "epoch 62, loss 0.485, time 0.4 sec\n",
      "epoch 63, loss 0.477, time 0.4 sec\n",
      "epoch 64, loss 0.477, time 0.5 sec\n",
      "epoch 65, loss 0.458, time 0.4 sec\n",
      "epoch 66, loss 0.452, time 0.5 sec\n",
      "epoch 67, loss 0.443, time 0.5 sec\n",
      "epoch 68, loss 0.435, time 0.4 sec\n",
      "epoch 69, loss 0.432, time 0.5 sec\n",
      "epoch 70, loss 0.421, time 0.5 sec\n",
      "epoch 71, loss 0.428, time 0.5 sec\n",
      "epoch 72, loss 0.418, time 0.6 sec\n",
      "epoch 73, loss 0.406, time 0.5 sec\n",
      "epoch 74, loss 0.403, time 0.5 sec\n",
      "epoch 75, loss 0.395, time 0.5 sec\n",
      "epoch 76, loss 0.391, time 0.5 sec\n",
      "epoch 77, loss 0.398, time 0.6 sec\n",
      "epoch 78, loss 0.391, time 0.5 sec\n",
      "epoch 79, loss 0.381, time 0.5 sec\n",
      "epoch 80, loss 0.377, time 0.7 sec\n",
      "epoch 81, loss 0.370, time 0.7 sec\n",
      "epoch 82, loss 0.378, time 0.5 sec\n",
      "epoch 83, loss 0.362, time 0.5 sec\n",
      "epoch 84, loss 0.359, time 0.5 sec\n",
      "epoch 85, loss 0.351, time 0.6 sec\n",
      "epoch 86, loss 0.346, time 0.5 sec\n",
      "epoch 87, loss 0.340, time 0.5 sec\n",
      "epoch 88, loss 0.334, time 0.5 sec\n",
      "epoch 89, loss 0.334, time 0.5 sec\n",
      "epoch 90, loss 0.334, time 0.4 sec\n",
      "epoch 91, loss 0.329, time 0.5 sec\n",
      "epoch 92, loss 0.325, time 0.5 sec\n",
      "epoch 93, loss 0.322, time 0.5 sec\n",
      "epoch 94, loss 0.326, time 0.5 sec\n",
      "epoch 95, loss 0.323, time 0.4 sec\n",
      "epoch 96, loss 0.316, time 0.4 sec\n",
      "epoch 97, loss 0.315, time 0.4 sec\n",
      "epoch 98, loss 0.315, time 0.4 sec\n",
      "epoch 99, loss 0.313, time 0.5 sec\n",
      "epoch 100, loss 0.310, time 0.5 sec\n",
      "epoch 101, loss 0.307, time 0.5 sec\n",
      "epoch 102, loss 0.308, time 0.5 sec\n",
      "epoch 103, loss 0.306, time 0.4 sec\n",
      "epoch 104, loss 0.303, time 0.5 sec\n",
      "epoch 105, loss 0.304, time 0.5 sec\n",
      "epoch 106, loss 0.299, time 0.4 sec\n",
      "epoch 107, loss 0.297, time 0.5 sec\n",
      "epoch 108, loss 0.298, time 0.4 sec\n",
      "epoch 109, loss 0.295, time 0.5 sec\n",
      "epoch 110, loss 0.287, time 0.5 sec\n",
      "epoch 111, loss 0.291, time 0.5 sec\n",
      "epoch 112, loss 0.292, time 0.4 sec\n",
      "epoch 113, loss 0.290, time 0.5 sec\n",
      "epoch 114, loss 0.287, time 0.5 sec\n",
      "epoch 115, loss 0.285, time 0.4 sec\n",
      "epoch 116, loss 0.281, time 0.5 sec\n",
      "epoch 117, loss 0.283, time 0.5 sec\n",
      "epoch 118, loss 0.280, time 0.5 sec\n",
      "epoch 119, loss 0.283, time 0.4 sec\n",
      "epoch 120, loss 0.280, time 0.5 sec\n",
      "epoch 121, loss 0.280, time 0.5 sec\n",
      "epoch 122, loss 0.277, time 0.5 sec\n",
      "epoch 123, loss 0.272, time 0.4 sec\n",
      "epoch 124, loss 0.274, time 0.4 sec\n",
      "epoch 125, loss 0.267, time 0.5 sec\n",
      "epoch 126, loss 0.265, time 0.4 sec\n",
      "epoch 127, loss 0.266, time 0.5 sec\n",
      "epoch 128, loss 0.269, time 0.5 sec\n",
      "epoch 129, loss 0.264, time 0.5 sec\n",
      "epoch 130, loss 0.265, time 0.5 sec\n",
      "epoch 131, loss 0.263, time 0.5 sec\n",
      "epoch 132, loss 0.263, time 0.5 sec\n",
      "epoch 133, loss 0.261, time 0.5 sec\n",
      "epoch 134, loss 0.259, time 0.5 sec\n",
      "epoch 135, loss 0.260, time 0.5 sec\n",
      "epoch 136, loss 0.261, time 0.5 sec\n",
      "epoch 137, loss 0.261, time 0.5 sec\n",
      "epoch 138, loss 0.258, time 0.5 sec\n",
      "epoch 139, loss 0.263, time 0.5 sec\n",
      "epoch 140, loss 0.304, time 0.5 sec\n",
      "epoch 141, loss 0.367, time 0.6 sec\n",
      "epoch 142, loss 0.397, time 0.6 sec\n",
      "epoch 143, loss 0.445, time 0.4 sec\n",
      "epoch 144, loss 0.420, time 0.4 sec\n",
      "epoch 145, loss 0.383, time 0.5 sec\n",
      "epoch 146, loss 0.350, time 0.5 sec\n",
      "epoch 147, loss 0.333, time 0.6 sec\n",
      "epoch 148, loss 0.306, time 0.7 sec\n",
      "epoch 149, loss 0.289, time 0.5 sec\n",
      "epoch 150, loss 0.284, time 0.5 sec\n",
      "epoch 151, loss 0.275, time 0.5 sec\n",
      "epoch 152, loss 0.266, time 0.5 sec\n",
      "epoch 153, loss 0.265, time 0.4 sec\n",
      "epoch 154, loss 0.261, time 0.5 sec\n",
      "epoch 155, loss 0.256, time 0.5 sec\n",
      "epoch 156, loss 0.256, time 0.5 sec\n",
      "epoch 157, loss 0.256, time 0.4 sec\n",
      "epoch 158, loss 0.256, time 0.4 sec\n",
      "epoch 159, loss 0.252, time 0.5 sec\n",
      "epoch 160, loss 0.254, time 0.5 sec\n",
      "epoch 161, loss 0.248, time 0.5 sec\n",
      "epoch 162, loss 0.251, time 0.5 sec\n",
      "epoch 163, loss 0.252, time 0.5 sec\n",
      "epoch 164, loss 0.248, time 0.4 sec\n",
      "epoch 165, loss 0.247, time 0.5 sec\n",
      "epoch 166, loss 0.248, time 0.5 sec\n",
      "epoch 167, loss 0.244, time 0.5 sec\n",
      "epoch 168, loss 0.245, time 0.4 sec\n",
      "epoch 169, loss 0.247, time 0.5 sec\n",
      "epoch 170, loss 0.246, time 0.5 sec\n",
      "epoch 171, loss 0.244, time 0.5 sec\n",
      "epoch 172, loss 0.244, time 0.5 sec\n",
      "epoch 173, loss 0.246, time 0.5 sec\n",
      "epoch 174, loss 0.247, time 0.5 sec\n",
      "epoch 175, loss 0.244, time 0.5 sec\n",
      "epoch 176, loss 0.243, time 0.5 sec\n",
      "epoch 177, loss 0.248, time 0.5 sec\n",
      "epoch 178, loss 0.249, time 0.5 sec\n",
      "epoch 179, loss 0.247, time 0.6 sec\n",
      "epoch 180, loss 0.249, time 0.5 sec\n",
      "epoch 181, loss 0.248, time 0.4 sec\n",
      "epoch 182, loss 0.247, time 0.4 sec\n",
      "epoch 183, loss 0.241, time 0.5 sec\n",
      "epoch 184, loss 0.243, time 0.5 sec\n",
      "epoch 185, loss 0.242, time 0.4 sec\n",
      "epoch 186, loss 0.245, time 0.5 sec\n",
      "epoch 187, loss 0.242, time 0.5 sec\n",
      "epoch 188, loss 0.241, time 0.4 sec\n",
      "epoch 189, loss 0.244, time 0.5 sec\n",
      "epoch 190, loss 0.243, time 0.4 sec\n",
      "epoch 191, loss 0.240, time 0.5 sec\n",
      "epoch 192, loss 0.240, time 0.5 sec\n",
      "epoch 193, loss 0.237, time 0.5 sec\n",
      "epoch 194, loss 0.236, time 0.4 sec\n",
      "epoch 195, loss 0.236, time 0.5 sec\n",
      "epoch 196, loss 0.237, time 0.5 sec\n",
      "epoch 197, loss 0.238, time 0.5 sec\n",
      "epoch 198, loss 0.234, time 0.5 sec\n",
      "epoch 199, loss 0.234, time 0.6 sec\n",
      "epoch 200, loss 0.235, time 0.5 sec\n",
      "epoch 201, loss 0.236, time 0.4 sec\n",
      "epoch 202, loss 0.236, time 0.6 sec\n",
      "epoch 203, loss 0.234, time 0.7 sec\n",
      "epoch 204, loss 0.232, time 0.5 sec\n",
      "epoch 205, loss 0.232, time 0.5 sec\n",
      "epoch 206, loss 0.234, time 0.5 sec\n",
      "epoch 207, loss 0.233, time 0.5 sec\n",
      "epoch 208, loss 0.231, time 0.5 sec\n",
      "epoch 209, loss 0.233, time 0.4 sec\n",
      "epoch 210, loss 0.230, time 0.4 sec\n",
      "epoch 211, loss 0.233, time 0.4 sec\n",
      "epoch 212, loss 0.233, time 0.5 sec\n",
      "epoch 213, loss 0.230, time 0.4 sec\n",
      "epoch 214, loss 0.231, time 0.5 sec\n",
      "epoch 215, loss 0.231, time 0.4 sec\n",
      "epoch 216, loss 0.230, time 0.6 sec\n",
      "epoch 217, loss 0.229, time 0.5 sec\n",
      "epoch 218, loss 0.229, time 0.5 sec\n",
      "epoch 219, loss 0.232, time 0.4 sec\n",
      "epoch 220, loss 0.232, time 0.4 sec\n",
      "epoch 221, loss 0.232, time 0.5 sec\n",
      "epoch 222, loss 0.230, time 0.5 sec\n",
      "epoch 223, loss 0.231, time 0.5 sec\n",
      "epoch 224, loss 0.230, time 0.5 sec\n",
      "epoch 225, loss 0.229, time 0.5 sec\n",
      "epoch 226, loss 0.229, time 0.4 sec\n",
      "epoch 227, loss 0.230, time 0.4 sec\n",
      "epoch 228, loss 0.229, time 0.5 sec\n",
      "epoch 229, loss 0.230, time 0.5 sec\n",
      "epoch 230, loss 0.227, time 0.4 sec\n",
      "epoch 231, loss 0.229, time 0.4 sec\n",
      "epoch 232, loss 0.230, time 0.5 sec\n",
      "epoch 233, loss 0.230, time 0.5 sec\n",
      "epoch 234, loss 0.229, time 0.5 sec\n",
      "epoch 235, loss 0.230, time 0.4 sec\n",
      "epoch 236, loss 0.226, time 0.4 sec\n",
      "epoch 237, loss 0.228, time 0.5 sec\n",
      "epoch 238, loss 0.228, time 0.4 sec\n",
      "epoch 239, loss 0.227, time 0.5 sec\n",
      "epoch 240, loss 0.226, time 0.6 sec\n",
      "epoch 241, loss 0.226, time 0.5 sec\n",
      "epoch 242, loss 0.227, time 0.4 sec\n",
      "epoch 243, loss 0.227, time 0.5 sec\n",
      "epoch 244, loss 0.227, time 0.5 sec\n",
      "epoch 245, loss 0.227, time 0.5 sec\n",
      "epoch 246, loss 0.227, time 0.5 sec\n",
      "epoch 247, loss 0.226, time 0.4 sec\n",
      "epoch 248, loss 0.227, time 0.5 sec\n",
      "epoch 249, loss 0.225, time 0.4 sec\n",
      "epoch 250, loss 0.227, time 0.4 sec\n",
      "epoch 251, loss 0.228, time 0.5 sec\n",
      "epoch 252, loss 0.228, time 0.4 sec\n",
      "epoch 253, loss 0.227, time 0.4 sec\n",
      "epoch 254, loss 0.226, time 0.4 sec\n",
      "epoch 255, loss 0.226, time 0.5 sec\n",
      "epoch 256, loss 0.226, time 0.4 sec\n",
      "epoch 257, loss 0.225, time 0.5 sec\n",
      "epoch 258, loss 0.225, time 0.4 sec\n",
      "epoch 259, loss 0.225, time 0.4 sec\n",
      "epoch 260, loss 0.227, time 0.5 sec\n",
      "epoch 261, loss 0.231, time 0.5 sec\n",
      "epoch 262, loss 0.229, time 0.5 sec\n",
      "epoch 263, loss 0.226, time 0.5 sec\n",
      "epoch 264, loss 0.227, time 0.7 sec\n",
      "epoch 265, loss 0.224, time 0.6 sec\n",
      "epoch 266, loss 0.226, time 0.5 sec\n",
      "epoch 267, loss 0.226, time 0.5 sec\n",
      "epoch 268, loss 0.224, time 0.5 sec\n",
      "epoch 269, loss 0.225, time 0.5 sec\n",
      "epoch 270, loss 0.224, time 0.6 sec\n",
      "epoch 271, loss 0.224, time 0.7 sec\n",
      "epoch 272, loss 0.224, time 0.5 sec\n",
      "epoch 273, loss 0.222, time 0.5 sec\n",
      "epoch 274, loss 0.223, time 0.5 sec\n",
      "epoch 275, loss 0.224, time 0.5 sec\n",
      "epoch 276, loss 0.225, time 0.5 sec\n",
      "epoch 277, loss 0.224, time 0.5 sec\n",
      "epoch 278, loss 0.223, time 0.5 sec\n",
      "epoch 279, loss 0.224, time 0.5 sec\n",
      "epoch 280, loss 0.224, time 0.5 sec\n",
      "epoch 281, loss 0.224, time 0.5 sec\n",
      "epoch 282, loss 0.225, time 0.5 sec\n",
      "epoch 283, loss 0.225, time 0.5 sec\n",
      "epoch 284, loss 0.225, time 0.5 sec\n",
      "epoch 285, loss 0.225, time 0.4 sec\n",
      "epoch 286, loss 0.226, time 0.4 sec\n",
      "epoch 287, loss 0.230, time 0.5 sec\n",
      "epoch 288, loss 0.231, time 0.4 sec\n",
      "epoch 289, loss 0.262, time 0.4 sec\n",
      "epoch 290, loss 0.338, time 0.4 sec\n",
      "epoch 291, loss 0.496, time 0.4 sec\n",
      "epoch 292, loss 0.657, time 0.4 sec\n",
      "epoch 293, loss 0.606, time 0.5 sec\n",
      "epoch 294, loss 0.533, time 0.5 sec\n",
      "epoch 295, loss 0.454, time 0.5 sec\n",
      "epoch 296, loss 0.399, time 0.5 sec\n",
      "epoch 297, loss 0.365, time 0.5 sec\n",
      "epoch 298, loss 0.326, time 0.5 sec\n",
      "epoch 299, loss 0.291, time 0.4 sec\n",
      "epoch 300, loss 0.282, time 0.5 sec\n"
     ]
    }
   ],
   "source": [
    "embed_size, num_hiddens, num_layers, dropout = 32, 32, 2, 0.0\n",
    "batch_size, max_len = 64, 10\n",
    "lr, num_epochs = 0.01, 300\n",
    "\n",
    "src_vocab, tgt_vocab, train_iter = load_data_nmt(batch_size, max_len)\n",
    "encoder = Encoder(\n",
    "    len(src_vocab), embed_size, num_hiddens, num_layers, dropout)\n",
    "decoder = AttentionDecoder(\n",
    "    len(tgt_vocab), embed_size, num_hiddens, num_layers, dropout)\n",
    "model = EncoderDecoder(encoder, decoder)\n",
    "train(model, train_iter, lr, num_epochs, len(tgt_vocab))"
   ]
  },
  {
   "cell_type": "code",
   "execution_count": 80,
   "metadata": {
    "ExecuteTime": {
     "end_time": "2019-12-01T19:21:48.643911Z",
     "start_time": "2019-12-01T19:21:48.615104Z"
    },
    "colab": {
     "base_uri": "https://localhost:8080/",
     "height": 85
    },
    "colab_type": "code",
    "id": "7pFa28Bczbuf",
    "outputId": "36b73481-3284-45f2-acba-b46475a739c7"
   },
   "outputs": [
    {
     "name": "stdout",
     "output_type": "stream",
     "text": [
      "Go . => va !\n",
      "Wow ! => <unk> !\n",
      "I'm OK . => je vais bien .\n",
      "I won ! => je l'ai emporté !\n"
     ]
    }
   ],
   "source": [
    "for sentence in ['Go .', 'Wow !', \"I'm OK .\", 'I won !']:\n",
    "    print(sentence + ' => ' + translate(\n",
    "        model, sentence, src_vocab, tgt_vocab, max_len))"
   ]
  },
  {
   "cell_type": "code",
   "execution_count": null,
   "metadata": {
    "colab": {},
    "colab_type": "code",
    "id": "G5yu_i8Dzbuh"
   },
   "outputs": [],
   "source": []
  },
  {
   "cell_type": "markdown",
   "metadata": {
    "colab_type": "text",
    "id": "MhbQL9Ah0p2b"
   },
   "source": [
    "# Hometask"
   ]
  },
  {
   "cell_type": "code",
   "execution_count": null,
   "metadata": {
    "colab": {},
    "colab_type": "code",
    "id": "-XEX8xjkwDJv"
   },
   "outputs": [],
   "source": [
    "import os\n",
    "os.environ['KAGGLE_USERNAME'] = \"\" # username from the json file\n",
    "os.environ['KAGGLE_KEY'] = \"\" # key from the json file"
   ]
  },
  {
   "cell_type": "code",
   "execution_count": 82,
   "metadata": {
    "colab": {
     "base_uri": "https://localhost:8080/",
     "height": 34
    },
    "colab_type": "code",
    "id": "FPGHy9TT0tQ7",
    "outputId": "b2ede637-d53a-48c9-d948-0d1954c06f25"
   },
   "outputs": [
    {
     "name": "stdout",
     "output_type": "stream",
     "text": [
      "fatal: destination path 'Dialogue-Datasets' already exists and is not an empty directory.\n"
     ]
    }
   ],
   "source": [
    "!git clone https://github.com/Phylliida/Dialogue-Datasets.git"
   ]
  },
  {
   "cell_type": "code",
   "execution_count": 86,
   "metadata": {
    "colab": {
     "base_uri": "https://localhost:8080/",
     "height": 425
    },
    "colab_type": "code",
    "id": "r6spAxWl1_iK",
    "outputId": "d754528e-f485-498a-94b1-e8990d9da9af"
   },
   "outputs": [
    {
     "name": "stdout",
     "output_type": "stream",
     "text": [
      "what's up dadyo when did you get back on Twitter? Haha\n",
      "like 2 weeks ago and it's going as terribly as I remember, but Deg is still hilarious so it's ok\n",
      "literally never about that account, love it.\n",
      "\n",
      "\n",
      "\n",
      "Answer me this fellow Apple peoples: how many times in the past year have you used the escape key?\n",
      "about 50 times today. Terminal vim user.\n",
      "Seems the major complaints so far are from VIM users like yourself. I’m wondering how force quit is gonna work.\n",
      "cmd+opt+esc is good but still available via menubar\n",
      "\n",
      "\n",
      "\n",
      "There was a greasy kid at highline who was basically miles dipped in a bucket of ranch\n",
      "I'm disgusted\n",
      "he flashed us then we scored so he sadly put his shirt back on 😂#fuckhighline\n",
      "what a piece of shit\n",
      "\n",
      "\n",
      "\n",
      "I killed a mouse today!  😼\n",
      "Yay, you great hunter. I’ve killed lots of lizards and bugs but never a mouse.\n",
      "I don't know what the mouse was thinking??  Why come into a house with 2 ferocious felines??\n",
      "and then that mouse had the nerve to try to eat our kibble!  Let this be a lesson fur all t\n"
     ]
    }
   ],
   "source": [
    "with open('/content/Dialogue-Datasets/TwitterConvCorpus.txt') as f:\n",
    "    raw_text = f.read()\n",
    "print(raw_text[0:1000])"
   ]
  },
  {
   "cell_type": "code",
   "execution_count": 95,
   "metadata": {
    "colab": {
     "base_uri": "https://localhost:8080/",
     "height": 1000
    },
    "colab_type": "code",
    "id": "-RfF1UZD399-",
    "outputId": "36f6b31e-4aa9-4c18-ef5c-7456de821d8a"
   },
   "outputs": [
    {
     "data": {
      "text/plain": [
       "([[\"what's\",\n",
       "   'up',\n",
       "   'dadyo',\n",
       "   'when',\n",
       "   'did',\n",
       "   'you',\n",
       "   'get',\n",
       "   'back',\n",
       "   'on',\n",
       "   'Twitter?',\n",
       "   'Haha'],\n",
       "  ['Answer',\n",
       "   'me',\n",
       "   'this',\n",
       "   'fellow',\n",
       "   'Apple',\n",
       "   'peoples:',\n",
       "   'how',\n",
       "   'many',\n",
       "   'times',\n",
       "   'in',\n",
       "   'the',\n",
       "   'past',\n",
       "   'year',\n",
       "   'have',\n",
       "   'you',\n",
       "   'used',\n",
       "   'the',\n",
       "   'escape',\n",
       "   'key?'],\n",
       "  ['There',\n",
       "   'was',\n",
       "   'a',\n",
       "   'greasy',\n",
       "   'kid',\n",
       "   'at',\n",
       "   'highline',\n",
       "   'who',\n",
       "   'was',\n",
       "   'basically',\n",
       "   'miles',\n",
       "   'dipped',\n",
       "   'in',\n",
       "   'a',\n",
       "   'bucket',\n",
       "   'of',\n",
       "   'ranch']],\n",
       " [['like',\n",
       "   '2',\n",
       "   'weeks',\n",
       "   'ago',\n",
       "   'and',\n",
       "   \"it's\",\n",
       "   'going',\n",
       "   'as',\n",
       "   'terribly',\n",
       "   'as',\n",
       "   'I',\n",
       "   'remember,',\n",
       "   'but',\n",
       "   'Deg',\n",
       "   'is',\n",
       "   'still',\n",
       "   'hilarious',\n",
       "   'so',\n",
       "   \"it's\",\n",
       "   'ok'],\n",
       "  ['about', '50', 'times', 'today.', 'Terminal', 'vim', 'user.'],\n",
       "  [\"I'm\", 'disgusted']],\n",
       " 1900,\n",
       " 1900)"
      ]
     },
     "execution_count": 95,
     "metadata": {
      "tags": []
     },
     "output_type": "execute_result"
    }
   ],
   "source": [
    "num_examples = 5000\n",
    "source, target = [], []\n",
    "for i, line in enumerate(raw_text.split('\\n\\n\\n')):\n",
    "    if i > num_examples:\n",
    "        break\n",
    "    if len(line.strip().split('\\n')) <= 1:\n",
    "      continue\n",
    "    #print(line, line.strip().split('\\n'))\n",
    "    source.append(line.strip().split('\\n')[0].split(' '))\n",
    "    target.append(line.strip().split('\\n')[1].split(' '))\n",
    "\n",
    "source[0:3], target[0:3], len(source), len(target)"
   ]
  },
  {
   "cell_type": "code",
   "execution_count": 96,
   "metadata": {
    "colab": {
     "base_uri": "https://localhost:8080/",
     "height": 1000
    },
    "colab_type": "code",
    "id": "aQiBi6e25mzu",
    "outputId": "b15ca147-1ac5-4871-b548-721ecca51f4e"
   },
   "outputs": [
    {
     "name": "stdout",
     "output_type": "stream",
     "text": [
      "X = tensor([[  4,  43,  64,  76,   3,  18, 326,   8,   3,  30,   3,  19, 878,   3,\n",
      "           0,   0,   0,   0,   0,   0,   0,   0,   0,   0,   0,   0,   0,   0,\n",
      "           0,   0,   0,   0,   0,   0,   0,   0,   0,   0,   0,   0,   0,   0,\n",
      "           0,   0,   0,   0,   0,   0,   0,   0,   0,   0,   0,   0,   0,   0,\n",
      "           0,   0,   0,   0,   0,   0,   0,   0,   0,   0,   0,   0,   0,   0,\n",
      "           0,   0,   0,   0,   0,   0,   0,   0,   0,   0,   0,   0,   0,   0,\n",
      "           0,   0,   0,   0,   0,   0,   0,   0,   0,   0,   0,   0,   0,   0,\n",
      "           0,   0,   0,   0,   0,   0,   0,   0,   0,   0,   0,   0,   0,   0,\n",
      "           0,   0,   0,   0,   0,   0,   0,   0,   0,   0,   0,   0,   0,   0,\n",
      "           0,   0,   0,   0,   0,   0,   0,   0,   0,   0,   0,   0,   0,   0,\n",
      "           0,   0,   0,   0,   0,   0,   0,   0,   0,   0,   0,   0,   0,   0,\n",
      "           0,   0,   0,   0,   0,   0,   0,   0,   0,   0,   0,   0,   0,   0,\n",
      "           0,   0,   0,   0,   0,   0,   0,   0,   0,   0,   0,   0,   0,   0,\n",
      "           0,   0,   0,   0,   0,   0,   0,   0,   0,   0,   0,   0,   0,   0,\n",
      "           0,   0,   0,   0],\n",
      "        [ 12,  69, 129,  36,   3, 148,   0,   0,   0,   0,   0,   0,   0,   0,\n",
      "           0,   0,   0,   0,   0,   0,   0,   0,   0,   0,   0,   0,   0,   0,\n",
      "           0,   0,   0,   0,   0,   0,   0,   0,   0,   0,   0,   0,   0,   0,\n",
      "           0,   0,   0,   0,   0,   0,   0,   0,   0,   0,   0,   0,   0,   0,\n",
      "           0,   0,   0,   0,   0,   0,   0,   0,   0,   0,   0,   0,   0,   0,\n",
      "           0,   0,   0,   0,   0,   0,   0,   0,   0,   0,   0,   0,   0,   0,\n",
      "           0,   0,   0,   0,   0,   0,   0,   0,   0,   0,   0,   0,   0,   0,\n",
      "           0,   0,   0,   0,   0,   0,   0,   0,   0,   0,   0,   0,   0,   0,\n",
      "           0,   0,   0,   0,   0,   0,   0,   0,   0,   0,   0,   0,   0,   0,\n",
      "           0,   0,   0,   0,   0,   0,   0,   0,   0,   0,   0,   0,   0,   0,\n",
      "           0,   0,   0,   0,   0,   0,   0,   0,   0,   0,   0,   0,   0,   0,\n",
      "           0,   0,   0,   0,   0,   0,   0,   0,   0,   0,   0,   0,   0,   0,\n",
      "           0,   0,   0,   0,   0,   0,   0,   0,   0,   0,   0,   0,   0,   0,\n",
      "           0,   0,   0,   0,   0,   0,   0,   0,   0,   0,   0,   0,   0,   0,\n",
      "           0,   0,   0,   0]], dtype=torch.int32) \n",
      "Valid lengths for X = tensor([14,  6]) \n",
      "Y = tensor([[  1, 217,  16,   3,   3,   2,   0,   0,   0,   0,   0,   0,   0,   0,\n",
      "           0,   0,   0,   0,   0,   0,   0,   0,   0,   0,   0,   0,   0,   0,\n",
      "           0,   0,   0,   0,   0,   0,   0,   0,   0,   0,   0,   0,   0,   0,\n",
      "           0,   0,   0,   0,   0,   0,   0,   0,   0,   0,   0,   0,   0,   0,\n",
      "           0,   0,   0,   0,   0,   0,   0,   0,   0,   0,   0,   0,   0,   0,\n",
      "           0,   0,   0,   0,   0,   0,   0,   0,   0,   0,   0,   0,   0,   0,\n",
      "           0,   0,   0,   0,   0,   0,   0,   0,   0,   0,   0,   0,   0,   0,\n",
      "           0,   0,   0,   0,   0,   0,   0,   0,   0,   0,   0,   0,   0,   0,\n",
      "           0,   0,   0,   0,   0,   0,   0,   0,   0,   0,   0,   0,   0,   0,\n",
      "           0,   0,   0,   0,   0,   0,   0,   0,   0,   0,   0,   0,   0,   0,\n",
      "           0,   0,   0,   0,   0,   0,   0,   0,   0,   0,   0,   0,   0,   0,\n",
      "           0,   0,   0,   0,   0,   0,   0,   0,   0,   0,   0,   0,   0,   0,\n",
      "           0,   0,   0,   0,   0,   0,   0,   0,   0,   0,   0,   0,   0,   0,\n",
      "           0,   0,   0,   0,   0,   0,   0,   0,   0,   0,   0,   0,   0,   0,\n",
      "           0,   0,   0,   0],\n",
      "        [  1,  83,   2,   0,   0,   0,   0,   0,   0,   0,   0,   0,   0,   0,\n",
      "           0,   0,   0,   0,   0,   0,   0,   0,   0,   0,   0,   0,   0,   0,\n",
      "           0,   0,   0,   0,   0,   0,   0,   0,   0,   0,   0,   0,   0,   0,\n",
      "           0,   0,   0,   0,   0,   0,   0,   0,   0,   0,   0,   0,   0,   0,\n",
      "           0,   0,   0,   0,   0,   0,   0,   0,   0,   0,   0,   0,   0,   0,\n",
      "           0,   0,   0,   0,   0,   0,   0,   0,   0,   0,   0,   0,   0,   0,\n",
      "           0,   0,   0,   0,   0,   0,   0,   0,   0,   0,   0,   0,   0,   0,\n",
      "           0,   0,   0,   0,   0,   0,   0,   0,   0,   0,   0,   0,   0,   0,\n",
      "           0,   0,   0,   0,   0,   0,   0,   0,   0,   0,   0,   0,   0,   0,\n",
      "           0,   0,   0,   0,   0,   0,   0,   0,   0,   0,   0,   0,   0,   0,\n",
      "           0,   0,   0,   0,   0,   0,   0,   0,   0,   0,   0,   0,   0,   0,\n",
      "           0,   0,   0,   0,   0,   0,   0,   0,   0,   0,   0,   0,   0,   0,\n",
      "           0,   0,   0,   0,   0,   0,   0,   0,   0,   0,   0,   0,   0,   0,\n",
      "           0,   0,   0,   0,   0,   0,   0,   0,   0,   0,   0,   0,   0,   0,\n",
      "           0,   0,   0,   0]], dtype=torch.int32) \n",
      "Valid lengths for Y = tensor([6, 3]) \n",
      "Y mask = tensor([[1., 1., 1., 1., 1., 1., 0., 0., 0., 0., 0., 0., 0., 0., 0., 0., 0., 0.,\n",
      "         0., 0., 0., 0., 0., 0., 0., 0., 0., 0., 0., 0., 0., 0., 0., 0., 0., 0.,\n",
      "         0., 0., 0., 0., 0., 0., 0., 0., 0., 0., 0., 0., 0., 0., 0., 0., 0., 0.,\n",
      "         0., 0., 0., 0., 0., 0., 0., 0., 0., 0., 0., 0., 0., 0., 0., 0., 0., 0.,\n",
      "         0., 0., 0., 0., 0., 0., 0., 0., 0., 0., 0., 0., 0., 0., 0., 0., 0., 0.,\n",
      "         0., 0., 0., 0., 0., 0., 0., 0., 0., 0., 0., 0., 0., 0., 0., 0., 0., 0.,\n",
      "         0., 0., 0., 0., 0., 0., 0., 0., 0., 0., 0., 0., 0., 0., 0., 0., 0., 0.,\n",
      "         0., 0., 0., 0., 0., 0., 0., 0., 0., 0., 0., 0., 0., 0., 0., 0., 0., 0.,\n",
      "         0., 0., 0., 0., 0., 0., 0., 0., 0., 0., 0., 0., 0., 0., 0., 0., 0., 0.,\n",
      "         0., 0., 0., 0., 0., 0., 0., 0., 0., 0., 0., 0., 0., 0., 0., 0., 0., 0.,\n",
      "         0., 0., 0., 0., 0., 0., 0., 0., 0., 0., 0., 0., 0., 0., 0., 0., 0., 0.,\n",
      "         0., 0.],\n",
      "        [1., 1., 1., 0., 0., 0., 0., 0., 0., 0., 0., 0., 0., 0., 0., 0., 0., 0.,\n",
      "         0., 0., 0., 0., 0., 0., 0., 0., 0., 0., 0., 0., 0., 0., 0., 0., 0., 0.,\n",
      "         0., 0., 0., 0., 0., 0., 0., 0., 0., 0., 0., 0., 0., 0., 0., 0., 0., 0.,\n",
      "         0., 0., 0., 0., 0., 0., 0., 0., 0., 0., 0., 0., 0., 0., 0., 0., 0., 0.,\n",
      "         0., 0., 0., 0., 0., 0., 0., 0., 0., 0., 0., 0., 0., 0., 0., 0., 0., 0.,\n",
      "         0., 0., 0., 0., 0., 0., 0., 0., 0., 0., 0., 0., 0., 0., 0., 0., 0., 0.,\n",
      "         0., 0., 0., 0., 0., 0., 0., 0., 0., 0., 0., 0., 0., 0., 0., 0., 0., 0.,\n",
      "         0., 0., 0., 0., 0., 0., 0., 0., 0., 0., 0., 0., 0., 0., 0., 0., 0., 0.,\n",
      "         0., 0., 0., 0., 0., 0., 0., 0., 0., 0., 0., 0., 0., 0., 0., 0., 0., 0.,\n",
      "         0., 0., 0., 0., 0., 0., 0., 0., 0., 0., 0., 0., 0., 0., 0., 0., 0., 0.,\n",
      "         0., 0., 0., 0., 0., 0., 0., 0., 0., 0., 0., 0., 0., 0., 0., 0., 0., 0.,\n",
      "         0., 0.]])\n"
     ]
    }
   ],
   "source": [
    "src_vocab, tgt_vocab, train_iter = load_data_nmt(batch_size=2, max_len=200)\n",
    "for X, X_valid_len, Y, Y_valid_len, y_mask in train_iter:\n",
    "    print('X =', X.type(torch.int), '\\nValid lengths for X =', X_valid_len,\n",
    "          '\\nY =', Y.type(torch.int), '\\nValid lengths for Y =', Y_valid_len,\n",
    "          '\\nY mask =', y_mask)\n",
    "    break"
   ]
  },
  {
   "cell_type": "code",
   "execution_count": 97,
   "metadata": {
    "colab": {
     "base_uri": "https://localhost:8080/",
     "height": 1000
    },
    "colab_type": "code",
    "id": "6LbDGLDV0n6v",
    "outputId": "bc9f0798-dc38-42d7-cd69-fa6b0069ae83"
   },
   "outputs": [
    {
     "name": "stdout",
     "output_type": "stream",
     "text": [
      "epoch 1, loss 5.223, time 2.7 sec\n",
      "epoch 2, loss 4.727, time 2.4 sec\n",
      "epoch 3, loss 4.699, time 2.5 sec\n",
      "epoch 4, loss 4.669, time 2.3 sec\n",
      "epoch 5, loss 4.653, time 2.4 sec\n",
      "epoch 6, loss 4.635, time 2.4 sec\n",
      "epoch 7, loss 4.614, time 2.4 sec\n",
      "epoch 8, loss 4.594, time 2.5 sec\n",
      "epoch 9, loss 4.576, time 2.3 sec\n",
      "epoch 10, loss 4.544, time 2.3 sec\n",
      "epoch 11, loss 4.498, time 2.3 sec\n",
      "epoch 12, loss 4.445, time 2.4 sec\n",
      "epoch 13, loss 4.399, time 2.6 sec\n",
      "epoch 14, loss 4.357, time 2.7 sec\n",
      "epoch 15, loss 4.322, time 2.4 sec\n",
      "epoch 16, loss 4.279, time 2.4 sec\n",
      "epoch 17, loss 4.244, time 2.4 sec\n",
      "epoch 18, loss 4.208, time 2.3 sec\n",
      "epoch 19, loss 4.176, time 2.3 sec\n",
      "epoch 20, loss 4.137, time 2.5 sec\n",
      "epoch 21, loss 4.099, time 2.5 sec\n",
      "epoch 22, loss 4.060, time 2.5 sec\n",
      "epoch 23, loss 4.018, time 2.3 sec\n",
      "epoch 24, loss 3.979, time 2.3 sec\n",
      "epoch 25, loss 3.936, time 2.7 sec\n",
      "epoch 26, loss 3.901, time 2.6 sec\n",
      "epoch 27, loss 3.858, time 2.3 sec\n",
      "epoch 28, loss 3.817, time 2.4 sec\n",
      "epoch 29, loss 3.770, time 2.4 sec\n",
      "epoch 30, loss 3.728, time 2.3 sec\n",
      "epoch 31, loss 3.690, time 2.4 sec\n",
      "epoch 32, loss 3.649, time 2.4 sec\n",
      "epoch 33, loss 3.614, time 2.4 sec\n",
      "epoch 34, loss 3.580, time 2.4 sec\n",
      "epoch 35, loss 3.539, time 2.5 sec\n",
      "epoch 36, loss 3.502, time 2.4 sec\n",
      "epoch 37, loss 3.464, time 2.5 sec\n",
      "epoch 38, loss 3.432, time 2.6 sec\n",
      "epoch 39, loss 3.395, time 2.8 sec\n",
      "epoch 40, loss 3.362, time 2.5 sec\n",
      "epoch 41, loss 3.337, time 2.4 sec\n",
      "epoch 42, loss 3.305, time 2.4 sec\n",
      "epoch 43, loss 3.271, time 2.4 sec\n",
      "epoch 44, loss 3.240, time 2.4 sec\n",
      "epoch 45, loss 3.212, time 2.4 sec\n",
      "epoch 46, loss 3.181, time 2.4 sec\n",
      "epoch 47, loss 3.159, time 2.3 sec\n",
      "epoch 48, loss 3.134, time 2.4 sec\n",
      "epoch 49, loss 3.104, time 2.4 sec\n",
      "epoch 50, loss 3.075, time 2.6 sec\n",
      "epoch 51, loss 3.052, time 2.5 sec\n",
      "epoch 52, loss 3.023, time 2.4 sec\n",
      "epoch 53, loss 3.004, time 2.4 sec\n",
      "epoch 54, loss 2.977, time 2.4 sec\n",
      "epoch 55, loss 2.962, time 2.4 sec\n",
      "epoch 56, loss 2.939, time 2.6 sec\n",
      "epoch 57, loss 2.918, time 2.6 sec\n",
      "epoch 58, loss 2.889, time 2.5 sec\n",
      "epoch 59, loss 2.877, time 2.5 sec\n",
      "epoch 60, loss 2.854, time 2.5 sec\n",
      "epoch 61, loss 2.829, time 2.5 sec\n",
      "epoch 62, loss 2.813, time 2.7 sec\n",
      "epoch 63, loss 2.793, time 2.8 sec\n",
      "epoch 64, loss 2.785, time 2.4 sec\n",
      "epoch 65, loss 2.762, time 2.4 sec\n",
      "epoch 66, loss 2.749, time 2.5 sec\n",
      "epoch 67, loss 2.734, time 2.3 sec\n",
      "epoch 68, loss 2.722, time 2.3 sec\n",
      "epoch 69, loss 2.699, time 2.5 sec\n",
      "epoch 70, loss 2.683, time 2.4 sec\n",
      "epoch 71, loss 2.671, time 2.4 sec\n",
      "epoch 72, loss 2.656, time 2.4 sec\n",
      "epoch 73, loss 2.637, time 2.5 sec\n",
      "epoch 74, loss 2.618, time 2.7 sec\n",
      "epoch 75, loss 2.606, time 2.3 sec\n",
      "epoch 76, loss 2.589, time 2.3 sec\n",
      "epoch 77, loss 2.581, time 2.4 sec\n",
      "epoch 78, loss 2.566, time 2.4 sec\n",
      "epoch 79, loss 2.547, time 2.4 sec\n",
      "epoch 80, loss 2.535, time 2.4 sec\n",
      "epoch 81, loss 2.534, time 2.6 sec\n",
      "epoch 82, loss 2.534, time 2.5 sec\n",
      "epoch 83, loss 2.518, time 2.4 sec\n",
      "epoch 84, loss 2.496, time 2.3 sec\n",
      "epoch 85, loss 2.479, time 2.4 sec\n",
      "epoch 86, loss 2.471, time 2.6 sec\n",
      "epoch 87, loss 2.471, time 2.5 sec\n",
      "epoch 88, loss 2.458, time 2.8 sec\n",
      "epoch 89, loss 2.445, time 2.6 sec\n",
      "epoch 90, loss 2.430, time 2.4 sec\n",
      "epoch 91, loss 2.426, time 2.3 sec\n",
      "epoch 92, loss 2.417, time 2.4 sec\n",
      "epoch 93, loss 2.402, time 2.3 sec\n",
      "epoch 94, loss 2.387, time 2.5 sec\n",
      "epoch 95, loss 2.402, time 2.4 sec\n",
      "epoch 96, loss 2.381, time 2.4 sec\n",
      "epoch 97, loss 2.364, time 2.4 sec\n",
      "epoch 98, loss 2.358, time 2.5 sec\n",
      "epoch 99, loss 2.355, time 2.7 sec\n",
      "epoch 100, loss 2.343, time 2.4 sec\n",
      "epoch 101, loss 2.327, time 2.4 sec\n",
      "epoch 102, loss 2.324, time 2.4 sec\n",
      "epoch 103, loss 2.323, time 2.3 sec\n",
      "epoch 104, loss 2.298, time 2.3 sec\n",
      "epoch 105, loss 2.287, time 2.4 sec\n",
      "epoch 106, loss 2.291, time 2.4 sec\n",
      "epoch 107, loss 2.276, time 2.3 sec\n",
      "epoch 108, loss 2.285, time 2.3 sec\n",
      "epoch 109, loss 2.266, time 2.2 sec\n",
      "epoch 110, loss 2.255, time 2.5 sec\n",
      "epoch 111, loss 2.251, time 2.7 sec\n",
      "epoch 112, loss 2.239, time 2.7 sec\n",
      "epoch 113, loss 2.227, time 2.5 sec\n",
      "epoch 114, loss 2.222, time 2.4 sec\n",
      "epoch 115, loss 2.222, time 2.4 sec\n",
      "epoch 116, loss 2.221, time 2.3 sec\n",
      "epoch 117, loss 2.211, time 2.4 sec\n",
      "epoch 118, loss 2.198, time 2.3 sec\n",
      "epoch 119, loss 2.186, time 2.5 sec\n",
      "epoch 120, loss 2.188, time 2.4 sec\n",
      "epoch 121, loss 2.179, time 2.3 sec\n",
      "epoch 122, loss 2.178, time 2.3 sec\n",
      "epoch 123, loss 2.171, time 2.5 sec\n",
      "epoch 124, loss 2.161, time 2.7 sec\n",
      "epoch 125, loss 2.167, time 2.5 sec\n",
      "epoch 126, loss 2.149, time 2.5 sec\n",
      "epoch 127, loss 2.132, time 2.5 sec\n",
      "epoch 128, loss 2.129, time 2.4 sec\n",
      "epoch 129, loss 2.139, time 2.4 sec\n",
      "epoch 130, loss 2.141, time 2.3 sec\n",
      "epoch 131, loss 2.126, time 2.4 sec\n",
      "epoch 132, loss 2.122, time 2.4 sec\n",
      "epoch 133, loss 2.118, time 2.4 sec\n",
      "epoch 134, loss 2.102, time 2.3 sec\n",
      "epoch 135, loss 2.092, time 2.5 sec\n",
      "epoch 136, loss 2.104, time 2.7 sec\n",
      "epoch 137, loss 2.085, time 2.8 sec\n",
      "epoch 138, loss 2.083, time 2.6 sec\n",
      "epoch 139, loss 2.079, time 2.3 sec\n",
      "epoch 140, loss 2.070, time 2.4 sec\n",
      "epoch 141, loss 2.084, time 2.4 sec\n",
      "epoch 142, loss 2.077, time 2.3 sec\n",
      "epoch 143, loss 2.064, time 2.4 sec\n",
      "epoch 144, loss 2.049, time 2.3 sec\n",
      "epoch 145, loss 2.054, time 2.4 sec\n",
      "epoch 146, loss 2.044, time 2.3 sec\n",
      "epoch 147, loss 2.052, time 2.5 sec\n",
      "epoch 148, loss 2.029, time 2.6 sec\n",
      "epoch 149, loss 2.017, time 2.4 sec\n",
      "epoch 150, loss 2.025, time 2.4 sec\n",
      "epoch 151, loss 2.015, time 2.4 sec\n",
      "epoch 152, loss 2.019, time 2.3 sec\n",
      "epoch 153, loss 2.016, time 2.3 sec\n",
      "epoch 154, loss 2.006, time 2.4 sec\n",
      "epoch 155, loss 1.997, time 2.5 sec\n",
      "epoch 156, loss 1.997, time 2.4 sec\n",
      "epoch 157, loss 1.982, time 2.4 sec\n",
      "epoch 158, loss 1.995, time 2.3 sec\n",
      "epoch 159, loss 1.986, time 2.3 sec\n",
      "epoch 160, loss 1.995, time 2.4 sec\n",
      "epoch 161, loss 1.988, time 2.5 sec\n",
      "epoch 162, loss 1.985, time 2.7 sec\n",
      "epoch 163, loss 1.976, time 2.6 sec\n",
      "epoch 164, loss 1.959, time 2.3 sec\n",
      "epoch 165, loss 1.949, time 2.4 sec\n",
      "epoch 166, loss 1.948, time 2.3 sec\n",
      "epoch 167, loss 1.957, time 2.3 sec\n",
      "epoch 168, loss 1.965, time 2.6 sec\n",
      "epoch 169, loss 1.960, time 2.4 sec\n",
      "epoch 170, loss 1.952, time 2.3 sec\n",
      "epoch 171, loss 1.932, time 2.3 sec\n",
      "epoch 172, loss 1.939, time 2.5 sec\n",
      "epoch 173, loss 1.940, time 2.6 sec\n",
      "epoch 174, loss 1.928, time 2.4 sec\n",
      "epoch 175, loss 1.906, time 2.4 sec\n",
      "epoch 176, loss 1.928, time 2.4 sec\n",
      "epoch 177, loss 1.903, time 2.4 sec\n",
      "epoch 178, loss 1.903, time 2.3 sec\n",
      "epoch 179, loss 1.924, time 2.4 sec\n",
      "epoch 180, loss 1.905, time 2.4 sec\n",
      "epoch 181, loss 1.911, time 2.3 sec\n",
      "epoch 182, loss 1.917, time 2.4 sec\n",
      "epoch 183, loss 1.915, time 2.3 sec\n",
      "epoch 184, loss 1.901, time 2.5 sec\n",
      "epoch 185, loss 1.901, time 2.8 sec\n",
      "epoch 186, loss 1.900, time 2.7 sec\n",
      "epoch 187, loss 1.900, time 2.8 sec\n",
      "epoch 188, loss 1.881, time 2.5 sec\n",
      "epoch 189, loss 1.871, time 2.5 sec\n",
      "epoch 190, loss 1.862, time 2.4 sec\n",
      "epoch 191, loss 1.856, time 2.3 sec\n",
      "epoch 192, loss 1.879, time 2.4 sec\n",
      "epoch 193, loss 1.866, time 2.4 sec\n",
      "epoch 194, loss 1.868, time 2.4 sec\n",
      "epoch 195, loss 1.846, time 2.4 sec\n",
      "epoch 196, loss 1.852, time 2.5 sec\n",
      "epoch 197, loss 1.851, time 2.7 sec\n",
      "epoch 198, loss 1.857, time 2.4 sec\n",
      "epoch 199, loss 1.846, time 2.6 sec\n",
      "epoch 200, loss 1.859, time 2.6 sec\n",
      "epoch 201, loss 1.850, time 2.4 sec\n",
      "epoch 202, loss 1.841, time 2.4 sec\n",
      "epoch 203, loss 1.837, time 2.5 sec\n",
      "epoch 204, loss 1.827, time 2.4 sec\n",
      "epoch 205, loss 1.836, time 2.3 sec\n",
      "epoch 206, loss 1.829, time 2.5 sec\n",
      "epoch 207, loss 1.828, time 2.3 sec\n",
      "epoch 208, loss 1.835, time 2.4 sec\n",
      "epoch 209, loss 1.827, time 2.6 sec\n",
      "epoch 210, loss 1.825, time 2.5 sec\n",
      "epoch 211, loss 1.816, time 2.6 sec\n",
      "epoch 212, loss 1.818, time 2.5 sec\n",
      "epoch 213, loss 1.806, time 2.4 sec\n",
      "epoch 214, loss 1.799, time 2.3 sec\n",
      "epoch 215, loss 1.795, time 2.4 sec\n",
      "epoch 216, loss 1.778, time 2.5 sec\n",
      "epoch 217, loss 1.800, time 2.5 sec\n",
      "epoch 218, loss 1.804, time 2.4 sec\n",
      "epoch 219, loss 1.806, time 2.3 sec\n",
      "epoch 220, loss 1.811, time 2.4 sec\n",
      "epoch 221, loss 1.807, time 2.5 sec\n",
      "epoch 222, loss 1.802, time 2.7 sec\n",
      "epoch 223, loss 1.791, time 2.2 sec\n",
      "epoch 224, loss 1.784, time 2.5 sec\n",
      "epoch 225, loss 1.804, time 2.3 sec\n",
      "epoch 226, loss 1.804, time 2.5 sec\n",
      "epoch 227, loss 1.781, time 2.5 sec\n",
      "epoch 228, loss 1.792, time 2.4 sec\n",
      "epoch 229, loss 1.783, time 2.5 sec\n",
      "epoch 230, loss 1.776, time 2.3 sec\n",
      "epoch 231, loss 1.778, time 2.4 sec\n",
      "epoch 232, loss 1.761, time 2.4 sec\n",
      "epoch 233, loss 1.768, time 2.5 sec\n",
      "epoch 234, loss 1.768, time 2.7 sec\n",
      "epoch 235, loss 1.759, time 2.7 sec\n",
      "epoch 236, loss 1.765, time 2.5 sec\n",
      "epoch 237, loss 1.756, time 2.4 sec\n",
      "epoch 238, loss 1.761, time 2.4 sec\n",
      "epoch 239, loss 1.754, time 2.3 sec\n",
      "epoch 240, loss 1.770, time 2.4 sec\n",
      "epoch 241, loss 1.746, time 2.4 sec\n",
      "epoch 242, loss 1.735, time 2.4 sec\n",
      "epoch 243, loss 1.730, time 2.3 sec\n",
      "epoch 244, loss 1.739, time 2.2 sec\n",
      "epoch 245, loss 1.734, time 2.3 sec\n",
      "epoch 246, loss 1.749, time 2.4 sec\n",
      "epoch 247, loss 1.746, time 2.6 sec\n",
      "epoch 248, loss 1.744, time 2.3 sec\n",
      "epoch 249, loss 1.735, time 2.5 sec\n",
      "epoch 250, loss 1.742, time 2.3 sec\n",
      "epoch 251, loss 1.753, time 2.3 sec\n",
      "epoch 252, loss 1.739, time 2.5 sec\n",
      "epoch 253, loss 1.760, time 2.4 sec\n",
      "epoch 254, loss 1.751, time 2.6 sec\n",
      "epoch 255, loss 1.762, time 2.5 sec\n",
      "epoch 256, loss 1.743, time 2.4 sec\n",
      "epoch 257, loss 1.732, time 2.3 sec\n",
      "epoch 258, loss 1.727, time 2.5 sec\n",
      "epoch 259, loss 1.736, time 2.6 sec\n",
      "epoch 260, loss 1.717, time 2.8 sec\n",
      "epoch 261, loss 1.734, time 2.5 sec\n",
      "epoch 262, loss 1.725, time 2.4 sec\n",
      "epoch 263, loss 1.714, time 2.5 sec\n",
      "epoch 264, loss 1.726, time 2.5 sec\n",
      "epoch 265, loss 1.705, time 2.5 sec\n",
      "epoch 266, loss 1.720, time 2.4 sec\n",
      "epoch 267, loss 1.728, time 2.3 sec\n",
      "epoch 268, loss 1.730, time 2.4 sec\n",
      "epoch 269, loss 1.723, time 2.3 sec\n",
      "epoch 270, loss 1.699, time 2.4 sec\n",
      "epoch 271, loss 1.691, time 2.6 sec\n",
      "epoch 272, loss 1.676, time 2.5 sec\n",
      "epoch 273, loss 1.693, time 2.5 sec\n",
      "epoch 274, loss 1.701, time 2.5 sec\n",
      "epoch 275, loss 1.691, time 2.4 sec\n",
      "epoch 276, loss 1.687, time 2.3 sec\n",
      "epoch 277, loss 1.685, time 2.3 sec\n",
      "epoch 278, loss 1.684, time 2.4 sec\n",
      "epoch 279, loss 1.672, time 2.4 sec\n",
      "epoch 280, loss 1.672, time 2.4 sec\n",
      "epoch 281, loss 1.690, time 2.3 sec\n",
      "epoch 282, loss 1.685, time 2.4 sec\n",
      "epoch 283, loss 1.669, time 2.7 sec\n",
      "epoch 284, loss 1.663, time 2.6 sec\n",
      "epoch 285, loss 1.654, time 2.7 sec\n",
      "epoch 286, loss 1.658, time 2.6 sec\n",
      "epoch 287, loss 1.656, time 2.4 sec\n",
      "epoch 288, loss 1.665, time 2.3 sec\n",
      "epoch 289, loss 1.672, time 2.4 sec\n",
      "epoch 290, loss 1.664, time 2.6 sec\n",
      "epoch 291, loss 1.679, time 2.4 sec\n",
      "epoch 292, loss 1.670, time 2.4 sec\n",
      "epoch 293, loss 1.655, time 2.5 sec\n",
      "epoch 294, loss 1.641, time 2.4 sec\n",
      "epoch 295, loss 1.662, time 2.6 sec\n",
      "epoch 296, loss 1.655, time 2.6 sec\n",
      "epoch 297, loss 1.657, time 2.5 sec\n",
      "epoch 298, loss 1.648, time 2.3 sec\n",
      "epoch 299, loss 1.655, time 2.4 sec\n",
      "epoch 300, loss 1.656, time 2.5 sec\n"
     ]
    }
   ],
   "source": [
    "embed_size, num_hiddens, num_layers, dropout = 32, 32, 2, 0.1\n",
    "batch_size, max_len = 64, 20\n",
    "lr, num_epochs = 0.01, 300\n",
    "\n",
    "src_vocab, tgt_vocab, train_iter = load_data_nmt(batch_size, max_len)\n",
    "encoder = Encoder(\n",
    "    len(src_vocab), embed_size, num_hiddens, num_layers, dropout)\n",
    "decoder = AttentionDecoder(\n",
    "    len(tgt_vocab), embed_size, num_hiddens, num_layers, dropout)\n",
    "model = EncoderDecoder(encoder, decoder)\n",
    "train(model, train_iter, lr, num_epochs, len(tgt_vocab))"
   ]
  },
  {
   "cell_type": "code",
   "execution_count": 100,
   "metadata": {
    "colab": {
     "base_uri": "https://localhost:8080/",
     "height": 119
    },
    "colab_type": "code",
    "id": "GvyPEJkE0n1J",
    "outputId": "f32e4291-ad67-4aa4-f307-211dd7ce6563"
   },
   "outputs": [
    {
     "name": "stdout",
     "output_type": "stream",
     "text": [
      "Hey you! Whats your name? => <unk> <unk> <unk> <unk> <unk> <unk> <unk> <unk> <unk> <unk> <unk> <unk> <unk> <unk> <unk> <unk> <unk> <unk> <unk> <unk>\n",
      "Whats UP? => <unk> <unk> <unk> <unk> <unk> <unk> <unk> <unk> <unk> <unk> <unk> <unk> <unk> <unk> <unk> <unk> <unk> <unk> <unk> <unk>\n",
      "How are you? => <unk> <unk> <unk> <unk> <unk> <unk> <unk> <unk> <unk> <unk> <unk> <unk> <unk> <unk> <unk> <unk> <unk> <unk> <unk> <unk>\n",
      "Hello! => <unk> <unk> <unk> <unk> <unk> <unk> <unk> <unk> <unk> <unk> <unk> <unk> <unk> <unk> <unk> <unk> <unk> <unk> <unk> <unk>\n",
      "whats up dadyo when did you get back on Twitter? Haha => <unk> <unk> <unk> <unk> <unk> <unk> <unk> <unk> <unk> <unk> <unk> <unk> <unk> <unk> <unk> <unk> <unk> <unk> <unk> <unk>\n",
      "I killed a mouse today! => <unk> <unk> <unk> <unk> <unk> <unk> <unk> <unk> <unk> <unk> <unk> <unk> <unk> <unk> <unk> <unk> <unk> <unk> <unk> <unk>\n"
     ]
    }
   ],
   "source": [
    "'''what's up dadyo when did you get back on Twitter? Haha\n",
    "like 2 weeks ago and it's going as terribly as I remember, but Deg is still hilarious so it's ok\n",
    "\n",
    "Answer me this fellow Apple peoples: how many times in the past year have you used the escape key?\n",
    "about 50 times today. Terminal vim user.\n",
    "\n",
    "There was a greasy kid at highline who was basically miles dipped in a bucket of ranch\n",
    "I'm disgusted\n",
    "\n",
    "I killed a mouse today!  😼\n",
    "Yay, you great hunter. I’ve killed lots of lizards and bugs but never a mouse.'''\n",
    "\n",
    "for sentence in ['Hey you! What''s your name?', 'Whats UP?', \"How are you?\", 'Hello!', 'what''s up dadyo when did you get back on Twitter? Haha', 'I killed a mouse today!']:\n",
    "    print(sentence + ' => ' + translate(\n",
    "        model, sentence, src_vocab, tgt_vocab, max_len))"
   ]
  },
  {
   "cell_type": "code",
   "execution_count": null,
   "metadata": {
    "colab": {},
    "colab_type": "code",
    "id": "3prSvtyAZWcx"
   },
   "outputs": [],
   "source": []
  },
  {
   "cell_type": "code",
   "execution_count": null,
   "metadata": {
    "colab": {},
    "colab_type": "code",
    "id": "PGWHeTm8ZWYz"
   },
   "outputs": [],
   "source": []
  },
  {
   "cell_type": "code",
   "execution_count": null,
   "metadata": {
    "colab": {},
    "colab_type": "code",
    "id": "yB7g2jJmZWWz"
   },
   "outputs": [],
   "source": []
  },
  {
   "cell_type": "code",
   "execution_count": null,
   "metadata": {
    "colab": {},
    "colab_type": "code",
    "id": "-qdKCIx7ZWTR"
   },
   "outputs": [],
   "source": []
  },
  {
   "cell_type": "code",
   "execution_count": null,
   "metadata": {
    "colab": {},
    "colab_type": "code",
    "id": "rSo-_pFyZWQK"
   },
   "outputs": [],
   "source": []
  },
  {
   "cell_type": "code",
   "execution_count": null,
   "metadata": {
    "colab": {},
    "colab_type": "code",
    "id": "v-gHuPU145Vd"
   },
   "outputs": [],
   "source": []
  },
  {
   "cell_type": "code",
   "execution_count": null,
   "metadata": {
    "colab": {},
    "colab_type": "code",
    "id": "-y7RGxBG45ZL"
   },
   "outputs": [],
   "source": []
  },
  {
   "cell_type": "code",
   "execution_count": null,
   "metadata": {
    "colab": {},
    "colab_type": "code",
    "id": "UmjD0AUH45cf"
   },
   "outputs": [],
   "source": []
  },
  {
   "cell_type": "code",
   "execution_count": null,
   "metadata": {
    "colab": {},
    "colab_type": "code",
    "id": "EX_oLpKY45fM"
   },
   "outputs": [],
   "source": []
  },
  {
   "cell_type": "code",
   "execution_count": null,
   "metadata": {
    "colab": {},
    "colab_type": "code",
    "id": "JKlu0SRh45iG"
   },
   "outputs": [],
   "source": []
  },
  {
   "cell_type": "code",
   "execution_count": 102,
   "metadata": {
    "colab": {
     "base_uri": "https://localhost:8080/",
     "height": 867
    },
    "colab_type": "code",
    "id": "FOTWuOEZQoF4",
    "outputId": "9ab20283-26ba-442c-e6e3-0f380cf81b6c"
   },
   "outputs": [
    {
     "name": "stdout",
     "output_type": "stream",
     "text": [
      "epoch 1, loss 5.239, time 4.8 sec\n",
      "epoch 2, loss 4.918, time 6.4 sec\n",
      "epoch 3, loss 4.877, time 6.2 sec\n",
      "epoch 4, loss 4.843, time 6.1 sec\n",
      "epoch 5, loss 4.844, time 6.2 sec\n",
      "epoch 6, loss 4.810, time 5.9 sec\n",
      "epoch 7, loss 4.820, time 6.3 sec\n",
      "epoch 8, loss 4.819, time 6.3 sec\n",
      "epoch 9, loss 4.804, time 5.9 sec\n",
      "epoch 10, loss 4.800, time 6.0 sec\n",
      "epoch 11, loss 4.801, time 5.8 sec\n",
      "epoch 12, loss 4.801, time 6.1 sec\n",
      "epoch 13, loss 4.815, time 6.1 sec\n",
      "epoch 14, loss 4.805, time 5.9 sec\n",
      "epoch 15, loss 4.809, time 5.8 sec\n",
      "epoch 16, loss 4.788, time 5.5 sec\n",
      "epoch 17, loss 4.794, time 5.4 sec\n",
      "epoch 18, loss 4.758, time 6.2 sec\n",
      "epoch 19, loss 4.706, time 6.6 sec\n",
      "epoch 20, loss 4.697, time 6.8 sec\n",
      "epoch 21, loss 4.691, time 6.7 sec\n",
      "epoch 22, loss 4.667, time 7.2 sec\n",
      "epoch 23, loss 4.660, time 7.0 sec\n",
      "epoch 24, loss 4.651, time 7.2 sec\n",
      "epoch 25, loss 4.650, time 7.7 sec\n",
      "epoch 26, loss 4.624, time 8.2 sec\n",
      "epoch 27, loss 4.627, time 9.0 sec\n",
      "epoch 28, loss 4.606, time 8.6 sec\n",
      "epoch 29, loss 4.585, time 8.8 sec\n",
      "epoch 30, loss 4.563, time 7.6 sec\n",
      "epoch 31, loss 4.519, time 7.4 sec\n",
      "epoch 32, loss 4.488, time 7.2 sec\n",
      "epoch 33, loss 4.470, time 7.4 sec\n",
      "epoch 34, loss 4.454, time 7.5 sec\n",
      "epoch 35, loss 4.446, time 7.1 sec\n",
      "epoch 36, loss 4.428, time 7.5 sec\n",
      "epoch 37, loss 4.417, time 7.3 sec\n",
      "epoch 38, loss 4.411, time 7.4 sec\n",
      "epoch 39, loss 4.402, time 7.6 sec\n",
      "epoch 40, loss 4.386, time 7.7 sec\n",
      "epoch 41, loss 4.367, time 8.2 sec\n",
      "epoch 42, loss 4.337, time 8.2 sec\n",
      "epoch 43, loss 4.321, time 7.5 sec\n",
      "epoch 44, loss 4.308, time 7.6 sec\n",
      "epoch 45, loss 4.293, time 7.7 sec\n",
      "epoch 46, loss 4.290, time 7.9 sec\n",
      "epoch 47, loss 4.271, time 7.6 sec\n",
      "epoch 48, loss 4.252, time 7.8 sec\n",
      "epoch 49, loss 4.231, time 8.1 sec\n",
      "epoch 50, loss 4.218, time 7.9 sec\n"
     ]
    }
   ],
   "source": [
    "embed_size, num_hiddens, num_layers, dropout = 64, 64, 3, 0.0\n",
    "batch_size, max_len = 64, 20\n",
    "lr, num_epochs = 0.05, 50\n",
    "\n",
    "src_vocab, tgt_vocab, train_iter = load_data_nmt(batch_size, max_len)\n",
    "encoder = Encoder(\n",
    "    len(src_vocab), embed_size, num_hiddens, num_layers, dropout)\n",
    "decoder = AttentionDecoder(\n",
    "    len(tgt_vocab), embed_size, num_hiddens, num_layers, dropout)\n",
    "model = EncoderDecoder(encoder, decoder)\n",
    "train(model, train_iter, lr, num_epochs, len(tgt_vocab))"
   ]
  },
  {
   "cell_type": "code",
   "execution_count": null,
   "metadata": {
    "colab": {},
    "colab_type": "code",
    "id": "9FANYqKkR2dF"
   },
   "outputs": [],
   "source": [
    "def train(model, data_iter, lr, num_epochs, out_vocab_size, trainer=torch.optim.Adam(model.parameters(), lr=lr)):\n",
    "    loss = nn.CrossEntropyLoss(reduction='none')\n",
    "    tic = time.time()\n",
    "    for epoch in range(1, num_epochs+1):\n",
    "        l_sum, num_tokens_sum = 0.0, 0.0\n",
    "        for batch in data_iter:\n",
    "            trainer.zero_grad()\n",
    "            X, X_vlen, Y, Y_vlen, mask = [x for x in batch]\n",
    "            Y_input, Y_label, Y_vlen, mask = Y[:,:-1], Y[:,1:], Y_vlen-1, mask[:,1:]\n",
    "            Y_hat, _ = model(X, Y_input, X_vlen, Y_vlen)\n",
    "            \n",
    "            l = (loss(Y_hat.reshape(-1,out_vocab_size), Y_label.reshape(-1)) * mask.reshape(-1)).sum() \n",
    "            \n",
    "            l.backward()\n",
    "            num_tokens = Y_vlen.sum().item()\n",
    "            trainer.step()\n",
    "            l_sum += l.item()\n",
    "            num_tokens_sum += num_tokens\n",
    "\n",
    "        print(\"epoch %d, loss %.3f, time %.1f sec\" % (\n",
    "            epoch, l_sum/num_tokens_sum, time.time()-tic))\n",
    "        tic = time.time()"
   ]
  },
  {
   "cell_type": "code",
   "execution_count": 104,
   "metadata": {
    "colab": {
     "base_uri": "https://localhost:8080/",
     "height": 867
    },
    "colab_type": "code",
    "id": "WjJdU5NhSgwM",
    "outputId": "765db649-d465-408a-f1b5-092a36666c92"
   },
   "outputs": [
    {
     "name": "stdout",
     "output_type": "stream",
     "text": [
      "epoch 1, loss 5.750, time 3.8 sec\n",
      "epoch 2, loss 4.832, time 3.7 sec\n",
      "epoch 3, loss 4.731, time 3.8 sec\n",
      "epoch 4, loss 4.677, time 3.7 sec\n",
      "epoch 5, loss 4.609, time 4.1 sec\n",
      "epoch 6, loss 4.598, time 4.0 sec\n",
      "epoch 7, loss 4.530, time 4.1 sec\n",
      "epoch 8, loss 4.491, time 3.7 sec\n",
      "epoch 9, loss 4.444, time 3.7 sec\n",
      "epoch 10, loss 4.395, time 3.8 sec\n",
      "epoch 11, loss 4.320, time 3.7 sec\n",
      "epoch 12, loss 4.288, time 3.7 sec\n",
      "epoch 13, loss 4.238, time 3.9 sec\n",
      "epoch 14, loss 4.166, time 3.9 sec\n",
      "epoch 15, loss 4.119, time 3.7 sec\n",
      "epoch 16, loss 4.070, time 3.8 sec\n",
      "epoch 17, loss 3.972, time 3.6 sec\n",
      "epoch 18, loss 3.920, time 3.6 sec\n",
      "epoch 19, loss 3.859, time 3.7 sec\n",
      "epoch 20, loss 3.753, time 3.7 sec\n",
      "epoch 21, loss 3.676, time 4.0 sec\n",
      "epoch 22, loss 3.623, time 3.7 sec\n",
      "epoch 23, loss 3.529, time 3.9 sec\n",
      "epoch 24, loss 3.439, time 3.7 sec\n",
      "epoch 25, loss 3.375, time 3.7 sec\n",
      "epoch 26, loss 3.277, time 3.7 sec\n",
      "epoch 27, loss 3.208, time 3.7 sec\n",
      "epoch 28, loss 3.118, time 3.6 sec\n",
      "epoch 29, loss 3.033, time 3.7 sec\n",
      "epoch 30, loss 2.970, time 3.9 sec\n",
      "epoch 31, loss 2.848, time 3.7 sec\n",
      "epoch 32, loss 2.801, time 3.6 sec\n",
      "epoch 33, loss 2.751, time 3.7 sec\n",
      "epoch 34, loss 2.652, time 3.6 sec\n",
      "epoch 35, loss 2.605, time 3.6 sec\n",
      "epoch 36, loss 2.539, time 3.7 sec\n",
      "epoch 37, loss 2.465, time 3.9 sec\n",
      "epoch 38, loss 2.385, time 3.6 sec\n",
      "epoch 39, loss 2.334, time 3.6 sec\n",
      "epoch 40, loss 2.316, time 3.9 sec\n",
      "epoch 41, loss 2.241, time 3.7 sec\n",
      "epoch 42, loss 2.165, time 3.7 sec\n",
      "epoch 43, loss 2.108, time 3.6 sec\n",
      "epoch 44, loss 2.066, time 3.6 sec\n",
      "epoch 45, loss 2.059, time 3.7 sec\n",
      "epoch 46, loss 2.007, time 3.9 sec\n",
      "epoch 47, loss 1.949, time 3.5 sec\n",
      "epoch 48, loss 1.921, time 3.7 sec\n",
      "epoch 49, loss 1.832, time 3.5 sec\n",
      "epoch 50, loss 1.776, time 3.6 sec\n"
     ]
    }
   ],
   "source": [
    "embed_size, num_hiddens, num_layers, dropout = 64, 64, 2, 0.0\n",
    "batch_size, max_len = 64, 20\n",
    "lr, num_epochs = 0.01, 50\n",
    "\n",
    "src_vocab, tgt_vocab, train_iter = load_data_nmt(batch_size, max_len)\n",
    "encoder = Encoder(\n",
    "    len(src_vocab), embed_size, num_hiddens, num_layers, dropout)\n",
    "decoder = AttentionDecoder(\n",
    "    len(tgt_vocab), embed_size, num_hiddens, num_layers, dropout)\n",
    "model = EncoderDecoder(encoder, decoder)\n",
    "train(model, train_iter, lr, num_epochs, len(tgt_vocab), trainer=torch.optim.SGD(model.parameters(), lr=lr))"
   ]
  },
  {
   "cell_type": "code",
   "execution_count": 105,
   "metadata": {
    "colab": {
     "base_uri": "https://localhost:8080/",
     "height": 119
    },
    "colab_type": "code",
    "id": "hr_RnJO-VoeT",
    "outputId": "af671f91-7ddf-422a-f4df-395410779c19"
   },
   "outputs": [
    {
     "name": "stdout",
     "output_type": "stream",
     "text": [
      "Hey you! Whats your name? => <unk> <unk> <unk> <unk> <unk> <unk> <unk> <unk> <unk> <unk> <unk> <unk> <unk> <unk> <unk> <unk> <unk> <unk> <unk> <unk>\n",
      "Whats UP? => <unk> <unk>\n",
      "How are you? => <unk> <unk>\n",
      "Hello! => <unk> <unk>\n",
      "whats up dadyo when did you get back on Twitter? Haha => <unk> <unk> <unk> <unk> <unk> <unk> <unk> <unk> <unk> <unk> <unk> <unk> <unk> <unk> <unk> <unk> <unk> <unk> <unk> <unk>\n",
      "I killed a mouse today! => <unk> <unk>\n"
     ]
    }
   ],
   "source": [
    "for sentence in ['Hey you! What''s your name?', 'Whats UP?', \"How are you?\", 'Hello!', 'what''s up dadyo when did you get back on Twitter? Haha', 'I killed a mouse today!']:\n",
    "    print(sentence + ' => ' + translate(\n",
    "        model, sentence, src_vocab, tgt_vocab, max_len))"
   ]
  },
  {
   "cell_type": "code",
   "execution_count": 106,
   "metadata": {
    "colab": {
     "base_uri": "https://localhost:8080/",
     "height": 867
    },
    "colab_type": "code",
    "id": "QUwVd3S-Sn2n",
    "outputId": "29e46685-433e-42b2-c2cf-6dab658d2a3e"
   },
   "outputs": [
    {
     "name": "stdout",
     "output_type": "stream",
     "text": [
      "epoch 1, loss 1.595, time 3.6 sec\n",
      "epoch 2, loss 1.518, time 3.6 sec\n",
      "epoch 3, loss 1.484, time 3.8 sec\n",
      "epoch 4, loss 1.459, time 4.0 sec\n",
      "epoch 5, loss 1.439, time 3.8 sec\n",
      "epoch 6, loss 1.422, time 4.0 sec\n",
      "epoch 7, loss 1.407, time 3.6 sec\n",
      "epoch 8, loss 1.394, time 3.7 sec\n",
      "epoch 9, loss 1.381, time 3.5 sec\n",
      "epoch 10, loss 1.369, time 3.7 sec\n",
      "epoch 11, loss 1.358, time 3.8 sec\n",
      "epoch 12, loss 1.347, time 3.9 sec\n",
      "epoch 13, loss 1.336, time 3.7 sec\n",
      "epoch 14, loss 1.326, time 3.6 sec\n",
      "epoch 15, loss 1.316, time 3.6 sec\n",
      "epoch 16, loss 1.307, time 3.7 sec\n",
      "epoch 17, loss 1.298, time 3.5 sec\n",
      "epoch 18, loss 1.289, time 3.6 sec\n",
      "epoch 19, loss 1.280, time 3.5 sec\n",
      "epoch 20, loss 1.271, time 3.8 sec\n",
      "epoch 21, loss 1.263, time 3.6 sec\n",
      "epoch 22, loss 1.254, time 3.8 sec\n",
      "epoch 23, loss 1.246, time 3.5 sec\n",
      "epoch 24, loss 1.237, time 3.6 sec\n",
      "epoch 25, loss 1.229, time 3.6 sec\n",
      "epoch 26, loss 1.222, time 3.6 sec\n",
      "epoch 27, loss 1.214, time 3.6 sec\n",
      "epoch 28, loss 1.205, time 3.7 sec\n",
      "epoch 29, loss 1.198, time 3.9 sec\n",
      "epoch 30, loss 1.189, time 3.6 sec\n",
      "epoch 31, loss 1.182, time 3.5 sec\n",
      "epoch 32, loss 1.174, time 3.6 sec\n",
      "epoch 33, loss 1.167, time 3.6 sec\n",
      "epoch 34, loss 1.159, time 3.6 sec\n",
      "epoch 35, loss 1.152, time 3.5 sec\n",
      "epoch 36, loss 1.145, time 3.9 sec\n",
      "epoch 37, loss 1.137, time 3.7 sec\n",
      "epoch 38, loss 1.130, time 3.6 sec\n",
      "epoch 39, loss 1.122, time 3.7 sec\n",
      "epoch 40, loss 1.115, time 3.5 sec\n",
      "epoch 41, loss 1.108, time 3.4 sec\n",
      "epoch 42, loss 1.102, time 3.6 sec\n",
      "epoch 43, loss 1.094, time 3.5 sec\n",
      "epoch 44, loss 1.087, time 3.7 sec\n",
      "epoch 45, loss 1.080, time 3.9 sec\n",
      "epoch 46, loss 1.074, time 3.7 sec\n",
      "epoch 47, loss 1.066, time 3.6 sec\n",
      "epoch 48, loss 1.060, time 3.7 sec\n",
      "epoch 49, loss 1.053, time 3.6 sec\n",
      "epoch 50, loss 1.047, time 3.6 sec\n"
     ]
    }
   ],
   "source": [
    "lr = 0.001\n",
    "train(model, train_iter, lr, num_epochs, len(tgt_vocab), trainer=torch.optim.SGD(model.parameters(), lr=lr))"
   ]
  },
  {
   "cell_type": "code",
   "execution_count": 107,
   "metadata": {
    "colab": {
     "base_uri": "https://localhost:8080/",
     "height": 119
    },
    "colab_type": "code",
    "id": "vgw4lD8QV3pf",
    "outputId": "f50a7ebd-2ae5-4bdd-a68d-dab3ec98e2e9"
   },
   "outputs": [
    {
     "name": "stdout",
     "output_type": "stream",
     "text": [
      "Hey you! Whats your name? => <unk> <unk> <unk> <unk>\n",
      "Whats UP? => <unk> <unk>\n",
      "How are you? => <unk>\n",
      "Hello! => <unk> <unk>\n",
      "whats up dadyo when did you get back on Twitter? Haha => <unk> <unk>\n",
      "I killed a mouse today! => <unk>\n"
     ]
    }
   ],
   "source": [
    "for sentence in ['Hey you! What''s your name?', 'Whats UP?', \"How are you?\", 'Hello!', 'what''s up dadyo when did you get back on Twitter? Haha', 'I killed a mouse today!']:\n",
    "    print(sentence + ' => ' + translate(\n",
    "        model, sentence, src_vocab, tgt_vocab, max_len))"
   ]
  },
  {
   "cell_type": "code",
   "execution_count": 108,
   "metadata": {
    "colab": {
     "base_uri": "https://localhost:8080/",
     "height": 102
    },
    "colab_type": "code",
    "id": "OQNuOVZyV5IA",
    "outputId": "d567664e-bf92-4819-b5d4-f4cb6511a365"
   },
   "outputs": [
    {
     "name": "stdout",
     "output_type": "stream",
     "text": [
      "epoch 1, loss 5.258, time 2.1 sec\n",
      "epoch 2, loss 4.846, time 2.2 sec\n",
      "epoch 3, loss 4.740, time 2.3 sec\n",
      "epoch 4, loss 4.659, time 2.5 sec\n",
      "epoch 5, loss 4.620, time 2.2 sec\n"
     ]
    }
   ],
   "source": [
    "embed_size, num_hiddens, num_layers, dropout = 32, 32, 2, 0.0\n",
    "batch_size, max_len = 64, 20\n",
    "lr, num_epochs = 0.01, 5\n",
    "\n",
    "src_vocab, tgt_vocab, train_iter = load_data_nmt(batch_size, max_len)\n",
    "encoder = Encoder(\n",
    "    len(src_vocab), embed_size, num_hiddens, num_layers, dropout)\n",
    "decoder = AttentionDecoder(\n",
    "    len(tgt_vocab), embed_size, num_hiddens, num_layers, dropout)\n",
    "model = EncoderDecoder(encoder, decoder)\n",
    "train(model, train_iter, lr, num_epochs, len(tgt_vocab), trainer=torch.optim.SGD(model.parameters(), lr=lr))"
   ]
  },
  {
   "cell_type": "code",
   "execution_count": 109,
   "metadata": {
    "colab": {
     "base_uri": "https://localhost:8080/",
     "height": 119
    },
    "colab_type": "code",
    "id": "_WM2CEYkWhPT",
    "outputId": "625bfa82-2a59-4787-d3b1-cb5ed41c7282"
   },
   "outputs": [
    {
     "name": "stdout",
     "output_type": "stream",
     "text": [
      "Hey you! Whats your name? => <unk>\n",
      "Whats UP? => <unk>\n",
      "How are you? => <unk>\n",
      "Hello! => <unk>\n",
      "whats up dadyo when did you get back on Twitter? Haha => <unk>\n",
      "I killed a mouse today! => <unk>\n"
     ]
    }
   ],
   "source": [
    "for sentence in ['Hey you! What''s your name?', 'Whats UP?', \"How are you?\", 'Hello!', 'what''s up dadyo when did you get back on Twitter? Haha', 'I killed a mouse today!']:\n",
    "    print(sentence + ' => ' + translate(\n",
    "        model, sentence, src_vocab, tgt_vocab, max_len))"
   ]
  },
  {
   "cell_type": "code",
   "execution_count": 110,
   "metadata": {
    "colab": {
     "base_uri": "https://localhost:8080/",
     "height": 102
    },
    "colab_type": "code",
    "id": "-TKONvfKWjef",
    "outputId": "f2e26c1d-a393-4ac8-eea7-bf18d1a3b228"
   },
   "outputs": [
    {
     "name": "stdout",
     "output_type": "stream",
     "text": [
      "epoch 1, loss 4.521, time 2.3 sec\n",
      "epoch 2, loss 4.513, time 2.2 sec\n",
      "epoch 3, loss 4.506, time 2.4 sec\n",
      "epoch 4, loss 4.499, time 2.1 sec\n",
      "epoch 5, loss 4.492, time 2.1 sec\n"
     ]
    }
   ],
   "source": [
    "lr = 0.001\n",
    "train(model, train_iter, lr, num_epochs, len(tgt_vocab), trainer=torch.optim.SGD(model.parameters(), lr=lr))"
   ]
  },
  {
   "cell_type": "code",
   "execution_count": 111,
   "metadata": {
    "colab": {
     "base_uri": "https://localhost:8080/",
     "height": 119
    },
    "colab_type": "code",
    "id": "-1V5k2VuYm1D",
    "outputId": "6dd4d6f4-af28-4b66-9b40-460b745cce1f"
   },
   "outputs": [
    {
     "name": "stdout",
     "output_type": "stream",
     "text": [
      "Hey you! Whats your name? => <unk> <unk> <unk> <unk> <unk> <unk> <unk> <unk> <unk> <unk> <unk> <unk> <unk> <unk> <unk> <unk> <unk> <unk> <unk> <unk>\n",
      "Whats UP? => <unk> <unk> <unk> <unk> <unk> <unk> <unk> <unk> <unk> <unk> <unk> <unk> <unk> <unk> <unk> <unk> <unk> <unk> <unk> <unk>\n",
      "How are you? => <unk> <unk> <unk> <unk> <unk> <unk> <unk> <unk> <unk> <unk> <unk> <unk> <unk> <unk> <unk> <unk> <unk> <unk> <unk> <unk>\n",
      "Hello! => <unk> <unk> <unk> <unk> <unk> <unk> <unk> <unk> <unk> <unk> <unk> <unk> <unk> <unk> <unk> <unk> <unk> <unk> <unk> <unk>\n",
      "whats up dadyo when did you get back on Twitter? Haha => <unk> <unk> <unk> <unk> <unk> <unk> <unk> <unk> <unk> <unk> <unk> <unk> <unk> <unk> <unk> <unk> <unk> <unk> <unk> <unk>\n",
      "I killed a mouse today! => <unk> <unk> <unk> <unk> <unk> <unk> <unk> <unk> <unk> <unk> <unk> <unk> <unk> <unk> <unk> <unk> <unk> <unk> <unk> <unk>\n"
     ]
    }
   ],
   "source": [
    "for sentence in ['Hey you! What''s your name?', 'Whats UP?', \"How are you?\", 'Hello!', 'what''s up dadyo when did you get back on Twitter? Haha', 'I killed a mouse today!']:\n",
    "    print(sentence + ' => ' + translate(\n",
    "        model, sentence, src_vocab, tgt_vocab, max_len))"
   ]
  },
  {
   "cell_type": "code",
   "execution_count": null,
   "metadata": {
    "colab": {},
    "colab_type": "code",
    "id": "OHN3b5vuWoMH"
   },
   "outputs": [],
   "source": []
  }
 ],
 "metadata": {
  "accelerator": "GPU",
  "colab": {
   "collapsed_sections": [
    "IcGmDR-HzbuE"
   ],
   "name": "DL1_L9_MachimeTranslation_attention.ipynb",
   "provenance": []
  },
  "kernelspec": {
   "display_name": "Python 3",
   "language": "python",
   "name": "python3"
  },
  "language_info": {
   "codemirror_mode": {
    "name": "ipython",
    "version": 3
   },
   "file_extension": ".py",
   "mimetype": "text/x-python",
   "name": "python",
   "nbconvert_exporter": "python",
   "pygments_lexer": "ipython3",
   "version": "3.7.2"
  }
 },
 "nbformat": 4,
 "nbformat_minor": 2
}
