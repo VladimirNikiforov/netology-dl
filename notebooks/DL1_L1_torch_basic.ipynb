{
  "nbformat": 4,
  "nbformat_minor": 0,
  "metadata": {
    "kernelspec": {
      "name": "python3",
      "display_name": "Python 3"
    },
    "language_info": {
      "codemirror_mode": {
        "name": "ipython",
        "version": 3
      },
      "file_extension": ".py",
      "mimetype": "text/x-python",
      "name": "python",
      "nbconvert_exporter": "python",
      "pygments_lexer": "ipython3",
      "version": "3.7.2"
    },
    "colab": {
      "name": "DL1_L1_torch_basic.ipynb",
      "provenance": [],
      "collapsed_sections": []
    },
    "accelerator": "GPU"
  },
  "cells": [
    {
      "cell_type": "markdown",
      "metadata": {
        "id": "nQZwsh80P4ls",
        "colab_type": "text"
      },
      "source": [
        "## Манипулирование данными"
      ]
    },
    {
      "cell_type": "markdown",
      "metadata": {
        "id": "EsRGT2myP4lt",
        "colab_type": "text"
      },
      "source": [
        "Невозможно что-либо сделать, если мы не умеем манипулировать данными. Две основные операции, которые нам нужно сделать с данными - (i) получить их и (ii) обработать. Нет смысла собирать данные, если мы даже не знаем, как их хранить, поэтому давайте сначала поработаем с синтетическими данными. Мы начнем с torch.tensor. Это основной инструмент для хранения и преобразования данных в torch. Если вы раньше работали с NumPy, вы заметите, что он по своей конструкции очень похож на многомерный массив NumPy. Тем не менее, он даёт несколько ключевых преимуществ. Во-первых, torch.tensor поддерживает асинхронные вычисления на CPU и GPU. Во-вторых, он обеспечивает поддержку автоматического дифференцирования.\n",
        "\n",
        "Начнем с импорта torch"
      ]
    },
    {
      "cell_type": "code",
      "metadata": {
        "ExecuteTime": {
          "end_time": "2019-11-04T10:14:16.567789Z",
          "start_time": "2019-11-04T10:14:16.347872Z"
        },
        "id": "zjoN_iuyP4lu",
        "colab_type": "code",
        "colab": {}
      },
      "source": [
        "import torch"
      ],
      "execution_count": 0,
      "outputs": []
    },
    {
      "cell_type": "markdown",
      "metadata": {
        "id": "p7i0RF_iP4lx",
        "colab_type": "text"
      },
      "source": [
        "Tensor - есть массив (возможно, многомерный) числовых значений. tensor с одной осью называется (в математике) вектором, с двумя - матрицей. Для массивов с более чем двумя осями нет специальных имен - их называют просто тензорами.\n",
        "Самый простой объект, который мы можем создать - это вектор. Для начала мы можем использовать arange для создания вектора строки с 12 последовательными целыми числами."
      ]
    },
    {
      "cell_type": "code",
      "metadata": {
        "ExecuteTime": {
          "end_time": "2019-11-04T10:14:17.372987Z",
          "start_time": "2019-11-04T10:14:17.356289Z"
        },
        "id": "zHvHnvM4P4ly",
        "colab_type": "code",
        "colab": {
          "base_uri": "https://localhost:8080/",
          "height": 34
        },
        "outputId": "2907fba3-ac16-48b1-fb33-12d09a0390fd"
      },
      "source": [
        "x = torch.arange(12)\n",
        "x"
      ],
      "execution_count": 2,
      "outputs": [
        {
          "output_type": "execute_result",
          "data": {
            "text/plain": [
              "tensor([ 0,  1,  2,  3,  4,  5,  6,  7,  8,  9, 10, 11])"
            ]
          },
          "metadata": {
            "tags": []
          },
          "execution_count": 2
        }
      ]
    },
    {
      "cell_type": "markdown",
      "metadata": {
        "id": "tVnXdZR0P4l2",
        "colab_type": "text"
      },
      "source": [
        "Мы можем получить форму экземпляра tensor через свойство shape."
      ]
    },
    {
      "cell_type": "code",
      "metadata": {
        "ExecuteTime": {
          "end_time": "2019-11-04T10:14:18.208820Z",
          "start_time": "2019-11-04T10:14:18.203579Z"
        },
        "scrolled": true,
        "id": "gf8Tx0hFP4l3",
        "colab_type": "code",
        "colab": {
          "base_uri": "https://localhost:8080/",
          "height": 34
        },
        "outputId": "48dd529d-f9e8-4329-c34f-5480f053ba2c"
      },
      "source": [
        "x.shape"
      ],
      "execution_count": 3,
      "outputs": [
        {
          "output_type": "execute_result",
          "data": {
            "text/plain": [
              "torch.Size([12])"
            ]
          },
          "metadata": {
            "tags": []
          },
          "execution_count": 3
        }
      ]
    },
    {
      "cell_type": "markdown",
      "metadata": {
        "id": "YAnbFTdWP4l6",
        "colab_type": "text"
      },
      "source": [
        "Узнать расположен ли он на gpu или cpu можно через специальный аттрибут - device"
      ]
    },
    {
      "cell_type": "code",
      "metadata": {
        "ExecuteTime": {
          "end_time": "2019-11-04T10:14:19.063918Z",
          "start_time": "2019-11-04T10:14:19.059582Z"
        },
        "id": "OtSYi9s6P4l7",
        "colab_type": "code",
        "colab": {
          "base_uri": "https://localhost:8080/",
          "height": 34
        },
        "outputId": "673c1f08-ed69-42ee-90b8-c75c52332956"
      },
      "source": [
        "x.device"
      ],
      "execution_count": 4,
      "outputs": [
        {
          "output_type": "execute_result",
          "data": {
            "text/plain": [
              "device(type='cpu')"
            ]
          },
          "metadata": {
            "tags": []
          },
          "execution_count": 4
        }
      ]
    },
    {
      "cell_type": "markdown",
      "metadata": {
        "id": "kpuiFH3_P4l-",
        "colab_type": "text"
      },
      "source": [
        "Мы используем функцию view, чтобы изменить форму одного (возможно многомерного) массива на другой, который содержит такое же количество элементов. Например, мы можем преобразовать форму нашего векторного вектора x в (3, 4), который содержит те же значения, но интерпретирует их как матрицу, содержащую 3 строки и 4 столбца. Обратите внимание, что, хотя форма изменилась, элементы в x не изменились. Причем количество элементов осталось прежним."
      ]
    },
    {
      "cell_type": "code",
      "metadata": {
        "ExecuteTime": {
          "end_time": "2019-11-04T10:14:19.880948Z",
          "start_time": "2019-11-04T10:14:19.875637Z"
        },
        "id": "xTAndgZlP4l_",
        "colab_type": "code",
        "colab": {
          "base_uri": "https://localhost:8080/",
          "height": 68
        },
        "outputId": "4c161d54-2c80-413f-83d5-34cb9457a57b"
      },
      "source": [
        "x.view((3,4))"
      ],
      "execution_count": 5,
      "outputs": [
        {
          "output_type": "execute_result",
          "data": {
            "text/plain": [
              "tensor([[ 0,  1,  2,  3],\n",
              "        [ 4,  5,  6,  7],\n",
              "        [ 8,  9, 10, 11]])"
            ]
          },
          "metadata": {
            "tags": []
          },
          "execution_count": 5
        }
      ]
    },
    {
      "cell_type": "markdown",
      "metadata": {
        "id": "3tTe4aghP4mC",
        "colab_type": "text"
      },
      "source": [
        "Указывать каждое измерение вручную достаточно утомительно. К счастью, torch может автоматически выводить одно измерение, учитывая другие. Мы можем указать -1 для измерения, которое мы хотели бы, чтобы torch автоматически выводил. В нашем случае вместо x.view((3, 4)) мы могли бы использовать x.view ((- 1, 4)) или x.view((3, -1))."
      ]
    },
    {
      "cell_type": "code",
      "metadata": {
        "ExecuteTime": {
          "end_time": "2019-11-04T10:14:20.729317Z",
          "start_time": "2019-11-04T10:14:20.723038Z"
        },
        "id": "2U6V49XzP4mD",
        "colab_type": "code",
        "colab": {
          "base_uri": "https://localhost:8080/",
          "height": 68
        },
        "outputId": "b01d332b-5bfb-4d85-d5f1-037d08b04052"
      },
      "source": [
        "x.view((-1, 4))"
      ],
      "execution_count": 6,
      "outputs": [
        {
          "output_type": "execute_result",
          "data": {
            "text/plain": [
              "tensor([[ 0,  1,  2,  3],\n",
              "        [ 4,  5,  6,  7],\n",
              "        [ 8,  9, 10, 11]])"
            ]
          },
          "metadata": {
            "tags": []
          },
          "execution_count": 6
        }
      ]
    },
    {
      "cell_type": "markdown",
      "metadata": {
        "id": "63J3aa7VP4mG",
        "colab_type": "text"
      },
      "source": [
        "Другие две полезные функции - zeros и ones. Они создают массивы из всех нулей и всех единиц. Они принимают форму создаваемого тензора в качестве параметра"
      ]
    },
    {
      "cell_type": "code",
      "metadata": {
        "ExecuteTime": {
          "end_time": "2019-11-04T10:14:21.649246Z",
          "start_time": "2019-11-04T10:14:21.643331Z"
        },
        "id": "REpesqreP4mH",
        "colab_type": "code",
        "colab": {
          "base_uri": "https://localhost:8080/",
          "height": 136
        },
        "outputId": "a7fb6468-c833-4c4e-899c-6044720c1cd6"
      },
      "source": [
        "torch.zeros((2,3,4))"
      ],
      "execution_count": 7,
      "outputs": [
        {
          "output_type": "execute_result",
          "data": {
            "text/plain": [
              "tensor([[[0., 0., 0., 0.],\n",
              "         [0., 0., 0., 0.],\n",
              "         [0., 0., 0., 0.]],\n",
              "\n",
              "        [[0., 0., 0., 0.],\n",
              "         [0., 0., 0., 0.],\n",
              "         [0., 0., 0., 0.]]])"
            ]
          },
          "metadata": {
            "tags": []
          },
          "execution_count": 7
        }
      ]
    },
    {
      "cell_type": "code",
      "metadata": {
        "ExecuteTime": {
          "end_time": "2019-11-04T10:14:22.158209Z",
          "start_time": "2019-11-04T10:14:22.150974Z"
        },
        "id": "hFy4odkCP4mK",
        "colab_type": "code",
        "colab": {
          "base_uri": "https://localhost:8080/",
          "height": 136
        },
        "outputId": "43c533a1-91db-49c7-95be-76ce88ee78ef"
      },
      "source": [
        "torch.ones((2,3,4))"
      ],
      "execution_count": 8,
      "outputs": [
        {
          "output_type": "execute_result",
          "data": {
            "text/plain": [
              "tensor([[[1., 1., 1., 1.],\n",
              "         [1., 1., 1., 1.],\n",
              "         [1., 1., 1., 1.]],\n",
              "\n",
              "        [[1., 1., 1., 1.],\n",
              "         [1., 1., 1., 1.],\n",
              "         [1., 1., 1., 1.]]])"
            ]
          },
          "metadata": {
            "tags": []
          },
          "execution_count": 8
        }
      ]
    },
    {
      "cell_type": "markdown",
      "metadata": {
        "id": "g04LXmh0P4mN",
        "colab_type": "text"
      },
      "source": [
        "Конечно же, можно создать тензор явно указав все значения"
      ]
    },
    {
      "cell_type": "code",
      "metadata": {
        "ExecuteTime": {
          "end_time": "2019-11-04T10:14:23.152529Z",
          "start_time": "2019-11-04T10:14:23.146816Z"
        },
        "id": "42rUkeS2P4mO",
        "colab_type": "code",
        "colab": {
          "base_uri": "https://localhost:8080/",
          "height": 51
        },
        "outputId": "8ff69a42-3247-4237-a8f1-d0cd55738bdc"
      },
      "source": [
        "torch.tensor([[1,2,3], [4,5,6]])"
      ],
      "execution_count": 9,
      "outputs": [
        {
          "output_type": "execute_result",
          "data": {
            "text/plain": [
              "tensor([[1, 2, 3],\n",
              "        [4, 5, 6]])"
            ]
          },
          "metadata": {
            "tags": []
          },
          "execution_count": 9
        }
      ]
    },
    {
      "cell_type": "markdown",
      "metadata": {
        "id": "zkrO5hyCP4mR",
        "colab_type": "text"
      },
      "source": [
        "Иногда бывает полезно создать массив, заполненный случайными значениями. Для этого используются функции torch.rand и torch.randn. Первое использовает равномерное распределение, второе - нормальное"
      ]
    },
    {
      "cell_type": "code",
      "metadata": {
        "ExecuteTime": {
          "end_time": "2019-11-04T10:14:23.845174Z",
          "start_time": "2019-11-04T10:14:23.839071Z"
        },
        "id": "KaNMjNLBP4mS",
        "colab_type": "code",
        "colab": {
          "base_uri": "https://localhost:8080/",
          "height": 136
        },
        "outputId": "9f37af58-3bc2-40ae-cade-39ace9ba5d76"
      },
      "source": [
        "torch.rand((2,3,4))"
      ],
      "execution_count": 10,
      "outputs": [
        {
          "output_type": "execute_result",
          "data": {
            "text/plain": [
              "tensor([[[0.0283, 0.2481, 0.8396, 0.0673],\n",
              "         [0.5800, 0.9561, 0.6851, 0.1134],\n",
              "         [0.1077, 0.8303, 0.3881, 0.7796]],\n",
              "\n",
              "        [[0.6978, 0.4570, 0.1966, 0.5086],\n",
              "         [0.3385, 0.1703, 0.9723, 0.6377],\n",
              "         [0.3537, 0.2707, 0.7842, 0.8957]]])"
            ]
          },
          "metadata": {
            "tags": []
          },
          "execution_count": 10
        }
      ]
    },
    {
      "cell_type": "code",
      "metadata": {
        "ExecuteTime": {
          "end_time": "2019-11-04T10:14:24.535647Z",
          "start_time": "2019-11-04T10:14:24.529761Z"
        },
        "id": "FXDrf85dP4mU",
        "colab_type": "code",
        "colab": {
          "base_uri": "https://localhost:8080/",
          "height": 136
        },
        "outputId": "59664877-12ea-47d7-9c4b-5f23dbe74d81"
      },
      "source": [
        "torch.randn((2,3,4))"
      ],
      "execution_count": 11,
      "outputs": [
        {
          "output_type": "execute_result",
          "data": {
            "text/plain": [
              "tensor([[[-0.7361,  1.0595,  0.3569,  0.0211],\n",
              "         [ 1.1500, -0.1150, -0.3395, -0.1438],\n",
              "         [-1.7773,  0.6058,  0.0085,  0.7307]],\n",
              "\n",
              "        [[ 0.6144,  2.1052,  1.8814,  2.8810],\n",
              "         [ 0.5700, -2.3005,  0.1263,  0.2533],\n",
              "         [-0.1511,  0.0363,  0.5727,  0.0724]]])"
            ]
          },
          "metadata": {
            "tags": []
          },
          "execution_count": 11
        }
      ]
    },
    {
      "cell_type": "markdown",
      "metadata": {
        "id": "lhGdi7phP4mX",
        "colab_type": "text"
      },
      "source": [
        "## Операции"
      ]
    },
    {
      "cell_type": "markdown",
      "metadata": {
        "id": "zcHJcvJwP4mY",
        "colab_type": "text"
      },
      "source": [
        "Обычно мы хотим не только создавать массивы, но и применять к ним функции. Самые простые и полезные из них - это поэлементные функции. Они работают, выполняя одну скалярную операцию над соответствующими элементами двух массивов. "
      ]
    },
    {
      "cell_type": "code",
      "metadata": {
        "ExecuteTime": {
          "end_time": "2019-11-04T10:14:26.032545Z",
          "start_time": "2019-11-04T10:14:26.019806Z"
        },
        "id": "KnyQ75Y-P4mZ",
        "colab_type": "code",
        "colab": {
          "base_uri": "https://localhost:8080/",
          "height": 119
        },
        "outputId": "19b048f2-3694-4857-929a-ec401f689185"
      },
      "source": [
        "x = torch.tensor([1., 2., 4., 8.])\n",
        "y = torch.ones_like(x) * 2\n",
        "print('x =', x)\n",
        "print('y =', y)\n",
        "print('x + y', x + y)\n",
        "print('x - y', x - y)\n",
        "print('x * y', x * y)\n",
        "print('x / y', x / y)"
      ],
      "execution_count": 12,
      "outputs": [
        {
          "output_type": "stream",
          "text": [
            "x = tensor([1., 2., 4., 8.])\n",
            "y = tensor([2., 2., 2., 2.])\n",
            "x + y tensor([ 3.,  4.,  6., 10.])\n",
            "x - y tensor([-1.,  0.,  2.,  6.])\n",
            "x * y tensor([ 2.,  4.,  8., 16.])\n",
            "x / y tensor([0.5000, 1.0000, 2.0000, 4.0000])\n"
          ],
          "name": "stdout"
        }
      ]
    },
    {
      "cell_type": "markdown",
      "metadata": {
        "ExecuteTime": {
          "end_time": "2019-10-15T19:38:22.460619Z",
          "start_time": "2019-10-15T19:38:22.450666Z"
        },
        "id": "aQs1zfnwP4mc",
        "colab_type": "text"
      },
      "source": [
        "Еще больше операций может быть выполненно поэлементно. Например - операции exp"
      ]
    },
    {
      "cell_type": "code",
      "metadata": {
        "ExecuteTime": {
          "end_time": "2019-11-04T10:14:26.798539Z",
          "start_time": "2019-11-04T10:14:26.793446Z"
        },
        "id": "-jjDe_1zP4md",
        "colab_type": "code",
        "colab": {
          "base_uri": "https://localhost:8080/",
          "height": 34
        },
        "outputId": "bea947d4-7dee-4447-99ca-ca08a3a56328"
      },
      "source": [
        "x.exp()"
      ],
      "execution_count": 13,
      "outputs": [
        {
          "output_type": "execute_result",
          "data": {
            "text/plain": [
              "tensor([2.7183e+00, 7.3891e+00, 5.4598e+01, 2.9810e+03])"
            ]
          },
          "metadata": {
            "tags": []
          },
          "execution_count": 13
        }
      ]
    },
    {
      "cell_type": "markdown",
      "metadata": {
        "id": "kbNWZgTGP4mg",
        "colab_type": "text"
      },
      "source": [
        "В дополнение к поэлементным вычислениям, мы также можем выполнять матричные операции. Например, матричное умножение. Для этого используется функция mm."
      ]
    },
    {
      "cell_type": "code",
      "metadata": {
        "ExecuteTime": {
          "end_time": "2019-11-04T10:14:27.634306Z",
          "start_time": "2019-11-04T10:14:27.627369Z"
        },
        "id": "51Lq0SlHP4mh",
        "colab_type": "code",
        "colab": {
          "base_uri": "https://localhost:8080/",
          "height": 68
        },
        "outputId": "4f1c7f6b-94f1-413c-c08f-9ba9e71600e4"
      },
      "source": [
        "x = torch.arange(12).reshape((3,4))\n",
        "y = torch.tensor([[2, 1, 4, 3], [1, 2, 3, 4], [4, 3, 2, 1]])\n",
        "torch.mm(x, y.T)"
      ],
      "execution_count": 14,
      "outputs": [
        {
          "output_type": "execute_result",
          "data": {
            "text/plain": [
              "tensor([[ 18,  20,  10],\n",
              "        [ 58,  60,  50],\n",
              "        [ 98, 100,  90]])"
            ]
          },
          "metadata": {
            "tags": []
          },
          "execution_count": 14
        }
      ]
    },
    {
      "cell_type": "markdown",
      "metadata": {
        "id": "g3j1Pr7CP4mk",
        "colab_type": "text"
      },
      "source": [
        "Мы также можем объединить несколько тензоров. Для этого нам нужно указать, по какому измерению производить объединение. В приведенном ниже примере объединяются две матрицы по измерению 0 (по строкам) и измерению 1 (по столбцам) соответственно."
      ]
    },
    {
      "cell_type": "code",
      "metadata": {
        "ExecuteTime": {
          "end_time": "2019-11-04T10:14:28.280923Z",
          "start_time": "2019-11-04T10:14:28.275297Z"
        },
        "id": "1p4cRLj7P4ml",
        "colab_type": "code",
        "colab": {
          "base_uri": "https://localhost:8080/",
          "height": 119
        },
        "outputId": "8baad4ce-5da9-4151-96e7-4add689a9aba"
      },
      "source": [
        "torch.cat((x, y), dim=0)"
      ],
      "execution_count": 15,
      "outputs": [
        {
          "output_type": "execute_result",
          "data": {
            "text/plain": [
              "tensor([[ 0,  1,  2,  3],\n",
              "        [ 4,  5,  6,  7],\n",
              "        [ 8,  9, 10, 11],\n",
              "        [ 2,  1,  4,  3],\n",
              "        [ 1,  2,  3,  4],\n",
              "        [ 4,  3,  2,  1]])"
            ]
          },
          "metadata": {
            "tags": []
          },
          "execution_count": 15
        }
      ]
    },
    {
      "cell_type": "code",
      "metadata": {
        "ExecuteTime": {
          "end_time": "2019-11-04T10:14:28.620471Z",
          "start_time": "2019-11-04T10:14:28.615092Z"
        },
        "id": "HCYy64WZP4mo",
        "colab_type": "code",
        "colab": {
          "base_uri": "https://localhost:8080/",
          "height": 68
        },
        "outputId": "1d95828b-0959-41c9-c173-2e204837cca3"
      },
      "source": [
        "torch.cat((x, y), dim=1)"
      ],
      "execution_count": 16,
      "outputs": [
        {
          "output_type": "execute_result",
          "data": {
            "text/plain": [
              "tensor([[ 0,  1,  2,  3,  2,  1,  4,  3],\n",
              "        [ 4,  5,  6,  7,  1,  2,  3,  4],\n",
              "        [ 8,  9, 10, 11,  4,  3,  2,  1]])"
            ]
          },
          "metadata": {
            "tags": []
          },
          "execution_count": 16
        }
      ]
    },
    {
      "cell_type": "markdown",
      "metadata": {
        "id": "_OiZrMfqP4mt",
        "colab_type": "text"
      },
      "source": [
        "Для получения булевых тензоров можно использовать булевы операторы. Например, можно сравнить два тензора при помощи оператора =="
      ]
    },
    {
      "cell_type": "code",
      "metadata": {
        "ExecuteTime": {
          "end_time": "2019-11-04T10:14:29.471560Z",
          "start_time": "2019-11-04T10:14:29.467255Z"
        },
        "scrolled": true,
        "id": "9ZiUMBmCP4mu",
        "colab_type": "code",
        "colab": {
          "base_uri": "https://localhost:8080/",
          "height": 68
        },
        "outputId": "37457ae6-e9fc-4442-c26a-cc87085d93e3"
      },
      "source": [
        "x == y"
      ],
      "execution_count": 17,
      "outputs": [
        {
          "output_type": "execute_result",
          "data": {
            "text/plain": [
              "tensor([[False,  True, False,  True],\n",
              "        [False, False, False, False],\n",
              "        [False, False, False, False]])"
            ]
          },
          "metadata": {
            "tags": []
          },
          "execution_count": 17
        }
      ]
    },
    {
      "cell_type": "markdown",
      "metadata": {
        "id": "-rz1-MZHP4m1",
        "colab_type": "text"
      },
      "source": [
        "Суммирование всех элементов тезора дает тензор с одним элементом."
      ]
    },
    {
      "cell_type": "code",
      "metadata": {
        "ExecuteTime": {
          "end_time": "2019-11-04T10:14:30.004374Z",
          "start_time": "2019-11-04T10:14:29.998934Z"
        },
        "id": "Gln8QxqTP4m2",
        "colab_type": "code",
        "colab": {
          "base_uri": "https://localhost:8080/",
          "height": 34
        },
        "outputId": "e58fefc5-f6c6-4634-cc04-58343a74df38"
      },
      "source": [
        "x.sum()"
      ],
      "execution_count": 18,
      "outputs": [
        {
          "output_type": "execute_result",
          "data": {
            "text/plain": [
              "tensor(66)"
            ]
          },
          "metadata": {
            "tags": []
          },
          "execution_count": 18
        }
      ]
    },
    {
      "cell_type": "markdown",
      "metadata": {
        "id": "6ygTpJapP4m5",
        "colab_type": "text"
      },
      "source": [
        "Мы можем преобразовать результат в скаляр в Python, используя функцию item"
      ]
    },
    {
      "cell_type": "code",
      "metadata": {
        "ExecuteTime": {
          "end_time": "2019-11-04T10:14:30.596014Z",
          "start_time": "2019-11-04T10:14:30.591238Z"
        },
        "id": "YI9DkPBLP4m6",
        "colab_type": "code",
        "colab": {
          "base_uri": "https://localhost:8080/",
          "height": 34
        },
        "outputId": "92e289d1-1253-44d2-eed0-8a2fdd7a6900"
      },
      "source": [
        "x.sum().item()"
      ],
      "execution_count": 19,
      "outputs": [
        {
          "output_type": "execute_result",
          "data": {
            "text/plain": [
              "66"
            ]
          },
          "metadata": {
            "tags": []
          },
          "execution_count": 19
        }
      ]
    },
    {
      "cell_type": "markdown",
      "metadata": {
        "id": "JkG5vfrmP4m8",
        "colab_type": "text"
      },
      "source": [
        "## Broadcast \n",
        "\n",
        "Выполнять операции можно не только с тензорами одинакового размера, но и разного. Когда их формы различаются, запускается механизм broadcast'а: Сначала элементы копируются соответствующим образом, чтобы два тензора имели одинаковую форму, а затем операции выполняются поэлементно."
      ]
    },
    {
      "cell_type": "code",
      "metadata": {
        "ExecuteTime": {
          "end_time": "2019-11-04T10:14:31.348854Z",
          "start_time": "2019-11-04T10:14:31.342921Z"
        },
        "scrolled": true,
        "id": "Av3oFNthP4m9",
        "colab_type": "code",
        "colab": {
          "base_uri": "https://localhost:8080/",
          "height": 68
        },
        "outputId": "6ef92ddb-47aa-45be-9638-5f7e47a41f57"
      },
      "source": [
        "a = torch.arange(3).reshape((3, 1))\n",
        "b = torch.arange(2).reshape((1, 2))\n",
        "a, b"
      ],
      "execution_count": 20,
      "outputs": [
        {
          "output_type": "execute_result",
          "data": {
            "text/plain": [
              "(tensor([[0],\n",
              "         [1],\n",
              "         [2]]), tensor([[0, 1]]))"
            ]
          },
          "metadata": {
            "tags": []
          },
          "execution_count": 20
        }
      ]
    },
    {
      "cell_type": "markdown",
      "metadata": {
        "id": "ZZqrEM5gP4nA",
        "colab_type": "text"
      },
      "source": [
        "Поскольку a и b являются матрицами (3x1) и (1x2) соответственно, их формы не совпадают. Torch решает эту проблему путем broadcast'а значений обеих матриц в большую (3x2) матрицу следующим образом: для матрицы a он реплицирует столбцы, для матрицы b он реплицирует строки. После чего запускается операция сложения"
      ]
    },
    {
      "cell_type": "code",
      "metadata": {
        "ExecuteTime": {
          "end_time": "2019-11-04T10:14:31.915612Z",
          "start_time": "2019-11-04T10:14:31.910912Z"
        },
        "id": "Ac3cTTe1P4nB",
        "colab_type": "code",
        "colab": {
          "base_uri": "https://localhost:8080/",
          "height": 68
        },
        "outputId": "413c618f-2af1-4f2b-ad2c-6ba0117272b0"
      },
      "source": [
        "a + b"
      ],
      "execution_count": 21,
      "outputs": [
        {
          "output_type": "execute_result",
          "data": {
            "text/plain": [
              "tensor([[0, 1],\n",
              "        [1, 2],\n",
              "        [2, 3]])"
            ]
          },
          "metadata": {
            "tags": []
          },
          "execution_count": 21
        }
      ]
    },
    {
      "cell_type": "markdown",
      "metadata": {
        "id": "fyjKY0N3P4nE",
        "colab_type": "text"
      },
      "source": [
        "## Индексирование\n",
        "\n",
        "Как и в любом другом массиве Python, элементы в тензоре могут быть доступны по их индексу. По традиции первый элемент имеет индекс 0, а диапазоны указываются для включения первого, но не последнего элемента. По этой логике `1: 3` выбирает второй и третий элемент из тензора"
      ]
    },
    {
      "cell_type": "code",
      "metadata": {
        "ExecuteTime": {
          "end_time": "2019-11-04T10:14:32.723721Z",
          "start_time": "2019-11-04T10:14:32.719130Z"
        },
        "id": "TQDjd9ywP4nF",
        "colab_type": "code",
        "colab": {
          "base_uri": "https://localhost:8080/",
          "height": 68
        },
        "outputId": "b222539c-96fd-4cd7-a6c2-7aa5e62c7d1a"
      },
      "source": [
        "x"
      ],
      "execution_count": 22,
      "outputs": [
        {
          "output_type": "execute_result",
          "data": {
            "text/plain": [
              "tensor([[ 0,  1,  2,  3],\n",
              "        [ 4,  5,  6,  7],\n",
              "        [ 8,  9, 10, 11]])"
            ]
          },
          "metadata": {
            "tags": []
          },
          "execution_count": 22
        }
      ]
    },
    {
      "cell_type": "code",
      "metadata": {
        "ExecuteTime": {
          "end_time": "2019-11-04T10:14:32.939575Z",
          "start_time": "2019-11-04T10:14:32.934721Z"
        },
        "id": "L4dPkbBWP4nH",
        "colab_type": "code",
        "colab": {
          "base_uri": "https://localhost:8080/",
          "height": 51
        },
        "outputId": "fe908aac-0725-4fda-c84f-ce72fdc56d06"
      },
      "source": [
        "x[1:3]"
      ],
      "execution_count": 23,
      "outputs": [
        {
          "output_type": "execute_result",
          "data": {
            "text/plain": [
              "tensor([[ 4,  5,  6,  7],\n",
              "        [ 8,  9, 10, 11]])"
            ]
          },
          "metadata": {
            "tags": []
          },
          "execution_count": 23
        }
      ]
    },
    {
      "cell_type": "markdown",
      "metadata": {
        "id": "dhFtofFnP4nK",
        "colab_type": "text"
      },
      "source": [
        "Мы так же можем изменять значения в тензоре"
      ]
    },
    {
      "cell_type": "code",
      "metadata": {
        "ExecuteTime": {
          "end_time": "2019-11-04T10:14:33.555946Z",
          "start_time": "2019-11-04T10:14:33.550844Z"
        },
        "id": "s_mxiG9xP4nL",
        "colab_type": "code",
        "colab": {
          "base_uri": "https://localhost:8080/",
          "height": 68
        },
        "outputId": "5264b054-d63a-490b-c329-f2e481cd4aaa"
      },
      "source": [
        "x[1, 2] = 9\n",
        "x"
      ],
      "execution_count": 24,
      "outputs": [
        {
          "output_type": "execute_result",
          "data": {
            "text/plain": [
              "tensor([[ 0,  1,  2,  3],\n",
              "        [ 4,  5,  9,  7],\n",
              "        [ 8,  9, 10, 11]])"
            ]
          },
          "metadata": {
            "tags": []
          },
          "execution_count": 24
        }
      ]
    },
    {
      "cell_type": "markdown",
      "metadata": {
        "id": "Co8myzEnP4nN",
        "colab_type": "text"
      },
      "source": [
        "Если мы хотим присвоить нескольким элементам одно и то же значение, мы просто индексируем все из них (при помощи оператора `:`), а затем присваиваем им значение. Например, `[0:2,:]` обращается к первой и второй строчкам."
      ]
    },
    {
      "cell_type": "code",
      "metadata": {
        "ExecuteTime": {
          "end_time": "2019-11-04T10:14:34.014251Z",
          "start_time": "2019-11-04T10:14:34.009693Z"
        },
        "id": "ASo1Z7avP4nO",
        "colab_type": "code",
        "colab": {
          "base_uri": "https://localhost:8080/",
          "height": 68
        },
        "outputId": "422663b9-d171-404f-e145-fc42c6150dcb"
      },
      "source": [
        "x[0:2, :] = 12\n",
        "x"
      ],
      "execution_count": 25,
      "outputs": [
        {
          "output_type": "execute_result",
          "data": {
            "text/plain": [
              "tensor([[12, 12, 12, 12],\n",
              "        [12, 12, 12, 12],\n",
              "        [ 8,  9, 10, 11]])"
            ]
          },
          "metadata": {
            "tags": []
          },
          "execution_count": 25
        }
      ]
    },
    {
      "cell_type": "markdown",
      "metadata": {
        "id": "cVunSEnpP4nR",
        "colab_type": "text"
      },
      "source": [
        "## В numpy и назад"
      ]
    },
    {
      "cell_type": "code",
      "metadata": {
        "ExecuteTime": {
          "end_time": "2019-11-04T10:14:34.658050Z",
          "start_time": "2019-11-04T10:14:34.653115Z"
        },
        "id": "7xEd7FOoP4nS",
        "colab_type": "code",
        "colab": {
          "base_uri": "https://localhost:8080/",
          "height": 68
        },
        "outputId": "09b376c5-56da-4c83-ddb7-1143afc71056"
      },
      "source": [
        "x.numpy()"
      ],
      "execution_count": 26,
      "outputs": [
        {
          "output_type": "execute_result",
          "data": {
            "text/plain": [
              "array([[12, 12, 12, 12],\n",
              "       [12, 12, 12, 12],\n",
              "       [ 8,  9, 10, 11]])"
            ]
          },
          "metadata": {
            "tags": []
          },
          "execution_count": 26
        }
      ]
    },
    {
      "cell_type": "code",
      "metadata": {
        "ExecuteTime": {
          "end_time": "2019-10-15T19:55:23.232506Z",
          "start_time": "2019-10-15T19:55:23.224403Z"
        },
        "id": "qN7SO2EXP4nU",
        "colab_type": "code",
        "colab": {
          "base_uri": "https://localhost:8080/",
          "height": 68
        },
        "outputId": "70eac808-db0a-4e53-9fdd-acfe2890f270"
      },
      "source": [
        "y = torch.tensor(x.numpy())\n",
        "y"
      ],
      "execution_count": 27,
      "outputs": [
        {
          "output_type": "execute_result",
          "data": {
            "text/plain": [
              "tensor([[12, 12, 12, 12],\n",
              "        [12, 12, 12, 12],\n",
              "        [ 8,  9, 10, 11]])"
            ]
          },
          "metadata": {
            "tags": []
          },
          "execution_count": 27
        }
      ]
    },
    {
      "cell_type": "markdown",
      "metadata": {
        "id": "RS3f2fFPP4nX",
        "colab_type": "text"
      },
      "source": [
        "## Немного практики"
      ]
    },
    {
      "cell_type": "markdown",
      "metadata": {
        "id": "BNN9v6vhP4nY",
        "colab_type": "text"
      },
      "source": [
        "1. Матрица B называется обратной к матрице A, если A*B = I (где I - единичная матрица). Найдите (перебором) обратную к матрице A = ((1,1), (1,2))\n",
        "2. Примениете оператор преобразования A = ((1,2), (3,4)) к квадрату с вершинами в точка (1,1), (1,-1), (-1, -1), (-1, 1) и найдите расстояния между получившимся вершинами"
      ]
    },
    {
      "cell_type": "code",
      "metadata": {
        "id": "PrROX5buP4nZ",
        "colab_type": "code",
        "colab": {
          "base_uri": "https://localhost:8080/",
          "height": 51
        },
        "outputId": "1d1e1e73-1a32-4354-c27d-27cdcb0e67e6"
      },
      "source": [
        "x = torch.tensor([1., 1., 1., 2.]).reshape((2, 2))\n",
        "x"
      ],
      "execution_count": 28,
      "outputs": [
        {
          "output_type": "execute_result",
          "data": {
            "text/plain": [
              "tensor([[1., 1.],\n",
              "        [1., 2.]])"
            ]
          },
          "metadata": {
            "tags": []
          },
          "execution_count": 28
        }
      ]
    },
    {
      "cell_type": "code",
      "metadata": {
        "id": "28jAk_4SP4nb",
        "colab_type": "code",
        "colab": {
          "base_uri": "https://localhost:8080/",
          "height": 51
        },
        "outputId": "305df5db-2513-4197-c716-9a44c92aca65"
      },
      "source": [
        "y = torch.tensor([2., -1., -1., 1.]).reshape((2, 2))\n",
        "y"
      ],
      "execution_count": 29,
      "outputs": [
        {
          "output_type": "execute_result",
          "data": {
            "text/plain": [
              "tensor([[ 2., -1.],\n",
              "        [-1.,  1.]])"
            ]
          },
          "metadata": {
            "tags": []
          },
          "execution_count": 29
        }
      ]
    },
    {
      "cell_type": "code",
      "metadata": {
        "id": "5M77f6RjP4nd",
        "colab_type": "code",
        "colab": {
          "base_uri": "https://localhost:8080/",
          "height": 51
        },
        "outputId": "b5848d4f-c52a-4a04-de8b-eb87267dce43"
      },
      "source": [
        "torch.mm(x, y)"
      ],
      "execution_count": 30,
      "outputs": [
        {
          "output_type": "execute_result",
          "data": {
            "text/plain": [
              "tensor([[1., 0.],\n",
              "        [0., 1.]])"
            ]
          },
          "metadata": {
            "tags": []
          },
          "execution_count": 30
        }
      ]
    },
    {
      "cell_type": "code",
      "metadata": {
        "ExecuteTime": {
          "end_time": "2019-11-05T17:23:49.804403Z",
          "start_time": "2019-11-05T17:23:49.799436Z"
        },
        "id": "UuiQkz9WP4ng",
        "colab_type": "code",
        "colab": {}
      },
      "source": [
        "verteces = [[1.,1.], [1.,-1.], [-1., -1.], [-1., 1.]]\n",
        "vt = [torch.tensor(v) for v in verteces]\n",
        "op = torch.tensor([[1.,2.], [3.,4.]])"
      ],
      "execution_count": 0,
      "outputs": []
    },
    {
      "cell_type": "code",
      "metadata": {
        "ExecuteTime": {
          "end_time": "2019-11-05T17:24:06.963442Z",
          "start_time": "2019-11-05T17:24:06.959920Z"
        },
        "id": "WmkZuNejP4ni",
        "colab_type": "code",
        "colab": {}
      },
      "source": [
        "transformed = [torch.mv(op, t) for t in vt]"
      ],
      "execution_count": 0,
      "outputs": []
    },
    {
      "cell_type": "code",
      "metadata": {
        "ExecuteTime": {
          "end_time": "2019-11-05T17:24:31.888828Z",
          "start_time": "2019-11-05T17:24:31.873035Z"
        },
        "id": "q9p6-UotP4nk",
        "colab_type": "code",
        "colab": {
          "base_uri": "https://localhost:8080/",
          "height": 153
        },
        "outputId": "2b6d9786-ccd4-4431-e517-bfb9fb8bb0f9"
      },
      "source": [
        "for i in range(-1, 3):\n",
        "    v1 = vt[i]\n",
        "    v2 = vt[i + 1]\n",
        "    distance = torch.sqrt(((v1 - v2)**2).sum())\n",
        "    print(\"Distance between {} and {} was {:.3f}\".format(v1, v2, distance.item()))\n",
        "    \n",
        "    v1 = transformed[i]\n",
        "    v2 = transformed[i + 1]\n",
        "    distance = torch.sqrt(((v1 - v2)**2).sum())\n",
        "    print(\"Distance between {} and {} now {:.3f}\".format(v1, v2, distance.item()))"
      ],
      "execution_count": 33,
      "outputs": [
        {
          "output_type": "stream",
          "text": [
            "Distance between tensor([-1.,  1.]) and tensor([1., 1.]) was 2.000\n",
            "Distance between tensor([1., 1.]) and tensor([3., 7.]) now 6.325\n",
            "Distance between tensor([1., 1.]) and tensor([ 1., -1.]) was 2.000\n",
            "Distance between tensor([3., 7.]) and tensor([-1., -1.]) now 8.944\n",
            "Distance between tensor([ 1., -1.]) and tensor([-1., -1.]) was 2.000\n",
            "Distance between tensor([-1., -1.]) and tensor([-3., -7.]) now 6.325\n",
            "Distance between tensor([-1., -1.]) and tensor([-1.,  1.]) was 2.000\n",
            "Distance between tensor([-3., -7.]) and tensor([1., 1.]) now 8.944\n"
          ],
          "name": "stdout"
        }
      ]
    },
    {
      "cell_type": "markdown",
      "metadata": {
        "id": "awq0X3xaP4nn",
        "colab_type": "text"
      },
      "source": [
        "## Вероятности"
      ]
    },
    {
      "cell_type": "code",
      "metadata": {
        "ExecuteTime": {
          "end_time": "2019-11-04T10:35:40.072759Z",
          "start_time": "2019-11-04T10:35:40.067263Z"
        },
        "id": "KnrkOZOfP4nn",
        "colab_type": "code",
        "colab": {}
      },
      "source": [
        "# Равномерное распределение вероятности"
      ],
      "execution_count": 0,
      "outputs": []
    },
    {
      "cell_type": "code",
      "metadata": {
        "ExecuteTime": {
          "end_time": "2019-11-04T10:35:53.933752Z",
          "start_time": "2019-11-04T10:35:53.928481Z"
        },
        "id": "Yq3KJEBmP4np",
        "colab_type": "code",
        "colab": {
          "base_uri": "https://localhost:8080/",
          "height": 51
        },
        "outputId": "0d94eccf-ad6f-4176-d68f-6201c9f9e476"
      },
      "source": [
        "torch.rand(10)"
      ],
      "execution_count": 35,
      "outputs": [
        {
          "output_type": "execute_result",
          "data": {
            "text/plain": [
              "tensor([0.7893, 0.7869, 0.2463, 0.4393, 0.0809, 0.1068, 0.8385, 0.0011, 0.5120,\n",
              "        0.8587])"
            ]
          },
          "metadata": {
            "tags": []
          },
          "execution_count": 35
        }
      ]
    },
    {
      "cell_type": "code",
      "metadata": {
        "ExecuteTime": {
          "end_time": "2019-11-04T10:36:02.270795Z",
          "start_time": "2019-11-04T10:36:02.268400Z"
        },
        "id": "ASgOA77eP4nr",
        "colab_type": "code",
        "colab": {}
      },
      "source": [
        "## Нормальное распределение"
      ],
      "execution_count": 0,
      "outputs": []
    },
    {
      "cell_type": "code",
      "metadata": {
        "ExecuteTime": {
          "end_time": "2019-11-04T10:36:10.044224Z",
          "start_time": "2019-11-04T10:36:10.032788Z"
        },
        "id": "YiFNOEStP4nv",
        "colab_type": "code",
        "colab": {
          "base_uri": "https://localhost:8080/",
          "height": 51
        },
        "outputId": "9ec07356-c1d6-4303-a09e-f4d5d5c34fee"
      },
      "source": [
        "torch.randn(10)"
      ],
      "execution_count": 37,
      "outputs": [
        {
          "output_type": "execute_result",
          "data": {
            "text/plain": [
              "tensor([ 0.6983, -2.7795, -0.3660, -1.1086, -0.1580, -0.5968,  2.2219,  0.4923,\n",
              "        -1.7868, -0.6415])"
            ]
          },
          "metadata": {
            "tags": []
          },
          "execution_count": 37
        }
      ]
    },
    {
      "cell_type": "code",
      "metadata": {
        "ExecuteTime": {
          "end_time": "2019-11-04T10:36:29.458108Z",
          "start_time": "2019-11-04T10:36:29.455040Z"
        },
        "id": "8o-ZKajmP4ny",
        "colab_type": "code",
        "colab": {}
      },
      "source": [
        "## Равномерное на целых числах"
      ],
      "execution_count": 0,
      "outputs": []
    },
    {
      "cell_type": "code",
      "metadata": {
        "ExecuteTime": {
          "end_time": "2019-11-04T10:36:55.575964Z",
          "start_time": "2019-11-04T10:36:55.564475Z"
        },
        "id": "hHwbb3kvP4n1",
        "colab_type": "code",
        "colab": {
          "base_uri": "https://localhost:8080/",
          "height": 34
        },
        "outputId": "c1a40984-c31e-4d13-805a-e93b1499daf9"
      },
      "source": [
        "torch.randint(0, 10, (10,))"
      ],
      "execution_count": 39,
      "outputs": [
        {
          "output_type": "execute_result",
          "data": {
            "text/plain": [
              "tensor([8, 4, 5, 5, 6, 1, 0, 0, 8, 3])"
            ]
          },
          "metadata": {
            "tags": []
          },
          "execution_count": 39
        }
      ]
    },
    {
      "cell_type": "markdown",
      "metadata": {
        "id": "oAvr7M8gP4n4",
        "colab_type": "text"
      },
      "source": [
        "## Постройте график плотности для нормального распределения"
      ]
    },
    {
      "cell_type": "code",
      "metadata": {
        "id": "c947-PX4P4n5",
        "colab_type": "code",
        "colab": {}
      },
      "source": [
        "import matplotlib.pyplot as plt"
      ],
      "execution_count": 0,
      "outputs": []
    },
    {
      "cell_type": "code",
      "metadata": {
        "id": "cc2BJ0P9P4n8",
        "colab_type": "code",
        "colab": {
          "base_uri": "https://localhost:8080/",
          "height": 265
        },
        "outputId": "e70737b4-ba00-441f-e6c2-0c60c0edfd02"
      },
      "source": [
        "plt.hist(torch.randn(10000), bins=100);"
      ],
      "execution_count": 41,
      "outputs": [
        {
          "output_type": "display_data",
          "data": {
            "image/png": "[encoded data removed]",
            "text/plain": [
              "<Figure size 432x288 with 1 Axes>"
            ]
          },
          "metadata": {
            "tags": []
          }
        }
      ]
    },
    {
      "cell_type": "markdown",
      "metadata": {
        "id": "LtZhiJ1_P4n-",
        "colab_type": "text"
      },
      "source": [
        "## Теорема Баеса"
      ]
    },
    {
      "cell_type": "code",
      "metadata": {
        "ExecuteTime": {
          "end_time": "2019-11-04T10:38:01.240059Z",
          "start_time": "2019-11-04T10:38:01.054722Z"
        },
        "id": "hP52xIi4P4n_",
        "colab_type": "code",
        "colab": {}
      },
      "source": [
        "import torchvision"
      ],
      "execution_count": 0,
      "outputs": []
    },
    {
      "cell_type": "code",
      "metadata": {
        "ExecuteTime": {
          "end_time": "2019-11-04T10:44:14.593070Z",
          "start_time": "2019-11-04T10:44:14.589491Z"
        },
        "id": "bb5LI21NP4oB",
        "colab_type": "code",
        "colab": {}
      },
      "source": [
        "def transform(data):\n",
        "    data = torch.tensor(data.getdata(), dtype=torch.float32)\n",
        "    return torch.floor(data / 128.).squeeze(axis=-1)"
      ],
      "execution_count": 0,
      "outputs": []
    },
    {
      "cell_type": "code",
      "metadata": {
        "ExecuteTime": {
          "end_time": "2019-11-04T10:44:15.031006Z",
          "start_time": "2019-11-04T10:44:14.978507Z"
        },
        "id": "3nVB3eX-P4oD",
        "colab_type": "code",
        "colab": {}
      },
      "source": [
        "mnist_train = torchvision.datasets.MNIST('.', train=True, transform=transform, download=True)\n",
        "mnist_test  = torchvision.datasets.MNIST('.', train=False, transform=transform, download=True)"
      ],
      "execution_count": 0,
      "outputs": []
    },
    {
      "cell_type": "code",
      "metadata": {
        "ExecuteTime": {
          "end_time": "2019-11-04T10:44:58.840112Z",
          "start_time": "2019-11-04T10:44:58.835224Z"
        },
        "id": "fumpHpciP4oH",
        "colab_type": "code",
        "colab": {
          "base_uri": "https://localhost:8080/",
          "height": 34
        },
        "outputId": "d3391f7b-82c8-47b1-cfd5-ccdb8a7410d5"
      },
      "source": [
        "mnist_train[0][0].shape"
      ],
      "execution_count": 45,
      "outputs": [
        {
          "output_type": "execute_result",
          "data": {
            "text/plain": [
              "torch.Size([784])"
            ]
          },
          "metadata": {
            "tags": []
          },
          "execution_count": 45
        }
      ]
    },
    {
      "cell_type": "code",
      "metadata": {
        "ExecuteTime": {
          "end_time": "2019-11-04T10:45:58.919510Z",
          "start_time": "2019-11-04T10:45:58.425460Z"
        },
        "id": "9ytb-MF1P4oJ",
        "colab_type": "code",
        "colab": {
          "base_uri": "https://localhost:8080/",
          "height": 282
        },
        "outputId": "0a3d52d7-7940-4fec-c0b2-6a227499a994"
      },
      "source": [
        "import matplotlib.pyplot as plt\n",
        "%matplotlib inline\n",
        "plt.imshow(mnist_train[0][0].reshape(28, 28), cmap='gray', vmin=0, vmax=1)"
      ],
      "execution_count": 46,
      "outputs": [
        {
          "output_type": "execute_result",
          "data": {
            "text/plain": [
              "<matplotlib.image.AxesImage at 0x7f270ddc3860>"
            ]
          },
          "metadata": {
            "tags": []
          },
          "execution_count": 46
        },
        {
          "output_type": "display_data",
          "data": {
            "image/png": "[encoded data removed]",
            "text/plain": [
              "<Figure size 432x288 with 1 Axes>"
            ]
          },
          "metadata": {
            "tags": []
          }
        }
      ]
    },
    {
      "cell_type": "markdown",
      "metadata": {
        "id": "ZSNK3r4bP4oP",
        "colab_type": "text"
      },
      "source": [
        "## Практика - реализуйте сами (без использования SKLEARN) наивный баесовский классификатор для этой задачи для меток 1 и 2"
      ]
    },
    {
      "cell_type": "code",
      "metadata": {
        "id": "YNhOCRQcP4oQ",
        "colab_type": "code",
        "colab": {
          "base_uri": "https://localhost:8080/",
          "height": 119
        },
        "outputId": "6316b877-29fc-415a-8552-8929004f10d7"
      },
      "source": [
        "mnist_train"
      ],
      "execution_count": 47,
      "outputs": [
        {
          "output_type": "execute_result",
          "data": {
            "text/plain": [
              "Dataset MNIST\n",
              "    Number of datapoints: 60000\n",
              "    Root location: .\n",
              "    Split: Train\n",
              "    StandardTransform\n",
              "Transform: <function transform at 0x7f270e1c1048>"
            ]
          },
          "metadata": {
            "tags": []
          },
          "execution_count": 47
        }
      ]
    },
    {
      "cell_type": "code",
      "metadata": {
        "id": "2wgzGDqzn4TA",
        "colab_type": "code",
        "colab": {}
      },
      "source": [
        "dev = torch.device('cuda')"
      ],
      "execution_count": 0,
      "outputs": []
    },
    {
      "cell_type": "code",
      "metadata": {
        "id": "9EzF9e-kP4oS",
        "colab_type": "code",
        "colab": {}
      },
      "source": [
        "n_class1, n_class2 = torch.tensor(0).to(dev), torch.tensor(0).to(dev)\n",
        "classes_stat = torch.zeros((2,2,784)).to(dev) # 2 classes (1 and 2), 2 values (0 and 1), 784 points\n",
        "total_stat = torch.zeros((2,784)).to(dev) # 2 values (0 and 1), 784 points"
      ],
      "execution_count": 0,
      "outputs": []
    },
    {
      "cell_type": "code",
      "metadata": {
        "id": "Cv-8AVKXrSq2",
        "colab_type": "code",
        "colab": {
          "base_uri": "https://localhost:8080/",
          "height": 34
        },
        "outputId": "e40f41ad-91ca-4445-95bc-49db91cb1b2b"
      },
      "source": [
        "for i in range(len(mnist_train)):\n",
        "  class_id = mnist_train[i][1]\n",
        "  if class_id == 1 or class_id == 2:\n",
        "    n_class1 += 1 if class_id == 1 else 0\n",
        "    n_class2 += 1 if class_id == 2 else 0\n",
        "    \n",
        "    mnist_train_item = mnist_train[i][0].numpy().astype(int)\n",
        "    for p in range(784):\n",
        "      v = mnist_train_item[p]\n",
        "      # gather stats of values 0/1 for each class and each point of image\n",
        "      classes_stat[class_id - 1][v][p] += 1\n",
        "      # gather stats of values 0/1 per each point of image\n",
        "      total_stat[v][p] += 1\n",
        "\n",
        "print(n_class1, n_class2)"
      ],
      "execution_count": 50,
      "outputs": [
        {
          "output_type": "stream",
          "text": [
            "tensor(6742, device='cuda:0') tensor(5958, device='cuda:0')\n"
          ],
          "name": "stdout"
        }
      ]
    },
    {
      "cell_type": "code",
      "metadata": {
        "id": "WQ8YGBHfiGJk",
        "colab_type": "code",
        "colab": {}
      },
      "source": [
        "# calc probability of classes\n",
        "p_1 = n_class1 / float(n_class1 + n_class2)\n",
        "p_2 = 1. - p_1\n",
        "\n",
        "# calc probability of values 0/1 for each class and each point of image\n",
        "classes_stat[0] /= float(n_class1)\n",
        "classes_stat[1] /= float(n_class2)\n",
        "# calc probability of values 0/1 per each point of image\n",
        "total_stat /= float(n_class1 + n_class2)"
      ],
      "execution_count": 0,
      "outputs": []
    },
    {
      "cell_type": "code",
      "metadata": {
        "id": "B5Qg33TVsLIm",
        "colab_type": "code",
        "colab": {
          "base_uri": "https://localhost:8080/",
          "height": 1000
        },
        "outputId": "2bb5ec77-4703-4f99-9048-3f13acce7a0d"
      },
      "source": [
        "#torch.set_default_tensor_type('torch.DoubleTensor')\n",
        "errors_count, images = 0, 0\n",
        "fig, axes = plt.subplots(10, 1, figsize=(10,30))\n",
        "fig.tight_layout()\n",
        "\n",
        "for i in range(len(mnist_test)):\n",
        "  class_id = mnist_test[i][1]\n",
        "  if class_id == 1 or class_id == 2:\n",
        "    class_fcst, p1 = 1, 1.\n",
        "    mnist_test_item = mnist_test[i][0].numpy().astype(int)\n",
        "    for p in range(784):\n",
        "      v = mnist_test_item[p]\n",
        "      p1 *= classes_stat[0][v][p] / total_stat[v][p] # calc probability of class 1\n",
        "      #print(p, p1, classes_stat[0][v][p], total_stat[v][p])\n",
        "    \n",
        "    #print(class_id, p1, p1*p_1, p_1)\n",
        "    #break\n",
        "    if p1 * p_1 > 0.5:\n",
        "      class_fcst = 1\n",
        "    else:\n",
        "      class_fcst = 2\n",
        "    \n",
        "    if class_id != class_fcst:\n",
        "      errors_count += 1\n",
        "      if images < 10:\n",
        "        #print(f'Predicted class = {class_fcst}, but corrected class = {class_id}')\n",
        "        #plt.imshow(mnist_test_item.reshape(28, 28), cmap='gray', vmin=0, vmax=1)\n",
        "        #plt.title(f'Predicted class = {class_fcst}, but corrected class = {class_id}')\n",
        "        axes[images].imshow(mnist_test_item.reshape(28, 28), cmap='gray', vmin=0, vmax=1)\n",
        "        axes[images].set_title(f'Predicted class = {class_fcst}, but corrected class = {class_id}')\n",
        "        images += 1\n",
        "\n",
        "plt.show()\n",
        "print(f'Total count of examples with incorrect predicted class: {errors_count}')"
      ],
      "execution_count": 52,
      "outputs": [
        {
          "output_type": "display_data",
          "data": {
            "image/png": "[encoded data removed]",
            "text/plain": [
              "<Figure size 720x2160 with 10 Axes>"
            ]
          },
          "metadata": {
            "tags": []
          }
        },
        {
          "output_type": "display_data",
          "data": {
            "text/plain": [
              "<Figure size 576x576 with 0 Axes>"
            ]
          },
          "metadata": {
            "tags": []
          }
        },
        {
          "output_type": "stream",
          "text": [
            "Total count of examples with incorrect predicted class: 88\n"
          ],
          "name": "stdout"
        }
      ]
    }
  ]
}