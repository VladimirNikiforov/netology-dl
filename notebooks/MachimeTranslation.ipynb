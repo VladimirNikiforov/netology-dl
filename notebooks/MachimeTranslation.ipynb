{
 "cells": [
  {
   "cell_type": "code",
   "execution_count": 79,
   "metadata": {
    "ExecuteTime": {
     "end_time": "2019-11-28T06:38:54.285592Z",
     "start_time": "2019-11-28T06:38:54.282113Z"
    }
   },
   "outputs": [],
   "source": [
    "import time\n",
    "import torch\n",
    "import zipfile\n",
    "import collections\n",
    "from torch import nn"
   ]
  },
  {
   "cell_type": "code",
   "execution_count": 80,
   "metadata": {
    "ExecuteTime": {
     "end_time": "2019-11-28T06:38:57.089313Z",
     "start_time": "2019-11-28T06:38:54.975704Z"
    }
   },
   "outputs": [
    {
     "name": "stdout",
     "output_type": "stream",
     "text": [
      "--2019-11-28 09:38:55--  http://www.manythings.org/anki/fra-eng.zip\n",
      "Resolving www.manythings.org (www.manythings.org)... 104.24.108.196, 104.24.109.196\n",
      "Connecting to www.manythings.org (www.manythings.org)|104.24.108.196|:80... connected.\n",
      "HTTP request sent, awaiting response... 200 OK\n",
      "Length: 5800008 (5.5M) [application/zip]\n",
      "Saving to: ‘fra-eng.zip.1’\n",
      "\n",
      "fra-eng.zip.1       100%[===================>]   5.53M  5.96MB/s    in 0.9s    \n",
      "\n",
      "2019-11-28 09:38:56 (5.96 MB/s) - ‘fra-eng.zip.1’ saved [5800008/5800008]\n",
      "\n"
     ]
    }
   ],
   "source": [
    "!wget http://www.manythings.org/anki/fra-eng.zip"
   ]
  },
  {
   "cell_type": "code",
   "execution_count": 81,
   "metadata": {
    "ExecuteTime": {
     "end_time": "2019-11-28T06:38:57.558982Z",
     "start_time": "2019-11-28T06:38:57.392418Z"
    }
   },
   "outputs": [
    {
     "name": "stdout",
     "output_type": "stream",
     "text": [
      "Go.\tVa !\tCC-BY 2.0 (France) Attribution: tatoeba.org #2877272 (CM) & #1158250 (Wittydev)\n",
      "Hi.\tSa\n"
     ]
    }
   ],
   "source": [
    "with zipfile.ZipFile(\"fra-eng.zip\", 'r') as f:\n",
    "    raw_text = f.read('fra.txt').decode(\"utf-8\")\n",
    "print(raw_text[0:95])"
   ]
  },
  {
   "cell_type": "code",
   "execution_count": 82,
   "metadata": {
    "ExecuteTime": {
     "end_time": "2019-11-28T06:39:03.816032Z",
     "start_time": "2019-11-28T06:38:58.051614Z"
    },
    "scrolled": true
   },
   "outputs": [
    {
     "name": "stdout",
     "output_type": "stream",
     "text": [
      "go .\tva !\tcc-by 2 .0 (france) attribution: tatoeba .org #2877272 (cm) & #1158250 (wittydev)\n",
      "hi \n"
     ]
    }
   ],
   "source": [
    "def preprocess_raw(text):\n",
    "    text = text.replace('\\u202f', ' ').replace('\\xa0', ' ')\n",
    "    out = ''\n",
    "    for i, char in enumerate(text.lower()):\n",
    "        if char in (',', '!', '.') and i > 0 and text[i-1] != ' ':\n",
    "            out += ' '\n",
    "        out += char\n",
    "    return out\n",
    "\n",
    "text = preprocess_raw(raw_text)\n",
    "print(text[0:95])"
   ]
  },
  {
   "cell_type": "code",
   "execution_count": 83,
   "metadata": {
    "ExecuteTime": {
     "end_time": "2019-11-28T06:39:03.822347Z",
     "start_time": "2019-11-28T06:39:03.818310Z"
    }
   },
   "outputs": [
    {
     "data": {
      "text/plain": [
       "'go .\\tva !\\tcc-by 2 .0 (france) attribution: tatoeba .org #2877272 (cm) & #1158250 (wittydev)\\nhi .\\tsalut !\\tcc-by 2 .0 (france) attribution: tatoeba .org #538123 (cm) & #509819 (aiji)\\nhi .\\tsalut .\\tcc-by '"
      ]
     },
     "execution_count": 83,
     "metadata": {},
     "output_type": "execute_result"
    }
   ],
   "source": [
    "text[:200]"
   ]
  },
  {
   "cell_type": "code",
   "execution_count": 84,
   "metadata": {
    "ExecuteTime": {
     "end_time": "2019-11-28T06:39:03.950097Z",
     "start_time": "2019-11-28T06:39:03.824288Z"
    }
   },
   "outputs": [
    {
     "data": {
      "text/plain": [
       "([['go', '.'], ['hi', '.'], ['hi', '.']],\n",
       " [['va', '!'], ['salut', '!'], ['salut', '.']])"
      ]
     },
     "execution_count": 84,
     "metadata": {},
     "output_type": "execute_result"
    }
   ],
   "source": [
    "num_examples = 1000\n",
    "source, target = [], []\n",
    "for i, line in enumerate(text.split('\\n')):\n",
    "    if i > num_examples:\n",
    "        break\n",
    "    parts = line.split('\\t')\n",
    "    if len(parts) == 3:\n",
    "        source.append(parts[0].split(' '))\n",
    "        target.append(parts[1].split(' '))\n",
    "\n",
    "source[0:3], target[0:3]"
   ]
  },
  {
   "cell_type": "code",
   "execution_count": 85,
   "metadata": {
    "ExecuteTime": {
     "end_time": "2019-11-28T06:39:03.958781Z",
     "start_time": "2019-11-28T06:39:03.953632Z"
    }
   },
   "outputs": [],
   "source": [
    "%matplotlib inline\n",
    "import matplotlib.pyplot as plt"
   ]
  },
  {
   "cell_type": "code",
   "execution_count": 86,
   "metadata": {
    "ExecuteTime": {
     "end_time": "2019-11-28T06:39:04.125324Z",
     "start_time": "2019-11-28T06:39:03.961900Z"
    }
   },
   "outputs": [
    {
     "data": {
      "image/png": "[encoded data removed]",
      "text/plain": [
       "<Figure size 432x288 with 1 Axes>"
      ]
     },
     "metadata": {
      "needs_background": "light"
     },
     "output_type": "display_data"
    }
   ],
   "source": [
    "plt.hist([[len(l) for l in source], [len(l) for l in target]],\n",
    "             label=['source', 'target'])\n",
    "plt.legend(loc='upper right')\n",
    "plt.show()"
   ]
  },
  {
   "cell_type": "code",
   "execution_count": 87,
   "metadata": {
    "ExecuteTime": {
     "end_time": "2019-11-28T06:39:04.136890Z",
     "start_time": "2019-11-28T06:39:04.127719Z"
    }
   },
   "outputs": [],
   "source": [
    "class Vocab(object):\n",
    "    def __init__(self, tokens, min_freq=0, use_special_tokens=False):\n",
    "        counter = collections.Counter(tokens)\n",
    "        self.token_freqs = sorted(counter.items(), key=lambda x: x[0])\n",
    "        self.token_freqs.sort(key=lambda x: x[1], reverse=True)\n",
    "        if use_special_tokens:\n",
    "            self.pad, self.bos, self.eos, self.unk = (0, 1, 2, 3)\n",
    "            uniq_tokens = ['<pad>', '<bos>', '<eos>', '<unk>']\n",
    "        else:\n",
    "            self.unk, uniq_tokens = 0, ['<unk>']\n",
    "        uniq_tokens +=  [token for token, freq in self.token_freqs \n",
    "                         if freq >= min_freq and token not in uniq_tokens]\n",
    "        self.idx_to_token, self.token_to_idx = [], dict()\n",
    "        for token in uniq_tokens:\n",
    "            self.idx_to_token.append(token)\n",
    "            self.token_to_idx[token] = len(self.idx_to_token) - 1\n",
    "            \n",
    "    def __len__(self):\n",
    "        return len(self.idx_to_token)\n",
    "\n",
    "    def __getitem__(self, tokens):\n",
    "        if not isinstance(tokens, (list, tuple)):\n",
    "            return self.token_to_idx.get(tokens, self.unk)\n",
    "        return [self.__getitem__(token) for token in tokens]\n",
    "\n",
    "    def to_tokens(self, indices):\n",
    "        if not isinstance(indices, (list, tuple)):\n",
    "            return self.idx_to_token[indices]\n",
    "        return [self.idx_to_token[index] for index in indices]"
   ]
  },
  {
   "cell_type": "code",
   "execution_count": 88,
   "metadata": {
    "ExecuteTime": {
     "end_time": "2019-11-28T06:39:04.679726Z",
     "start_time": "2019-11-28T06:39:04.669144Z"
    }
   },
   "outputs": [
    {
     "data": {
      "text/plain": [
       "178"
      ]
     },
     "execution_count": 88,
     "metadata": {},
     "output_type": "execute_result"
    }
   ],
   "source": [
    "def build_vocab(tokens):\n",
    "    tokens = [token for line in tokens for token in line]\n",
    "    return Vocab(tokens, min_freq=3, use_special_tokens=True)\n",
    "\n",
    "src_vocab = build_vocab(source)\n",
    "len(src_vocab)"
   ]
  },
  {
   "cell_type": "code",
   "execution_count": 89,
   "metadata": {
    "ExecuteTime": {
     "end_time": "2019-11-28T06:39:05.170561Z",
     "start_time": "2019-11-28T06:39:05.164499Z"
    }
   },
   "outputs": [
    {
     "data": {
      "text/plain": [
       "[9, 4, 0, 0, 0, 0, 0, 0, 0, 0]"
      ]
     },
     "execution_count": 89,
     "metadata": {},
     "output_type": "execute_result"
    }
   ],
   "source": [
    "def pad(line, max_len, padding_token):\n",
    "    if len(line) > max_len:\n",
    "        return line[:max_len]\n",
    "    return line + [padding_token] * (max_len - len(line))\n",
    "\n",
    "pad(src_vocab[source[0]], 10, src_vocab.pad)"
   ]
  },
  {
   "cell_type": "code",
   "execution_count": 115,
   "metadata": {
    "ExecuteTime": {
     "end_time": "2019-11-28T06:50:09.446623Z",
     "start_time": "2019-11-28T06:50:09.439758Z"
    }
   },
   "outputs": [],
   "source": [
    "def build_array(lines, vocab, max_len, is_source, build_mask=False):\n",
    "    lines = [vocab[line] for line in lines]\n",
    "    if not is_source:\n",
    "        lines = [[vocab.bos] + line + [vocab.eos] for line in lines]\n",
    "    array = torch.LongTensor([pad(line, max_len, vocab.pad) for line in lines])\n",
    "    valid_len = (array != vocab.pad).sum(axis=1)\n",
    "    \n",
    "    if build_mask:\n",
    "        mask = torch.zeros_like(array).type(torch.float)\n",
    "        for i in range(len(valid_len)):\n",
    "            mask[i, :valid_len[i]]=1.\n",
    "        return array, valid_len, mask\n",
    "\n",
    "    return array, valid_len"
   ]
  },
  {
   "cell_type": "code",
   "execution_count": 116,
   "metadata": {
    "ExecuteTime": {
     "end_time": "2019-11-28T06:50:10.148402Z",
     "start_time": "2019-11-28T06:50:10.143311Z"
    }
   },
   "outputs": [],
   "source": [
    "def load_data_nmt(batch_size, max_len): \n",
    "    src_vocab, tgt_vocab = build_vocab(source), build_vocab(target)\n",
    "    src_array, src_valid_len = build_array(source, src_vocab, max_len, True, False)\n",
    "    tgt_array, tgt_valid_len, tgt_mask = build_array(target, tgt_vocab, max_len, False, True)\n",
    "    train_data = torch.utils.data.TensorDataset(\n",
    "        src_array, src_valid_len, tgt_array, tgt_valid_len, tgt_mask)\n",
    "    train_iter = torch.utils.data.DataLoader(train_data, batch_size, shuffle=True)\n",
    "    return src_vocab, tgt_vocab, train_iter"
   ]
  },
  {
   "cell_type": "code",
   "execution_count": 117,
   "metadata": {
    "ExecuteTime": {
     "end_time": "2019-11-28T06:50:10.771717Z",
     "start_time": "2019-11-28T06:50:10.715471Z"
    }
   },
   "outputs": [
    {
     "name": "stdout",
     "output_type": "stream",
     "text": [
      "X = tensor([[101,  14,   6,   0,   0,   0,   0,   0],\n",
      "        [ 29,  12,  52,   4,   0,   0,   0,   0]], dtype=torch.int32) \n",
      "Valid lengths for X = tensor([3, 4]) \n",
      "Y = tensor([[ 1, 21,  3,  5,  2,  0,  0,  0],\n",
      "        [ 1, 56,  3,  4,  2,  0,  0,  0]], dtype=torch.int32) \n",
      "Valid lengths for Y = tensor([5, 5]) \n",
      "Y mask = tensor([[1., 1., 1., 1., 1., 0., 0., 0.],\n",
      "        [1., 1., 1., 1., 1., 0., 0., 0.]])\n"
     ]
    }
   ],
   "source": [
    "src_vocab, tgt_vocab, train_iter = load_data_nmt(batch_size=2, max_len=8)\n",
    "for X, X_valid_len, Y, Y_valid_len, y_mask in train_iter:\n",
    "    print('X =', X.type(torch.int), '\\nValid lengths for X =', X_valid_len,\n",
    "          '\\nY =', Y.type(torch.int), '\\nValid lengths for Y =', Y_valid_len,\n",
    "          '\\nY mask =', y_mask)\n",
    "    break"
   ]
  },
  {
   "cell_type": "code",
   "execution_count": 93,
   "metadata": {
    "ExecuteTime": {
     "end_time": "2019-11-28T06:39:07.115609Z",
     "start_time": "2019-11-28T06:39:07.107806Z"
    }
   },
   "outputs": [],
   "source": [
    "class Encoder(nn.Module):\n",
    "    def __init__(self, vocab_size, embed_size, num_hiddens, num_layers,\n",
    "                 dropout=0, **kwargs):\n",
    "        super().__init__(**kwargs)\n",
    "        self.embedding = nn.Embedding(vocab_size, embed_size)\n",
    "        self.rnn = nn.LSTM(embed_size, num_hiddens, num_layers, dropout=dropout)\n",
    "        self.num_hiddens = num_hiddens\n",
    "        self.num_layers = num_layers\n",
    "\n",
    "    def forward(self, X, *args):\n",
    "        X = self.embedding(X) \n",
    "        X = X.permute(1, 0, 2)\n",
    "        state = (torch.zeros((self.num_layers, X.shape[1],self.num_hiddens)), torch.zeros((self.num_layers, X.shape[1],self.num_hiddens)))\n",
    "        out, state = self.rnn(X, state)\n",
    "        return out, state"
   ]
  },
  {
   "cell_type": "code",
   "execution_count": 94,
   "metadata": {
    "ExecuteTime": {
     "end_time": "2019-11-28T06:39:07.666113Z",
     "start_time": "2019-11-28T06:39:07.656406Z"
    }
   },
   "outputs": [
    {
     "data": {
      "text/plain": [
       "(torch.Size([7, 4, 16]), 2, torch.Size([2, 4, 16]), torch.Size([2, 4, 16]))"
      ]
     },
     "execution_count": 94,
     "metadata": {},
     "output_type": "execute_result"
    }
   ],
   "source": [
    "encoder = Encoder(vocab_size=10, embed_size=8,\n",
    "                         num_hiddens=16, num_layers=2)\n",
    "X = torch.zeros((4, 7)).type(torch.long)\n",
    "output, state = encoder(X)\n",
    "output.shape, len(state), state[0].shape, state[1].shape"
   ]
  },
  {
   "cell_type": "code",
   "execution_count": 95,
   "metadata": {
    "ExecuteTime": {
     "end_time": "2019-11-28T06:39:08.142419Z",
     "start_time": "2019-11-28T06:39:08.132313Z"
    }
   },
   "outputs": [],
   "source": [
    "class Decoder(nn.Module):\n",
    "    def __init__(self, vocab_size, embed_size, num_hiddens, num_layers,\n",
    "                 dropout=0, **kwargs):\n",
    "        super().__init__(**kwargs)\n",
    "        self.embedding = nn.Embedding(vocab_size, embed_size)\n",
    "        self.rnn = nn.LSTM(embed_size, num_hiddens, num_layers, dropout=dropout)\n",
    "        self.dense = nn.Linear(num_hiddens, vocab_size)\n",
    "        self.num_hiddens = num_hiddens\n",
    "        self.embed_size = embed_size\n",
    "        self.vocab_size = vocab_size\n",
    "\n",
    "    def init_state(self, enc_outputs, *args):\n",
    "        return enc_outputs[1]\n",
    "\n",
    "    def forward(self, X, state):\n",
    "        X = self.embedding(X).permute(1, 0, 2)\n",
    "        out, state = self.rnn(X, state)\n",
    "        out = self.dense(out.view(-1, self.num_hiddens)).view(out.shape[0], out.shape[1], self.vocab_size).permute(1, 0, 2)\n",
    "        return out, state"
   ]
  },
  {
   "cell_type": "code",
   "execution_count": 96,
   "metadata": {
    "ExecuteTime": {
     "end_time": "2019-11-28T06:39:08.588434Z",
     "start_time": "2019-11-28T06:39:08.576701Z"
    }
   },
   "outputs": [
    {
     "data": {
      "text/plain": [
       "(torch.Size([4, 7, 10]), 2, torch.Size([2, 4, 16]), torch.Size([2, 4, 16]))"
      ]
     },
     "execution_count": 96,
     "metadata": {},
     "output_type": "execute_result"
    }
   ],
   "source": [
    "decoder = Decoder(vocab_size=10, embed_size=8,\n",
    "                         num_hiddens=16, num_layers=2)\n",
    "state = decoder.init_state(encoder(X))\n",
    "out, state = decoder(X, state)\n",
    "out.shape, len(state), state[0].shape, state[1].shape"
   ]
  },
  {
   "cell_type": "code",
   "execution_count": 97,
   "metadata": {
    "ExecuteTime": {
     "end_time": "2019-11-28T06:39:08.997697Z",
     "start_time": "2019-11-28T06:39:08.992392Z"
    }
   },
   "outputs": [],
   "source": [
    "class EncoderDecoder(nn.Module):\n",
    "    def __init__(self, encoder, decoder, **kwargs):\n",
    "        super(EncoderDecoder, self).__init__(**kwargs)\n",
    "        self.encoder = encoder\n",
    "        self.decoder = decoder\n",
    "\n",
    "    def forward(self, enc_X, dec_X, *args):\n",
    "        enc_outputs = self.encoder(enc_X, *args)\n",
    "        dec_state = self.decoder.init_state(enc_outputs, *args)\n",
    "        return self.decoder(dec_X, dec_state)"
   ]
  },
  {
   "cell_type": "code",
   "execution_count": 131,
   "metadata": {
    "ExecuteTime": {
     "end_time": "2019-11-28T06:57:05.429515Z",
     "start_time": "2019-11-28T06:57:05.420405Z"
    }
   },
   "outputs": [],
   "source": [
    "def train(model, data_iter, lr, num_epochs, out_vocab_size):\n",
    "    trainer = torch.optim.Adam(model.parameters(), lr=lr)\n",
    "    loss = nn.CrossEntropyLoss(reduction='none')\n",
    "    tic = time.time()\n",
    "    for epoch in range(1, num_epochs+1):\n",
    "        l_sum, num_tokens_sum = 0.0, 0.0\n",
    "        for batch in data_iter:\n",
    "            X, X_vlen, Y, Y_vlen, mask = [x for x in batch]\n",
    "            Y_input, Y_label, Y_vlen, mask = Y[:,:-1], Y[:,1:], Y_vlen-1, mask[:,1:]\n",
    "            Y_hat, _ = model(X, Y_input, X_vlen, Y_vlen)\n",
    "            \n",
    "            \n",
    "            l = (loss(Y_hat.reshape(-1,out_vocab_size), Y_label.reshape(-1)) * mask.reshape(-1)).sum() \n",
    "            \n",
    "            \n",
    "            l.backward()\n",
    "            num_tokens = Y_vlen.sum().item()\n",
    "            trainer.step()\n",
    "            l_sum += l.item()\n",
    "            num_tokens_sum += num_tokens\n",
    "\n",
    "        print(\"epoch %d, loss %.3f, time %.1f sec\" % (\n",
    "            epoch, l_sum/num_tokens_sum, time.time()-tic))\n",
    "        tic = time.time()"
   ]
  },
  {
   "cell_type": "code",
   "execution_count": 136,
   "metadata": {
    "ExecuteTime": {
     "end_time": "2019-11-28T07:01:50.411562Z",
     "start_time": "2019-11-28T06:59:52.683653Z"
    }
   },
   "outputs": [
    {
     "name": "stdout",
     "output_type": "stream",
     "text": [
      "epoch 1, loss 5.050, time 0.4 sec\n",
      "epoch 2, loss 5.032, time 0.4 sec\n",
      "epoch 3, loss 5.010, time 0.4 sec\n",
      "epoch 4, loss 4.983, time 0.4 sec\n",
      "epoch 5, loss 4.951, time 0.3 sec\n",
      "epoch 6, loss 4.908, time 0.4 sec\n",
      "epoch 7, loss 4.851, time 0.4 sec\n",
      "epoch 8, loss 4.774, time 0.4 sec\n",
      "epoch 9, loss 4.675, time 0.4 sec\n",
      "epoch 10, loss 4.552, time 0.4 sec\n",
      "epoch 11, loss 4.409, time 0.4 sec\n",
      "epoch 12, loss 4.254, time 0.4 sec\n",
      "epoch 13, loss 4.098, time 0.4 sec\n",
      "epoch 14, loss 3.948, time 0.4 sec\n",
      "epoch 15, loss 3.807, time 0.4 sec\n",
      "epoch 16, loss 3.679, time 0.4 sec\n",
      "epoch 17, loss 3.562, time 0.4 sec\n",
      "epoch 18, loss 3.460, time 0.4 sec\n",
      "epoch 19, loss 3.371, time 0.4 sec\n",
      "epoch 20, loss 3.296, time 0.4 sec\n",
      "epoch 21, loss 3.230, time 0.4 sec\n",
      "epoch 22, loss 3.175, time 0.4 sec\n",
      "epoch 23, loss 3.128, time 0.3 sec\n",
      "epoch 24, loss 3.085, time 0.4 sec\n",
      "epoch 25, loss 3.047, time 0.4 sec\n",
      "epoch 26, loss 3.016, time 0.4 sec\n",
      "epoch 27, loss 2.988, time 0.4 sec\n",
      "epoch 28, loss 2.957, time 0.4 sec\n",
      "epoch 29, loss 2.927, time 0.4 sec\n",
      "epoch 30, loss 2.909, time 0.4 sec\n",
      "epoch 31, loss 2.904, time 0.4 sec\n",
      "epoch 32, loss 2.889, time 0.4 sec\n",
      "epoch 33, loss 2.865, time 0.4 sec\n",
      "epoch 34, loss 2.850, time 0.4 sec\n",
      "epoch 35, loss 2.853, time 0.4 sec\n",
      "epoch 36, loss 2.856, time 0.4 sec\n",
      "epoch 37, loss 2.850, time 0.4 sec\n",
      "epoch 38, loss 2.835, time 0.3 sec\n",
      "epoch 39, loss 2.826, time 0.3 sec\n",
      "epoch 40, loss 2.826, time 0.4 sec\n",
      "epoch 41, loss 2.840, time 0.4 sec\n",
      "epoch 42, loss 2.855, time 0.4 sec\n",
      "epoch 43, loss 2.856, time 0.4 sec\n",
      "epoch 44, loss 2.837, time 0.4 sec\n",
      "epoch 45, loss 2.820, time 0.4 sec\n",
      "epoch 46, loss 2.821, time 0.4 sec\n",
      "epoch 47, loss 2.839, time 0.4 sec\n",
      "epoch 48, loss 2.864, time 0.5 sec\n",
      "epoch 49, loss 2.879, time 0.4 sec\n",
      "epoch 50, loss 2.874, time 0.4 sec\n",
      "epoch 51, loss 2.851, time 0.4 sec\n",
      "epoch 52, loss 2.826, time 0.4 sec\n",
      "epoch 53, loss 2.813, time 0.4 sec\n",
      "epoch 54, loss 2.818, time 0.4 sec\n",
      "epoch 55, loss 2.833, time 0.4 sec\n",
      "epoch 56, loss 2.843, time 0.4 sec\n",
      "epoch 57, loss 2.842, time 0.4 sec\n",
      "epoch 58, loss 2.827, time 0.4 sec\n",
      "epoch 59, loss 2.806, time 0.3 sec\n",
      "epoch 60, loss 2.783, time 0.4 sec\n",
      "epoch 61, loss 2.767, time 0.4 sec\n",
      "epoch 62, loss 2.759, time 0.4 sec\n",
      "epoch 63, loss 2.758, time 0.4 sec\n",
      "epoch 64, loss 2.759, time 0.4 sec\n",
      "epoch 65, loss 2.760, time 0.4 sec\n",
      "epoch 66, loss 2.761, time 0.4 sec\n",
      "epoch 67, loss 2.759, time 0.4 sec\n",
      "epoch 68, loss 2.753, time 0.4 sec\n",
      "epoch 69, loss 2.744, time 0.4 sec\n",
      "epoch 70, loss 2.734, time 0.4 sec\n",
      "epoch 71, loss 2.730, time 0.4 sec\n",
      "epoch 72, loss 2.730, time 0.3 sec\n",
      "epoch 73, loss 2.734, time 0.4 sec\n",
      "epoch 74, loss 2.735, time 0.5 sec\n",
      "epoch 75, loss 2.730, time 0.4 sec\n",
      "epoch 76, loss 2.719, time 0.4 sec\n",
      "epoch 77, loss 2.703, time 0.3 sec\n",
      "epoch 78, loss 2.687, time 0.4 sec\n",
      "epoch 79, loss 2.676, time 0.4 sec\n",
      "epoch 80, loss 2.670, time 0.4 sec\n",
      "epoch 81, loss 2.670, time 0.4 sec\n",
      "epoch 82, loss 2.672, time 0.4 sec\n",
      "epoch 83, loss 2.677, time 0.4 sec\n",
      "epoch 84, loss 2.682, time 0.4 sec\n",
      "epoch 85, loss 2.685, time 0.3 sec\n",
      "epoch 86, loss 2.686, time 0.4 sec\n",
      "epoch 87, loss 2.684, time 0.4 sec\n",
      "epoch 88, loss 2.679, time 0.4 sec\n",
      "epoch 89, loss 2.672, time 0.4 sec\n",
      "epoch 90, loss 2.664, time 0.4 sec\n",
      "epoch 91, loss 2.655, time 0.5 sec\n",
      "epoch 92, loss 2.647, time 0.5 sec\n",
      "epoch 93, loss 2.640, time 0.4 sec\n",
      "epoch 94, loss 2.634, time 0.4 sec\n",
      "epoch 95, loss 2.630, time 0.4 sec\n",
      "epoch 96, loss 2.627, time 0.4 sec\n",
      "epoch 97, loss 2.624, time 0.4 sec\n",
      "epoch 98, loss 2.620, time 0.4 sec\n",
      "epoch 99, loss 2.615, time 0.4 sec\n",
      "epoch 100, loss 2.609, time 0.4 sec\n",
      "epoch 101, loss 2.603, time 0.3 sec\n",
      "epoch 102, loss 2.597, time 0.4 sec\n",
      "epoch 103, loss 2.593, time 0.4 sec\n",
      "epoch 104, loss 2.589, time 0.4 sec\n",
      "epoch 105, loss 2.586, time 0.4 sec\n",
      "epoch 106, loss 2.582, time 0.4 sec\n",
      "epoch 107, loss 2.578, time 0.4 sec\n",
      "epoch 108, loss 2.571, time 0.4 sec\n",
      "epoch 109, loss 2.564, time 0.4 sec\n",
      "epoch 110, loss 2.557, time 0.4 sec\n",
      "epoch 111, loss 2.553, time 0.4 sec\n",
      "epoch 112, loss 2.553, time 0.4 sec\n",
      "epoch 113, loss 2.553, time 0.4 sec\n",
      "epoch 114, loss 2.553, time 0.4 sec\n",
      "epoch 115, loss 2.550, time 0.4 sec\n",
      "epoch 116, loss 2.544, time 0.5 sec\n",
      "epoch 117, loss 2.534, time 0.5 sec\n",
      "epoch 118, loss 2.526, time 0.4 sec\n",
      "epoch 119, loss 2.520, time 0.5 sec\n",
      "epoch 120, loss 2.518, time 0.4 sec\n",
      "epoch 121, loss 2.518, time 0.5 sec\n",
      "epoch 122, loss 2.517, time 0.4 sec\n",
      "epoch 123, loss 2.512, time 0.4 sec\n",
      "epoch 124, loss 2.506, time 0.4 sec\n",
      "epoch 125, loss 2.499, time 0.4 sec\n",
      "epoch 126, loss 2.492, time 0.4 sec\n",
      "epoch 127, loss 2.486, time 0.4 sec\n",
      "epoch 128, loss 2.484, time 0.5 sec\n",
      "epoch 129, loss 2.483, time 0.4 sec\n",
      "epoch 130, loss 2.485, time 0.6 sec\n",
      "epoch 131, loss 2.486, time 0.4 sec\n",
      "epoch 132, loss 2.485, time 0.4 sec\n",
      "epoch 133, loss 2.482, time 0.4 sec\n",
      "epoch 134, loss 2.476, time 0.4 sec\n",
      "epoch 135, loss 2.468, time 0.4 sec\n",
      "epoch 136, loss 2.460, time 0.4 sec\n",
      "epoch 137, loss 2.454, time 0.4 sec\n",
      "epoch 138, loss 2.450, time 0.4 sec\n",
      "epoch 139, loss 2.448, time 0.4 sec\n",
      "epoch 140, loss 2.448, time 0.4 sec\n",
      "epoch 141, loss 2.448, time 0.4 sec\n",
      "epoch 142, loss 2.448, time 0.4 sec\n",
      "epoch 143, loss 2.447, time 0.4 sec\n",
      "epoch 144, loss 2.444, time 0.5 sec\n",
      "epoch 145, loss 2.441, time 0.4 sec\n",
      "epoch 146, loss 2.435, time 0.4 sec\n",
      "epoch 147, loss 2.429, time 0.5 sec\n",
      "epoch 148, loss 2.424, time 0.4 sec\n",
      "epoch 149, loss 2.421, time 0.4 sec\n",
      "epoch 150, loss 2.421, time 0.4 sec\n",
      "epoch 151, loss 2.422, time 0.4 sec\n",
      "epoch 152, loss 2.423, time 0.4 sec\n",
      "epoch 153, loss 2.422, time 0.5 sec\n",
      "epoch 154, loss 2.417, time 0.5 sec\n",
      "epoch 155, loss 2.409, time 0.5 sec\n",
      "epoch 156, loss 2.400, time 0.4 sec\n",
      "epoch 157, loss 2.392, time 0.5 sec\n",
      "epoch 158, loss 2.385, time 0.4 sec\n",
      "epoch 159, loss 2.380, time 0.4 sec\n",
      "epoch 160, loss 2.379, time 0.4 sec\n",
      "epoch 161, loss 2.379, time 0.4 sec\n",
      "epoch 162, loss 2.380, time 0.4 sec\n",
      "epoch 163, loss 2.382, time 0.4 sec\n",
      "epoch 164, loss 2.383, time 0.4 sec\n",
      "epoch 165, loss 2.383, time 0.4 sec\n",
      "epoch 166, loss 2.381, time 0.4 sec\n",
      "epoch 167, loss 2.376, time 0.4 sec\n",
      "epoch 168, loss 2.370, time 0.4 sec\n",
      "epoch 169, loss 2.362, time 0.5 sec\n",
      "epoch 170, loss 2.355, time 0.5 sec\n",
      "epoch 171, loss 2.348, time 0.4 sec\n",
      "epoch 172, loss 2.343, time 0.4 sec\n",
      "epoch 173, loss 2.340, time 0.4 sec\n",
      "epoch 174, loss 2.339, time 0.4 sec\n",
      "epoch 175, loss 2.338, time 0.4 sec\n",
      "epoch 176, loss 2.338, time 0.5 sec\n",
      "epoch 177, loss 2.338, time 0.4 sec\n",
      "epoch 178, loss 2.337, time 0.4 sec\n",
      "epoch 179, loss 2.335, time 0.4 sec\n",
      "epoch 180, loss 2.332, time 0.4 sec\n",
      "epoch 181, loss 2.328, time 0.5 sec\n",
      "epoch 182, loss 2.323, time 0.5 sec\n",
      "epoch 183, loss 2.317, time 0.4 sec\n",
      "epoch 184, loss 2.311, time 0.4 sec\n",
      "epoch 185, loss 2.305, time 0.4 sec\n",
      "epoch 186, loss 2.301, time 0.4 sec\n",
      "epoch 187, loss 2.299, time 0.4 sec\n",
      "epoch 188, loss 2.297, time 0.4 sec\n",
      "epoch 189, loss 2.297, time 0.5 sec\n",
      "epoch 190, loss 2.298, time 0.4 sec\n",
      "epoch 191, loss 2.299, time 0.4 sec\n",
      "epoch 192, loss 2.299, time 0.4 sec\n",
      "epoch 193, loss 2.300, time 0.4 sec\n",
      "epoch 194, loss 2.300, time 0.4 sec\n",
      "epoch 195, loss 2.298, time 0.4 sec\n",
      "epoch 196, loss 2.297, time 0.4 sec\n",
      "epoch 197, loss 2.294, time 0.5 sec\n",
      "epoch 198, loss 2.292, time 0.4 sec\n",
      "epoch 199, loss 2.288, time 0.4 sec\n",
      "epoch 200, loss 2.285, time 0.4 sec\n",
      "epoch 201, loss 2.281, time 0.4 sec\n",
      "epoch 202, loss 2.277, time 0.4 sec\n",
      "epoch 203, loss 2.272, time 0.4 sec\n",
      "epoch 204, loss 2.268, time 0.4 sec\n",
      "epoch 205, loss 2.263, time 0.4 sec\n",
      "epoch 206, loss 2.258, time 0.4 sec\n",
      "epoch 207, loss 2.254, time 0.4 sec\n",
      "epoch 208, loss 2.249, time 0.4 sec\n",
      "epoch 209, loss 2.243, time 0.4 sec\n",
      "epoch 210, loss 2.236, time 0.4 sec\n",
      "epoch 211, loss 2.229, time 0.4 sec\n",
      "epoch 212, loss 2.223, time 0.4 sec\n",
      "epoch 213, loss 2.217, time 0.4 sec\n",
      "epoch 214, loss 2.212, time 0.4 sec\n",
      "epoch 215, loss 2.208, time 0.4 sec\n",
      "epoch 216, loss 2.204, time 0.4 sec\n",
      "epoch 217, loss 2.201, time 0.4 sec\n",
      "epoch 218, loss 2.197, time 0.4 sec\n",
      "epoch 219, loss 2.194, time 0.4 sec\n",
      "epoch 220, loss 2.192, time 0.4 sec\n",
      "epoch 221, loss 2.189, time 0.4 sec\n",
      "epoch 222, loss 2.186, time 0.4 sec\n",
      "epoch 223, loss 2.184, time 0.4 sec\n",
      "epoch 224, loss 2.182, time 0.4 sec\n",
      "epoch 225, loss 2.179, time 0.4 sec\n",
      "epoch 226, loss 2.176, time 0.4 sec\n",
      "epoch 227, loss 2.174, time 0.4 sec\n",
      "epoch 228, loss 2.171, time 0.4 sec\n",
      "epoch 229, loss 2.169, time 0.4 sec\n",
      "epoch 230, loss 2.168, time 0.4 sec\n",
      "epoch 231, loss 2.167, time 0.5 sec\n"
     ]
    },
    {
     "name": "stdout",
     "output_type": "stream",
     "text": [
      "epoch 232, loss 2.167, time 0.4 sec\n",
      "epoch 233, loss 2.165, time 0.4 sec\n",
      "epoch 234, loss 2.162, time 0.5 sec\n",
      "epoch 235, loss 2.158, time 0.4 sec\n",
      "epoch 236, loss 2.155, time 0.5 sec\n",
      "epoch 237, loss 2.153, time 0.4 sec\n",
      "epoch 238, loss 2.152, time 0.4 sec\n",
      "epoch 239, loss 2.151, time 0.4 sec\n",
      "epoch 240, loss 2.150, time 0.5 sec\n",
      "epoch 241, loss 2.149, time 0.4 sec\n",
      "epoch 242, loss 2.147, time 0.4 sec\n",
      "epoch 243, loss 2.146, time 0.4 sec\n",
      "epoch 244, loss 2.144, time 0.4 sec\n",
      "epoch 245, loss 2.143, time 0.4 sec\n",
      "epoch 246, loss 2.141, time 0.5 sec\n",
      "epoch 247, loss 2.139, time 0.4 sec\n",
      "epoch 248, loss 2.137, time 0.4 sec\n",
      "epoch 249, loss 2.135, time 0.4 sec\n",
      "epoch 250, loss 2.133, time 0.5 sec\n",
      "epoch 251, loss 2.131, time 0.4 sec\n",
      "epoch 252, loss 2.128, time 0.4 sec\n",
      "epoch 253, loss 2.126, time 0.4 sec\n",
      "epoch 254, loss 2.124, time 0.4 sec\n",
      "epoch 255, loss 2.121, time 0.4 sec\n",
      "epoch 256, loss 2.119, time 0.5 sec\n",
      "epoch 257, loss 2.116, time 0.4 sec\n",
      "epoch 258, loss 2.113, time 0.4 sec\n",
      "epoch 259, loss 2.110, time 0.4 sec\n",
      "epoch 260, loss 2.109, time 0.4 sec\n",
      "epoch 261, loss 2.109, time 0.4 sec\n",
      "epoch 262, loss 2.109, time 0.4 sec\n",
      "epoch 263, loss 2.110, time 0.4 sec\n",
      "epoch 264, loss 2.107, time 0.5 sec\n",
      "epoch 265, loss 2.103, time 0.4 sec\n",
      "epoch 266, loss 2.097, time 0.4 sec\n",
      "epoch 267, loss 2.093, time 0.6 sec\n",
      "epoch 268, loss 2.091, time 0.4 sec\n",
      "epoch 269, loss 2.090, time 0.4 sec\n",
      "epoch 270, loss 2.090, time 0.4 sec\n",
      "epoch 271, loss 2.089, time 0.4 sec\n",
      "epoch 272, loss 2.088, time 0.4 sec\n",
      "epoch 273, loss 2.087, time 0.4 sec\n",
      "epoch 274, loss 2.085, time 0.4 sec\n",
      "epoch 275, loss 2.084, time 0.4 sec\n",
      "epoch 276, loss 2.082, time 0.4 sec\n",
      "epoch 277, loss 2.080, time 0.5 sec\n",
      "epoch 278, loss 2.079, time 0.4 sec\n",
      "epoch 279, loss 2.078, time 0.4 sec\n",
      "epoch 280, loss 2.077, time 0.6 sec\n",
      "epoch 281, loss 2.077, time 0.4 sec\n",
      "epoch 282, loss 2.076, time 0.4 sec\n",
      "epoch 283, loss 2.074, time 0.4 sec\n",
      "epoch 284, loss 2.072, time 0.4 sec\n",
      "epoch 285, loss 2.068, time 0.4 sec\n",
      "epoch 286, loss 2.064, time 0.4 sec\n",
      "epoch 287, loss 2.060, time 0.5 sec\n",
      "epoch 288, loss 2.057, time 0.4 sec\n",
      "epoch 289, loss 2.055, time 0.4 sec\n",
      "epoch 290, loss 2.054, time 0.5 sec\n",
      "epoch 291, loss 2.053, time 0.4 sec\n",
      "epoch 292, loss 2.052, time 0.5 sec\n",
      "epoch 293, loss 2.051, time 0.4 sec\n",
      "epoch 294, loss 2.050, time 0.4 sec\n",
      "epoch 295, loss 2.048, time 0.4 sec\n",
      "epoch 296, loss 2.047, time 0.4 sec\n",
      "epoch 297, loss 2.046, time 0.4 sec\n",
      "epoch 298, loss 2.044, time 0.4 sec\n",
      "epoch 299, loss 2.043, time 0.4 sec\n",
      "epoch 300, loss 2.042, time 0.5 sec\n"
     ]
    }
   ],
   "source": [
    "embed_size, num_hiddens, num_layers, dropout = 32, 32, 2, 0.0\n",
    "batch_size, max_len = 64, 10\n",
    "lr, num_epochs = 0.0001, 300\n",
    "\n",
    "src_vocab, tgt_vocab, train_iter = load_data_nmt(batch_size, max_len)\n",
    "encoder = Encoder(\n",
    "    len(src_vocab), embed_size, num_hiddens, num_layers, dropout)\n",
    "decoder = Decoder(\n",
    "    len(tgt_vocab), embed_size, num_hiddens, num_layers, dropout)\n",
    "model = EncoderDecoder(encoder, decoder)\n",
    "train(model, train_iter, lr, num_epochs, len(tgt_vocab))"
   ]
  },
  {
   "cell_type": "code",
   "execution_count": 137,
   "metadata": {
    "ExecuteTime": {
     "end_time": "2019-11-28T07:01:50.423715Z",
     "start_time": "2019-11-28T07:01:50.414477Z"
    }
   },
   "outputs": [],
   "source": [
    "def translate(model, src_sentence, src_vocab, tgt_vocab, max_len):\n",
    "    src_tokens = src_vocab[src_sentence.lower().split(' ')]\n",
    "    src_len = len(src_tokens)\n",
    "    if src_len < max_len:\n",
    "        src_tokens += [src_vocab.pad] * (max_len - src_len)\n",
    "    enc_X = torch.LongTensor(src_tokens)\n",
    "    enc_valid_length = torch.LongTensor([src_len])\n",
    "    enc_outputs = model.encoder(enc_X.unsqueeze(axis=0), enc_valid_length)\n",
    "    dec_state = model.decoder.init_state(enc_outputs, enc_valid_length)\n",
    "    dec_X = torch.LongTensor([tgt_vocab.bos]).unsqueeze(axis=0)\n",
    "    predict_tokens = []\n",
    "    for _ in range(max_len):\n",
    "        Y, dec_state = model.decoder(dec_X, dec_state)\n",
    "        dec_X = Y.argmax(axis=2)\n",
    "        py = dec_X.squeeze(axis=0).type(torch.long).item()\n",
    "        if py == tgt_vocab.eos:\n",
    "            break\n",
    "        predict_tokens.append(py)\n",
    "    return ' '.join(tgt_vocab.to_tokens(predict_tokens))"
   ]
  },
  {
   "cell_type": "code",
   "execution_count": 138,
   "metadata": {
    "ExecuteTime": {
     "end_time": "2019-11-28T07:01:50.458404Z",
     "start_time": "2019-11-28T07:01:50.426571Z"
    }
   },
   "outputs": [
    {
     "name": "stdout",
     "output_type": "stream",
     "text": [
      "Go . => je <unk> .\n",
      "Wow ! => je <unk> .\n",
      "I'm OK . => je <unk> .\n",
      "I won ! => je <unk> .\n"
     ]
    }
   ],
   "source": [
    "for sentence in ['Go .', 'Wow !', \"I'm OK .\", 'I won !']:\n",
    "    print(sentence + ' => ' + translate(\n",
    "        model, sentence, src_vocab, tgt_vocab, max_len))"
   ]
  },
  {
   "cell_type": "code",
   "execution_count": 139,
   "metadata": {
    "ExecuteTime": {
     "end_time": "2019-11-28T07:04:01.087659Z",
     "start_time": "2019-11-28T07:02:01.615283Z"
    }
   },
   "outputs": [
    {
     "name": "stdout",
     "output_type": "stream",
     "text": [
      "epoch 1, loss 2.042, time 0.4 sec\n",
      "epoch 2, loss 2.041, time 0.4 sec\n",
      "epoch 3, loss 2.040, time 0.4 sec\n",
      "epoch 4, loss 2.038, time 0.4 sec\n",
      "epoch 5, loss 2.035, time 0.4 sec\n",
      "epoch 6, loss 2.033, time 0.4 sec\n",
      "epoch 7, loss 2.031, time 0.4 sec\n",
      "epoch 8, loss 2.030, time 0.4 sec\n",
      "epoch 9, loss 2.028, time 0.4 sec\n",
      "epoch 10, loss 2.027, time 0.4 sec\n",
      "epoch 11, loss 2.026, time 0.4 sec\n",
      "epoch 12, loss 2.025, time 0.4 sec\n",
      "epoch 13, loss 2.024, time 0.4 sec\n",
      "epoch 14, loss 2.024, time 0.4 sec\n",
      "epoch 15, loss 2.022, time 0.4 sec\n",
      "epoch 16, loss 2.021, time 0.4 sec\n",
      "epoch 17, loss 2.019, time 0.4 sec\n",
      "epoch 18, loss 2.017, time 0.4 sec\n",
      "epoch 19, loss 2.014, time 0.4 sec\n",
      "epoch 20, loss 2.011, time 0.4 sec\n",
      "epoch 21, loss 2.007, time 0.4 sec\n",
      "epoch 22, loss 2.004, time 0.4 sec\n",
      "epoch 23, loss 2.001, time 0.4 sec\n",
      "epoch 24, loss 1.999, time 0.4 sec\n",
      "epoch 25, loss 1.998, time 0.4 sec\n",
      "epoch 26, loss 1.996, time 0.4 sec\n",
      "epoch 27, loss 1.995, time 0.4 sec\n",
      "epoch 28, loss 1.995, time 0.4 sec\n",
      "epoch 29, loss 1.994, time 0.4 sec\n",
      "epoch 30, loss 1.994, time 0.4 sec\n",
      "epoch 31, loss 1.994, time 0.4 sec\n",
      "epoch 32, loss 1.993, time 0.4 sec\n",
      "epoch 33, loss 1.992, time 0.4 sec\n",
      "epoch 34, loss 1.990, time 0.4 sec\n",
      "epoch 35, loss 1.988, time 0.4 sec\n",
      "epoch 36, loss 1.985, time 0.4 sec\n",
      "epoch 37, loss 1.984, time 0.4 sec\n",
      "epoch 38, loss 1.982, time 0.4 sec\n",
      "epoch 39, loss 1.982, time 0.4 sec\n",
      "epoch 40, loss 1.982, time 0.4 sec\n",
      "epoch 41, loss 1.982, time 0.4 sec\n",
      "epoch 42, loss 1.982, time 0.4 sec\n",
      "epoch 43, loss 1.980, time 0.4 sec\n",
      "epoch 44, loss 1.978, time 0.4 sec\n",
      "epoch 45, loss 1.975, time 0.4 sec\n",
      "epoch 46, loss 1.972, time 0.4 sec\n",
      "epoch 47, loss 1.970, time 0.5 sec\n",
      "epoch 48, loss 1.969, time 0.4 sec\n",
      "epoch 49, loss 1.969, time 0.4 sec\n",
      "epoch 50, loss 1.968, time 0.4 sec\n",
      "epoch 51, loss 1.968, time 0.4 sec\n",
      "epoch 52, loss 1.967, time 0.4 sec\n",
      "epoch 53, loss 1.967, time 0.4 sec\n",
      "epoch 54, loss 1.966, time 0.4 sec\n",
      "epoch 55, loss 1.964, time 0.4 sec\n",
      "epoch 56, loss 1.962, time 0.4 sec\n",
      "epoch 57, loss 1.960, time 0.5 sec\n",
      "epoch 58, loss 1.958, time 0.4 sec\n",
      "epoch 59, loss 1.956, time 0.4 sec\n",
      "epoch 60, loss 1.954, time 0.4 sec\n",
      "epoch 61, loss 1.953, time 0.4 sec\n",
      "epoch 62, loss 1.953, time 0.4 sec\n",
      "epoch 63, loss 1.953, time 0.4 sec\n",
      "epoch 64, loss 1.953, time 0.4 sec\n",
      "epoch 65, loss 1.952, time 0.4 sec\n",
      "epoch 66, loss 1.950, time 0.4 sec\n",
      "epoch 67, loss 1.948, time 0.4 sec\n",
      "epoch 68, loss 1.946, time 0.4 sec\n",
      "epoch 69, loss 1.944, time 0.4 sec\n",
      "epoch 70, loss 1.942, time 0.4 sec\n",
      "epoch 71, loss 1.941, time 0.4 sec\n",
      "epoch 72, loss 1.941, time 0.4 sec\n",
      "epoch 73, loss 1.940, time 0.4 sec\n",
      "epoch 74, loss 1.940, time 0.4 sec\n",
      "epoch 75, loss 1.940, time 0.4 sec\n",
      "epoch 76, loss 1.940, time 0.4 sec\n",
      "epoch 77, loss 1.939, time 0.4 sec\n",
      "epoch 78, loss 1.939, time 0.4 sec\n",
      "epoch 79, loss 1.938, time 0.4 sec\n",
      "epoch 80, loss 1.937, time 0.4 sec\n",
      "epoch 81, loss 1.935, time 0.4 sec\n",
      "epoch 82, loss 1.933, time 0.4 sec\n",
      "epoch 83, loss 1.931, time 0.4 sec\n",
      "epoch 84, loss 1.928, time 0.4 sec\n",
      "epoch 85, loss 1.926, time 0.4 sec\n",
      "epoch 86, loss 1.924, time 0.4 sec\n",
      "epoch 87, loss 1.923, time 0.4 sec\n",
      "epoch 88, loss 1.922, time 0.4 sec\n",
      "epoch 89, loss 1.923, time 0.4 sec\n",
      "epoch 90, loss 1.923, time 0.4 sec\n",
      "epoch 91, loss 1.923, time 0.4 sec\n",
      "epoch 92, loss 1.920, time 0.4 sec\n",
      "epoch 93, loss 1.916, time 0.4 sec\n",
      "epoch 94, loss 1.913, time 0.4 sec\n",
      "epoch 95, loss 1.911, time 0.4 sec\n",
      "epoch 96, loss 1.911, time 0.4 sec\n",
      "epoch 97, loss 1.911, time 0.4 sec\n",
      "epoch 98, loss 1.912, time 0.4 sec\n",
      "epoch 99, loss 1.913, time 0.4 sec\n",
      "epoch 100, loss 1.913, time 0.4 sec\n",
      "epoch 101, loss 1.913, time 0.4 sec\n",
      "epoch 102, loss 1.912, time 0.4 sec\n",
      "epoch 103, loss 1.911, time 0.4 sec\n",
      "epoch 104, loss 1.910, time 0.4 sec\n",
      "epoch 105, loss 1.909, time 0.4 sec\n",
      "epoch 106, loss 1.908, time 0.4 sec\n",
      "epoch 107, loss 1.908, time 0.4 sec\n",
      "epoch 108, loss 1.909, time 0.4 sec\n",
      "epoch 109, loss 1.910, time 0.4 sec\n",
      "epoch 110, loss 1.909, time 0.4 sec\n",
      "epoch 111, loss 1.906, time 0.5 sec\n",
      "epoch 112, loss 1.901, time 0.4 sec\n",
      "epoch 113, loss 1.897, time 0.4 sec\n",
      "epoch 114, loss 1.895, time 0.4 sec\n",
      "epoch 115, loss 1.895, time 0.4 sec\n",
      "epoch 116, loss 1.898, time 0.4 sec\n",
      "epoch 117, loss 1.901, time 0.4 sec\n",
      "epoch 118, loss 1.903, time 0.4 sec\n",
      "epoch 119, loss 1.903, time 0.4 sec\n",
      "epoch 120, loss 1.902, time 0.4 sec\n",
      "epoch 121, loss 1.900, time 0.4 sec\n",
      "epoch 122, loss 1.896, time 0.4 sec\n",
      "epoch 123, loss 1.893, time 0.4 sec\n",
      "epoch 124, loss 1.892, time 0.4 sec\n",
      "epoch 125, loss 1.893, time 0.4 sec\n",
      "epoch 126, loss 1.895, time 0.4 sec\n",
      "epoch 127, loss 1.899, time 0.4 sec\n",
      "epoch 128, loss 1.902, time 0.4 sec\n",
      "epoch 129, loss 1.902, time 0.4 sec\n",
      "epoch 130, loss 1.899, time 0.4 sec\n",
      "epoch 131, loss 1.891, time 0.4 sec\n",
      "epoch 132, loss 1.883, time 0.4 sec\n",
      "epoch 133, loss 1.877, time 0.4 sec\n",
      "epoch 134, loss 1.876, time 0.4 sec\n",
      "epoch 135, loss 1.878, time 0.4 sec\n",
      "epoch 136, loss 1.884, time 0.4 sec\n",
      "epoch 137, loss 1.891, time 0.4 sec\n",
      "epoch 138, loss 1.897, time 0.4 sec\n",
      "epoch 139, loss 1.902, time 0.4 sec\n",
      "epoch 140, loss 1.903, time 0.4 sec\n",
      "epoch 141, loss 1.902, time 0.5 sec\n",
      "epoch 142, loss 1.896, time 0.4 sec\n",
      "epoch 143, loss 1.888, time 0.6 sec\n",
      "epoch 144, loss 1.880, time 0.4 sec\n",
      "epoch 145, loss 1.874, time 0.4 sec\n",
      "epoch 146, loss 1.872, time 0.4 sec\n",
      "epoch 147, loss 1.876, time 0.5 sec\n",
      "epoch 148, loss 1.884, time 0.4 sec\n",
      "epoch 149, loss 1.894, time 0.4 sec\n",
      "epoch 150, loss 1.901, time 0.4 sec\n",
      "epoch 151, loss 1.903, time 0.5 sec\n",
      "epoch 152, loss 1.898, time 0.5 sec\n",
      "epoch 153, loss 1.888, time 0.5 sec\n",
      "epoch 154, loss 1.875, time 0.4 sec\n",
      "epoch 155, loss 1.866, time 0.4 sec\n",
      "epoch 156, loss 1.863, time 0.4 sec\n",
      "epoch 157, loss 1.865, time 0.4 sec\n",
      "epoch 158, loss 1.871, time 0.4 sec\n",
      "epoch 159, loss 1.878, time 0.4 sec\n",
      "epoch 160, loss 1.886, time 0.4 sec\n",
      "epoch 161, loss 1.893, time 0.4 sec\n",
      "epoch 162, loss 1.899, time 0.4 sec\n",
      "epoch 163, loss 1.903, time 0.4 sec\n",
      "epoch 164, loss 1.904, time 0.4 sec\n",
      "epoch 165, loss 1.902, time 0.7 sec\n",
      "epoch 166, loss 1.897, time 0.4 sec\n",
      "epoch 167, loss 1.890, time 0.4 sec\n",
      "epoch 168, loss 1.881, time 0.4 sec\n",
      "epoch 169, loss 1.872, time 0.4 sec\n",
      "epoch 170, loss 1.864, time 0.4 sec\n",
      "epoch 171, loss 1.859, time 0.4 sec\n",
      "epoch 172, loss 1.857, time 0.4 sec\n",
      "epoch 173, loss 1.863, time 0.4 sec\n",
      "epoch 174, loss 1.872, time 0.4 sec\n",
      "epoch 175, loss 1.880, time 0.4 sec\n",
      "epoch 176, loss 1.884, time 0.4 sec\n",
      "epoch 177, loss 1.883, time 0.4 sec\n",
      "epoch 178, loss 1.876, time 0.4 sec\n",
      "epoch 179, loss 1.868, time 0.4 sec\n",
      "epoch 180, loss 1.861, time 0.4 sec\n",
      "epoch 181, loss 1.856, time 0.5 sec\n",
      "epoch 182, loss 1.852, time 0.4 sec\n",
      "epoch 183, loss 1.850, time 0.4 sec\n",
      "epoch 184, loss 1.850, time 0.4 sec\n",
      "epoch 185, loss 1.850, time 0.4 sec\n",
      "epoch 186, loss 1.852, time 0.4 sec\n",
      "epoch 187, loss 1.854, time 0.4 sec\n",
      "epoch 188, loss 1.855, time 0.4 sec\n",
      "epoch 189, loss 1.857, time 0.4 sec\n",
      "epoch 190, loss 1.859, time 0.4 sec\n",
      "epoch 191, loss 1.861, time 0.4 sec\n",
      "epoch 192, loss 1.862, time 0.4 sec\n",
      "epoch 193, loss 1.863, time 0.4 sec\n",
      "epoch 194, loss 1.863, time 0.4 sec\n",
      "epoch 195, loss 1.862, time 0.4 sec\n",
      "epoch 196, loss 1.859, time 0.4 sec\n",
      "epoch 197, loss 1.854, time 0.4 sec\n",
      "epoch 198, loss 1.848, time 0.4 sec\n",
      "epoch 199, loss 1.843, time 0.4 sec\n",
      "epoch 200, loss 1.838, time 0.4 sec\n",
      "epoch 201, loss 1.835, time 0.4 sec\n",
      "epoch 202, loss 1.835, time 0.4 sec\n",
      "epoch 203, loss 1.839, time 0.4 sec\n",
      "epoch 204, loss 1.846, time 0.4 sec\n",
      "epoch 205, loss 1.853, time 0.4 sec\n",
      "epoch 206, loss 1.857, time 0.4 sec\n",
      "epoch 207, loss 1.856, time 0.4 sec\n",
      "epoch 208, loss 1.850, time 0.4 sec\n",
      "epoch 209, loss 1.842, time 0.4 sec\n",
      "epoch 210, loss 1.835, time 0.4 sec\n",
      "epoch 211, loss 1.833, time 0.4 sec\n",
      "epoch 212, loss 1.834, time 0.4 sec\n",
      "epoch 213, loss 1.838, time 0.4 sec\n",
      "epoch 214, loss 1.844, time 0.4 sec\n",
      "epoch 215, loss 1.849, time 0.4 sec\n",
      "epoch 216, loss 1.853, time 0.4 sec\n",
      "epoch 217, loss 1.855, time 0.4 sec\n",
      "epoch 218, loss 1.855, time 0.4 sec\n",
      "epoch 219, loss 1.853, time 0.4 sec\n",
      "epoch 220, loss 1.851, time 0.4 sec\n",
      "epoch 221, loss 1.848, time 0.4 sec\n",
      "epoch 222, loss 1.845, time 0.4 sec\n",
      "epoch 223, loss 1.843, time 0.4 sec\n",
      "epoch 224, loss 1.842, time 0.4 sec\n",
      "epoch 225, loss 1.843, time 0.4 sec\n",
      "epoch 226, loss 1.844, time 0.4 sec\n",
      "epoch 227, loss 1.845, time 0.4 sec\n",
      "epoch 228, loss 1.845, time 0.4 sec\n",
      "epoch 229, loss 1.845, time 0.4 sec\n",
      "epoch 230, loss 1.843, time 0.4 sec\n",
      "epoch 231, loss 1.841, time 0.4 sec\n"
     ]
    },
    {
     "name": "stdout",
     "output_type": "stream",
     "text": [
      "epoch 232, loss 1.837, time 0.4 sec\n",
      "epoch 233, loss 1.834, time 0.4 sec\n",
      "epoch 234, loss 1.831, time 0.4 sec\n",
      "epoch 235, loss 1.830, time 0.4 sec\n",
      "epoch 236, loss 1.831, time 0.4 sec\n",
      "epoch 237, loss 1.835, time 0.4 sec\n",
      "epoch 238, loss 1.838, time 0.4 sec\n",
      "epoch 239, loss 1.842, time 0.4 sec\n",
      "epoch 240, loss 1.843, time 0.4 sec\n",
      "epoch 241, loss 1.840, time 0.4 sec\n",
      "epoch 242, loss 1.834, time 0.5 sec\n",
      "epoch 243, loss 1.825, time 0.5 sec\n",
      "epoch 244, loss 1.817, time 0.5 sec\n",
      "epoch 245, loss 1.811, time 0.4 sec\n",
      "epoch 246, loss 1.809, time 0.5 sec\n",
      "epoch 247, loss 1.811, time 0.5 sec\n",
      "epoch 248, loss 1.816, time 0.4 sec\n",
      "epoch 249, loss 1.821, time 0.4 sec\n",
      "epoch 250, loss 1.827, time 0.4 sec\n",
      "epoch 251, loss 1.834, time 0.4 sec\n",
      "epoch 252, loss 1.839, time 0.4 sec\n",
      "epoch 253, loss 1.842, time 0.4 sec\n",
      "epoch 254, loss 1.844, time 0.4 sec\n",
      "epoch 255, loss 1.845, time 0.4 sec\n",
      "epoch 256, loss 1.843, time 0.4 sec\n",
      "epoch 257, loss 1.840, time 0.4 sec\n",
      "epoch 258, loss 1.836, time 0.4 sec\n",
      "epoch 259, loss 1.830, time 0.4 sec\n",
      "epoch 260, loss 1.824, time 0.4 sec\n",
      "epoch 261, loss 1.816, time 0.4 sec\n",
      "epoch 262, loss 1.809, time 0.4 sec\n",
      "epoch 263, loss 1.804, time 0.4 sec\n",
      "epoch 264, loss 1.799, time 0.4 sec\n",
      "epoch 265, loss 1.797, time 0.4 sec\n",
      "epoch 266, loss 1.799, time 0.4 sec\n",
      "epoch 267, loss 1.805, time 0.4 sec\n",
      "epoch 268, loss 1.815, time 0.4 sec\n",
      "epoch 269, loss 1.826, time 0.4 sec\n",
      "epoch 270, loss 1.836, time 0.4 sec\n",
      "epoch 271, loss 1.841, time 0.4 sec\n",
      "epoch 272, loss 1.838, time 0.4 sec\n",
      "epoch 273, loss 1.830, time 0.4 sec\n",
      "epoch 274, loss 1.819, time 0.4 sec\n",
      "epoch 275, loss 1.809, time 0.4 sec\n",
      "epoch 276, loss 1.803, time 0.4 sec\n",
      "epoch 277, loss 1.803, time 0.4 sec\n",
      "epoch 278, loss 1.805, time 0.4 sec\n",
      "epoch 279, loss 1.808, time 0.4 sec\n",
      "epoch 280, loss 1.812, time 0.4 sec\n",
      "epoch 281, loss 1.816, time 0.4 sec\n",
      "epoch 282, loss 1.818, time 0.4 sec\n",
      "epoch 283, loss 1.819, time 0.4 sec\n",
      "epoch 284, loss 1.818, time 0.4 sec\n",
      "epoch 285, loss 1.818, time 0.4 sec\n",
      "epoch 286, loss 1.817, time 0.4 sec\n",
      "epoch 287, loss 1.815, time 0.4 sec\n",
      "epoch 288, loss 1.814, time 0.4 sec\n",
      "epoch 289, loss 1.813, time 0.4 sec\n",
      "epoch 290, loss 1.812, time 0.4 sec\n",
      "epoch 291, loss 1.812, time 0.4 sec\n",
      "epoch 292, loss 1.813, time 0.4 sec\n",
      "epoch 293, loss 1.814, time 0.4 sec\n",
      "epoch 294, loss 1.816, time 0.4 sec\n",
      "epoch 295, loss 1.819, time 0.4 sec\n",
      "epoch 296, loss 1.821, time 0.4 sec\n",
      "epoch 297, loss 1.824, time 0.4 sec\n",
      "epoch 298, loss 1.827, time 0.4 sec\n",
      "epoch 299, loss 1.828, time 0.4 sec\n",
      "epoch 300, loss 1.828, time 0.4 sec\n"
     ]
    }
   ],
   "source": [
    "train(model, train_iter, lr, num_epochs, len(tgt_vocab))"
   ]
  },
  {
   "cell_type": "code",
   "execution_count": 140,
   "metadata": {
    "ExecuteTime": {
     "end_time": "2019-11-28T07:06:06.607317Z",
     "start_time": "2019-11-28T07:04:03.726313Z"
    }
   },
   "outputs": [
    {
     "name": "stdout",
     "output_type": "stream",
     "text": [
      "epoch 1, loss 1.826, time 0.4 sec\n",
      "epoch 2, loss 1.826, time 0.4 sec\n",
      "epoch 3, loss 1.825, time 0.4 sec\n",
      "epoch 4, loss 1.824, time 0.4 sec\n",
      "epoch 5, loss 1.823, time 0.4 sec\n",
      "epoch 6, loss 1.822, time 0.4 sec\n",
      "epoch 7, loss 1.821, time 0.4 sec\n",
      "epoch 8, loss 1.820, time 0.4 sec\n",
      "epoch 9, loss 1.819, time 0.4 sec\n",
      "epoch 10, loss 1.817, time 0.4 sec\n",
      "epoch 11, loss 1.816, time 0.4 sec\n",
      "epoch 12, loss 1.815, time 0.4 sec\n",
      "epoch 13, loss 1.814, time 0.4 sec\n",
      "epoch 14, loss 1.812, time 0.4 sec\n",
      "epoch 15, loss 1.811, time 0.4 sec\n",
      "epoch 16, loss 1.810, time 0.4 sec\n",
      "epoch 17, loss 1.809, time 0.4 sec\n",
      "epoch 18, loss 1.807, time 0.4 sec\n",
      "epoch 19, loss 1.806, time 0.4 sec\n",
      "epoch 20, loss 1.805, time 0.4 sec\n",
      "epoch 21, loss 1.804, time 0.4 sec\n",
      "epoch 22, loss 1.802, time 0.5 sec\n",
      "epoch 23, loss 1.801, time 0.4 sec\n",
      "epoch 24, loss 1.800, time 0.4 sec\n",
      "epoch 25, loss 1.799, time 0.4 sec\n",
      "epoch 26, loss 1.797, time 0.4 sec\n",
      "epoch 27, loss 1.796, time 0.4 sec\n",
      "epoch 28, loss 1.795, time 0.4 sec\n",
      "epoch 29, loss 1.794, time 0.4 sec\n",
      "epoch 30, loss 1.793, time 0.4 sec\n",
      "epoch 31, loss 1.792, time 0.4 sec\n",
      "epoch 32, loss 1.791, time 0.4 sec\n",
      "epoch 33, loss 1.790, time 0.4 sec\n",
      "epoch 34, loss 1.789, time 0.4 sec\n",
      "epoch 35, loss 1.788, time 0.4 sec\n",
      "epoch 36, loss 1.787, time 0.4 sec\n",
      "epoch 37, loss 1.786, time 0.4 sec\n",
      "epoch 38, loss 1.785, time 0.4 sec\n",
      "epoch 39, loss 1.784, time 0.4 sec\n",
      "epoch 40, loss 1.783, time 0.4 sec\n",
      "epoch 41, loss 1.782, time 0.4 sec\n",
      "epoch 42, loss 1.781, time 0.4 sec\n",
      "epoch 43, loss 1.781, time 0.4 sec\n",
      "epoch 44, loss 1.780, time 0.4 sec\n",
      "epoch 45, loss 1.779, time 0.4 sec\n",
      "epoch 46, loss 1.778, time 0.4 sec\n",
      "epoch 47, loss 1.778, time 0.4 sec\n",
      "epoch 48, loss 1.777, time 0.4 sec\n",
      "epoch 49, loss 1.776, time 0.4 sec\n",
      "epoch 50, loss 1.775, time 0.4 sec\n",
      "epoch 51, loss 1.775, time 0.4 sec\n",
      "epoch 52, loss 1.774, time 0.4 sec\n",
      "epoch 53, loss 1.774, time 0.4 sec\n",
      "epoch 54, loss 1.773, time 0.4 sec\n",
      "epoch 55, loss 1.772, time 0.4 sec\n",
      "epoch 56, loss 1.772, time 0.4 sec\n",
      "epoch 57, loss 1.771, time 0.4 sec\n",
      "epoch 58, loss 1.771, time 0.4 sec\n",
      "epoch 59, loss 1.770, time 0.4 sec\n",
      "epoch 60, loss 1.770, time 0.4 sec\n",
      "epoch 61, loss 1.769, time 0.4 sec\n",
      "epoch 62, loss 1.769, time 0.4 sec\n",
      "epoch 63, loss 1.768, time 0.5 sec\n",
      "epoch 64, loss 1.768, time 0.4 sec\n",
      "epoch 65, loss 1.768, time 0.4 sec\n",
      "epoch 66, loss 1.767, time 0.4 sec\n",
      "epoch 67, loss 1.767, time 0.4 sec\n",
      "epoch 68, loss 1.766, time 0.4 sec\n",
      "epoch 69, loss 1.766, time 0.4 sec\n",
      "epoch 70, loss 1.766, time 0.4 sec\n",
      "epoch 71, loss 1.765, time 0.4 sec\n",
      "epoch 72, loss 1.765, time 0.4 sec\n",
      "epoch 73, loss 1.765, time 0.4 sec\n",
      "epoch 74, loss 1.764, time 0.4 sec\n",
      "epoch 75, loss 1.764, time 0.4 sec\n",
      "epoch 76, loss 1.764, time 0.4 sec\n",
      "epoch 77, loss 1.764, time 0.4 sec\n",
      "epoch 78, loss 1.763, time 0.4 sec\n",
      "epoch 79, loss 1.763, time 0.4 sec\n",
      "epoch 80, loss 1.763, time 0.4 sec\n",
      "epoch 81, loss 1.763, time 0.4 sec\n",
      "epoch 82, loss 1.762, time 0.5 sec\n",
      "epoch 83, loss 1.762, time 0.4 sec\n",
      "epoch 84, loss 1.762, time 0.4 sec\n",
      "epoch 85, loss 1.762, time 0.4 sec\n",
      "epoch 86, loss 1.762, time 0.4 sec\n",
      "epoch 87, loss 1.761, time 0.4 sec\n",
      "epoch 88, loss 1.761, time 0.4 sec\n",
      "epoch 89, loss 1.761, time 0.4 sec\n",
      "epoch 90, loss 1.761, time 0.5 sec\n",
      "epoch 91, loss 1.761, time 0.4 sec\n",
      "epoch 92, loss 1.761, time 0.4 sec\n",
      "epoch 93, loss 1.761, time 0.4 sec\n",
      "epoch 94, loss 1.760, time 0.4 sec\n",
      "epoch 95, loss 1.760, time 0.4 sec\n",
      "epoch 96, loss 1.760, time 0.4 sec\n",
      "epoch 97, loss 1.760, time 0.4 sec\n",
      "epoch 98, loss 1.760, time 0.4 sec\n",
      "epoch 99, loss 1.760, time 0.4 sec\n",
      "epoch 100, loss 1.760, time 0.4 sec\n",
      "epoch 101, loss 1.760, time 0.5 sec\n",
      "epoch 102, loss 1.759, time 0.4 sec\n",
      "epoch 103, loss 1.759, time 0.4 sec\n",
      "epoch 104, loss 1.759, time 0.4 sec\n",
      "epoch 105, loss 1.759, time 0.4 sec\n",
      "epoch 106, loss 1.759, time 0.4 sec\n",
      "epoch 107, loss 1.759, time 0.4 sec\n",
      "epoch 108, loss 1.759, time 0.4 sec\n",
      "epoch 109, loss 1.759, time 0.4 sec\n",
      "epoch 110, loss 1.759, time 0.5 sec\n",
      "epoch 111, loss 1.758, time 0.4 sec\n",
      "epoch 112, loss 1.758, time 0.4 sec\n",
      "epoch 113, loss 1.758, time 0.4 sec\n",
      "epoch 114, loss 1.758, time 0.4 sec\n",
      "epoch 115, loss 1.758, time 0.4 sec\n",
      "epoch 116, loss 1.758, time 0.4 sec\n",
      "epoch 117, loss 1.758, time 0.4 sec\n",
      "epoch 118, loss 1.758, time 0.4 sec\n",
      "epoch 119, loss 1.758, time 0.4 sec\n",
      "epoch 120, loss 1.758, time 0.4 sec\n",
      "epoch 121, loss 1.757, time 0.4 sec\n",
      "epoch 122, loss 1.757, time 0.4 sec\n",
      "epoch 123, loss 1.757, time 0.5 sec\n",
      "epoch 124, loss 1.757, time 0.5 sec\n",
      "epoch 125, loss 1.757, time 0.4 sec\n",
      "epoch 126, loss 1.757, time 0.4 sec\n",
      "epoch 127, loss 1.757, time 0.4 sec\n",
      "epoch 128, loss 1.757, time 0.4 sec\n",
      "epoch 129, loss 1.757, time 0.4 sec\n",
      "epoch 130, loss 1.757, time 0.4 sec\n",
      "epoch 131, loss 1.756, time 0.6 sec\n",
      "epoch 132, loss 1.756, time 0.4 sec\n",
      "epoch 133, loss 1.756, time 0.5 sec\n",
      "epoch 134, loss 1.756, time 0.4 sec\n",
      "epoch 135, loss 1.756, time 0.4 sec\n",
      "epoch 136, loss 1.756, time 0.4 sec\n",
      "epoch 137, loss 1.756, time 0.4 sec\n",
      "epoch 138, loss 1.756, time 0.5 sec\n",
      "epoch 139, loss 1.755, time 0.4 sec\n",
      "epoch 140, loss 1.755, time 0.4 sec\n",
      "epoch 141, loss 1.755, time 0.5 sec\n",
      "epoch 142, loss 1.755, time 0.4 sec\n",
      "epoch 143, loss 1.755, time 0.4 sec\n",
      "epoch 144, loss 1.755, time 0.4 sec\n",
      "epoch 145, loss 1.755, time 0.4 sec\n",
      "epoch 146, loss 1.754, time 0.6 sec\n",
      "epoch 147, loss 1.754, time 0.4 sec\n",
      "epoch 148, loss 1.754, time 0.4 sec\n",
      "epoch 149, loss 1.754, time 0.5 sec\n",
      "epoch 150, loss 1.754, time 0.4 sec\n",
      "epoch 151, loss 1.754, time 0.4 sec\n",
      "epoch 152, loss 1.753, time 0.4 sec\n",
      "epoch 153, loss 1.753, time 0.4 sec\n",
      "epoch 154, loss 1.753, time 0.4 sec\n",
      "epoch 155, loss 1.753, time 0.4 sec\n",
      "epoch 156, loss 1.753, time 0.4 sec\n",
      "epoch 157, loss 1.753, time 0.4 sec\n",
      "epoch 158, loss 1.752, time 0.4 sec\n",
      "epoch 159, loss 1.752, time 0.4 sec\n",
      "epoch 160, loss 1.752, time 0.4 sec\n",
      "epoch 161, loss 1.752, time 0.4 sec\n",
      "epoch 162, loss 1.752, time 0.4 sec\n",
      "epoch 163, loss 1.752, time 0.4 sec\n",
      "epoch 164, loss 1.752, time 0.4 sec\n",
      "epoch 165, loss 1.751, time 0.4 sec\n",
      "epoch 166, loss 1.751, time 0.4 sec\n",
      "epoch 167, loss 1.751, time 0.4 sec\n",
      "epoch 168, loss 1.751, time 0.4 sec\n",
      "epoch 169, loss 1.751, time 0.4 sec\n",
      "epoch 170, loss 1.751, time 0.4 sec\n",
      "epoch 171, loss 1.750, time 0.4 sec\n",
      "epoch 172, loss 1.750, time 0.4 sec\n",
      "epoch 173, loss 1.750, time 0.4 sec\n",
      "epoch 174, loss 1.750, time 0.4 sec\n",
      "epoch 175, loss 1.750, time 0.4 sec\n",
      "epoch 176, loss 1.750, time 0.4 sec\n",
      "epoch 177, loss 1.749, time 0.4 sec\n",
      "epoch 178, loss 1.749, time 0.4 sec\n",
      "epoch 179, loss 1.749, time 0.4 sec\n",
      "epoch 180, loss 1.749, time 0.4 sec\n",
      "epoch 181, loss 1.749, time 0.4 sec\n",
      "epoch 182, loss 1.749, time 0.4 sec\n",
      "epoch 183, loss 1.748, time 0.4 sec\n",
      "epoch 184, loss 1.748, time 0.4 sec\n",
      "epoch 185, loss 1.748, time 0.4 sec\n",
      "epoch 186, loss 1.748, time 0.4 sec\n",
      "epoch 187, loss 1.748, time 0.4 sec\n",
      "epoch 188, loss 1.748, time 0.4 sec\n",
      "epoch 189, loss 1.748, time 0.4 sec\n",
      "epoch 190, loss 1.747, time 0.4 sec\n",
      "epoch 191, loss 1.747, time 0.4 sec\n",
      "epoch 192, loss 1.747, time 0.4 sec\n",
      "epoch 193, loss 1.747, time 0.4 sec\n",
      "epoch 194, loss 1.747, time 0.4 sec\n",
      "epoch 195, loss 1.747, time 0.4 sec\n",
      "epoch 196, loss 1.747, time 0.4 sec\n",
      "epoch 197, loss 1.746, time 0.7 sec\n",
      "epoch 198, loss 1.746, time 0.4 sec\n",
      "epoch 199, loss 1.746, time 0.4 sec\n",
      "epoch 200, loss 1.746, time 0.7 sec\n",
      "epoch 201, loss 1.746, time 0.6 sec\n",
      "epoch 202, loss 1.746, time 0.7 sec\n",
      "epoch 203, loss 1.746, time 0.5 sec\n",
      "epoch 204, loss 1.746, time 0.5 sec\n",
      "epoch 205, loss 1.746, time 0.4 sec\n",
      "epoch 206, loss 1.746, time 0.4 sec\n",
      "epoch 207, loss 1.746, time 0.4 sec\n",
      "epoch 208, loss 1.746, time 0.4 sec\n",
      "epoch 209, loss 1.746, time 0.4 sec\n",
      "epoch 210, loss 1.746, time 0.4 sec\n",
      "epoch 211, loss 1.746, time 0.4 sec\n",
      "epoch 212, loss 1.746, time 0.4 sec\n",
      "epoch 213, loss 1.746, time 0.4 sec\n",
      "epoch 214, loss 1.746, time 0.4 sec\n",
      "epoch 215, loss 1.746, time 0.4 sec\n",
      "epoch 216, loss 1.746, time 0.4 sec\n",
      "epoch 217, loss 1.746, time 0.4 sec\n",
      "epoch 218, loss 1.746, time 0.4 sec\n",
      "epoch 219, loss 1.746, time 0.4 sec\n",
      "epoch 220, loss 1.746, time 0.4 sec\n",
      "epoch 221, loss 1.746, time 0.4 sec\n",
      "epoch 222, loss 1.746, time 0.4 sec\n",
      "epoch 223, loss 1.746, time 0.4 sec\n",
      "epoch 224, loss 1.746, time 0.4 sec\n",
      "epoch 225, loss 1.746, time 0.4 sec\n",
      "epoch 226, loss 1.746, time 0.4 sec\n",
      "epoch 227, loss 1.746, time 0.4 sec\n",
      "epoch 228, loss 1.746, time 0.4 sec\n",
      "epoch 229, loss 1.746, time 0.4 sec\n",
      "epoch 230, loss 1.746, time 0.4 sec\n",
      "epoch 231, loss 1.746, time 0.4 sec\n"
     ]
    },
    {
     "name": "stdout",
     "output_type": "stream",
     "text": [
      "epoch 232, loss 1.747, time 0.4 sec\n",
      "epoch 233, loss 1.747, time 0.4 sec\n",
      "epoch 234, loss 1.747, time 0.4 sec\n",
      "epoch 235, loss 1.747, time 0.4 sec\n",
      "epoch 236, loss 1.747, time 0.4 sec\n",
      "epoch 237, loss 1.747, time 0.4 sec\n",
      "epoch 238, loss 1.747, time 0.4 sec\n",
      "epoch 239, loss 1.747, time 0.4 sec\n",
      "epoch 240, loss 1.747, time 0.4 sec\n",
      "epoch 241, loss 1.747, time 0.4 sec\n",
      "epoch 242, loss 1.747, time 0.4 sec\n",
      "epoch 243, loss 1.747, time 0.4 sec\n",
      "epoch 244, loss 1.747, time 0.4 sec\n",
      "epoch 245, loss 1.747, time 0.4 sec\n",
      "epoch 246, loss 1.747, time 0.4 sec\n",
      "epoch 247, loss 1.747, time 0.4 sec\n",
      "epoch 248, loss 1.748, time 0.4 sec\n",
      "epoch 249, loss 1.748, time 0.4 sec\n",
      "epoch 250, loss 1.748, time 0.4 sec\n",
      "epoch 251, loss 1.748, time 0.4 sec\n",
      "epoch 252, loss 1.748, time 0.4 sec\n",
      "epoch 253, loss 1.747, time 0.4 sec\n",
      "epoch 254, loss 1.747, time 0.4 sec\n",
      "epoch 255, loss 1.747, time 0.4 sec\n",
      "epoch 256, loss 1.747, time 0.4 sec\n",
      "epoch 257, loss 1.747, time 0.4 sec\n",
      "epoch 258, loss 1.747, time 0.4 sec\n",
      "epoch 259, loss 1.747, time 0.4 sec\n",
      "epoch 260, loss 1.747, time 0.4 sec\n",
      "epoch 261, loss 1.747, time 0.4 sec\n",
      "epoch 262, loss 1.747, time 0.4 sec\n",
      "epoch 263, loss 1.747, time 0.4 sec\n",
      "epoch 264, loss 1.746, time 0.4 sec\n",
      "epoch 265, loss 1.746, time 0.4 sec\n",
      "epoch 266, loss 1.746, time 0.4 sec\n",
      "epoch 267, loss 1.746, time 0.4 sec\n",
      "epoch 268, loss 1.746, time 0.4 sec\n",
      "epoch 269, loss 1.746, time 0.4 sec\n",
      "epoch 270, loss 1.745, time 0.4 sec\n",
      "epoch 271, loss 1.745, time 0.4 sec\n",
      "epoch 272, loss 1.745, time 0.4 sec\n",
      "epoch 273, loss 1.745, time 0.4 sec\n",
      "epoch 274, loss 1.744, time 0.4 sec\n",
      "epoch 275, loss 1.744, time 0.4 sec\n",
      "epoch 276, loss 1.744, time 0.4 sec\n",
      "epoch 277, loss 1.743, time 0.4 sec\n",
      "epoch 278, loss 1.743, time 0.4 sec\n",
      "epoch 279, loss 1.743, time 0.4 sec\n",
      "epoch 280, loss 1.743, time 0.4 sec\n",
      "epoch 281, loss 1.742, time 0.4 sec\n",
      "epoch 282, loss 1.742, time 0.4 sec\n",
      "epoch 283, loss 1.742, time 0.4 sec\n",
      "epoch 284, loss 1.741, time 0.4 sec\n",
      "epoch 285, loss 1.741, time 0.4 sec\n",
      "epoch 286, loss 1.741, time 0.4 sec\n",
      "epoch 287, loss 1.740, time 0.4 sec\n",
      "epoch 288, loss 1.740, time 0.4 sec\n",
      "epoch 289, loss 1.740, time 0.4 sec\n",
      "epoch 290, loss 1.740, time 0.4 sec\n",
      "epoch 291, loss 1.739, time 0.4 sec\n",
      "epoch 292, loss 1.739, time 0.4 sec\n",
      "epoch 293, loss 1.739, time 0.4 sec\n",
      "epoch 294, loss 1.738, time 0.4 sec\n",
      "epoch 295, loss 1.738, time 0.4 sec\n",
      "epoch 296, loss 1.738, time 0.4 sec\n",
      "epoch 297, loss 1.738, time 0.4 sec\n",
      "epoch 298, loss 1.737, time 0.4 sec\n",
      "epoch 299, loss 1.737, time 0.4 sec\n",
      "epoch 300, loss 1.737, time 0.4 sec\n"
     ]
    }
   ],
   "source": [
    "train(model, train_iter, lr / 10, num_epochs, len(tgt_vocab))"
   ]
  },
  {
   "cell_type": "code",
   "execution_count": 141,
   "metadata": {
    "ExecuteTime": {
     "end_time": "2019-11-28T07:06:08.193793Z",
     "start_time": "2019-11-28T07:06:08.167486Z"
    }
   },
   "outputs": [
    {
     "name": "stdout",
     "output_type": "stream",
     "text": [
      "Go . => <unk> !\n",
      "Wow ! => <unk> !\n",
      "I'm OK . => je suis <unk> .\n",
      "I won ! => je suis <unk> .\n"
     ]
    }
   ],
   "source": [
    "for sentence in ['Go .', 'Wow !', \"I'm OK .\", 'I won !']:\n",
    "    print(sentence + ' => ' + translate(\n",
    "        model, sentence, src_vocab, tgt_vocab, max_len))"
   ]
  },
  {
   "cell_type": "code",
   "execution_count": null,
   "metadata": {},
   "outputs": [],
   "source": []
  }
 ],
 "metadata": {
  "kernelspec": {
   "display_name": "Python 3",
   "language": "python",
   "name": "python3"
  },
  "language_info": {
   "codemirror_mode": {
    "name": "ipython",
    "version": 3
   },
   "file_extension": ".py",
   "mimetype": "text/x-python",
   "name": "python",
   "nbconvert_exporter": "python",
   "pygments_lexer": "ipython3",
   "version": "3.7.1"
  }
 },
 "nbformat": 4,
 "nbformat_minor": 2
}
