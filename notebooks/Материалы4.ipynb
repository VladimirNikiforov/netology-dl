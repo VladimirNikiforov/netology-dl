{
 "cells": [
  {
   "cell_type": "code",
   "execution_count": 257,
   "metadata": {
    "ExecuteTime": {
     "end_time": "2019-11-14T21:34:19.658915Z",
     "start_time": "2019-11-14T21:34:19.656278Z"
    },
    "colab": {},
    "colab_type": "code",
    "id": "HjmIRXdQwwUo"
   },
   "outputs": [],
   "source": [
    "import torch\n",
    "from torch import nn"
   ]
  },
  {
   "cell_type": "markdown",
   "metadata": {
    "colab_type": "text",
    "id": "XwJt51p3wwUt"
   },
   "source": [
    "## Самостоятельная реализация свертки"
   ]
  },
  {
   "cell_type": "code",
   "execution_count": 258,
   "metadata": {
    "ExecuteTime": {
     "end_time": "2019-11-14T21:34:20.310941Z",
     "start_time": "2019-11-14T21:34:20.305414Z"
    },
    "colab": {},
    "colab_type": "code",
    "id": "OMFdmIHZwwUu"
   },
   "outputs": [],
   "source": [
    "def corr2d(X, K):  \n",
    "    h, w = K.shape\n",
    "    Y = torch.zeros((X.shape[0] - h + 1, X.shape[1] - w + 1))\n",
    "    for i in range(Y.shape[0]):\n",
    "        for j in range(Y.shape[1]):\n",
    "            Y[i, j] = (X[i: i + h, j: j + w] * K).sum()\n",
    "    return Y"
   ]
  },
  {
   "cell_type": "code",
   "execution_count": 259,
   "metadata": {
    "ExecuteTime": {
     "end_time": "2019-11-14T21:34:20.509094Z",
     "start_time": "2019-11-14T21:34:20.501896Z"
    },
    "colab": {},
    "colab_type": "code",
    "id": "WZqpW4vxwwUy",
    "outputId": "f354a045-685d-4847-e415-6eff856a4743"
   },
   "outputs": [
    {
     "data": {
      "text/plain": [
       "tensor([[19., 25.],\n",
       "        [37., 43.]])"
      ]
     },
     "execution_count": 259,
     "metadata": {},
     "output_type": "execute_result"
    }
   ],
   "source": [
    "X = torch.Tensor([[0, 1, 2], [3, 4, 5], [6, 7, 8]])\n",
    "K = torch.Tensor([[0, 1], [2, 3]])\n",
    "corr2d(X, K)"
   ]
  },
  {
   "cell_type": "markdown",
   "metadata": {
    "colab_type": "text",
    "id": "GJ3UR_PXwwU2"
   },
   "source": [
    "## Детекция граней"
   ]
  },
  {
   "cell_type": "code",
   "execution_count": 260,
   "metadata": {
    "ExecuteTime": {
     "end_time": "2019-11-14T21:34:21.076280Z",
     "start_time": "2019-11-14T21:34:21.069980Z"
    },
    "colab": {},
    "colab_type": "code",
    "id": "uv5_Pmh0wwU3",
    "outputId": "ea688263-116c-4ff2-edd5-95c1823b406c",
    "scrolled": true
   },
   "outputs": [
    {
     "data": {
      "text/plain": [
       "tensor([[1., 1., 0., 0., 0., 0., 1., 1.],\n",
       "        [1., 1., 0., 0., 0., 0., 1., 1.],\n",
       "        [1., 1., 0., 0., 0., 0., 1., 1.],\n",
       "        [1., 1., 0., 0., 0., 0., 1., 1.],\n",
       "        [1., 1., 0., 0., 0., 0., 1., 1.],\n",
       "        [1., 1., 0., 0., 0., 0., 1., 1.]])"
      ]
     },
     "execution_count": 260,
     "metadata": {},
     "output_type": "execute_result"
    }
   ],
   "source": [
    "X = torch.ones((6, 8))\n",
    "X[:, 2:6] = 0\n",
    "X"
   ]
  },
  {
   "cell_type": "code",
   "execution_count": 261,
   "metadata": {
    "ExecuteTime": {
     "end_time": "2019-11-14T21:34:21.477203Z",
     "start_time": "2019-11-14T21:34:21.469469Z"
    },
    "colab": {},
    "colab_type": "code",
    "id": "1WzBhrGiwwU6",
    "outputId": "922a5001-4b2d-4872-921c-4bc5ea0936b9",
    "scrolled": true
   },
   "outputs": [
    {
     "name": "stdout",
     "output_type": "stream",
     "text": [
      "tensor([[1., 1., 0., 0., 0., 0., 1., 1.],\n",
      "        [1., 1., 0., 0., 0., 0., 1., 1.],\n",
      "        [1., 1., 0., 0., 0., 0., 1., 1.],\n",
      "        [1., 1., 0., 0., 0., 0., 1., 1.],\n",
      "        [1., 1., 0., 0., 0., 0., 1., 1.],\n",
      "        [1., 1., 0., 0., 0., 0., 1., 1.]])\n",
      "tensor([[ 0.,  1.,  0.,  0.,  0., -1.,  0.],\n",
      "        [ 0.,  1.,  0.,  0.,  0., -1.,  0.],\n",
      "        [ 0.,  1.,  0.,  0.,  0., -1.,  0.],\n",
      "        [ 0.,  1.,  0.,  0.,  0., -1.,  0.],\n",
      "        [ 0.,  1.,  0.,  0.,  0., -1.,  0.],\n",
      "        [ 0.,  1.,  0.,  0.,  0., -1.,  0.]])\n"
     ]
    }
   ],
   "source": [
    "## вертикальные грани есть\n",
    "K = torch.Tensor([[1, -1]])\n",
    "Y = corr2d(X, K)\n",
    "print(X)\n",
    "print(Y)"
   ]
  },
  {
   "cell_type": "code",
   "execution_count": 262,
   "metadata": {
    "ExecuteTime": {
     "end_time": "2019-11-14T21:34:21.900375Z",
     "start_time": "2019-11-14T21:34:21.893344Z"
    },
    "colab": {},
    "colab_type": "code",
    "id": "bS90HMpOwwU9",
    "outputId": "2eee47ba-b56a-461b-fa6f-f5d860e93f1a"
   },
   "outputs": [
    {
     "name": "stdout",
     "output_type": "stream",
     "text": [
      "tensor([[1., 1., 1., 1., 1., 1.],\n",
      "        [1., 1., 1., 1., 1., 1.],\n",
      "        [0., 0., 0., 0., 0., 0.],\n",
      "        [0., 0., 0., 0., 0., 0.],\n",
      "        [0., 0., 0., 0., 0., 0.],\n",
      "        [0., 0., 0., 0., 0., 0.],\n",
      "        [1., 1., 1., 1., 1., 1.],\n",
      "        [1., 1., 1., 1., 1., 1.]])\n",
      "tensor([[0., 0., 0., 0., 0.],\n",
      "        [0., 0., 0., 0., 0.],\n",
      "        [0., 0., 0., 0., 0.],\n",
      "        [0., 0., 0., 0., 0.],\n",
      "        [0., 0., 0., 0., 0.],\n",
      "        [0., 0., 0., 0., 0.],\n",
      "        [0., 0., 0., 0., 0.],\n",
      "        [0., 0., 0., 0., 0.]])\n"
     ]
    }
   ],
   "source": [
    "## вертикальных граней нет\n",
    "Z = corr2d(X.T, K)\n",
    "print(X.T)\n",
    "print(Z)"
   ]
  },
  {
   "cell_type": "markdown",
   "metadata": {
    "colab_type": "text",
    "id": "y1oiNJ3KwwU_"
   },
   "source": [
    "## Сверточный слой"
   ]
  },
  {
   "cell_type": "code",
   "execution_count": 263,
   "metadata": {
    "ExecuteTime": {
     "end_time": "2019-11-14T21:34:22.615995Z",
     "start_time": "2019-11-14T21:34:22.611694Z"
    },
    "colab": {},
    "colab_type": "code",
    "id": "jyMOumrZwwVA"
   },
   "outputs": [],
   "source": [
    "X = X.reshape(1, 1, 6, 8)\n",
    "Y = Y.reshape(1, 1, 6, 7)"
   ]
  },
  {
   "cell_type": "code",
   "execution_count": 264,
   "metadata": {
    "ExecuteTime": {
     "end_time": "2019-11-14T21:34:22.953813Z",
     "start_time": "2019-11-14T21:34:22.950425Z"
    },
    "colab": {},
    "colab_type": "code",
    "id": "xbT2M_S1wwVC"
   },
   "outputs": [],
   "source": [
    "conv2d = torch.nn.Conv2d(1, 1, (1,2))"
   ]
  },
  {
   "cell_type": "code",
   "execution_count": 265,
   "metadata": {
    "ExecuteTime": {
     "end_time": "2019-11-14T21:34:23.149137Z",
     "start_time": "2019-11-14T21:34:23.145856Z"
    },
    "colab": {},
    "colab_type": "code",
    "id": "hHdwEZoOwwVE"
   },
   "outputs": [],
   "source": [
    "trainer = torch.optim.SGD(conv2d.parameters(), lr=0.001)"
   ]
  },
  {
   "cell_type": "code",
   "execution_count": 266,
   "metadata": {
    "ExecuteTime": {
     "end_time": "2019-11-14T21:34:23.709698Z",
     "start_time": "2019-11-14T21:34:23.319385Z"
    },
    "colab": {},
    "colab_type": "code",
    "id": "uzxBTiNvwwVG",
    "outputId": "a4cdb5a9-e944-43a7-c825-e3e185d0bbb0"
   },
   "outputs": [
    {
     "name": "stdout",
     "output_type": "stream",
     "text": [
      "batch 2, loss 29.746\n",
      "batch 4, loss 25.413\n",
      "batch 6, loss 22.484\n",
      "batch 8, loss 20.401\n",
      "batch 10, loss 18.831\n",
      "batch 12, loss 17.581\n",
      "batch 14, loss 16.534\n",
      "batch 16, loss 15.621\n",
      "batch 18, loss 14.803\n",
      "batch 20, loss 14.053\n",
      "batch 22, loss 13.356\n",
      "batch 24, loss 12.703\n",
      "batch 26, loss 12.087\n",
      "batch 28, loss 11.504\n",
      "batch 30, loss 10.952\n",
      "batch 32, loss 10.427\n",
      "batch 34, loss 9.929\n",
      "batch 36, loss 9.454\n",
      "batch 38, loss 9.003\n",
      "batch 40, loss 8.574\n",
      "batch 42, loss 8.165\n",
      "batch 44, loss 7.776\n",
      "batch 46, loss 7.405\n",
      "batch 48, loss 7.053\n",
      "batch 50, loss 6.717\n",
      "batch 52, loss 6.397\n",
      "batch 54, loss 6.093\n",
      "batch 56, loss 5.803\n",
      "batch 58, loss 5.527\n",
      "batch 60, loss 5.265\n",
      "batch 62, loss 5.014\n",
      "batch 64, loss 4.776\n",
      "batch 66, loss 4.549\n",
      "batch 68, loss 4.333\n",
      "batch 70, loss 4.128\n",
      "batch 72, loss 3.932\n",
      "batch 74, loss 3.745\n",
      "batch 76, loss 3.567\n",
      "batch 78, loss 3.398\n",
      "batch 80, loss 3.237\n",
      "batch 82, loss 3.083\n",
      "batch 84, loss 2.937\n",
      "batch 86, loss 2.798\n",
      "batch 88, loss 2.665\n",
      "batch 90, loss 2.539\n",
      "batch 92, loss 2.419\n",
      "batch 94, loss 2.304\n",
      "batch 96, loss 2.195\n",
      "batch 98, loss 2.091\n",
      "batch 100, loss 1.992\n",
      "batch 102, loss 1.898\n",
      "batch 104, loss 1.808\n",
      "batch 106, loss 1.722\n",
      "batch 108, loss 1.641\n",
      "batch 110, loss 1.563\n",
      "batch 112, loss 1.489\n",
      "batch 114, loss 1.419\n",
      "batch 116, loss 1.352\n",
      "batch 118, loss 1.288\n",
      "batch 120, loss 1.227\n",
      "batch 122, loss 1.169\n",
      "batch 124, loss 1.113\n",
      "batch 126, loss 1.061\n",
      "batch 128, loss 1.011\n",
      "batch 130, loss 0.963\n",
      "batch 132, loss 0.917\n",
      "batch 134, loss 0.874\n",
      "batch 136, loss 0.833\n",
      "batch 138, loss 0.793\n",
      "batch 140, loss 0.756\n",
      "batch 142, loss 0.720\n",
      "batch 144, loss 0.686\n",
      "batch 146, loss 0.654\n",
      "batch 148, loss 0.623\n",
      "batch 150, loss 0.593\n",
      "batch 152, loss 0.565\n",
      "batch 154, loss 0.539\n",
      "batch 156, loss 0.513\n",
      "batch 158, loss 0.489\n",
      "batch 160, loss 0.466\n",
      "batch 162, loss 0.444\n",
      "batch 164, loss 0.423\n",
      "batch 166, loss 0.403\n",
      "batch 168, loss 0.384\n",
      "batch 170, loss 0.366\n",
      "batch 172, loss 0.349\n",
      "batch 174, loss 0.332\n",
      "batch 176, loss 0.316\n",
      "batch 178, loss 0.301\n",
      "batch 180, loss 0.287\n",
      "batch 182, loss 0.274\n",
      "batch 184, loss 0.261\n",
      "batch 186, loss 0.248\n",
      "batch 188, loss 0.237\n",
      "batch 190, loss 0.226\n",
      "batch 192, loss 0.215\n",
      "batch 194, loss 0.205\n",
      "batch 196, loss 0.195\n",
      "batch 198, loss 0.186\n",
      "batch 200, loss 0.177\n",
      "batch 202, loss 0.169\n",
      "batch 204, loss 0.161\n",
      "batch 206, loss 0.153\n",
      "batch 208, loss 0.146\n",
      "batch 210, loss 0.139\n",
      "batch 212, loss 0.133\n",
      "batch 214, loss 0.126\n",
      "batch 216, loss 0.120\n",
      "batch 218, loss 0.115\n",
      "batch 220, loss 0.109\n",
      "batch 222, loss 0.104\n",
      "batch 224, loss 0.099\n",
      "batch 226, loss 0.094\n",
      "batch 228, loss 0.090\n",
      "batch 230, loss 0.086\n",
      "batch 232, loss 0.082\n",
      "batch 234, loss 0.078\n",
      "batch 236, loss 0.074\n",
      "batch 238, loss 0.071\n",
      "batch 240, loss 0.067\n",
      "batch 242, loss 0.064\n",
      "batch 244, loss 0.061\n",
      "batch 246, loss 0.058\n",
      "batch 248, loss 0.056\n",
      "batch 250, loss 0.053\n",
      "batch 252, loss 0.050\n",
      "batch 254, loss 0.048\n",
      "batch 256, loss 0.046\n",
      "batch 258, loss 0.044\n",
      "batch 260, loss 0.042\n",
      "batch 262, loss 0.040\n",
      "batch 264, loss 0.038\n",
      "batch 266, loss 0.036\n",
      "batch 268, loss 0.034\n",
      "batch 270, loss 0.033\n",
      "batch 272, loss 0.031\n",
      "batch 274, loss 0.030\n",
      "batch 276, loss 0.028\n",
      "batch 278, loss 0.027\n",
      "batch 280, loss 0.026\n",
      "batch 282, loss 0.024\n",
      "batch 284, loss 0.023\n",
      "batch 286, loss 0.022\n",
      "batch 288, loss 0.021\n",
      "batch 290, loss 0.020\n",
      "batch 292, loss 0.019\n",
      "batch 294, loss 0.018\n",
      "batch 296, loss 0.017\n",
      "batch 298, loss 0.017\n",
      "batch 300, loss 0.016\n",
      "batch 302, loss 0.015\n",
      "batch 304, loss 0.014\n",
      "batch 306, loss 0.014\n",
      "batch 308, loss 0.013\n",
      "batch 310, loss 0.012\n",
      "batch 312, loss 0.012\n",
      "batch 314, loss 0.011\n",
      "batch 316, loss 0.011\n",
      "batch 318, loss 0.010\n",
      "batch 320, loss 0.010\n",
      "batch 322, loss 0.009\n",
      "batch 324, loss 0.009\n",
      "batch 326, loss 0.008\n",
      "batch 328, loss 0.008\n",
      "batch 330, loss 0.008\n",
      "batch 332, loss 0.007\n",
      "batch 334, loss 0.007\n",
      "batch 336, loss 0.007\n",
      "batch 338, loss 0.006\n",
      "batch 340, loss 0.006\n",
      "batch 342, loss 0.006\n",
      "batch 344, loss 0.005\n",
      "batch 346, loss 0.005\n",
      "batch 348, loss 0.005\n",
      "batch 350, loss 0.005\n",
      "batch 352, loss 0.005\n",
      "batch 354, loss 0.004\n",
      "batch 356, loss 0.004\n",
      "batch 358, loss 0.004\n",
      "batch 360, loss 0.004\n",
      "batch 362, loss 0.004\n",
      "batch 364, loss 0.003\n",
      "batch 366, loss 0.003\n",
      "batch 368, loss 0.003\n",
      "batch 370, loss 0.003\n",
      "batch 372, loss 0.003\n",
      "batch 374, loss 0.003\n",
      "batch 376, loss 0.003\n",
      "batch 378, loss 0.002\n",
      "batch 380, loss 0.002\n",
      "batch 382, loss 0.002\n",
      "batch 384, loss 0.002\n",
      "batch 386, loss 0.002\n",
      "batch 388, loss 0.002\n",
      "batch 390, loss 0.002\n",
      "batch 392, loss 0.002\n",
      "batch 394, loss 0.002\n",
      "batch 396, loss 0.002\n",
      "batch 398, loss 0.001\n",
      "batch 400, loss 0.001\n",
      "batch 402, loss 0.001\n",
      "batch 404, loss 0.001\n",
      "batch 406, loss 0.001\n",
      "batch 408, loss 0.001\n",
      "batch 410, loss 0.001\n",
      "batch 412, loss 0.001\n",
      "batch 414, loss 0.001\n",
      "batch 416, loss 0.001\n",
      "batch 418, loss 0.001\n",
      "batch 420, loss 0.001\n",
      "batch 422, loss 0.001\n",
      "batch 424, loss 0.001\n",
      "batch 426, loss 0.001\n",
      "batch 428, loss 0.001\n",
      "batch 430, loss 0.001\n",
      "batch 432, loss 0.001\n",
      "batch 434, loss 0.001\n",
      "batch 436, loss 0.001\n",
      "batch 438, loss 0.001\n",
      "batch 440, loss 0.001\n",
      "batch 442, loss 0.001\n",
      "batch 444, loss 0.000\n",
      "batch 446, loss 0.000\n",
      "batch 448, loss 0.000\n",
      "batch 450, loss 0.000\n",
      "batch 452, loss 0.000\n",
      "batch 454, loss 0.000\n",
      "batch 456, loss 0.000\n",
      "batch 458, loss 0.000\n",
      "batch 460, loss 0.000\n",
      "batch 462, loss 0.000\n",
      "batch 464, loss 0.000\n",
      "batch 466, loss 0.000\n",
      "batch 468, loss 0.000\n",
      "batch 470, loss 0.000\n",
      "batch 472, loss 0.000\n",
      "batch 474, loss 0.000\n",
      "batch 476, loss 0.000\n",
      "batch 478, loss 0.000\n",
      "batch 480, loss 0.000\n",
      "batch 482, loss 0.000\n",
      "batch 484, loss 0.000\n",
      "batch 486, loss 0.000\n",
      "batch 488, loss 0.000\n",
      "batch 490, loss 0.000\n",
      "batch 492, loss 0.000\n",
      "batch 494, loss 0.000\n",
      "batch 496, loss 0.000\n",
      "batch 498, loss 0.000\n",
      "batch 500, loss 0.000\n"
     ]
    }
   ],
   "source": [
    "for i in range(500):\n",
    "    trainer.zero_grad()\n",
    "    Y_hat = conv2d(X)\n",
    "    l = ((Y_hat - Y) ** 2).sum()\n",
    "    l.backward()\n",
    "    trainer.step()\n",
    "    if (i + 1) % 2 == 0:\n",
    "        print('batch %d, loss %.3f' % (i + 1, l.item()))"
   ]
  },
  {
   "cell_type": "code",
   "execution_count": 267,
   "metadata": {
    "ExecuteTime": {
     "end_time": "2019-11-14T21:34:24.094520Z",
     "start_time": "2019-11-14T21:34:24.088067Z"
    },
    "colab": {},
    "colab_type": "code",
    "id": "2Zjwy0t7wwVJ",
    "outputId": "5aeeafe3-39d4-4690-8427-d6d066b009d2"
   },
   "outputs": [
    {
     "name": "stdout",
     "output_type": "stream",
     "text": [
      "Parameter containing:\n",
      "tensor([[[[ 0.9968, -0.9968]]]], requires_grad=True)\n",
      "Parameter containing:\n",
      "tensor([-7.9746e-06], requires_grad=True)\n"
     ]
    }
   ],
   "source": [
    "print(conv2d.weight)\n",
    "print(conv2d.bias)"
   ]
  },
  {
   "cell_type": "markdown",
   "metadata": {
    "ExecuteTime": {
     "end_time": "2019-11-14T20:43:29.333030Z",
     "start_time": "2019-11-14T20:43:29.330547Z"
    },
    "colab_type": "text",
    "id": "kmyuFDYqwwVL"
   },
   "source": [
    "## Padding и stride"
   ]
  },
  {
   "cell_type": "code",
   "execution_count": 268,
   "metadata": {
    "ExecuteTime": {
     "end_time": "2019-11-14T21:34:24.888812Z",
     "start_time": "2019-11-14T21:34:24.882050Z"
    },
    "colab": {},
    "colab_type": "code",
    "id": "zabESWcYwwVL",
    "outputId": "49f0c4ed-2f51-46aa-b069-c6ec5d024fbc"
   },
   "outputs": [
    {
     "data": {
      "text/plain": [
       "torch.Size([1, 1, 8, 8])"
      ]
     },
     "execution_count": 268,
     "metadata": {},
     "output_type": "execute_result"
    }
   ],
   "source": [
    "conv2d = nn.Conv2d(1, 1, kernel_size=3, padding=1)\n",
    "X = torch.randn((1, 1, 8, 8))\n",
    "conv2d(X).shape"
   ]
  },
  {
   "cell_type": "code",
   "execution_count": 269,
   "metadata": {
    "ExecuteTime": {
     "end_time": "2019-11-14T21:34:25.071304Z",
     "start_time": "2019-11-14T21:34:25.064710Z"
    },
    "colab": {},
    "colab_type": "code",
    "id": "Q2QyeAuowwVN",
    "outputId": "c18c38c7-6dac-4cd8-b4f0-16a49307ae64"
   },
   "outputs": [
    {
     "data": {
      "text/plain": [
       "torch.Size([1, 1, 4, 4])"
      ]
     },
     "execution_count": 269,
     "metadata": {},
     "output_type": "execute_result"
    }
   ],
   "source": [
    "conv2d = nn.Conv2d(1, 1, kernel_size=3, padding=1, stride=2)\n",
    "X = torch.randn((1, 1, 8, 8))\n",
    "conv2d(X).shape"
   ]
  },
  {
   "cell_type": "markdown",
   "metadata": {
    "colab_type": "text",
    "id": "AYX9WvRPwwVO"
   },
   "source": [
    "## Каналы"
   ]
  },
  {
   "cell_type": "code",
   "execution_count": 270,
   "metadata": {
    "ExecuteTime": {
     "end_time": "2019-11-14T21:34:25.388922Z",
     "start_time": "2019-11-14T21:34:25.382274Z"
    },
    "colab": {},
    "colab_type": "code",
    "id": "y1WWkiyewwVO",
    "outputId": "803454a4-b4c7-45d9-c2d7-180957078bcd"
   },
   "outputs": [
    {
     "data": {
      "text/plain": [
       "torch.Size([1, 1, 8, 8])"
      ]
     },
     "execution_count": 270,
     "metadata": {},
     "output_type": "execute_result"
    }
   ],
   "source": [
    "conv2d = nn.Conv2d(1, 1, kernel_size=3, padding=1)\n",
    "X = torch.randn((1, 1, 8, 8))\n",
    "conv2d(X).shape"
   ]
  },
  {
   "cell_type": "code",
   "execution_count": 271,
   "metadata": {
    "ExecuteTime": {
     "end_time": "2019-11-14T21:34:25.536692Z",
     "start_time": "2019-11-14T21:34:25.532336Z"
    },
    "colab": {},
    "colab_type": "code",
    "id": "0mrfPVQxwwVQ",
    "outputId": "5b2d3612-60bf-4a04-a710-b4214ffd7d86"
   },
   "outputs": [
    {
     "data": {
      "text/plain": [
       "torch.Size([1, 1, 3, 3])"
      ]
     },
     "execution_count": 271,
     "metadata": {},
     "output_type": "execute_result"
    }
   ],
   "source": [
    "conv2d.weight.shape"
   ]
  },
  {
   "cell_type": "code",
   "execution_count": 272,
   "metadata": {
    "ExecuteTime": {
     "end_time": "2019-11-14T21:34:25.749296Z",
     "start_time": "2019-11-14T21:34:25.741923Z"
    },
    "colab": {},
    "colab_type": "code",
    "id": "fXwQ8T-9wwVR",
    "outputId": "8e7b0ea5-a42d-4038-a22b-062d7d0c553a"
   },
   "outputs": [
    {
     "data": {
      "text/plain": [
       "torch.Size([1, 32, 8, 8])"
      ]
     },
     "execution_count": 272,
     "metadata": {},
     "output_type": "execute_result"
    }
   ],
   "source": [
    "conv2d = nn.Conv2d(3, 32, kernel_size=3, padding=1)\n",
    "X = torch.randn((1, 3, 8, 8))\n",
    "conv2d(X).shape"
   ]
  },
  {
   "cell_type": "code",
   "execution_count": 273,
   "metadata": {
    "ExecuteTime": {
     "end_time": "2019-11-14T21:34:25.955322Z",
     "start_time": "2019-11-14T21:34:25.951073Z"
    },
    "colab": {},
    "colab_type": "code",
    "id": "iKNd1ZbswwVS",
    "outputId": "267776d0-d16d-479b-f927-beb23fdc7b71"
   },
   "outputs": [
    {
     "data": {
      "text/plain": [
       "torch.Size([32, 3, 3, 3])"
      ]
     },
     "execution_count": 273,
     "metadata": {},
     "output_type": "execute_result"
    }
   ],
   "source": [
    "conv2d.weight.shape"
   ]
  },
  {
   "cell_type": "markdown",
   "metadata": {
    "colab_type": "text",
    "id": "NzTZ9t5nwwVU"
   },
   "source": [
    "## Pooling"
   ]
  },
  {
   "cell_type": "code",
   "execution_count": 274,
   "metadata": {
    "ExecuteTime": {
     "end_time": "2019-11-14T21:34:26.288818Z",
     "start_time": "2019-11-14T21:34:26.282505Z"
    },
    "colab": {},
    "colab_type": "code",
    "id": "1hpPwkj-wwVU"
   },
   "outputs": [],
   "source": [
    "def pool2d(X, pool_size, mode='max'):\n",
    "    p_h, p_w = pool_size\n",
    "    Y = torch.zeros((X.shape[0] - p_h + 1, X.shape[1] - p_w + 1))\n",
    "    for i in range(Y.shape[0]):\n",
    "        for j in range(Y.shape[1]):\n",
    "            if mode == 'max':\n",
    "                Y[i, j] = X[i: i + p_h, j: j + p_w].max()\n",
    "            elif mode == 'avg':\n",
    "                Y[i, j] = X[i: i + p_h, j: j + p_w].mean()\n",
    "    return Y"
   ]
  },
  {
   "cell_type": "code",
   "execution_count": 275,
   "metadata": {
    "ExecuteTime": {
     "end_time": "2019-11-14T21:34:26.477785Z",
     "start_time": "2019-11-14T21:34:26.470693Z"
    },
    "colab": {},
    "colab_type": "code",
    "id": "XyIhgiBmwwVV",
    "outputId": "1f41c223-35a2-41f9-afdb-bdbee37ab369"
   },
   "outputs": [
    {
     "name": "stdout",
     "output_type": "stream",
     "text": [
      "tensor([[0., 1., 2.],\n",
      "        [3., 4., 5.],\n",
      "        [6., 7., 8.]])\n",
      "tensor([[4., 5.],\n",
      "        [7., 8.]])\n"
     ]
    }
   ],
   "source": [
    "X = torch.Tensor([[0, 1, 2], [3, 4, 5], [6, 7, 8]])\n",
    "print(X)\n",
    "print(pool2d(X, (2, 2)))"
   ]
  },
  {
   "cell_type": "code",
   "execution_count": 276,
   "metadata": {
    "ExecuteTime": {
     "end_time": "2019-11-14T21:34:26.692198Z",
     "start_time": "2019-11-14T21:34:26.686418Z"
    },
    "colab": {},
    "colab_type": "code",
    "id": "UtcjAFhNwwVX",
    "outputId": "0d1efde8-0eb3-423b-c863-6c5892d00e7e"
   },
   "outputs": [
    {
     "data": {
      "text/plain": [
       "tensor([[2., 3.],\n",
       "        [5., 6.]])"
      ]
     },
     "execution_count": 276,
     "metadata": {},
     "output_type": "execute_result"
    }
   ],
   "source": [
    "pool2d(X, (2, 2), 'avg')"
   ]
  },
  {
   "cell_type": "code",
   "execution_count": 277,
   "metadata": {
    "ExecuteTime": {
     "end_time": "2019-11-14T21:34:26.866535Z",
     "start_time": "2019-11-14T21:34:26.859949Z"
    },
    "colab": {},
    "colab_type": "code",
    "id": "8yRj27hZwwVY",
    "outputId": "0a96d442-09bc-4e4c-b16a-615dde34602d"
   },
   "outputs": [
    {
     "data": {
      "text/plain": [
       "tensor([[[[ 0.,  1.,  2.,  3.],\n",
       "          [ 4.,  5.,  6.,  7.],\n",
       "          [ 8.,  9., 10., 11.],\n",
       "          [12., 13., 14., 15.]]]])"
      ]
     },
     "execution_count": 277,
     "metadata": {},
     "output_type": "execute_result"
    }
   ],
   "source": [
    "X = torch.arange(16).reshape((1, 1, 4, 4)).type(torch.float)\n",
    "X"
   ]
  },
  {
   "cell_type": "code",
   "execution_count": 278,
   "metadata": {
    "ExecuteTime": {
     "end_time": "2019-11-14T21:34:27.035421Z",
     "start_time": "2019-11-14T21:34:27.029496Z"
    },
    "colab": {},
    "colab_type": "code",
    "id": "MwiDUSyKwwVZ",
    "outputId": "e606ff1e-5d09-4d58-d52e-21eaace0d38d"
   },
   "outputs": [
    {
     "data": {
      "text/plain": [
       "tensor([[[[10.]]]])"
      ]
     },
     "execution_count": 278,
     "metadata": {},
     "output_type": "execute_result"
    }
   ],
   "source": [
    "pool2d = nn.MaxPool2d(3)\n",
    "pool2d(X)"
   ]
  },
  {
   "cell_type": "code",
   "execution_count": 279,
   "metadata": {
    "ExecuteTime": {
     "end_time": "2019-11-14T21:34:27.198687Z",
     "start_time": "2019-11-14T21:34:27.193112Z"
    },
    "colab": {},
    "colab_type": "code",
    "id": "qpdqv7K-wwVa",
    "outputId": "89658867-b760-49dd-95bc-8fa15b256495"
   },
   "outputs": [
    {
     "data": {
      "text/plain": [
       "tensor([[[[ 5.,  7.],\n",
       "          [13., 15.]]]])"
      ]
     },
     "execution_count": 279,
     "metadata": {},
     "output_type": "execute_result"
    }
   ],
   "source": [
    "pool2d = nn.MaxPool2d(3, padding=1, stride=2)\n",
    "pool2d(X)"
   ]
  },
  {
   "cell_type": "code",
   "execution_count": 280,
   "metadata": {
    "ExecuteTime": {
     "end_time": "2019-11-14T21:34:27.357218Z",
     "start_time": "2019-11-14T21:34:27.352028Z"
    },
    "colab": {},
    "colab_type": "code",
    "id": "Nvb8XuyPwwVb",
    "outputId": "5b05db70-837f-4001-c156-e56e3a80d85d"
   },
   "outputs": [
    {
     "data": {
      "text/plain": [
       "tensor([[[[ 1.,  3.],\n",
       "          [ 9., 11.],\n",
       "          [13., 15.]]]])"
      ]
     },
     "execution_count": 280,
     "metadata": {},
     "output_type": "execute_result"
    }
   ],
   "source": [
    "pool2d = nn.MaxPool2d((2, 3), padding=(1, 1), stride=(2, 3))\n",
    "pool2d(X)"
   ]
  },
  {
   "cell_type": "code",
   "execution_count": 281,
   "metadata": {
    "ExecuteTime": {
     "end_time": "2019-11-14T21:34:27.530262Z",
     "start_time": "2019-11-14T21:34:27.523573Z"
    },
    "colab": {},
    "colab_type": "code",
    "id": "uiyibEq8wwVc",
    "outputId": "6517c5f6-a212-4c06-8efe-5e3bd88b7752"
   },
   "outputs": [
    {
     "data": {
      "text/plain": [
       "tensor([[[[ 0.,  1.,  2.,  3.],\n",
       "          [ 4.,  5.,  6.,  7.],\n",
       "          [ 8.,  9., 10., 11.],\n",
       "          [12., 13., 14., 15.]],\n",
       "\n",
       "         [[ 1.,  2.,  3.,  4.],\n",
       "          [ 5.,  6.,  7.,  8.],\n",
       "          [ 9., 10., 11., 12.],\n",
       "          [13., 14., 15., 16.]]]])"
      ]
     },
     "execution_count": 281,
     "metadata": {},
     "output_type": "execute_result"
    }
   ],
   "source": [
    "X = torch.cat((X, X + 1), dim=1)\n",
    "X"
   ]
  },
  {
   "cell_type": "code",
   "execution_count": 282,
   "metadata": {
    "ExecuteTime": {
     "end_time": "2019-11-14T21:34:27.699512Z",
     "start_time": "2019-11-14T21:34:27.692482Z"
    },
    "colab": {},
    "colab_type": "code",
    "id": "jeY2GcgFwwVd",
    "outputId": "7ec59614-03a5-4b63-82e8-8f05c80e4887"
   },
   "outputs": [
    {
     "data": {
      "text/plain": [
       "tensor([[[[ 5.,  7.],\n",
       "          [13., 15.]],\n",
       "\n",
       "         [[ 6.,  8.],\n",
       "          [14., 16.]]]])"
      ]
     },
     "execution_count": 282,
     "metadata": {},
     "output_type": "execute_result"
    }
   ],
   "source": [
    "pool2d = nn.MaxPool2d(3, padding=1, stride=2)\n",
    "pool2d(X)"
   ]
  },
  {
   "cell_type": "markdown",
   "metadata": {
    "colab_type": "text",
    "id": "h_Ie1jQkwwVe"
   },
   "source": [
    "## Lenet"
   ]
  },
  {
   "cell_type": "code",
   "execution_count": 283,
   "metadata": {
    "ExecuteTime": {
     "end_time": "2019-11-14T21:34:28.048168Z",
     "start_time": "2019-11-14T21:34:28.041933Z"
    },
    "colab": {},
    "colab_type": "code",
    "id": "CWPqsQfFwwVe"
   },
   "outputs": [],
   "source": [
    "import torchvision as tv\n",
    "import time\n",
    "import matplotlib.pyplot as plt\n",
    "%matplotlib inline"
   ]
  },
  {
   "cell_type": "code",
   "execution_count": 284,
   "metadata": {
    "ExecuteTime": {
     "end_time": "2019-11-14T21:34:28.415670Z",
     "start_time": "2019-11-14T21:34:28.412977Z"
    },
    "colab": {},
    "colab_type": "code",
    "id": "kyRHaE2rwwVf"
   },
   "outputs": [],
   "source": [
    "BATCH_SIZE=256"
   ]
  },
  {
   "cell_type": "code",
   "execution_count": 285,
   "metadata": {
    "ExecuteTime": {
     "end_time": "2019-11-14T21:34:29.367515Z",
     "start_time": "2019-11-14T21:34:29.295456Z"
    },
    "colab": {
     "base_uri": "https://localhost:8080/",
     "height": 249
    },
    "colab_type": "code",
    "id": "UcX_rUpBwwVg",
    "outputId": "ee8a2bf5-c135-48a9-d7aa-a1aa05e5862f"
   },
   "outputs": [],
   "source": [
    "train_dataset = tv.datasets.MNIST('.', train=True, transform=tv.transforms.ToTensor(), download=True)\n",
    "test_dataset = tv.datasets.MNIST('.', train=False, transform=tv.transforms.ToTensor(), download=True)\n",
    "train_iter = torch.utils.data.DataLoader(train_dataset, batch_size=BATCH_SIZE)\n",
    "test_iter = torch.utils.data.DataLoader(test_dataset, batch_size=BATCH_SIZE)"
   ]
  },
  {
   "cell_type": "code",
   "execution_count": 286,
   "metadata": {
    "ExecuteTime": {
     "end_time": "2019-11-14T21:34:29.943506Z",
     "start_time": "2019-11-14T21:34:29.814643Z"
    },
    "colab": {
     "base_uri": "https://localhost:8080/",
     "height": 282
    },
    "colab_type": "code",
    "id": "RJPJjLRowwVh",
    "outputId": "f2f8b226-bc0d-46a8-a723-a2459381d115",
    "scrolled": false
   },
   "outputs": [
    {
     "data": {
      "text/plain": [
       "<matplotlib.image.AxesImage at 0x13854bd68>"
      ]
     },
     "execution_count": 286,
     "metadata": {},
     "output_type": "execute_result"
    },
    {
     "data": {
      "image/png": "[encoded data removed]",
      "text/plain": [
       "<Figure size 432x288 with 1 Axes>"
      ]
     },
     "metadata": {
      "needs_background": "light"
     },
     "output_type": "display_data"
    }
   ],
   "source": [
    "plt.imshow(train_dataset[0][0].numpy().reshape(28,28), cmap='gray')"
   ]
  },
  {
   "cell_type": "code",
   "execution_count": 317,
   "metadata": {
    "ExecuteTime": {
     "end_time": "2019-11-14T21:42:37.101892Z",
     "start_time": "2019-11-14T21:42:37.095717Z"
    },
    "colab": {},
    "colab_type": "code",
    "id": "03bIaRblwwVi"
   },
   "outputs": [],
   "source": [
    "model = nn.Sequential(\n",
    "    nn.Conv2d(1, 6, kernel_size=5, padding=2),\n",
    "    nn.ReLU(),\n",
    "    nn.MaxPool2d(2, stride=2),\n",
    "    nn.Conv2d(6, 12, kernel_size=5),\n",
    "    nn.ReLU(),\n",
    "    nn.MaxPool2d(2, stride=2),\n",
    "    nn.Flatten(),\n",
    "    nn.Linear(300, 50),\n",
    "    nn.ReLU(),\n",
    "    nn.Linear(50, 10)\n",
    ")"
   ]
  },
  {
   "cell_type": "code",
   "execution_count": 288,
   "metadata": {
    "ExecuteTime": {
     "end_time": "2019-11-14T21:34:33.595777Z",
     "start_time": "2019-11-14T21:34:33.587082Z"
    },
    "colab": {
     "base_uri": "https://localhost:8080/",
     "height": 200
    },
    "colab_type": "code",
    "id": "BXvTFxX7wwVj",
    "outputId": "3784d1cc-f692-4ba6-9172-cb46d12883f1"
   },
   "outputs": [
    {
     "name": "stdout",
     "output_type": "stream",
     "text": [
      "torch.Size([1, 1, 28, 28])\n",
      "Layer Conv2d(1, 6, kernel_size=(5, 5), stride=(1, 1), padding=(2, 2)). X shape: torch.Size([1, 6, 28, 28])\n",
      "Layer ReLU(). X shape: torch.Size([1, 6, 28, 28])\n",
      "Layer AvgPool2d(kernel_size=2, stride=2, padding=0). X shape: torch.Size([1, 6, 14, 14])\n",
      "Layer Conv2d(6, 12, kernel_size=(5, 5), stride=(1, 1)). X shape: torch.Size([1, 12, 10, 10])\n",
      "Layer ReLU(). X shape: torch.Size([1, 12, 10, 10])\n",
      "Layer AvgPool2d(kernel_size=2, stride=2, padding=0). X shape: torch.Size([1, 12, 5, 5])\n",
      "Layer Flatten(). X shape: torch.Size([1, 300])\n",
      "Layer Linear(in_features=300, out_features=50, bias=True). X shape: torch.Size([1, 50])\n",
      "Layer ReLU(). X shape: torch.Size([1, 50])\n",
      "Layer Linear(in_features=50, out_features=10, bias=True). X shape: torch.Size([1, 10])\n"
     ]
    }
   ],
   "source": [
    "X = train_dataset[0][0]\n",
    "X = X.reshape(1, 1, 28, 28)\n",
    "print(X.shape)\n",
    "for l in model:\n",
    "    X = l(X)\n",
    "    print(\"Layer {}. X shape: {}\".format(l, X.shape))"
   ]
  },
  {
   "cell_type": "code",
   "execution_count": 289,
   "metadata": {
    "ExecuteTime": {
     "end_time": "2019-11-14T21:34:34.580891Z",
     "start_time": "2019-11-14T21:34:34.574639Z"
    },
    "colab": {
     "base_uri": "https://localhost:8080/",
     "height": 34
    },
    "colab_type": "code",
    "id": "j6_CkvdhwwVk",
    "outputId": "5113868e-6f5a-4ba9-a806-e6d2122a3945"
   },
   "outputs": [
    {
     "name": "stdout",
     "output_type": "stream",
     "text": [
      "torch.Size([1, 10])\n"
     ]
    }
   ],
   "source": [
    "X = train_dataset[0][0]\n",
    "X = X.reshape(1, 1, 28, 28)\n",
    "y = model(X)\n",
    "print(y.shape)"
   ]
  },
  {
   "cell_type": "code",
   "execution_count": 290,
   "metadata": {
    "ExecuteTime": {
     "end_time": "2019-11-14T21:34:35.151173Z",
     "start_time": "2019-11-14T21:34:35.145847Z"
    },
    "colab": {},
    "colab_type": "code",
    "id": "eT7GAboqwwVl"
   },
   "outputs": [],
   "source": [
    "def evaluate_accuracy(data_iter, net):\n",
    "    acc_sum, n = torch.Tensor([0]), 0\n",
    "    for X, y in data_iter:\n",
    "        acc_sum += (net(X).argmax(axis=1) == y).sum()\n",
    "        n += y.shape[0]\n",
    "    return acc_sum.item() / n"
   ]
  },
  {
   "cell_type": "code",
   "execution_count": 318,
   "metadata": {
    "ExecuteTime": {
     "end_time": "2019-11-14T21:42:40.527988Z",
     "start_time": "2019-11-14T21:42:40.520953Z"
    },
    "colab": {},
    "colab_type": "code",
    "id": "uHoUxdoAwwVm"
   },
   "outputs": [],
   "source": [
    "def train(net, train_iter, test_iter, trainer, num_epochs):\n",
    "    loss = nn.CrossEntropyLoss(reduction='sum')\n",
    "    for epoch in range(num_epochs):\n",
    "        train_l_sum, train_acc_sum, n, start = 0.0, 0.0, 0, time.time()\n",
    "        for X, y in train_iter:\n",
    "            trainer.zero_grad()\n",
    "            y_hat = net(X)\n",
    "            l = loss(y_hat, y)\n",
    "            l.backward()\n",
    "            trainer.step()\n",
    "            train_l_sum += l.item()\n",
    "            train_acc_sum += (y_hat.argmax(axis=1) == y).sum().item()\n",
    "            n += y.shape[0]\n",
    "        test_acc = evaluate_accuracy(test_iter, net)\n",
    "        print('epoch %d, loss %.4f, train acc %.3f, test acc %.3f, '\n",
    "              'time %.1f sec'\n",
    "              % (epoch + 1, train_l_sum / n, train_acc_sum / n, test_acc,\n",
    "                 time.time() - start))"
   ]
  },
  {
   "cell_type": "code",
   "execution_count": 319,
   "metadata": {
    "ExecuteTime": {
     "end_time": "2019-11-14T21:43:43.959706Z",
     "start_time": "2019-11-14T21:42:41.523561Z"
    },
    "colab": {},
    "colab_type": "code",
    "id": "qRiMJlYhwwVm",
    "outputId": "32441310-5d91-4d07-bb89-67dbd9926aac"
   },
   "outputs": [
    {
     "name": "stdout",
     "output_type": "stream",
     "text": [
      "epoch 1, loss 0.6727, train acc 0.789, test acc 0.954, time 12.5 sec\n",
      "epoch 2, loss 0.1289, train acc 0.960, test acc 0.969, time 12.3 sec\n",
      "epoch 3, loss 0.0897, train acc 0.973, test acc 0.975, time 12.5 sec\n",
      "epoch 4, loss 0.0718, train acc 0.978, test acc 0.978, time 12.7 sec\n",
      "epoch 5, loss 0.0610, train acc 0.981, test acc 0.980, time 12.5 sec\n"
     ]
    }
   ],
   "source": [
    "lr, num_epochs = 0.001, 5\n",
    "trainer = torch.optim.SGD(model.parameters(), lr=lr)\n",
    "train(model, train_iter, test_iter, trainer, num_epochs)"
   ]
  },
  {
   "cell_type": "markdown",
   "metadata": {
    "colab_type": "text",
    "id": "VCfAmvJPw45A"
   },
   "source": [
    "## Обучение на GPU"
   ]
  },
  {
   "cell_type": "code",
   "execution_count": 320,
   "metadata": {
    "ExecuteTime": {
     "end_time": "2019-11-14T21:43:43.967577Z",
     "start_time": "2019-11-14T21:43:43.963101Z"
    },
    "colab": {},
    "colab_type": "code",
    "id": "AXokXQUzw6Lr"
   },
   "outputs": [],
   "source": [
    "dev = torch.device(\"cuda\") if torch.cuda.is_available() else torch.device(\"cpu\")"
   ]
  },
  {
   "cell_type": "code",
   "execution_count": 321,
   "metadata": {
    "ExecuteTime": {
     "end_time": "2019-11-14T21:43:43.977459Z",
     "start_time": "2019-11-14T21:43:43.970316Z"
    },
    "colab": {
     "base_uri": "https://localhost:8080/",
     "height": 34
    },
    "colab_type": "code",
    "id": "xLQMfiFVxRfv",
    "outputId": "4abcca57-4e9f-46cc-9963-4c221f293080"
   },
   "outputs": [
    {
     "data": {
      "text/plain": [
       "device(type='cpu')"
      ]
     },
     "execution_count": 321,
     "metadata": {},
     "output_type": "execute_result"
    }
   ],
   "source": [
    "dev"
   ]
  },
  {
   "cell_type": "code",
   "execution_count": 322,
   "metadata": {
    "ExecuteTime": {
     "end_time": "2019-11-14T21:43:43.987680Z",
     "start_time": "2019-11-14T21:43:43.982555Z"
    },
    "colab": {},
    "colab_type": "code",
    "id": "3DSc7YPtxClu"
   },
   "outputs": [],
   "source": [
    "model = model.to(dev)"
   ]
  },
  {
   "cell_type": "code",
   "execution_count": 323,
   "metadata": {
    "ExecuteTime": {
     "end_time": "2019-11-14T21:43:44.003390Z",
     "start_time": "2019-11-14T21:43:43.991202Z"
    },
    "colab": {},
    "colab_type": "code",
    "id": "1kAS0WRUxQU9"
   },
   "outputs": [],
   "source": [
    "def train(net, train_iter, test_iter, trainer, num_epochs, dev):\n",
    "    loss = nn.CrossEntropyLoss(reduction='sum')\n",
    "    for epoch in range(num_epochs):\n",
    "        train_l_sum, train_acc_sum, n, start = 0.0, 0.0, 0, time.time()\n",
    "        for X, y in train_iter:\n",
    "            trainer.zero_grad()\n",
    "            X, y = X.to(dev), y.to(dev)\n",
    "            y_hat = net(X)\n",
    "            l = loss(y_hat, y)\n",
    "            l.backward()\n",
    "            trainer.step()\n",
    "            train_l_sum += l.item()\n",
    "            train_acc_sum += (y_hat.argmax(axis=1) == y).sum().item()\n",
    "            n += y.shape[0]\n",
    "        test_acc = evaluate_accuracy(test_iter, net, dev)\n",
    "        print('epoch %d, loss %.4f, train acc %.3f, test acc %.3f, '\n",
    "              'time %.1f sec'\n",
    "              % (epoch + 1, train_l_sum / n, train_acc_sum / n, test_acc,\n",
    "                 time.time() - start))"
   ]
  },
  {
   "cell_type": "code",
   "execution_count": 324,
   "metadata": {
    "ExecuteTime": {
     "end_time": "2019-11-14T21:43:44.014332Z",
     "start_time": "2019-11-14T21:43:44.006081Z"
    },
    "colab": {},
    "colab_type": "code",
    "id": "luDfZTfjxX3j"
   },
   "outputs": [],
   "source": [
    "def evaluate_accuracy(data_iter, net, dev):\n",
    "    acc_sum, n = torch.Tensor([0]).to(dev), 0\n",
    "    for X, y in data_iter:\n",
    "        X, y = X.to(dev), y.to(dev)\n",
    "        acc_sum += (net(X).argmax(axis=1) == y).sum()\n",
    "        n += y.shape[0]\n",
    "    return acc_sum.item() / n"
   ]
  },
  {
   "cell_type": "code",
   "execution_count": 325,
   "metadata": {
    "ExecuteTime": {
     "end_time": "2019-11-14T21:44:50.015770Z",
     "start_time": "2019-11-14T21:43:44.017767Z"
    },
    "colab": {
     "base_uri": "https://localhost:8080/",
     "height": 100
    },
    "colab_type": "code",
    "id": "gRP8hgY1xedj",
    "outputId": "2804178b-cf8d-4910-c930-1d927810e755"
   },
   "outputs": [
    {
     "name": "stdout",
     "output_type": "stream",
     "text": [
      "epoch 1, loss 0.0532, train acc 0.983, test acc 0.982, time 13.3 sec\n",
      "epoch 2, loss 0.0478, train acc 0.985, test acc 0.983, time 13.2 sec\n",
      "epoch 3, loss 0.0433, train acc 0.987, test acc 0.984, time 13.6 sec\n",
      "epoch 4, loss 0.0394, train acc 0.988, test acc 0.984, time 13.0 sec\n",
      "epoch 5, loss 0.0360, train acc 0.989, test acc 0.985, time 12.9 sec\n"
     ]
    }
   ],
   "source": [
    "lr, num_epochs = 0.001, 5\n",
    "trainer = torch.optim.SGD(model.parameters(), lr=lr)\n",
    "train(model, train_iter, test_iter, trainer, num_epochs, dev)"
   ]
  },
  {
   "cell_type": "markdown",
   "metadata": {},
   "source": [
    "## Аугментация данных"
   ]
  },
  {
   "cell_type": "code",
   "execution_count": 341,
   "metadata": {
    "ExecuteTime": {
     "end_time": "2019-11-14T21:49:41.570055Z",
     "start_time": "2019-11-14T21:49:41.564184Z"
    }
   },
   "outputs": [],
   "source": [
    "def show_images(imgs, num_rows, num_cols, scale=2):\n",
    "    figsize = (num_cols * scale, num_rows * scale)\n",
    "    _, axes = plt.subplots(num_rows, num_cols, figsize=figsize)\n",
    "    for i in range(num_rows):\n",
    "        for j in range(num_cols):\n",
    "            axes[i][j].imshow(imgs[i * num_cols + j], cmap='gray')\n",
    "            axes[i][j].axes.get_xaxis().set_visible(False)\n",
    "            axes[i][j].axes.get_yaxis().set_visible(False)\n",
    "    plt.show()"
   ]
  },
  {
   "cell_type": "code",
   "execution_count": 342,
   "metadata": {
    "ExecuteTime": {
     "end_time": "2019-11-14T21:49:42.531281Z",
     "start_time": "2019-11-14T21:49:42.527576Z"
    }
   },
   "outputs": [],
   "source": [
    "def apply(img, aug, num_rows=2, num_cols=4, scale=2):\n",
    "    Y = [aug(img) for _ in range(num_rows * num_cols)]\n",
    "    show_images(Y, num_rows, num_cols, scale)"
   ]
  },
  {
   "cell_type": "code",
   "execution_count": 347,
   "metadata": {
    "ExecuteTime": {
     "end_time": "2019-11-14T21:50:14.419891Z",
     "start_time": "2019-11-14T21:50:14.262284Z"
    }
   },
   "outputs": [
    {
     "data": {
      "text/plain": [
       "<matplotlib.image.AxesImage at 0x12d85ab38>"
      ]
     },
     "execution_count": 347,
     "metadata": {},
     "output_type": "execute_result"
    },
    {
     "data": {
      "image/png": "[encoded data removed]",
      "text/plain": [
       "<Figure size 432x288 with 1 Axes>"
      ]
     },
     "metadata": {
      "needs_background": "light"
     },
     "output_type": "display_data"
    }
   ],
   "source": [
    "dataset = tv.datasets.MNIST('.', train=True, download=True)\n",
    "img = dataset[2][0]\n",
    "plt.imshow(img, cmap='gray')"
   ]
  },
  {
   "cell_type": "code",
   "execution_count": 348,
   "metadata": {
    "ExecuteTime": {
     "end_time": "2019-11-14T21:50:15.416548Z",
     "start_time": "2019-11-14T21:50:15.235191Z"
    }
   },
   "outputs": [
    {
     "data": {
      "image/png": "[encoded data removed]",
      "text/plain": [
       "<Figure size 576x288 with 8 Axes>"
      ]
     },
     "metadata": {
      "needs_background": "light"
     },
     "output_type": "display_data"
    }
   ],
   "source": [
    "apply(img, tv.transforms.RandomHorizontalFlip())"
   ]
  },
  {
   "cell_type": "code",
   "execution_count": 349,
   "metadata": {
    "ExecuteTime": {
     "end_time": "2019-11-14T21:50:16.093398Z",
     "start_time": "2019-11-14T21:50:15.904750Z"
    }
   },
   "outputs": [
    {
     "data": {
      "image/png": "[encoded data removed]",
      "text/plain": [
       "<Figure size 576x288 with 8 Axes>"
      ]
     },
     "metadata": {
      "needs_background": "light"
     },
     "output_type": "display_data"
    }
   ],
   "source": [
    "apply(img, tv.transforms.RandomVerticalFlip())"
   ]
  },
  {
   "cell_type": "code",
   "execution_count": 362,
   "metadata": {
    "ExecuteTime": {
     "end_time": "2019-11-15T04:24:36.113251Z",
     "start_time": "2019-11-15T04:24:35.724858Z"
    }
   },
   "outputs": [
    {
     "data": {
      "image/png": "[encoded data removed]",
      "text/plain": [
       "<Figure size 576x288 with 8 Axes>"
      ]
     },
     "metadata": {
      "needs_background": "light"
     },
     "output_type": "display_data"
    }
   ],
   "source": [
    "## A crop of random size (default: of 0.08 to 1.0) of the original size and a random aspect ratio\n",
    "## (default: of 3/4 to 4/3) of the original aspect ratio is made.\n",
    "## This crop is finally resized to given size. \n",
    "apply(img, tv.transforms.RandomResizedCrop((20,20), scale=(0.1, 1.), ratio=(0.5, 2)))"
   ]
  },
  {
   "cell_type": "code",
   "execution_count": 354,
   "metadata": {
    "ExecuteTime": {
     "end_time": "2019-11-14T21:52:53.214149Z",
     "start_time": "2019-11-14T21:52:52.850334Z"
    }
   },
   "outputs": [
    {
     "data": {
      "image/png": "[encoded data removed]",
      "text/plain": [
       "<Figure size 576x288 with 8 Axes>"
      ]
     },
     "metadata": {
      "needs_background": "light"
     },
     "output_type": "display_data"
    }
   ],
   "source": [
    "augs = tv.transforms.Compose([\n",
    "    tv.transforms.RandomHorizontalFlip(),\n",
    "    tv.transforms.RandomVerticalFlip(),\n",
    "    tv.transforms.RandomResizedCrop(\n",
    "        (200, 200), scale=(0.1, 1), ratio=(0.5, 2))])\n",
    "apply(img, augs)"
   ]
  },
  {
   "cell_type": "code",
   "execution_count": 358,
   "metadata": {
    "ExecuteTime": {
     "end_time": "2019-11-14T21:54:49.535282Z",
     "start_time": "2019-11-14T21:54:49.140817Z"
    }
   },
   "outputs": [
    {
     "data": {
      "image/png": "[encoded data removed]",
      "text/plain": [
       "<Figure size 576x576 with 16 Axes>"
      ]
     },
     "metadata": {
      "needs_background": "light"
     },
     "output_type": "display_data"
    }
   ],
   "source": [
    "augs = tv.transforms.Compose([\n",
    "    tv.transforms.RandomHorizontalFlip(),\n",
    "    tv.transforms.RandomVerticalFlip(),\n",
    "    tv.transforms.RandomResizedCrop(\n",
    "        (28, 28), scale=(0.1, 1), ratio=(0.5, 2)),\n",
    "    tv.transforms.ToTensor()])\n",
    "dataset = tv.datasets.MNIST('.', train=True, transform=augs, download=True)\n",
    "loader = torch.utils.data.DataLoader(dataset, batch_size=16)\n",
    "\n",
    "for X, _ in loader:\n",
    "    X = X.reshape(16, 28, 28)\n",
    "    show_images(X, 4, 4)\n",
    "    break"
   ]
  },
  {
   "cell_type": "code",
   "execution_count": null,
   "metadata": {},
   "outputs": [],
   "source": []
  }
 ],
 "metadata": {
  "accelerator": "GPU",
  "colab": {
   "name": "Материалы.ipynb",
   "provenance": []
  },
  "kernelspec": {
   "display_name": "Python 3",
   "language": "python",
   "name": "python3"
  },
  "language_info": {
   "codemirror_mode": {
    "name": "ipython",
    "version": 3
   },
   "file_extension": ".py",
   "mimetype": "text/x-python",
   "name": "python",
   "nbconvert_exporter": "python",
   "pygments_lexer": "ipython3",
   "version": "3.7.1"
  }
 },
 "nbformat": 4,
 "nbformat_minor": 1
}
