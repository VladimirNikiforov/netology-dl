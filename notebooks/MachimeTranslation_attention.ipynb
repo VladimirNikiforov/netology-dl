{
 "cells": [
  {
   "cell_type": "code",
   "execution_count": 32,
   "metadata": {
    "ExecuteTime": {
     "end_time": "2019-12-01T16:41:36.157114Z",
     "start_time": "2019-12-01T16:41:36.153943Z"
    }
   },
   "outputs": [],
   "source": [
    "import time\n",
    "import torch\n",
    "import zipfile\n",
    "import collections\n",
    "from torch import nn\n",
    "import math"
   ]
  },
  {
   "cell_type": "code",
   "execution_count": 2,
   "metadata": {
    "ExecuteTime": {
     "end_time": "2019-12-01T16:33:41.828639Z",
     "start_time": "2019-12-01T16:33:39.974462Z"
    }
   },
   "outputs": [
    {
     "name": "stdout",
     "output_type": "stream",
     "text": [
      "--2019-12-01 19:33:40--  http://www.manythings.org/anki/fra-eng.zip\n",
      "Resolving www.manythings.org (www.manythings.org)... 104.24.108.196, 104.24.109.196\n",
      "Connecting to www.manythings.org (www.manythings.org)|104.24.108.196|:80... connected.\n",
      "HTTP request sent, awaiting response... 200 OK\n",
      "Length: 5800008 (5.5M) [application/zip]\n",
      "Saving to: ‘fra-eng.zip’\n",
      "\n",
      "fra-eng.zip         100%[===================>]   5.53M  4.40MB/s    in 1.3s    \n",
      "\n",
      "2019-12-01 19:33:41 (4.40 MB/s) - ‘fra-eng.zip’ saved [5800008/5800008]\n",
      "\n"
     ]
    }
   ],
   "source": [
    "!wget http://www.manythings.org/anki/fra-eng.zip"
   ]
  },
  {
   "cell_type": "code",
   "execution_count": 3,
   "metadata": {
    "ExecuteTime": {
     "end_time": "2019-12-01T16:33:42.004436Z",
     "start_time": "2019-12-01T16:33:41.833003Z"
    }
   },
   "outputs": [
    {
     "name": "stdout",
     "output_type": "stream",
     "text": [
      "Go.\tVa !\tCC-BY 2.0 (France) Attribution: tatoeba.org #2877272 (CM) & #1158250 (Wittydev)\n",
      "Hi.\tSa\n"
     ]
    }
   ],
   "source": [
    "with zipfile.ZipFile(\"fra-eng.zip\", 'r') as f:\n",
    "    raw_text = f.read('fra.txt').decode(\"utf-8\")\n",
    "print(raw_text[0:95])"
   ]
  },
  {
   "cell_type": "code",
   "execution_count": 4,
   "metadata": {
    "ExecuteTime": {
     "end_time": "2019-12-01T16:33:48.436593Z",
     "start_time": "2019-12-01T16:33:42.008191Z"
    },
    "scrolled": true
   },
   "outputs": [
    {
     "name": "stdout",
     "output_type": "stream",
     "text": [
      "go .\tva !\tcc-by 2 .0 (france) attribution: tatoeba .org #2877272 (cm) & #1158250 (wittydev)\n",
      "hi \n"
     ]
    }
   ],
   "source": [
    "def preprocess_raw(text):\n",
    "    text = text.replace('\\u202f', ' ').replace('\\xa0', ' ')\n",
    "    out = ''\n",
    "    for i, char in enumerate(text.lower()):\n",
    "        if char in (',', '!', '.') and i > 0 and text[i-1] != ' ':\n",
    "            out += ' '\n",
    "        out += char\n",
    "    return out\n",
    "\n",
    "text = preprocess_raw(raw_text)\n",
    "print(text[0:95])"
   ]
  },
  {
   "cell_type": "code",
   "execution_count": 5,
   "metadata": {
    "ExecuteTime": {
     "end_time": "2019-12-01T16:33:48.453533Z",
     "start_time": "2019-12-01T16:33:48.438876Z"
    }
   },
   "outputs": [
    {
     "data": {
      "text/plain": [
       "'go .\\tva !\\tcc-by 2 .0 (france) attribution: tatoeba .org #2877272 (cm) & #1158250 (wittydev)\\nhi .\\tsalut !\\tcc-by 2 .0 (france) attribution: tatoeba .org #538123 (cm) & #509819 (aiji)\\nhi .\\tsalut .\\tcc-by '"
      ]
     },
     "execution_count": 5,
     "metadata": {},
     "output_type": "execute_result"
    }
   ],
   "source": [
    "text[:200]"
   ]
  },
  {
   "cell_type": "code",
   "execution_count": 6,
   "metadata": {
    "ExecuteTime": {
     "end_time": "2019-12-01T16:33:48.542176Z",
     "start_time": "2019-12-01T16:33:48.456601Z"
    }
   },
   "outputs": [
    {
     "data": {
      "text/plain": [
       "([['go', '.'], ['hi', '.'], ['hi', '.']],\n",
       " [['va', '!'], ['salut', '!'], ['salut', '.']])"
      ]
     },
     "execution_count": 6,
     "metadata": {},
     "output_type": "execute_result"
    }
   ],
   "source": [
    "num_examples = 1000\n",
    "source, target = [], []\n",
    "for i, line in enumerate(text.split('\\n')):\n",
    "    if i > num_examples:\n",
    "        break\n",
    "    parts = line.split('\\t')\n",
    "    if len(parts) == 3:\n",
    "        source.append(parts[0].split(' '))\n",
    "        target.append(parts[1].split(' '))\n",
    "\n",
    "source[0:3], target[0:3]"
   ]
  },
  {
   "cell_type": "code",
   "execution_count": 7,
   "metadata": {
    "ExecuteTime": {
     "end_time": "2019-12-01T16:33:48.938198Z",
     "start_time": "2019-12-01T16:33:48.546080Z"
    }
   },
   "outputs": [],
   "source": [
    "%matplotlib inline\n",
    "import matplotlib.pyplot as plt"
   ]
  },
  {
   "cell_type": "code",
   "execution_count": 8,
   "metadata": {
    "ExecuteTime": {
     "end_time": "2019-12-01T16:33:49.094086Z",
     "start_time": "2019-12-01T16:33:48.940601Z"
    }
   },
   "outputs": [
    {
     "data": {
      "image/png": "[encoded data removed]",
      "text/plain": [
       "<Figure size 432x288 with 1 Axes>"
      ]
     },
     "metadata": {
      "needs_background": "light"
     },
     "output_type": "display_data"
    }
   ],
   "source": [
    "plt.hist([[len(l) for l in source], [len(l) for l in target]],\n",
    "             label=['source', 'target'])\n",
    "plt.legend(loc='upper right')\n",
    "plt.show()"
   ]
  },
  {
   "cell_type": "code",
   "execution_count": 9,
   "metadata": {
    "ExecuteTime": {
     "end_time": "2019-12-01T16:33:49.106131Z",
     "start_time": "2019-12-01T16:33:49.096232Z"
    }
   },
   "outputs": [],
   "source": [
    "class Vocab(object):\n",
    "    def __init__(self, tokens, min_freq=0, use_special_tokens=False):\n",
    "        counter = collections.Counter(tokens)\n",
    "        self.token_freqs = sorted(counter.items(), key=lambda x: x[0])\n",
    "        self.token_freqs.sort(key=lambda x: x[1], reverse=True)\n",
    "        if use_special_tokens:\n",
    "            self.pad, self.bos, self.eos, self.unk = (0, 1, 2, 3)\n",
    "            uniq_tokens = ['<pad>', '<bos>', '<eos>', '<unk>']\n",
    "        else:\n",
    "            self.unk, uniq_tokens = 0, ['<unk>']\n",
    "        uniq_tokens +=  [token for token, freq in self.token_freqs \n",
    "                         if freq >= min_freq and token not in uniq_tokens]\n",
    "        self.idx_to_token, self.token_to_idx = [], dict()\n",
    "        for token in uniq_tokens:\n",
    "            self.idx_to_token.append(token)\n",
    "            self.token_to_idx[token] = len(self.idx_to_token) - 1\n",
    "            \n",
    "    def __len__(self):\n",
    "        return len(self.idx_to_token)\n",
    "\n",
    "    def __getitem__(self, tokens):\n",
    "        if not isinstance(tokens, (list, tuple)):\n",
    "            return self.token_to_idx.get(tokens, self.unk)\n",
    "        return [self.__getitem__(token) for token in tokens]\n",
    "\n",
    "    def to_tokens(self, indices):\n",
    "        if not isinstance(indices, (list, tuple)):\n",
    "            return self.idx_to_token[indices]\n",
    "        return [self.idx_to_token[index] for index in indices]"
   ]
  },
  {
   "cell_type": "code",
   "execution_count": 10,
   "metadata": {
    "ExecuteTime": {
     "end_time": "2019-12-01T16:33:49.114035Z",
     "start_time": "2019-12-01T16:33:49.108556Z"
    }
   },
   "outputs": [
    {
     "data": {
      "text/plain": [
       "178"
      ]
     },
     "execution_count": 10,
     "metadata": {},
     "output_type": "execute_result"
    }
   ],
   "source": [
    "def build_vocab(tokens):\n",
    "    tokens = [token for line in tokens for token in line]\n",
    "    return Vocab(tokens, min_freq=3, use_special_tokens=True)\n",
    "\n",
    "src_vocab = build_vocab(source)\n",
    "len(src_vocab)"
   ]
  },
  {
   "cell_type": "code",
   "execution_count": 11,
   "metadata": {
    "ExecuteTime": {
     "end_time": "2019-12-01T16:33:49.122605Z",
     "start_time": "2019-12-01T16:33:49.116449Z"
    }
   },
   "outputs": [
    {
     "data": {
      "text/plain": [
       "[9, 4, 0, 0, 0, 0, 0, 0, 0, 0]"
      ]
     },
     "execution_count": 11,
     "metadata": {},
     "output_type": "execute_result"
    }
   ],
   "source": [
    "def pad(line, max_len, padding_token):\n",
    "    if len(line) > max_len:\n",
    "        return line[:max_len]\n",
    "    return line + [padding_token] * (max_len - len(line))\n",
    "\n",
    "pad(src_vocab[source[0]], 10, src_vocab.pad)"
   ]
  },
  {
   "cell_type": "code",
   "execution_count": 12,
   "metadata": {
    "ExecuteTime": {
     "end_time": "2019-12-01T16:33:49.131148Z",
     "start_time": "2019-12-01T16:33:49.125106Z"
    }
   },
   "outputs": [],
   "source": [
    "def build_array(lines, vocab, max_len, is_source, build_mask=False):\n",
    "    lines = [vocab[line] for line in lines]\n",
    "    if not is_source:\n",
    "        lines = [[vocab.bos] + line + [vocab.eos] for line in lines]\n",
    "    array = torch.LongTensor([pad(line, max_len, vocab.pad) for line in lines])\n",
    "    valid_len = (array != vocab.pad).sum(axis=1)\n",
    "    \n",
    "    if build_mask:\n",
    "        mask = torch.zeros_like(array).type(torch.float)\n",
    "        for i in range(len(valid_len)):\n",
    "            mask[i, :valid_len[i]]=1.\n",
    "        return array, valid_len, mask\n",
    "\n",
    "    return array, valid_len"
   ]
  },
  {
   "cell_type": "code",
   "execution_count": 13,
   "metadata": {
    "ExecuteTime": {
     "end_time": "2019-12-01T16:33:49.138015Z",
     "start_time": "2019-12-01T16:33:49.133576Z"
    }
   },
   "outputs": [],
   "source": [
    "def load_data_nmt(batch_size, max_len): \n",
    "    src_vocab, tgt_vocab = build_vocab(source), build_vocab(target)\n",
    "    src_array, src_valid_len = build_array(source, src_vocab, max_len, True, False)\n",
    "    tgt_array, tgt_valid_len, tgt_mask = build_array(target, tgt_vocab, max_len, False, True)\n",
    "    train_data = torch.utils.data.TensorDataset(\n",
    "        src_array, src_valid_len, tgt_array, tgt_valid_len, tgt_mask)\n",
    "    train_iter = torch.utils.data.DataLoader(train_data, batch_size, shuffle=True)\n",
    "    return src_vocab, tgt_vocab, train_iter"
   ]
  },
  {
   "cell_type": "code",
   "execution_count": 14,
   "metadata": {
    "ExecuteTime": {
     "end_time": "2019-12-01T16:33:49.172734Z",
     "start_time": "2019-12-01T16:33:49.140112Z"
    }
   },
   "outputs": [
    {
     "name": "stdout",
     "output_type": "stream",
     "text": [
      "X = tensor([[33, 10,  3,  0,  0,  0,  0,  0],\n",
      "        [ 5,  3,  4,  0,  0,  0,  0,  0]], dtype=torch.int32) \n",
      "Valid lengths for X = tensor([3, 3]) \n",
      "Y = tensor([[  1,  46, 108,   8,  23,  19,   9,   2],\n",
      "        [  1,  32,   3,   4,   2,   0,   0,   0]], dtype=torch.int32) \n",
      "Valid lengths for Y = tensor([8, 5]) \n",
      "Y mask = tensor([[1., 1., 1., 1., 1., 1., 1., 1.],\n",
      "        [1., 1., 1., 1., 1., 0., 0., 0.]])\n"
     ]
    }
   ],
   "source": [
    "src_vocab, tgt_vocab, train_iter = load_data_nmt(batch_size=2, max_len=8)\n",
    "for X, X_valid_len, Y, Y_valid_len, y_mask in train_iter:\n",
    "    print('X =', X.type(torch.int), '\\nValid lengths for X =', X_valid_len,\n",
    "          '\\nY =', Y.type(torch.int), '\\nValid lengths for Y =', Y_valid_len,\n",
    "          '\\nY mask =', y_mask)\n",
    "    break"
   ]
  },
  {
   "cell_type": "code",
   "execution_count": 15,
   "metadata": {
    "ExecuteTime": {
     "end_time": "2019-12-01T16:33:49.182063Z",
     "start_time": "2019-12-01T16:33:49.175703Z"
    }
   },
   "outputs": [],
   "source": [
    "class Encoder(nn.Module):\n",
    "    def __init__(self, vocab_size, embed_size, num_hiddens, num_layers,\n",
    "                 dropout=0, **kwargs):\n",
    "        super().__init__(**kwargs)\n",
    "        self.embedding = nn.Embedding(vocab_size, embed_size)\n",
    "        self.rnn = nn.LSTM(embed_size, num_hiddens, num_layers, dropout=dropout)\n",
    "        self.num_hiddens = num_hiddens\n",
    "        self.num_layers = num_layers\n",
    "\n",
    "    def forward(self, X, *args):\n",
    "        X = self.embedding(X) \n",
    "        X = X.permute(1, 0, 2)\n",
    "        state = (torch.zeros((self.num_layers, X.shape[1],self.num_hiddens)), torch.zeros((self.num_layers, X.shape[1],self.num_hiddens)))\n",
    "        out, state = self.rnn(X, state)\n",
    "        return out, state"
   ]
  },
  {
   "cell_type": "code",
   "execution_count": 16,
   "metadata": {
    "ExecuteTime": {
     "end_time": "2019-12-01T16:33:49.351204Z",
     "start_time": "2019-12-01T16:33:49.190007Z"
    }
   },
   "outputs": [
    {
     "data": {
      "text/plain": [
       "(torch.Size([7, 4, 16]), 2, torch.Size([2, 4, 16]), torch.Size([2, 4, 16]))"
      ]
     },
     "execution_count": 16,
     "metadata": {},
     "output_type": "execute_result"
    }
   ],
   "source": [
    "encoder = Encoder(vocab_size=10, embed_size=8,\n",
    "                         num_hiddens=16, num_layers=2)\n",
    "X = torch.zeros((4, 7)).type(torch.long)\n",
    "output, state = encoder(X)\n",
    "output.shape, len(state), state[0].shape, state[1].shape"
   ]
  },
  {
   "cell_type": "code",
   "execution_count": 17,
   "metadata": {
    "ExecuteTime": {
     "end_time": "2019-12-01T16:33:49.361482Z",
     "start_time": "2019-12-01T16:33:49.354002Z"
    }
   },
   "outputs": [],
   "source": [
    "class Decoder(nn.Module):\n",
    "    def __init__(self, vocab_size, embed_size, num_hiddens, num_layers,\n",
    "                 dropout=0, **kwargs):\n",
    "        super().__init__(**kwargs)\n",
    "        self.embedding = nn.Embedding(vocab_size, embed_size)\n",
    "        self.rnn = nn.LSTM(embed_size, num_hiddens, num_layers, dropout=dropout)\n",
    "        self.dense = nn.Linear(num_hiddens, vocab_size)\n",
    "        self.num_hiddens = num_hiddens\n",
    "        self.embed_size = embed_size\n",
    "        self.vocab_size = vocab_size\n",
    "\n",
    "    def init_state(self, enc_outputs, *args):\n",
    "        return enc_outputs[1]\n",
    "\n",
    "    def forward(self, X, state):\n",
    "        X = self.embedding(X).permute(1, 0, 2)\n",
    "        out, state = self.rnn(X, state)\n",
    "        out = self.dense(out.view(-1, self.num_hiddens)).view(out.shape[0], out.shape[1], self.vocab_size).permute(1, 0, 2)\n",
    "        return out, state"
   ]
  },
  {
   "cell_type": "code",
   "execution_count": 18,
   "metadata": {
    "ExecuteTime": {
     "end_time": "2019-12-01T16:33:49.373722Z",
     "start_time": "2019-12-01T16:33:49.363548Z"
    }
   },
   "outputs": [
    {
     "data": {
      "text/plain": [
       "(torch.Size([4, 7, 10]), 2, torch.Size([2, 4, 16]), torch.Size([2, 4, 16]))"
      ]
     },
     "execution_count": 18,
     "metadata": {},
     "output_type": "execute_result"
    }
   ],
   "source": [
    "decoder = Decoder(vocab_size=10, embed_size=8,\n",
    "                         num_hiddens=16, num_layers=2)\n",
    "state = decoder.init_state(encoder(X))\n",
    "out, state = decoder(X, state)\n",
    "out.shape, len(state), state[0].shape, state[1].shape"
   ]
  },
  {
   "cell_type": "code",
   "execution_count": 19,
   "metadata": {
    "ExecuteTime": {
     "end_time": "2019-12-01T16:33:49.380633Z",
     "start_time": "2019-12-01T16:33:49.376175Z"
    }
   },
   "outputs": [],
   "source": [
    "class EncoderDecoder(nn.Module):\n",
    "    def __init__(self, encoder, decoder, **kwargs):\n",
    "        super(EncoderDecoder, self).__init__(**kwargs)\n",
    "        self.encoder = encoder\n",
    "        self.decoder = decoder\n",
    "\n",
    "    def forward(self, enc_X, dec_X, *args):\n",
    "        enc_outputs = self.encoder(enc_X, *args)\n",
    "        dec_state = self.decoder.init_state(enc_outputs, *args)\n",
    "        return self.decoder(dec_X, dec_state)"
   ]
  },
  {
   "cell_type": "code",
   "execution_count": 20,
   "metadata": {
    "ExecuteTime": {
     "end_time": "2019-12-01T16:33:49.391439Z",
     "start_time": "2019-12-01T16:33:49.383164Z"
    }
   },
   "outputs": [],
   "source": [
    "def train(model, data_iter, lr, num_epochs, out_vocab_size):\n",
    "    trainer = torch.optim.Adam(model.parameters(), lr=lr)\n",
    "    loss = nn.CrossEntropyLoss(reduction='none')\n",
    "    tic = time.time()\n",
    "    for epoch in range(1, num_epochs+1):\n",
    "        l_sum, num_tokens_sum = 0.0, 0.0\n",
    "        for batch in data_iter:\n",
    "            trainer.zero_grad()\n",
    "            X, X_vlen, Y, Y_vlen, mask = [x for x in batch]\n",
    "            Y_input, Y_label, Y_vlen, mask = Y[:,:-1], Y[:,1:], Y_vlen-1, mask[:,1:]\n",
    "            Y_hat, _ = model(X, Y_input, X_vlen, Y_vlen)\n",
    "            \n",
    "            l = (loss(Y_hat.reshape(-1,out_vocab_size), Y_label.reshape(-1)) * mask.reshape(-1)).sum() \n",
    "            \n",
    "            l.backward()\n",
    "            num_tokens = Y_vlen.sum().item()\n",
    "            trainer.step()\n",
    "            l_sum += l.item()\n",
    "            num_tokens_sum += num_tokens\n",
    "\n",
    "        print(\"epoch %d, loss %.3f, time %.1f sec\" % (\n",
    "            epoch, l_sum/num_tokens_sum, time.time()-tic))\n",
    "        tic = time.time()"
   ]
  },
  {
   "cell_type": "code",
   "execution_count": 21,
   "metadata": {
    "ExecuteTime": {
     "end_time": "2019-12-01T16:35:45.995234Z",
     "start_time": "2019-12-01T16:33:49.393872Z"
    }
   },
   "outputs": [
    {
     "name": "stdout",
     "output_type": "stream",
     "text": [
      "epoch 1, loss 3.559, time 0.4 sec\n",
      "epoch 2, loss 2.700, time 0.4 sec\n",
      "epoch 3, loss 2.415, time 0.4 sec\n",
      "epoch 4, loss 2.230, time 0.4 sec\n",
      "epoch 5, loss 2.117, time 0.4 sec\n",
      "epoch 6, loss 2.039, time 0.4 sec\n",
      "epoch 7, loss 1.962, time 0.4 sec\n",
      "epoch 8, loss 1.879, time 0.4 sec\n",
      "epoch 9, loss 1.803, time 0.4 sec\n",
      "epoch 10, loss 1.725, time 0.4 sec\n",
      "epoch 11, loss 1.667, time 0.4 sec\n",
      "epoch 12, loss 1.610, time 0.4 sec\n",
      "epoch 13, loss 1.561, time 0.4 sec\n",
      "epoch 14, loss 1.508, time 0.4 sec\n",
      "epoch 15, loss 1.464, time 0.4 sec\n",
      "epoch 16, loss 1.410, time 0.4 sec\n",
      "epoch 17, loss 1.371, time 0.4 sec\n",
      "epoch 18, loss 1.329, time 0.4 sec\n",
      "epoch 19, loss 1.289, time 0.4 sec\n",
      "epoch 20, loss 1.243, time 0.4 sec\n",
      "epoch 21, loss 1.204, time 0.4 sec\n",
      "epoch 22, loss 1.167, time 0.4 sec\n",
      "epoch 23, loss 1.130, time 0.4 sec\n",
      "epoch 24, loss 1.105, time 0.4 sec\n",
      "epoch 25, loss 1.069, time 0.4 sec\n",
      "epoch 26, loss 1.034, time 0.4 sec\n",
      "epoch 27, loss 1.001, time 0.4 sec\n",
      "epoch 28, loss 0.965, time 0.4 sec\n",
      "epoch 29, loss 0.938, time 0.4 sec\n",
      "epoch 30, loss 0.911, time 0.4 sec\n",
      "epoch 31, loss 0.889, time 0.4 sec\n",
      "epoch 32, loss 0.859, time 0.4 sec\n",
      "epoch 33, loss 0.832, time 0.4 sec\n",
      "epoch 34, loss 0.815, time 0.4 sec\n",
      "epoch 35, loss 0.802, time 0.4 sec\n",
      "epoch 36, loss 0.778, time 0.4 sec\n",
      "epoch 37, loss 0.763, time 0.4 sec\n",
      "epoch 38, loss 0.741, time 0.4 sec\n",
      "epoch 39, loss 0.721, time 0.4 sec\n",
      "epoch 40, loss 0.707, time 0.4 sec\n",
      "epoch 41, loss 0.694, time 0.4 sec\n",
      "epoch 42, loss 0.674, time 0.4 sec\n",
      "epoch 43, loss 0.657, time 0.4 sec\n",
      "epoch 44, loss 0.638, time 0.4 sec\n",
      "epoch 45, loss 0.619, time 0.3 sec\n",
      "epoch 46, loss 0.607, time 0.4 sec\n",
      "epoch 47, loss 0.597, time 0.4 sec\n",
      "epoch 48, loss 0.585, time 0.4 sec\n",
      "epoch 49, loss 0.574, time 0.4 sec\n",
      "epoch 50, loss 0.565, time 0.4 sec\n",
      "epoch 51, loss 0.554, time 0.4 sec\n",
      "epoch 52, loss 0.548, time 0.5 sec\n",
      "epoch 53, loss 0.538, time 0.4 sec\n",
      "epoch 54, loss 0.524, time 0.4 sec\n",
      "epoch 55, loss 0.510, time 0.4 sec\n",
      "epoch 56, loss 0.506, time 0.4 sec\n",
      "epoch 57, loss 0.500, time 0.3 sec\n",
      "epoch 58, loss 0.488, time 0.4 sec\n",
      "epoch 59, loss 0.473, time 0.4 sec\n",
      "epoch 60, loss 0.473, time 0.4 sec\n",
      "epoch 61, loss 0.464, time 0.4 sec\n",
      "epoch 62, loss 0.459, time 0.4 sec\n",
      "epoch 63, loss 0.454, time 0.4 sec\n",
      "epoch 64, loss 0.441, time 0.4 sec\n",
      "epoch 65, loss 0.440, time 0.4 sec\n",
      "epoch 66, loss 0.439, time 0.4 sec\n",
      "epoch 67, loss 0.430, time 0.4 sec\n",
      "epoch 68, loss 0.423, time 0.4 sec\n",
      "epoch 69, loss 0.419, time 0.4 sec\n",
      "epoch 70, loss 0.414, time 0.4 sec\n",
      "epoch 71, loss 0.415, time 0.4 sec\n",
      "epoch 72, loss 0.413, time 0.4 sec\n",
      "epoch 73, loss 0.404, time 0.4 sec\n",
      "epoch 74, loss 0.396, time 0.4 sec\n",
      "epoch 75, loss 0.390, time 0.4 sec\n",
      "epoch 76, loss 0.381, time 0.4 sec\n",
      "epoch 77, loss 0.377, time 0.4 sec\n",
      "epoch 78, loss 0.373, time 0.4 sec\n",
      "epoch 79, loss 0.370, time 0.4 sec\n",
      "epoch 80, loss 0.370, time 0.4 sec\n",
      "epoch 81, loss 0.368, time 0.4 sec\n",
      "epoch 82, loss 0.357, time 0.4 sec\n",
      "epoch 83, loss 0.356, time 0.4 sec\n",
      "epoch 84, loss 0.348, time 0.4 sec\n",
      "epoch 85, loss 0.342, time 0.4 sec\n",
      "epoch 86, loss 0.338, time 0.4 sec\n",
      "epoch 87, loss 0.335, time 0.4 sec\n",
      "epoch 88, loss 0.332, time 0.4 sec\n",
      "epoch 89, loss 0.328, time 0.4 sec\n",
      "epoch 90, loss 0.326, time 0.4 sec\n",
      "epoch 91, loss 0.324, time 0.4 sec\n",
      "epoch 92, loss 0.326, time 0.4 sec\n",
      "epoch 93, loss 0.320, time 0.4 sec\n",
      "epoch 94, loss 0.320, time 0.4 sec\n",
      "epoch 95, loss 0.319, time 0.4 sec\n",
      "epoch 96, loss 0.313, time 0.4 sec\n",
      "epoch 97, loss 0.312, time 0.5 sec\n",
      "epoch 98, loss 0.314, time 0.4 sec\n",
      "epoch 99, loss 0.311, time 0.4 sec\n",
      "epoch 100, loss 0.306, time 0.4 sec\n",
      "epoch 101, loss 0.301, time 0.4 sec\n",
      "epoch 102, loss 0.299, time 0.4 sec\n",
      "epoch 103, loss 0.300, time 0.4 sec\n",
      "epoch 104, loss 0.296, time 0.4 sec\n",
      "epoch 105, loss 0.293, time 0.4 sec\n",
      "epoch 106, loss 0.293, time 0.4 sec\n",
      "epoch 107, loss 0.289, time 0.4 sec\n",
      "epoch 108, loss 0.289, time 0.4 sec\n",
      "epoch 109, loss 0.285, time 0.4 sec\n",
      "epoch 110, loss 0.284, time 0.4 sec\n",
      "epoch 111, loss 0.288, time 0.4 sec\n",
      "epoch 112, loss 0.287, time 0.4 sec\n",
      "epoch 113, loss 0.288, time 0.4 sec\n",
      "epoch 114, loss 0.289, time 0.4 sec\n",
      "epoch 115, loss 0.284, time 0.4 sec\n",
      "epoch 116, loss 0.284, time 0.4 sec\n",
      "epoch 117, loss 0.282, time 0.4 sec\n",
      "epoch 118, loss 0.278, time 0.4 sec\n",
      "epoch 119, loss 0.277, time 0.4 sec\n",
      "epoch 120, loss 0.274, time 0.4 sec\n",
      "epoch 121, loss 0.273, time 0.4 sec\n",
      "epoch 122, loss 0.270, time 0.4 sec\n",
      "epoch 123, loss 0.270, time 0.4 sec\n",
      "epoch 124, loss 0.266, time 0.4 sec\n",
      "epoch 125, loss 0.266, time 0.4 sec\n",
      "epoch 126, loss 0.267, time 0.4 sec\n",
      "epoch 127, loss 0.268, time 0.5 sec\n",
      "epoch 128, loss 0.269, time 0.4 sec\n",
      "epoch 129, loss 0.269, time 0.4 sec\n",
      "epoch 130, loss 0.277, time 0.4 sec\n",
      "epoch 131, loss 0.278, time 0.4 sec\n",
      "epoch 132, loss 0.282, time 0.4 sec\n",
      "epoch 133, loss 0.283, time 0.4 sec\n",
      "epoch 134, loss 0.311, time 0.4 sec\n",
      "epoch 135, loss 0.365, time 0.5 sec\n",
      "epoch 136, loss 0.356, time 0.4 sec\n",
      "epoch 137, loss 0.361, time 0.4 sec\n",
      "epoch 138, loss 0.362, time 0.4 sec\n",
      "epoch 139, loss 0.339, time 0.4 sec\n",
      "epoch 140, loss 0.326, time 0.4 sec\n",
      "epoch 141, loss 0.298, time 0.4 sec\n",
      "epoch 142, loss 0.290, time 0.4 sec\n",
      "epoch 143, loss 0.282, time 0.4 sec\n",
      "epoch 144, loss 0.277, time 0.4 sec\n",
      "epoch 145, loss 0.274, time 0.4 sec\n",
      "epoch 146, loss 0.271, time 0.4 sec\n",
      "epoch 147, loss 0.263, time 0.4 sec\n",
      "epoch 148, loss 0.257, time 0.4 sec\n",
      "epoch 149, loss 0.252, time 0.4 sec\n",
      "epoch 150, loss 0.254, time 0.4 sec\n",
      "epoch 151, loss 0.255, time 0.4 sec\n",
      "epoch 152, loss 0.250, time 0.4 sec\n",
      "epoch 153, loss 0.251, time 0.4 sec\n",
      "epoch 154, loss 0.250, time 0.4 sec\n",
      "epoch 155, loss 0.251, time 0.4 sec\n",
      "epoch 156, loss 0.247, time 0.4 sec\n",
      "epoch 157, loss 0.248, time 0.4 sec\n",
      "epoch 158, loss 0.246, time 0.4 sec\n",
      "epoch 159, loss 0.243, time 0.4 sec\n",
      "epoch 160, loss 0.245, time 0.4 sec\n",
      "epoch 161, loss 0.246, time 0.4 sec\n",
      "epoch 162, loss 0.243, time 0.4 sec\n",
      "epoch 163, loss 0.242, time 0.4 sec\n",
      "epoch 164, loss 0.243, time 0.4 sec\n",
      "epoch 165, loss 0.241, time 0.4 sec\n",
      "epoch 166, loss 0.240, time 0.4 sec\n",
      "epoch 167, loss 0.240, time 0.4 sec\n",
      "epoch 168, loss 0.241, time 0.4 sec\n",
      "epoch 169, loss 0.239, time 0.4 sec\n",
      "epoch 170, loss 0.240, time 0.4 sec\n",
      "epoch 171, loss 0.242, time 0.4 sec\n",
      "epoch 172, loss 0.239, time 0.4 sec\n",
      "epoch 173, loss 0.239, time 0.4 sec\n",
      "epoch 174, loss 0.241, time 0.4 sec\n",
      "epoch 175, loss 0.240, time 0.4 sec\n",
      "epoch 176, loss 0.240, time 0.4 sec\n",
      "epoch 177, loss 0.235, time 0.4 sec\n",
      "epoch 178, loss 0.235, time 0.4 sec\n",
      "epoch 179, loss 0.235, time 0.4 sec\n",
      "epoch 180, loss 0.235, time 0.4 sec\n",
      "epoch 181, loss 0.234, time 0.4 sec\n",
      "epoch 182, loss 0.234, time 0.4 sec\n",
      "epoch 183, loss 0.233, time 0.4 sec\n",
      "epoch 184, loss 0.231, time 0.4 sec\n",
      "epoch 185, loss 0.233, time 0.4 sec\n",
      "epoch 186, loss 0.231, time 0.4 sec\n",
      "epoch 187, loss 0.232, time 0.4 sec\n",
      "epoch 188, loss 0.232, time 0.4 sec\n",
      "epoch 189, loss 0.231, time 0.4 sec\n",
      "epoch 190, loss 0.230, time 0.4 sec\n",
      "epoch 191, loss 0.230, time 0.4 sec\n",
      "epoch 192, loss 0.230, time 0.4 sec\n",
      "epoch 193, loss 0.230, time 0.4 sec\n",
      "epoch 194, loss 0.230, time 0.4 sec\n",
      "epoch 195, loss 0.230, time 0.4 sec\n",
      "epoch 196, loss 0.231, time 0.4 sec\n",
      "epoch 197, loss 0.230, time 0.4 sec\n",
      "epoch 198, loss 0.230, time 0.4 sec\n",
      "epoch 199, loss 0.229, time 0.4 sec\n",
      "epoch 200, loss 0.230, time 0.4 sec\n",
      "epoch 201, loss 0.232, time 0.4 sec\n",
      "epoch 202, loss 0.230, time 0.4 sec\n",
      "epoch 203, loss 0.232, time 0.4 sec\n",
      "epoch 204, loss 0.230, time 0.4 sec\n",
      "epoch 205, loss 0.230, time 0.4 sec\n",
      "epoch 206, loss 0.252, time 0.4 sec\n",
      "epoch 207, loss 0.265, time 0.4 sec\n",
      "epoch 208, loss 0.285, time 0.4 sec\n",
      "epoch 209, loss 0.277, time 0.4 sec\n",
      "epoch 210, loss 0.273, time 0.4 sec\n",
      "epoch 211, loss 0.286, time 0.4 sec\n",
      "epoch 212, loss 0.280, time 0.4 sec\n",
      "epoch 213, loss 0.276, time 0.4 sec\n",
      "epoch 214, loss 0.259, time 0.4 sec\n",
      "epoch 215, loss 0.256, time 0.5 sec\n",
      "epoch 216, loss 0.249, time 0.5 sec\n",
      "epoch 217, loss 0.240, time 0.4 sec\n",
      "epoch 218, loss 0.235, time 0.5 sec\n",
      "epoch 219, loss 0.233, time 0.5 sec\n",
      "epoch 220, loss 0.230, time 0.6 sec\n",
      "epoch 221, loss 0.230, time 0.5 sec\n",
      "epoch 222, loss 0.228, time 0.5 sec\n",
      "epoch 223, loss 0.225, time 0.4 sec\n",
      "epoch 224, loss 0.225, time 0.4 sec\n",
      "epoch 225, loss 0.225, time 0.4 sec\n",
      "epoch 226, loss 0.225, time 0.5 sec\n",
      "epoch 227, loss 0.224, time 0.4 sec\n",
      "epoch 228, loss 0.223, time 0.5 sec\n",
      "epoch 229, loss 0.225, time 0.4 sec\n",
      "epoch 230, loss 0.224, time 0.4 sec\n",
      "epoch 231, loss 0.223, time 0.4 sec\n"
     ]
    },
    {
     "name": "stdout",
     "output_type": "stream",
     "text": [
      "epoch 232, loss 0.223, time 0.4 sec\n",
      "epoch 233, loss 0.223, time 0.4 sec\n",
      "epoch 234, loss 0.223, time 0.4 sec\n",
      "epoch 235, loss 0.221, time 0.4 sec\n",
      "epoch 236, loss 0.222, time 0.4 sec\n",
      "epoch 237, loss 0.221, time 0.4 sec\n",
      "epoch 238, loss 0.220, time 0.4 sec\n",
      "epoch 239, loss 0.221, time 0.4 sec\n",
      "epoch 240, loss 0.220, time 0.4 sec\n",
      "epoch 241, loss 0.223, time 0.4 sec\n",
      "epoch 242, loss 0.224, time 0.4 sec\n",
      "epoch 243, loss 0.221, time 0.4 sec\n",
      "epoch 244, loss 0.222, time 0.4 sec\n",
      "epoch 245, loss 0.220, time 0.4 sec\n",
      "epoch 246, loss 0.220, time 0.4 sec\n",
      "epoch 247, loss 0.220, time 0.4 sec\n",
      "epoch 248, loss 0.220, time 0.4 sec\n",
      "epoch 249, loss 0.220, time 0.4 sec\n",
      "epoch 250, loss 0.219, time 0.4 sec\n",
      "epoch 251, loss 0.218, time 0.4 sec\n",
      "epoch 252, loss 0.219, time 0.4 sec\n",
      "epoch 253, loss 0.219, time 0.4 sec\n",
      "epoch 254, loss 0.219, time 0.4 sec\n",
      "epoch 255, loss 0.217, time 0.5 sec\n",
      "epoch 256, loss 0.219, time 0.4 sec\n",
      "epoch 257, loss 0.220, time 0.4 sec\n",
      "epoch 258, loss 0.220, time 0.4 sec\n",
      "epoch 259, loss 0.221, time 0.4 sec\n",
      "epoch 260, loss 0.219, time 0.4 sec\n",
      "epoch 261, loss 0.218, time 0.4 sec\n",
      "epoch 262, loss 0.218, time 0.4 sec\n",
      "epoch 263, loss 0.218, time 0.4 sec\n",
      "epoch 264, loss 0.217, time 0.5 sec\n",
      "epoch 265, loss 0.220, time 0.4 sec\n",
      "epoch 266, loss 0.217, time 0.4 sec\n",
      "epoch 267, loss 0.216, time 0.4 sec\n",
      "epoch 268, loss 0.218, time 0.4 sec\n",
      "epoch 269, loss 0.217, time 0.4 sec\n",
      "epoch 270, loss 0.217, time 0.4 sec\n",
      "epoch 271, loss 0.218, time 0.4 sec\n",
      "epoch 272, loss 0.220, time 0.5 sec\n",
      "epoch 273, loss 0.217, time 0.4 sec\n",
      "epoch 274, loss 0.217, time 0.5 sec\n",
      "epoch 275, loss 0.217, time 0.5 sec\n",
      "epoch 276, loss 0.216, time 0.4 sec\n",
      "epoch 277, loss 0.217, time 0.4 sec\n",
      "epoch 278, loss 0.216, time 0.4 sec\n",
      "epoch 279, loss 0.218, time 0.4 sec\n",
      "epoch 280, loss 0.217, time 0.4 sec\n",
      "epoch 281, loss 0.217, time 0.4 sec\n",
      "epoch 282, loss 0.217, time 0.4 sec\n",
      "epoch 283, loss 0.218, time 0.4 sec\n",
      "epoch 284, loss 0.217, time 0.4 sec\n",
      "epoch 285, loss 0.220, time 0.4 sec\n",
      "epoch 286, loss 0.221, time 0.4 sec\n",
      "epoch 287, loss 0.217, time 0.4 sec\n",
      "epoch 288, loss 0.219, time 0.4 sec\n",
      "epoch 289, loss 0.217, time 0.4 sec\n",
      "epoch 290, loss 0.217, time 0.4 sec\n",
      "epoch 291, loss 0.220, time 0.4 sec\n",
      "epoch 292, loss 0.219, time 0.4 sec\n",
      "epoch 293, loss 0.218, time 0.4 sec\n",
      "epoch 294, loss 0.218, time 0.4 sec\n",
      "epoch 295, loss 0.219, time 0.4 sec\n",
      "epoch 296, loss 0.217, time 0.4 sec\n",
      "epoch 297, loss 0.217, time 0.4 sec\n",
      "epoch 298, loss 0.215, time 0.4 sec\n",
      "epoch 299, loss 0.216, time 0.4 sec\n",
      "epoch 300, loss 0.216, time 0.4 sec\n"
     ]
    }
   ],
   "source": [
    "embed_size, num_hiddens, num_layers, dropout = 32, 32, 2, 0.0\n",
    "batch_size, max_len = 64, 10\n",
    "lr, num_epochs = 0.01, 300\n",
    "\n",
    "src_vocab, tgt_vocab, train_iter = load_data_nmt(batch_size, max_len)\n",
    "encoder = Encoder(\n",
    "    len(src_vocab), embed_size, num_hiddens, num_layers, dropout)\n",
    "decoder = Decoder(\n",
    "    len(tgt_vocab), embed_size, num_hiddens, num_layers, dropout)\n",
    "model = EncoderDecoder(encoder, decoder)\n",
    "train(model, train_iter, lr, num_epochs, len(tgt_vocab))"
   ]
  },
  {
   "cell_type": "code",
   "execution_count": 22,
   "metadata": {
    "ExecuteTime": {
     "end_time": "2019-12-01T16:35:46.006785Z",
     "start_time": "2019-12-01T16:35:45.997361Z"
    }
   },
   "outputs": [],
   "source": [
    "def translate(model, src_sentence, src_vocab, tgt_vocab, max_len):\n",
    "    src_tokens = src_vocab[src_sentence.lower().split(' ')]\n",
    "    src_len = len(src_tokens)\n",
    "    if src_len < max_len:\n",
    "        src_tokens += [src_vocab.pad] * (max_len - src_len)\n",
    "    enc_X = torch.LongTensor(src_tokens)\n",
    "    enc_valid_length = torch.LongTensor([src_len])\n",
    "    enc_outputs = model.encoder(enc_X.unsqueeze(axis=0), enc_valid_length)\n",
    "    dec_state = model.decoder.init_state(enc_outputs, enc_valid_length)\n",
    "    dec_X = torch.LongTensor([tgt_vocab.bos]).unsqueeze(axis=0)\n",
    "    predict_tokens = []\n",
    "    for _ in range(max_len):\n",
    "        Y, dec_state = model.decoder(dec_X, dec_state)\n",
    "        dec_X = Y.argmax(axis=2)\n",
    "        py = dec_X.squeeze(axis=0).type(torch.long).item()\n",
    "        if py == tgt_vocab.eos:\n",
    "            break\n",
    "        predict_tokens.append(py)\n",
    "    return ' '.join(tgt_vocab.to_tokens(predict_tokens))"
   ]
  },
  {
   "cell_type": "code",
   "execution_count": 23,
   "metadata": {
    "ExecuteTime": {
     "end_time": "2019-12-01T16:35:46.034568Z",
     "start_time": "2019-12-01T16:35:46.009362Z"
    }
   },
   "outputs": [
    {
     "name": "stdout",
     "output_type": "stream",
     "text": [
      "Go . => va !\n",
      "Wow ! => <unk> !\n",
      "I'm OK . => je vais bien .\n",
      "I won ! => j'ai gagné !\n"
     ]
    }
   ],
   "source": [
    "for sentence in ['Go .', 'Wow !', \"I'm OK .\", 'I won !']:\n",
    "    print(sentence + ' => ' + translate(\n",
    "        model, sentence, src_vocab, tgt_vocab, max_len))"
   ]
  },
  {
   "cell_type": "code",
   "execution_count": 24,
   "metadata": {
    "ExecuteTime": {
     "end_time": "2019-12-01T16:35:46.043303Z",
     "start_time": "2019-12-01T16:35:46.036953Z"
    }
   },
   "outputs": [
    {
     "ename": "SyntaxError",
     "evalue": "invalid syntax (<ipython-input-24-fd58e1c2c767>, line 1)",
     "output_type": "error",
     "traceback": [
      "\u001b[0;36m  File \u001b[0;32m\"<ipython-input-24-fd58e1c2c767>\"\u001b[0;36m, line \u001b[0;32m1\u001b[0m\n\u001b[0;31m    -> INPUT: GO . <pad> <pad> <pad>\u001b[0m\n\u001b[0m     ^\u001b[0m\n\u001b[0;31mSyntaxError\u001b[0m\u001b[0;31m:\u001b[0m invalid syntax\n"
     ]
    }
   ],
   "source": [
    "-> INPUT: GO . <pad> <pad> <pad>\n",
    "    \n",
    "    \n",
    "-> TARGET:     <bos>  va    !  <eos> <pad> <pad>\n",
    "-> MASK:         1    1     1    1     0     0\n",
    "-> PREDICTION: <bos> HAHA HAHA <eos> <pad> <pad>\n",
    "-> LOSS:         2    1.3   0.4  1     34    19\n",
    "    \n",
    "\n"
   ]
  },
  {
   "cell_type": "code",
   "execution_count": null,
   "metadata": {},
   "outputs": [],
   "source": []
  },
  {
   "cell_type": "markdown",
   "metadata": {},
   "source": [
    "## Внимание"
   ]
  },
  {
   "cell_type": "markdown",
   "metadata": {},
   "source": [
    "## Dot Product Attention\n",
    "\n",
    "$$\\alpha(\\mathbf Q, \\mathbf K) = \\langle \\mathbf Q, \\mathbf K^T \\rangle /\\sqrt{d}.$$"
   ]
  },
  {
   "cell_type": "code",
   "execution_count": 73,
   "metadata": {
    "ExecuteTime": {
     "end_time": "2019-12-01T16:49:43.191899Z",
     "start_time": "2019-12-01T16:49:43.186031Z"
    }
   },
   "outputs": [],
   "source": [
    "class DotProductAttention(nn.Module):  \n",
    "    def __init__(self, dropout, **kwargs):\n",
    "        super(DotProductAttention, self).__init__(**kwargs)\n",
    "        self.dropout = nn.Dropout(dropout)\n",
    "\n",
    "    # query: (batch_size, #queries, d)\n",
    "    # key: (batch_size, #kv_pairs, d)\n",
    "    # value: (batch_size, #kv_pairs, dim_v)\n",
    "    def forward(self, query, key, value):\n",
    "        d = query.shape[-1]\n",
    "        scores = torch.bmm(query, key.permute(0, 2, 1)) / math.sqrt(d)\n",
    "        attention_weights = self.dropout(torch.softmax(scores, dim=-1))\n",
    "        return torch.bmm(attention_weights, value)"
   ]
  },
  {
   "cell_type": "code",
   "execution_count": 76,
   "metadata": {
    "ExecuteTime": {
     "end_time": "2019-12-01T16:49:56.479613Z",
     "start_time": "2019-12-01T16:49:56.470968Z"
    }
   },
   "outputs": [
    {
     "data": {
      "text/plain": [
       "tensor([[[14.4000, 15.6000, 16.8000, 18.0000]],\n",
       "\n",
       "        [[13.6000, 14.4000, 15.2000, 16.0000]]])"
      ]
     },
     "execution_count": 76,
     "metadata": {},
     "output_type": "execute_result"
    }
   ],
   "source": [
    "atten = DotProductAttention(dropout=0.5)\n",
    "keys = torch.ones((2,10,2))\n",
    "values = torch.arange(40).reshape((1,10,4)).repeat(2,1,1).type(torch.float)\n",
    "atten(torch.ones((2,1,2)), keys, values)"
   ]
  },
  {
   "cell_type": "markdown",
   "metadata": {
    "ExecuteTime": {
     "end_time": "2019-12-01T16:50:22.325403Z",
     "start_time": "2019-12-01T16:50:22.318990Z"
    }
   },
   "source": [
    "## Multilayer Perception Attention\n",
    "\n",
    "$\\mathbf W_k\\in\\mathbb R^{h\\times d_k}$, $\\mathbf W_q\\in\\mathbb R^{h\\times d_q}$, and $\\mathbf v\\in\\mathbb R^{p}$:\n",
    "\n",
    "$$\\alpha(\\mathbf k, \\mathbf q) = \\mathbf v^T \\text{tanh}(\\mathbf W_k \\mathbf k + \\mathbf W_q\\mathbf q). $$\n",
    "\n"
   ]
  },
  {
   "cell_type": "code",
   "execution_count": 110,
   "metadata": {
    "ExecuteTime": {
     "end_time": "2019-12-01T19:16:43.077500Z",
     "start_time": "2019-12-01T19:16:43.070765Z"
    }
   },
   "outputs": [],
   "source": [
    "class MLPAttention(nn.Module):  \n",
    "    def __init__(self, inputs, units, dropout, **kwargs):\n",
    "        super(MLPAttention, self).__init__(**kwargs)\n",
    "        self.W_k = nn.Linear(inputs, units, bias=False)\n",
    "        self.W_q = nn.Linear(inputs, units, bias=False)\n",
    "        self.v = nn.Linear(units, 1, bias=False)\n",
    "        self.dropout = nn.Dropout(dropout)\n",
    "\n",
    "    def forward(self, query, key, value):\n",
    "        query, key = torch.tanh(self.W_k(query)), torch.tanh(self.W_q(key))\n",
    "        # expand query to (batch_size, #querys, 1, units), and key to \n",
    "        # (batch_size, 1, #kv_pairs, units). Then plus them with broadcast.  \n",
    "        features = query.unsqueeze(2) + key.unsqueeze(1)\n",
    "        scores = self.v(features).squeeze(dim=-1)\n",
    "        attention_weights = self.dropout(scores.softmax(dim=-1))\n",
    "        return torch.bmm(attention_weights, value)"
   ]
  },
  {
   "cell_type": "code",
   "execution_count": 111,
   "metadata": {
    "ExecuteTime": {
     "end_time": "2019-12-01T19:16:43.517661Z",
     "start_time": "2019-12-01T19:16:43.508460Z"
    }
   },
   "outputs": [
    {
     "data": {
      "text/plain": [
       "tensor([[[19.1111, 20.1111, 21.1111, 22.1111]],\n",
       "\n",
       "        [[20.0000, 21.0000, 22.0000, 23.0000]]], grad_fn=<BmmBackward>)"
      ]
     },
     "execution_count": 111,
     "metadata": {},
     "output_type": "execute_result"
    }
   ],
   "source": [
    "atten = MLPAttention(2, units=8, dropout=0.1)\n",
    "atten(torch.ones((2,1,2)), keys, values)"
   ]
  },
  {
   "cell_type": "code",
   "execution_count": 118,
   "metadata": {
    "ExecuteTime": {
     "end_time": "2019-12-01T19:17:55.737695Z",
     "start_time": "2019-12-01T19:17:55.726847Z"
    }
   },
   "outputs": [],
   "source": [
    "class AttentionDecoder(nn.Module):\n",
    "    def __init__(self, vocab_size, embed_size, num_hiddens, num_layers,\n",
    "                 dropout=0, **kwargs):\n",
    "        super().__init__(**kwargs)\n",
    "        self.attention_cell = MLPAttention(num_hiddens, num_hiddens, dropout)\n",
    "        self.embedding = nn.Embedding(vocab_size, embed_size)\n",
    "        self.rnn = nn.LSTM(embed_size + num_hiddens, num_hiddens, num_layers, dropout=dropout)\n",
    "        self.dense = nn.Linear(num_hiddens, vocab_size)\n",
    "        self.num_hiddens = num_hiddens\n",
    "        self.embed_size = embed_size\n",
    "        self.vocab_size = vocab_size\n",
    "\n",
    "    def init_state(self, enc_outputs, *args):\n",
    "        return (enc_outputs[0].permute(1,0,2), enc_outputs[1])\n",
    "\n",
    "    def forward(self, X, state):\n",
    "        enc_outputs, hidden_state = state\n",
    "        X = self.embedding(X).permute(1, 0, 2)\n",
    "        outputs = []\n",
    "        for x in X:\n",
    "            # query shape: (batch_size, 1, hidden_size)\n",
    "            query = hidden_state[0][-1].unsqueeze(1)\n",
    "            # context has same shape as query\n",
    "            context = self.attention_cell(query, enc_outputs, enc_outputs)\n",
    "            # concatenate on the feature dimension\n",
    "            x = torch.cat([context, x.unsqueeze(1)], dim=-1)\n",
    "            # reshape x to (1, batch_size, embed_size+hidden_size)\n",
    "            out, hidden_state = self.rnn(x.permute(1, 0, 2), hidden_state)\n",
    "            outputs.append(out)\n",
    "        outputs = self.dense(torch.cat(outputs, dim=0))\n",
    "        return outputs.permute(1, 0, 2), [enc_outputs, hidden_state]\n",
    "            \n",
    "            \n",
    "       # out, state = self.rnn(X, state)\n",
    "       # out = self.dense(out.view(-1, self.num_hiddens)).view(out.shape[0], out.shape[1], self.vocab_size).permute(1, 0, 2)\n",
    "       # return out, state"
   ]
  },
  {
   "cell_type": "code",
   "execution_count": 119,
   "metadata": {
    "ExecuteTime": {
     "end_time": "2019-12-01T19:17:56.228606Z",
     "start_time": "2019-12-01T19:17:56.202520Z"
    }
   },
   "outputs": [
    {
     "data": {
      "text/plain": [
       "(torch.Size([4, 7, 10]), 2, torch.Size([4, 7, 16]), 2, torch.Size([2, 4, 16]))"
      ]
     },
     "execution_count": 119,
     "metadata": {},
     "output_type": "execute_result"
    }
   ],
   "source": [
    "encoder = Encoder(vocab_size=10, embed_size=8,\n",
    "                             num_hiddens=16, num_layers=2)\n",
    "decoder = AttentionDecoder(vocab_size=10, embed_size=8, \n",
    "                                  num_hiddens=16, num_layers=2)\n",
    "X = torch.zeros((4, 7), dtype=torch.long)\n",
    "state = decoder.init_state(encoder(X))\n",
    "out, state = decoder(X, state)\n",
    "out.shape, len(state), state[0].shape, len(state[1]), state[1][0].shape"
   ]
  },
  {
   "cell_type": "code",
   "execution_count": 120,
   "metadata": {
    "ExecuteTime": {
     "end_time": "2019-12-01T19:21:38.863638Z",
     "start_time": "2019-12-01T19:18:40.387133Z"
    }
   },
   "outputs": [
    {
     "name": "stdout",
     "output_type": "stream",
     "text": [
      "epoch 1, loss 3.739, time 0.6 sec\n",
      "epoch 2, loss 2.780, time 0.6 sec\n",
      "epoch 3, loss 2.547, time 0.6 sec\n",
      "epoch 4, loss 2.346, time 0.6 sec\n",
      "epoch 5, loss 2.165, time 0.6 sec\n",
      "epoch 6, loss 2.040, time 0.6 sec\n",
      "epoch 7, loss 1.945, time 0.6 sec\n",
      "epoch 8, loss 1.872, time 0.6 sec\n",
      "epoch 9, loss 1.800, time 0.6 sec\n",
      "epoch 10, loss 1.736, time 0.6 sec\n",
      "epoch 11, loss 1.679, time 0.6 sec\n",
      "epoch 12, loss 1.625, time 0.6 sec\n",
      "epoch 13, loss 1.579, time 0.6 sec\n",
      "epoch 14, loss 1.533, time 0.6 sec\n",
      "epoch 15, loss 1.492, time 0.6 sec\n",
      "epoch 16, loss 1.453, time 0.6 sec\n",
      "epoch 17, loss 1.417, time 0.6 sec\n",
      "epoch 18, loss 1.373, time 0.6 sec\n",
      "epoch 19, loss 1.328, time 0.6 sec\n",
      "epoch 20, loss 1.288, time 0.6 sec\n",
      "epoch 21, loss 1.243, time 0.6 sec\n",
      "epoch 22, loss 1.200, time 0.6 sec\n",
      "epoch 23, loss 1.163, time 0.6 sec\n",
      "epoch 24, loss 1.132, time 0.6 sec\n",
      "epoch 25, loss 1.093, time 0.6 sec\n",
      "epoch 26, loss 1.060, time 0.6 sec\n",
      "epoch 27, loss 1.027, time 0.6 sec\n",
      "epoch 28, loss 1.001, time 0.6 sec\n",
      "epoch 29, loss 0.975, time 0.6 sec\n",
      "epoch 30, loss 0.953, time 0.6 sec\n",
      "epoch 31, loss 0.925, time 0.6 sec\n",
      "epoch 32, loss 0.902, time 0.6 sec\n",
      "epoch 33, loss 0.877, time 0.6 sec\n",
      "epoch 34, loss 0.849, time 0.6 sec\n",
      "epoch 35, loss 0.832, time 0.6 sec\n",
      "epoch 36, loss 0.808, time 0.6 sec\n",
      "epoch 37, loss 0.787, time 0.6 sec\n",
      "epoch 38, loss 0.768, time 0.6 sec\n",
      "epoch 39, loss 0.745, time 0.6 sec\n",
      "epoch 40, loss 0.723, time 0.6 sec\n",
      "epoch 41, loss 0.708, time 0.6 sec\n",
      "epoch 42, loss 0.691, time 0.6 sec\n",
      "epoch 43, loss 0.678, time 0.6 sec\n",
      "epoch 44, loss 0.663, time 0.6 sec\n",
      "epoch 45, loss 0.643, time 0.6 sec\n",
      "epoch 46, loss 0.628, time 0.6 sec\n",
      "epoch 47, loss 0.611, time 0.6 sec\n",
      "epoch 48, loss 0.593, time 0.6 sec\n",
      "epoch 49, loss 0.592, time 0.6 sec\n",
      "epoch 50, loss 0.581, time 0.6 sec\n",
      "epoch 51, loss 0.568, time 0.6 sec\n",
      "epoch 52, loss 0.551, time 0.6 sec\n",
      "epoch 53, loss 0.542, time 0.6 sec\n",
      "epoch 54, loss 0.529, time 0.5 sec\n",
      "epoch 55, loss 0.513, time 0.6 sec\n",
      "epoch 56, loss 0.510, time 0.6 sec\n",
      "epoch 57, loss 0.503, time 0.6 sec\n",
      "epoch 58, loss 0.504, time 0.6 sec\n",
      "epoch 59, loss 0.492, time 0.6 sec\n",
      "epoch 60, loss 0.478, time 0.6 sec\n",
      "epoch 61, loss 0.464, time 0.6 sec\n",
      "epoch 62, loss 0.460, time 0.6 sec\n",
      "epoch 63, loss 0.457, time 0.6 sec\n",
      "epoch 64, loss 0.446, time 0.6 sec\n",
      "epoch 65, loss 0.436, time 0.6 sec\n",
      "epoch 66, loss 0.430, time 0.6 sec\n",
      "epoch 67, loss 0.421, time 0.6 sec\n",
      "epoch 68, loss 0.416, time 0.6 sec\n",
      "epoch 69, loss 0.409, time 0.6 sec\n",
      "epoch 70, loss 0.402, time 0.6 sec\n",
      "epoch 71, loss 0.402, time 0.6 sec\n",
      "epoch 72, loss 0.393, time 0.6 sec\n",
      "epoch 73, loss 0.386, time 0.6 sec\n",
      "epoch 74, loss 0.382, time 0.6 sec\n",
      "epoch 75, loss 0.378, time 0.6 sec\n",
      "epoch 76, loss 0.370, time 0.6 sec\n",
      "epoch 77, loss 0.366, time 0.6 sec\n",
      "epoch 78, loss 0.363, time 0.6 sec\n",
      "epoch 79, loss 0.358, time 0.6 sec\n",
      "epoch 80, loss 0.357, time 0.6 sec\n",
      "epoch 81, loss 0.355, time 0.6 sec\n",
      "epoch 82, loss 0.350, time 0.6 sec\n",
      "epoch 83, loss 0.339, time 0.6 sec\n",
      "epoch 84, loss 0.344, time 0.6 sec\n",
      "epoch 85, loss 0.335, time 0.6 sec\n",
      "epoch 86, loss 0.324, time 0.6 sec\n",
      "epoch 87, loss 0.325, time 0.6 sec\n",
      "epoch 88, loss 0.320, time 0.6 sec\n",
      "epoch 89, loss 0.320, time 0.6 sec\n",
      "epoch 90, loss 0.315, time 0.6 sec\n",
      "epoch 91, loss 0.312, time 0.6 sec\n",
      "epoch 92, loss 0.309, time 0.6 sec\n",
      "epoch 93, loss 0.307, time 0.6 sec\n",
      "epoch 94, loss 0.303, time 0.6 sec\n",
      "epoch 95, loss 0.304, time 0.6 sec\n",
      "epoch 96, loss 0.305, time 0.6 sec\n",
      "epoch 97, loss 0.299, time 0.6 sec\n",
      "epoch 98, loss 0.302, time 0.6 sec\n",
      "epoch 99, loss 0.306, time 0.6 sec\n",
      "epoch 100, loss 0.301, time 0.6 sec\n",
      "epoch 101, loss 0.301, time 0.6 sec\n",
      "epoch 102, loss 0.297, time 0.6 sec\n",
      "epoch 103, loss 0.299, time 0.6 sec\n",
      "epoch 104, loss 0.293, time 0.6 sec\n",
      "epoch 105, loss 0.290, time 0.6 sec\n",
      "epoch 106, loss 0.292, time 0.6 sec\n",
      "epoch 107, loss 0.290, time 0.6 sec\n",
      "epoch 108, loss 0.292, time 0.6 sec\n",
      "epoch 109, loss 0.296, time 0.6 sec\n",
      "epoch 110, loss 0.300, time 0.6 sec\n",
      "epoch 111, loss 0.298, time 0.6 sec\n",
      "epoch 112, loss 0.301, time 0.6 sec\n",
      "epoch 113, loss 0.298, time 0.6 sec\n",
      "epoch 114, loss 0.293, time 0.6 sec\n",
      "epoch 115, loss 0.311, time 0.6 sec\n",
      "epoch 116, loss 0.307, time 0.6 sec\n",
      "epoch 117, loss 0.306, time 0.6 sec\n",
      "epoch 118, loss 0.289, time 0.6 sec\n",
      "epoch 119, loss 0.290, time 0.6 sec\n",
      "epoch 120, loss 0.283, time 0.6 sec\n",
      "epoch 121, loss 0.271, time 0.6 sec\n",
      "epoch 122, loss 0.275, time 0.6 sec\n",
      "epoch 123, loss 0.270, time 0.6 sec\n",
      "epoch 124, loss 0.265, time 0.6 sec\n",
      "epoch 125, loss 0.263, time 0.6 sec\n",
      "epoch 126, loss 0.262, time 0.6 sec\n",
      "epoch 127, loss 0.259, time 0.6 sec\n",
      "epoch 128, loss 0.260, time 0.6 sec\n",
      "epoch 129, loss 0.258, time 0.6 sec\n",
      "epoch 130, loss 0.259, time 0.6 sec\n",
      "epoch 131, loss 0.256, time 0.6 sec\n",
      "epoch 132, loss 0.256, time 0.6 sec\n",
      "epoch 133, loss 0.255, time 0.6 sec\n",
      "epoch 134, loss 0.253, time 0.7 sec\n",
      "epoch 135, loss 0.252, time 0.6 sec\n",
      "epoch 136, loss 0.250, time 0.6 sec\n",
      "epoch 137, loss 0.251, time 0.6 sec\n",
      "epoch 138, loss 0.248, time 0.6 sec\n",
      "epoch 139, loss 0.248, time 0.6 sec\n",
      "epoch 140, loss 0.250, time 0.6 sec\n",
      "epoch 141, loss 0.251, time 0.6 sec\n",
      "epoch 142, loss 0.247, time 0.6 sec\n",
      "epoch 143, loss 0.244, time 0.6 sec\n",
      "epoch 144, loss 0.244, time 0.6 sec\n",
      "epoch 145, loss 0.245, time 0.6 sec\n",
      "epoch 146, loss 0.243, time 0.6 sec\n",
      "epoch 147, loss 0.241, time 0.6 sec\n",
      "epoch 148, loss 0.245, time 0.6 sec\n",
      "epoch 149, loss 0.243, time 0.6 sec\n",
      "epoch 150, loss 0.244, time 0.6 sec\n",
      "epoch 151, loss 0.241, time 0.6 sec\n",
      "epoch 152, loss 0.238, time 0.6 sec\n",
      "epoch 153, loss 0.239, time 0.6 sec\n",
      "epoch 154, loss 0.239, time 0.6 sec\n",
      "epoch 155, loss 0.243, time 0.6 sec\n",
      "epoch 156, loss 0.241, time 0.6 sec\n",
      "epoch 157, loss 0.243, time 0.6 sec\n",
      "epoch 158, loss 0.246, time 0.6 sec\n",
      "epoch 159, loss 0.243, time 0.6 sec\n",
      "epoch 160, loss 0.241, time 0.6 sec\n",
      "epoch 161, loss 0.243, time 0.6 sec\n",
      "epoch 162, loss 0.245, time 0.6 sec\n",
      "epoch 163, loss 0.242, time 0.6 sec\n",
      "epoch 164, loss 0.243, time 0.7 sec\n",
      "epoch 165, loss 0.239, time 0.6 sec\n",
      "epoch 166, loss 0.236, time 0.6 sec\n",
      "epoch 167, loss 0.235, time 0.6 sec\n",
      "epoch 168, loss 0.236, time 0.6 sec\n",
      "epoch 169, loss 0.236, time 0.6 sec\n",
      "epoch 170, loss 0.237, time 0.6 sec\n",
      "epoch 171, loss 0.235, time 0.6 sec\n",
      "epoch 172, loss 0.236, time 0.6 sec\n",
      "epoch 173, loss 0.236, time 0.6 sec\n",
      "epoch 174, loss 0.239, time 0.6 sec\n",
      "epoch 175, loss 0.236, time 0.6 sec\n",
      "epoch 176, loss 0.236, time 0.6 sec\n",
      "epoch 177, loss 0.234, time 0.6 sec\n",
      "epoch 178, loss 0.236, time 0.6 sec\n",
      "epoch 179, loss 0.244, time 0.6 sec\n",
      "epoch 180, loss 0.246, time 0.6 sec\n",
      "epoch 181, loss 0.278, time 0.6 sec\n",
      "epoch 182, loss 0.343, time 0.6 sec\n",
      "epoch 183, loss 0.411, time 0.6 sec\n",
      "epoch 184, loss 0.424, time 0.6 sec\n",
      "epoch 185, loss 0.430, time 0.6 sec\n",
      "epoch 186, loss 0.396, time 0.6 sec\n",
      "epoch 187, loss 0.357, time 0.6 sec\n",
      "epoch 188, loss 0.345, time 0.6 sec\n",
      "epoch 189, loss 0.319, time 0.6 sec\n",
      "epoch 190, loss 0.302, time 0.6 sec\n",
      "epoch 191, loss 0.285, time 0.6 sec\n",
      "epoch 192, loss 0.273, time 0.6 sec\n",
      "epoch 193, loss 0.262, time 0.6 sec\n",
      "epoch 194, loss 0.256, time 0.6 sec\n",
      "epoch 195, loss 0.251, time 0.6 sec\n",
      "epoch 196, loss 0.246, time 0.6 sec\n",
      "epoch 197, loss 0.241, time 0.6 sec\n",
      "epoch 198, loss 0.240, time 0.6 sec\n",
      "epoch 199, loss 0.241, time 0.6 sec\n",
      "epoch 200, loss 0.236, time 0.6 sec\n",
      "epoch 201, loss 0.236, time 0.6 sec\n",
      "epoch 202, loss 0.235, time 0.6 sec\n",
      "epoch 203, loss 0.237, time 0.6 sec\n",
      "epoch 204, loss 0.237, time 0.6 sec\n",
      "epoch 205, loss 0.234, time 0.6 sec\n",
      "epoch 206, loss 0.233, time 0.6 sec\n",
      "epoch 207, loss 0.231, time 0.6 sec\n",
      "epoch 208, loss 0.232, time 0.6 sec\n",
      "epoch 209, loss 0.234, time 0.6 sec\n",
      "epoch 210, loss 0.231, time 0.6 sec\n",
      "epoch 211, loss 0.231, time 0.6 sec\n",
      "epoch 212, loss 0.228, time 0.6 sec\n",
      "epoch 213, loss 0.228, time 0.6 sec\n",
      "epoch 214, loss 0.229, time 0.6 sec\n",
      "epoch 215, loss 0.228, time 0.6 sec\n",
      "epoch 216, loss 0.227, time 0.6 sec\n",
      "epoch 217, loss 0.229, time 0.6 sec\n",
      "epoch 218, loss 0.225, time 0.6 sec\n",
      "epoch 219, loss 0.225, time 0.6 sec\n",
      "epoch 220, loss 0.223, time 0.6 sec\n",
      "epoch 221, loss 0.225, time 0.6 sec\n",
      "epoch 222, loss 0.223, time 0.6 sec\n",
      "epoch 223, loss 0.224, time 0.6 sec\n",
      "epoch 224, loss 0.225, time 0.6 sec\n",
      "epoch 225, loss 0.227, time 0.6 sec\n",
      "epoch 226, loss 0.226, time 0.6 sec\n",
      "epoch 227, loss 0.226, time 0.6 sec\n",
      "epoch 228, loss 0.224, time 0.6 sec\n",
      "epoch 229, loss 0.228, time 0.6 sec\n",
      "epoch 230, loss 0.227, time 0.6 sec\n",
      "epoch 231, loss 0.227, time 0.6 sec\n"
     ]
    },
    {
     "name": "stdout",
     "output_type": "stream",
     "text": [
      "epoch 232, loss 0.227, time 0.6 sec\n",
      "epoch 233, loss 0.224, time 0.6 sec\n",
      "epoch 234, loss 0.222, time 0.6 sec\n",
      "epoch 235, loss 0.224, time 0.6 sec\n",
      "epoch 236, loss 0.223, time 0.6 sec\n",
      "epoch 237, loss 0.221, time 0.6 sec\n",
      "epoch 238, loss 0.220, time 0.6 sec\n",
      "epoch 239, loss 0.223, time 0.6 sec\n",
      "epoch 240, loss 0.222, time 0.6 sec\n",
      "epoch 241, loss 0.224, time 0.6 sec\n",
      "epoch 242, loss 0.223, time 0.6 sec\n",
      "epoch 243, loss 0.220, time 0.6 sec\n",
      "epoch 244, loss 0.221, time 0.6 sec\n",
      "epoch 245, loss 0.221, time 0.6 sec\n",
      "epoch 246, loss 0.223, time 0.6 sec\n",
      "epoch 247, loss 0.220, time 0.6 sec\n",
      "epoch 248, loss 0.223, time 0.6 sec\n",
      "epoch 249, loss 0.223, time 0.6 sec\n",
      "epoch 250, loss 0.220, time 0.6 sec\n",
      "epoch 251, loss 0.222, time 0.6 sec\n",
      "epoch 252, loss 0.221, time 0.6 sec\n",
      "epoch 253, loss 0.220, time 0.6 sec\n",
      "epoch 254, loss 0.219, time 0.6 sec\n",
      "epoch 255, loss 0.219, time 0.6 sec\n",
      "epoch 256, loss 0.219, time 0.6 sec\n",
      "epoch 257, loss 0.219, time 0.6 sec\n",
      "epoch 258, loss 0.218, time 0.6 sec\n",
      "epoch 259, loss 0.219, time 0.6 sec\n",
      "epoch 260, loss 0.218, time 0.6 sec\n",
      "epoch 261, loss 0.217, time 0.6 sec\n",
      "epoch 262, loss 0.217, time 0.6 sec\n",
      "epoch 263, loss 0.217, time 0.6 sec\n",
      "epoch 264, loss 0.218, time 0.6 sec\n",
      "epoch 265, loss 0.219, time 0.6 sec\n",
      "epoch 266, loss 0.216, time 0.6 sec\n",
      "epoch 267, loss 0.219, time 0.6 sec\n",
      "epoch 268, loss 0.217, time 0.6 sec\n",
      "epoch 269, loss 0.217, time 0.6 sec\n",
      "epoch 270, loss 0.218, time 0.6 sec\n",
      "epoch 271, loss 0.217, time 0.6 sec\n",
      "epoch 272, loss 0.217, time 0.6 sec\n",
      "epoch 273, loss 0.218, time 0.6 sec\n",
      "epoch 274, loss 0.217, time 0.6 sec\n",
      "epoch 275, loss 0.217, time 0.6 sec\n",
      "epoch 276, loss 0.221, time 0.6 sec\n",
      "epoch 277, loss 0.218, time 0.6 sec\n",
      "epoch 278, loss 0.217, time 0.6 sec\n",
      "epoch 279, loss 0.217, time 0.6 sec\n",
      "epoch 280, loss 0.217, time 0.6 sec\n",
      "epoch 281, loss 0.220, time 0.6 sec\n",
      "epoch 282, loss 0.224, time 0.6 sec\n",
      "epoch 283, loss 0.232, time 0.6 sec\n",
      "epoch 284, loss 0.255, time 0.6 sec\n",
      "epoch 285, loss 0.277, time 0.6 sec\n",
      "epoch 286, loss 0.329, time 0.6 sec\n",
      "epoch 287, loss 0.364, time 0.6 sec\n",
      "epoch 288, loss 0.370, time 0.6 sec\n",
      "epoch 289, loss 0.413, time 0.6 sec\n",
      "epoch 290, loss 0.415, time 0.6 sec\n",
      "epoch 291, loss 0.398, time 0.6 sec\n",
      "epoch 292, loss 0.367, time 0.6 sec\n",
      "epoch 293, loss 0.342, time 0.6 sec\n",
      "epoch 294, loss 0.296, time 0.6 sec\n",
      "epoch 295, loss 0.275, time 0.6 sec\n",
      "epoch 296, loss 0.253, time 0.6 sec\n",
      "epoch 297, loss 0.249, time 0.6 sec\n",
      "epoch 298, loss 0.245, time 0.6 sec\n",
      "epoch 299, loss 0.238, time 0.6 sec\n",
      "epoch 300, loss 0.231, time 0.6 sec\n"
     ]
    }
   ],
   "source": [
    "embed_size, num_hiddens, num_layers, dropout = 32, 32, 2, 0.0\n",
    "batch_size, max_len = 64, 10\n",
    "lr, num_epochs = 0.01, 300\n",
    "\n",
    "src_vocab, tgt_vocab, train_iter = load_data_nmt(batch_size, max_len)\n",
    "encoder = Encoder(\n",
    "    len(src_vocab), embed_size, num_hiddens, num_layers, dropout)\n",
    "decoder = AttentionDecoder(\n",
    "    len(tgt_vocab), embed_size, num_hiddens, num_layers, dropout)\n",
    "model = EncoderDecoder(encoder, decoder)\n",
    "train(model, train_iter, lr, num_epochs, len(tgt_vocab))"
   ]
  },
  {
   "cell_type": "code",
   "execution_count": 121,
   "metadata": {
    "ExecuteTime": {
     "end_time": "2019-12-01T19:21:48.643911Z",
     "start_time": "2019-12-01T19:21:48.615104Z"
    }
   },
   "outputs": [
    {
     "name": "stdout",
     "output_type": "stream",
     "text": [
      "Go . => va !\n",
      "Wow ! => <unk> !\n",
      "I'm OK . => ça va .\n",
      "I won ! => j'ai gagné !\n"
     ]
    }
   ],
   "source": [
    "for sentence in ['Go .', 'Wow !', \"I'm OK .\", 'I won !']:\n",
    "    print(sentence + ' => ' + translate(\n",
    "        model, sentence, src_vocab, tgt_vocab, max_len))"
   ]
  },
  {
   "cell_type": "code",
   "execution_count": null,
   "metadata": {},
   "outputs": [],
   "source": []
  }
 ],
 "metadata": {
  "kernelspec": {
   "display_name": "Python 3",
   "language": "python",
   "name": "python3"
  },
  "language_info": {
   "codemirror_mode": {
    "name": "ipython",
    "version": 3
   },
   "file_extension": ".py",
   "mimetype": "text/x-python",
   "name": "python",
   "nbconvert_exporter": "python",
   "pygments_lexer": "ipython3",
   "version": "3.7.1"
  }
 },
 "nbformat": 4,
 "nbformat_minor": 2
}
