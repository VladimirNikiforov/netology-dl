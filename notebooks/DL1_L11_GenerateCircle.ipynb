{
  "nbformat": 4,
  "nbformat_minor": 0,
  "metadata": {
    "colab": {
      "name": "DL1_L11_GenerateCircle.ipynb",
      "provenance": [],
      "collapsed_sections": []
    },
    "kernelspec": {
      "name": "python3",
      "display_name": "Python 3"
    },
    "accelerator": "GPU",
    "widgets": {
      "application/vnd.jupyter.widget-state+json": {
        "8e47a7ad5eea4cc398046c2e61fe1cb7": {
          "model_module": "@jupyter-widgets/controls",
          "model_name": "HBoxModel",
          "state": {
            "_view_name": "HBoxView",
            "_dom_classes": [],
            "_model_name": "HBoxModel",
            "_view_module": "@jupyter-widgets/controls",
            "_model_module_version": "1.5.0",
            "_view_count": null,
            "_view_module_version": "1.5.0",
            "box_style": "",
            "layout": "IPY_MODEL_fbe06a8028994bd482acdbdfe1940ff8",
            "_model_module": "@jupyter-widgets/controls",
            "children": [
              "IPY_MODEL_3f4452470b4045ff9c651c223be5684c",
              "IPY_MODEL_2e6d657083114252af726ce300ba126e"
            ]
          }
        },
        "fbe06a8028994bd482acdbdfe1940ff8": {
          "model_module": "@jupyter-widgets/base",
          "model_name": "LayoutModel",
          "state": {
            "_view_name": "LayoutView",
            "grid_template_rows": null,
            "right": null,
            "justify_content": null,
            "_view_module": "@jupyter-widgets/base",
            "overflow": null,
            "_model_module_version": "1.2.0",
            "_view_count": null,
            "flex_flow": null,
            "width": null,
            "min_width": null,
            "border": null,
            "align_items": null,
            "bottom": null,
            "_model_module": "@jupyter-widgets/base",
            "top": null,
            "grid_column": null,
            "overflow_y": null,
            "overflow_x": null,
            "grid_auto_flow": null,
            "grid_area": null,
            "grid_template_columns": null,
            "flex": null,
            "_model_name": "LayoutModel",
            "justify_items": null,
            "grid_row": null,
            "max_height": null,
            "align_content": null,
            "visibility": null,
            "align_self": null,
            "height": null,
            "min_height": null,
            "padding": null,
            "grid_auto_rows": null,
            "grid_gap": null,
            "max_width": null,
            "order": null,
            "_view_module_version": "1.2.0",
            "grid_template_areas": null,
            "object_position": null,
            "object_fit": null,
            "grid_auto_columns": null,
            "margin": null,
            "display": null,
            "left": null
          }
        },
        "3f4452470b4045ff9c651c223be5684c": {
          "model_module": "@jupyter-widgets/controls",
          "model_name": "IntProgressModel",
          "state": {
            "_view_name": "ProgressView",
            "style": "IPY_MODEL_b0b2afd1242a482d815bdacc5632b01b",
            "_dom_classes": [],
            "description": "",
            "_model_name": "IntProgressModel",
            "bar_style": "success",
            "max": 10,
            "_view_module": "@jupyter-widgets/controls",
            "_model_module_version": "1.5.0",
            "value": 10,
            "_view_count": null,
            "_view_module_version": "1.5.0",
            "orientation": "horizontal",
            "min": 0,
            "description_tooltip": null,
            "_model_module": "@jupyter-widgets/controls",
            "layout": "IPY_MODEL_6012788a02d140e3a5d009c901448983"
          }
        },
        "2e6d657083114252af726ce300ba126e": {
          "model_module": "@jupyter-widgets/controls",
          "model_name": "HTMLModel",
          "state": {
            "_view_name": "HTMLView",
            "style": "IPY_MODEL_9ea65041ef4a488e8077c9c65cf9a73a",
            "_dom_classes": [],
            "description": "",
            "_model_name": "HTMLModel",
            "placeholder": "​",
            "_view_module": "@jupyter-widgets/controls",
            "_model_module_version": "1.5.0",
            "value": "100% 10/10 [37:58&lt;00:00, 226.22s/it]",
            "_view_count": null,
            "_view_module_version": "1.5.0",
            "description_tooltip": null,
            "_model_module": "@jupyter-widgets/controls",
            "layout": "IPY_MODEL_076f135356a34ad7bf58524fabadb720"
          }
        },
        "b0b2afd1242a482d815bdacc5632b01b": {
          "model_module": "@jupyter-widgets/controls",
          "model_name": "ProgressStyleModel",
          "state": {
            "_view_name": "StyleView",
            "_model_name": "ProgressStyleModel",
            "description_width": "",
            "_view_module": "@jupyter-widgets/base",
            "_model_module_version": "1.5.0",
            "_view_count": null,
            "_view_module_version": "1.2.0",
            "bar_color": null,
            "_model_module": "@jupyter-widgets/controls"
          }
        },
        "6012788a02d140e3a5d009c901448983": {
          "model_module": "@jupyter-widgets/base",
          "model_name": "LayoutModel",
          "state": {
            "_view_name": "LayoutView",
            "grid_template_rows": null,
            "right": null,
            "justify_content": null,
            "_view_module": "@jupyter-widgets/base",
            "overflow": null,
            "_model_module_version": "1.2.0",
            "_view_count": null,
            "flex_flow": null,
            "width": null,
            "min_width": null,
            "border": null,
            "align_items": null,
            "bottom": null,
            "_model_module": "@jupyter-widgets/base",
            "top": null,
            "grid_column": null,
            "overflow_y": null,
            "overflow_x": null,
            "grid_auto_flow": null,
            "grid_area": null,
            "grid_template_columns": null,
            "flex": null,
            "_model_name": "LayoutModel",
            "justify_items": null,
            "grid_row": null,
            "max_height": null,
            "align_content": null,
            "visibility": null,
            "align_self": null,
            "height": null,
            "min_height": null,
            "padding": null,
            "grid_auto_rows": null,
            "grid_gap": null,
            "max_width": null,
            "order": null,
            "_view_module_version": "1.2.0",
            "grid_template_areas": null,
            "object_position": null,
            "object_fit": null,
            "grid_auto_columns": null,
            "margin": null,
            "display": null,
            "left": null
          }
        },
        "9ea65041ef4a488e8077c9c65cf9a73a": {
          "model_module": "@jupyter-widgets/controls",
          "model_name": "DescriptionStyleModel",
          "state": {
            "_view_name": "StyleView",
            "_model_name": "DescriptionStyleModel",
            "description_width": "",
            "_view_module": "@jupyter-widgets/base",
            "_model_module_version": "1.5.0",
            "_view_count": null,
            "_view_module_version": "1.2.0",
            "_model_module": "@jupyter-widgets/controls"
          }
        },
        "076f135356a34ad7bf58524fabadb720": {
          "model_module": "@jupyter-widgets/base",
          "model_name": "LayoutModel",
          "state": {
            "_view_name": "LayoutView",
            "grid_template_rows": null,
            "right": null,
            "justify_content": null,
            "_view_module": "@jupyter-widgets/base",
            "overflow": null,
            "_model_module_version": "1.2.0",
            "_view_count": null,
            "flex_flow": null,
            "width": null,
            "min_width": null,
            "border": null,
            "align_items": null,
            "bottom": null,
            "_model_module": "@jupyter-widgets/base",
            "top": null,
            "grid_column": null,
            "overflow_y": null,
            "overflow_x": null,
            "grid_auto_flow": null,
            "grid_area": null,
            "grid_template_columns": null,
            "flex": null,
            "_model_name": "LayoutModel",
            "justify_items": null,
            "grid_row": null,
            "max_height": null,
            "align_content": null,
            "visibility": null,
            "align_self": null,
            "height": null,
            "min_height": null,
            "padding": null,
            "grid_auto_rows": null,
            "grid_gap": null,
            "max_width": null,
            "order": null,
            "_view_module_version": "1.2.0",
            "grid_template_areas": null,
            "object_position": null,
            "object_fit": null,
            "grid_auto_columns": null,
            "margin": null,
            "display": null,
            "left": null
          }
        },
        "ae85dc0284774e39b1f0f21537e26ab2": {
          "model_module": "@jupyter-widgets/controls",
          "model_name": "HBoxModel",
          "state": {
            "_view_name": "HBoxView",
            "_dom_classes": [],
            "_model_name": "HBoxModel",
            "_view_module": "@jupyter-widgets/controls",
            "_model_module_version": "1.5.0",
            "_view_count": null,
            "_view_module_version": "1.5.0",
            "box_style": "",
            "layout": "IPY_MODEL_cf52e7516f044c9cbe389dd59877d155",
            "_model_module": "@jupyter-widgets/controls",
            "children": [
              "IPY_MODEL_198ee65790a446fbacb8aa454612245a",
              "IPY_MODEL_7245fae134c044ceb3e8315621ae3f61"
            ]
          }
        },
        "cf52e7516f044c9cbe389dd59877d155": {
          "model_module": "@jupyter-widgets/base",
          "model_name": "LayoutModel",
          "state": {
            "_view_name": "LayoutView",
            "grid_template_rows": null,
            "right": null,
            "justify_content": null,
            "_view_module": "@jupyter-widgets/base",
            "overflow": null,
            "_model_module_version": "1.2.0",
            "_view_count": null,
            "flex_flow": null,
            "width": null,
            "min_width": null,
            "border": null,
            "align_items": null,
            "bottom": null,
            "_model_module": "@jupyter-widgets/base",
            "top": null,
            "grid_column": null,
            "overflow_y": null,
            "overflow_x": null,
            "grid_auto_flow": null,
            "grid_area": null,
            "grid_template_columns": null,
            "flex": null,
            "_model_name": "LayoutModel",
            "justify_items": null,
            "grid_row": null,
            "max_height": null,
            "align_content": null,
            "visibility": null,
            "align_self": null,
            "height": null,
            "min_height": null,
            "padding": null,
            "grid_auto_rows": null,
            "grid_gap": null,
            "max_width": null,
            "order": null,
            "_view_module_version": "1.2.0",
            "grid_template_areas": null,
            "object_position": null,
            "object_fit": null,
            "grid_auto_columns": null,
            "margin": null,
            "display": null,
            "left": null
          }
        },
        "198ee65790a446fbacb8aa454612245a": {
          "model_module": "@jupyter-widgets/controls",
          "model_name": "IntProgressModel",
          "state": {
            "_view_name": "ProgressView",
            "style": "IPY_MODEL_263444fe9e334bb694ff4568b71c2c5c",
            "_dom_classes": [],
            "description": "",
            "_model_name": "IntProgressModel",
            "bar_style": "success",
            "max": 1,
            "_view_module": "@jupyter-widgets/controls",
            "_model_module_version": "1.5.0",
            "value": 1,
            "_view_count": null,
            "_view_module_version": "1.5.0",
            "orientation": "horizontal",
            "min": 0,
            "description_tooltip": null,
            "_model_module": "@jupyter-widgets/controls",
            "layout": "IPY_MODEL_b3f728b4cde04f9a9a7a1aaf1c2e64a5"
          }
        },
        "7245fae134c044ceb3e8315621ae3f61": {
          "model_module": "@jupyter-widgets/controls",
          "model_name": "HTMLModel",
          "state": {
            "_view_name": "HTMLView",
            "style": "IPY_MODEL_8ec945e85eb64d5a839772940fa3850e",
            "_dom_classes": [],
            "description": "",
            "_model_name": "HTMLModel",
            "placeholder": "​",
            "_view_module": "@jupyter-widgets/controls",
            "_model_module_version": "1.5.0",
            "value": "100it [03:52, 12.28s/it]",
            "_view_count": null,
            "_view_module_version": "1.5.0",
            "description_tooltip": null,
            "_model_module": "@jupyter-widgets/controls",
            "layout": "IPY_MODEL_21cdd017e9984a85a69f6e6989433eb9"
          }
        },
        "263444fe9e334bb694ff4568b71c2c5c": {
          "model_module": "@jupyter-widgets/controls",
          "model_name": "ProgressStyleModel",
          "state": {
            "_view_name": "StyleView",
            "_model_name": "ProgressStyleModel",
            "description_width": "",
            "_view_module": "@jupyter-widgets/base",
            "_model_module_version": "1.5.0",
            "_view_count": null,
            "_view_module_version": "1.2.0",
            "bar_color": null,
            "_model_module": "@jupyter-widgets/controls"
          }
        },
        "b3f728b4cde04f9a9a7a1aaf1c2e64a5": {
          "model_module": "@jupyter-widgets/base",
          "model_name": "LayoutModel",
          "state": {
            "_view_name": "LayoutView",
            "grid_template_rows": null,
            "right": null,
            "justify_content": null,
            "_view_module": "@jupyter-widgets/base",
            "overflow": null,
            "_model_module_version": "1.2.0",
            "_view_count": null,
            "flex_flow": null,
            "width": null,
            "min_width": null,
            "border": null,
            "align_items": null,
            "bottom": null,
            "_model_module": "@jupyter-widgets/base",
            "top": null,
            "grid_column": null,
            "overflow_y": null,
            "overflow_x": null,
            "grid_auto_flow": null,
            "grid_area": null,
            "grid_template_columns": null,
            "flex": null,
            "_model_name": "LayoutModel",
            "justify_items": null,
            "grid_row": null,
            "max_height": null,
            "align_content": null,
            "visibility": null,
            "align_self": null,
            "height": null,
            "min_height": null,
            "padding": null,
            "grid_auto_rows": null,
            "grid_gap": null,
            "max_width": null,
            "order": null,
            "_view_module_version": "1.2.0",
            "grid_template_areas": null,
            "object_position": null,
            "object_fit": null,
            "grid_auto_columns": null,
            "margin": null,
            "display": null,
            "left": null
          }
        },
        "8ec945e85eb64d5a839772940fa3850e": {
          "model_module": "@jupyter-widgets/controls",
          "model_name": "DescriptionStyleModel",
          "state": {
            "_view_name": "StyleView",
            "_model_name": "DescriptionStyleModel",
            "description_width": "",
            "_view_module": "@jupyter-widgets/base",
            "_model_module_version": "1.5.0",
            "_view_count": null,
            "_view_module_version": "1.2.0",
            "_model_module": "@jupyter-widgets/controls"
          }
        },
        "21cdd017e9984a85a69f6e6989433eb9": {
          "model_module": "@jupyter-widgets/base",
          "model_name": "LayoutModel",
          "state": {
            "_view_name": "LayoutView",
            "grid_template_rows": null,
            "right": null,
            "justify_content": null,
            "_view_module": "@jupyter-widgets/base",
            "overflow": null,
            "_model_module_version": "1.2.0",
            "_view_count": null,
            "flex_flow": null,
            "width": null,
            "min_width": null,
            "border": null,
            "align_items": null,
            "bottom": null,
            "_model_module": "@jupyter-widgets/base",
            "top": null,
            "grid_column": null,
            "overflow_y": null,
            "overflow_x": null,
            "grid_auto_flow": null,
            "grid_area": null,
            "grid_template_columns": null,
            "flex": null,
            "_model_name": "LayoutModel",
            "justify_items": null,
            "grid_row": null,
            "max_height": null,
            "align_content": null,
            "visibility": null,
            "align_self": null,
            "height": null,
            "min_height": null,
            "padding": null,
            "grid_auto_rows": null,
            "grid_gap": null,
            "max_width": null,
            "order": null,
            "_view_module_version": "1.2.0",
            "grid_template_areas": null,
            "object_position": null,
            "object_fit": null,
            "grid_auto_columns": null,
            "margin": null,
            "display": null,
            "left": null
          }
        },
        "08b118db998d46e4af6467b88142a1aa": {
          "model_module": "@jupyter-widgets/controls",
          "model_name": "HBoxModel",
          "state": {
            "_view_name": "HBoxView",
            "_dom_classes": [],
            "_model_name": "HBoxModel",
            "_view_module": "@jupyter-widgets/controls",
            "_model_module_version": "1.5.0",
            "_view_count": null,
            "_view_module_version": "1.5.0",
            "box_style": "",
            "layout": "IPY_MODEL_916011ee605f41d082f9530c58cf5035",
            "_model_module": "@jupyter-widgets/controls",
            "children": [
              "IPY_MODEL_825977a16d5249a79263487b4e6f3d91",
              "IPY_MODEL_341f9db7fbe44abf8e9324559830486a"
            ]
          }
        },
        "916011ee605f41d082f9530c58cf5035": {
          "model_module": "@jupyter-widgets/base",
          "model_name": "LayoutModel",
          "state": {
            "_view_name": "LayoutView",
            "grid_template_rows": null,
            "right": null,
            "justify_content": null,
            "_view_module": "@jupyter-widgets/base",
            "overflow": null,
            "_model_module_version": "1.2.0",
            "_view_count": null,
            "flex_flow": null,
            "width": null,
            "min_width": null,
            "border": null,
            "align_items": null,
            "bottom": null,
            "_model_module": "@jupyter-widgets/base",
            "top": null,
            "grid_column": null,
            "overflow_y": null,
            "overflow_x": null,
            "grid_auto_flow": null,
            "grid_area": null,
            "grid_template_columns": null,
            "flex": null,
            "_model_name": "LayoutModel",
            "justify_items": null,
            "grid_row": null,
            "max_height": null,
            "align_content": null,
            "visibility": null,
            "align_self": null,
            "height": null,
            "min_height": null,
            "padding": null,
            "grid_auto_rows": null,
            "grid_gap": null,
            "max_width": null,
            "order": null,
            "_view_module_version": "1.2.0",
            "grid_template_areas": null,
            "object_position": null,
            "object_fit": null,
            "grid_auto_columns": null,
            "margin": null,
            "display": null,
            "left": null
          }
        },
        "825977a16d5249a79263487b4e6f3d91": {
          "model_module": "@jupyter-widgets/controls",
          "model_name": "IntProgressModel",
          "state": {
            "_view_name": "ProgressView",
            "style": "IPY_MODEL_2416aa0bd50d4d77a47360a6c63e281d",
            "_dom_classes": [],
            "description": "",
            "_model_name": "IntProgressModel",
            "bar_style": "success",
            "max": 1,
            "_view_module": "@jupyter-widgets/controls",
            "_model_module_version": "1.5.0",
            "value": 1,
            "_view_count": null,
            "_view_module_version": "1.5.0",
            "orientation": "horizontal",
            "min": 0,
            "description_tooltip": null,
            "_model_module": "@jupyter-widgets/controls",
            "layout": "IPY_MODEL_ddbb56781ae74139930cfc9d4f59cf23"
          }
        },
        "341f9db7fbe44abf8e9324559830486a": {
          "model_module": "@jupyter-widgets/controls",
          "model_name": "HTMLModel",
          "state": {
            "_view_name": "HTMLView",
            "style": "IPY_MODEL_443ccc0cf4b847d48064462ea9118db7",
            "_dom_classes": [],
            "description": "",
            "_model_name": "HTMLModel",
            "placeholder": "​",
            "_view_module": "@jupyter-widgets/controls",
            "_model_module_version": "1.5.0",
            "value": "100it [03:52,  6.32s/it]",
            "_view_count": null,
            "_view_module_version": "1.5.0",
            "description_tooltip": null,
            "_model_module": "@jupyter-widgets/controls",
            "layout": "IPY_MODEL_a545f768290546e78ebaeaa0cd99c061"
          }
        },
        "2416aa0bd50d4d77a47360a6c63e281d": {
          "model_module": "@jupyter-widgets/controls",
          "model_name": "ProgressStyleModel",
          "state": {
            "_view_name": "StyleView",
            "_model_name": "ProgressStyleModel",
            "description_width": "",
            "_view_module": "@jupyter-widgets/base",
            "_model_module_version": "1.5.0",
            "_view_count": null,
            "_view_module_version": "1.2.0",
            "bar_color": null,
            "_model_module": "@jupyter-widgets/controls"
          }
        },
        "ddbb56781ae74139930cfc9d4f59cf23": {
          "model_module": "@jupyter-widgets/base",
          "model_name": "LayoutModel",
          "state": {
            "_view_name": "LayoutView",
            "grid_template_rows": null,
            "right": null,
            "justify_content": null,
            "_view_module": "@jupyter-widgets/base",
            "overflow": null,
            "_model_module_version": "1.2.0",
            "_view_count": null,
            "flex_flow": null,
            "width": null,
            "min_width": null,
            "border": null,
            "align_items": null,
            "bottom": null,
            "_model_module": "@jupyter-widgets/base",
            "top": null,
            "grid_column": null,
            "overflow_y": null,
            "overflow_x": null,
            "grid_auto_flow": null,
            "grid_area": null,
            "grid_template_columns": null,
            "flex": null,
            "_model_name": "LayoutModel",
            "justify_items": null,
            "grid_row": null,
            "max_height": null,
            "align_content": null,
            "visibility": null,
            "align_self": null,
            "height": null,
            "min_height": null,
            "padding": null,
            "grid_auto_rows": null,
            "grid_gap": null,
            "max_width": null,
            "order": null,
            "_view_module_version": "1.2.0",
            "grid_template_areas": null,
            "object_position": null,
            "object_fit": null,
            "grid_auto_columns": null,
            "margin": null,
            "display": null,
            "left": null
          }
        },
        "443ccc0cf4b847d48064462ea9118db7": {
          "model_module": "@jupyter-widgets/controls",
          "model_name": "DescriptionStyleModel",
          "state": {
            "_view_name": "StyleView",
            "_model_name": "DescriptionStyleModel",
            "description_width": "",
            "_view_module": "@jupyter-widgets/base",
            "_model_module_version": "1.5.0",
            "_view_count": null,
            "_view_module_version": "1.2.0",
            "_model_module": "@jupyter-widgets/controls"
          }
        },
        "a545f768290546e78ebaeaa0cd99c061": {
          "model_module": "@jupyter-widgets/base",
          "model_name": "LayoutModel",
          "state": {
            "_view_name": "LayoutView",
            "grid_template_rows": null,
            "right": null,
            "justify_content": null,
            "_view_module": "@jupyter-widgets/base",
            "overflow": null,
            "_model_module_version": "1.2.0",
            "_view_count": null,
            "flex_flow": null,
            "width": null,
            "min_width": null,
            "border": null,
            "align_items": null,
            "bottom": null,
            "_model_module": "@jupyter-widgets/base",
            "top": null,
            "grid_column": null,
            "overflow_y": null,
            "overflow_x": null,
            "grid_auto_flow": null,
            "grid_area": null,
            "grid_template_columns": null,
            "flex": null,
            "_model_name": "LayoutModel",
            "justify_items": null,
            "grid_row": null,
            "max_height": null,
            "align_content": null,
            "visibility": null,
            "align_self": null,
            "height": null,
            "min_height": null,
            "padding": null,
            "grid_auto_rows": null,
            "grid_gap": null,
            "max_width": null,
            "order": null,
            "_view_module_version": "1.2.0",
            "grid_template_areas": null,
            "object_position": null,
            "object_fit": null,
            "grid_auto_columns": null,
            "margin": null,
            "display": null,
            "left": null
          }
        },
        "f907db53e14545dfa229f58c8b2b52d8": {
          "model_module": "@jupyter-widgets/controls",
          "model_name": "HBoxModel",
          "state": {
            "_view_name": "HBoxView",
            "_dom_classes": [],
            "_model_name": "HBoxModel",
            "_view_module": "@jupyter-widgets/controls",
            "_model_module_version": "1.5.0",
            "_view_count": null,
            "_view_module_version": "1.5.0",
            "box_style": "",
            "layout": "IPY_MODEL_d2a33dd7409e496abb84ad2ff065b329",
            "_model_module": "@jupyter-widgets/controls",
            "children": [
              "IPY_MODEL_90cdf37647484751b163ef5edd9237a0",
              "IPY_MODEL_69dbf5bb0b814259a5d9a425e51b00a7"
            ]
          }
        },
        "d2a33dd7409e496abb84ad2ff065b329": {
          "model_module": "@jupyter-widgets/base",
          "model_name": "LayoutModel",
          "state": {
            "_view_name": "LayoutView",
            "grid_template_rows": null,
            "right": null,
            "justify_content": null,
            "_view_module": "@jupyter-widgets/base",
            "overflow": null,
            "_model_module_version": "1.2.0",
            "_view_count": null,
            "flex_flow": null,
            "width": null,
            "min_width": null,
            "border": null,
            "align_items": null,
            "bottom": null,
            "_model_module": "@jupyter-widgets/base",
            "top": null,
            "grid_column": null,
            "overflow_y": null,
            "overflow_x": null,
            "grid_auto_flow": null,
            "grid_area": null,
            "grid_template_columns": null,
            "flex": null,
            "_model_name": "LayoutModel",
            "justify_items": null,
            "grid_row": null,
            "max_height": null,
            "align_content": null,
            "visibility": null,
            "align_self": null,
            "height": null,
            "min_height": null,
            "padding": null,
            "grid_auto_rows": null,
            "grid_gap": null,
            "max_width": null,
            "order": null,
            "_view_module_version": "1.2.0",
            "grid_template_areas": null,
            "object_position": null,
            "object_fit": null,
            "grid_auto_columns": null,
            "margin": null,
            "display": null,
            "left": null
          }
        },
        "90cdf37647484751b163ef5edd9237a0": {
          "model_module": "@jupyter-widgets/controls",
          "model_name": "IntProgressModel",
          "state": {
            "_view_name": "ProgressView",
            "style": "IPY_MODEL_cb7badf95f5641d58c31d00d2283595d",
            "_dom_classes": [],
            "description": "",
            "_model_name": "IntProgressModel",
            "bar_style": "success",
            "max": 1,
            "_view_module": "@jupyter-widgets/controls",
            "_model_module_version": "1.5.0",
            "value": 1,
            "_view_count": null,
            "_view_module_version": "1.5.0",
            "orientation": "horizontal",
            "min": 0,
            "description_tooltip": null,
            "_model_module": "@jupyter-widgets/controls",
            "layout": "IPY_MODEL_6adfeae6757542f2943c64d2afe88fb9"
          }
        },
        "69dbf5bb0b814259a5d9a425e51b00a7": {
          "model_module": "@jupyter-widgets/controls",
          "model_name": "HTMLModel",
          "state": {
            "_view_name": "HTMLView",
            "style": "IPY_MODEL_b2e7d2698b004005b40059546bc48a3c",
            "_dom_classes": [],
            "description": "",
            "_model_name": "HTMLModel",
            "placeholder": "​",
            "_view_module": "@jupyter-widgets/controls",
            "_model_module_version": "1.5.0",
            "value": "100it [03:50,  4.78s/it]",
            "_view_count": null,
            "_view_module_version": "1.5.0",
            "description_tooltip": null,
            "_model_module": "@jupyter-widgets/controls",
            "layout": "IPY_MODEL_2e90c16b2e0246798152bd3f1aa971b7"
          }
        },
        "cb7badf95f5641d58c31d00d2283595d": {
          "model_module": "@jupyter-widgets/controls",
          "model_name": "ProgressStyleModel",
          "state": {
            "_view_name": "StyleView",
            "_model_name": "ProgressStyleModel",
            "description_width": "",
            "_view_module": "@jupyter-widgets/base",
            "_model_module_version": "1.5.0",
            "_view_count": null,
            "_view_module_version": "1.2.0",
            "bar_color": null,
            "_model_module": "@jupyter-widgets/controls"
          }
        },
        "6adfeae6757542f2943c64d2afe88fb9": {
          "model_module": "@jupyter-widgets/base",
          "model_name": "LayoutModel",
          "state": {
            "_view_name": "LayoutView",
            "grid_template_rows": null,
            "right": null,
            "justify_content": null,
            "_view_module": "@jupyter-widgets/base",
            "overflow": null,
            "_model_module_version": "1.2.0",
            "_view_count": null,
            "flex_flow": null,
            "width": null,
            "min_width": null,
            "border": null,
            "align_items": null,
            "bottom": null,
            "_model_module": "@jupyter-widgets/base",
            "top": null,
            "grid_column": null,
            "overflow_y": null,
            "overflow_x": null,
            "grid_auto_flow": null,
            "grid_area": null,
            "grid_template_columns": null,
            "flex": null,
            "_model_name": "LayoutModel",
            "justify_items": null,
            "grid_row": null,
            "max_height": null,
            "align_content": null,
            "visibility": null,
            "align_self": null,
            "height": null,
            "min_height": null,
            "padding": null,
            "grid_auto_rows": null,
            "grid_gap": null,
            "max_width": null,
            "order": null,
            "_view_module_version": "1.2.0",
            "grid_template_areas": null,
            "object_position": null,
            "object_fit": null,
            "grid_auto_columns": null,
            "margin": null,
            "display": null,
            "left": null
          }
        },
        "b2e7d2698b004005b40059546bc48a3c": {
          "model_module": "@jupyter-widgets/controls",
          "model_name": "DescriptionStyleModel",
          "state": {
            "_view_name": "StyleView",
            "_model_name": "DescriptionStyleModel",
            "description_width": "",
            "_view_module": "@jupyter-widgets/base",
            "_model_module_version": "1.5.0",
            "_view_count": null,
            "_view_module_version": "1.2.0",
            "_model_module": "@jupyter-widgets/controls"
          }
        },
        "2e90c16b2e0246798152bd3f1aa971b7": {
          "model_module": "@jupyter-widgets/base",
          "model_name": "LayoutModel",
          "state": {
            "_view_name": "LayoutView",
            "grid_template_rows": null,
            "right": null,
            "justify_content": null,
            "_view_module": "@jupyter-widgets/base",
            "overflow": null,
            "_model_module_version": "1.2.0",
            "_view_count": null,
            "flex_flow": null,
            "width": null,
            "min_width": null,
            "border": null,
            "align_items": null,
            "bottom": null,
            "_model_module": "@jupyter-widgets/base",
            "top": null,
            "grid_column": null,
            "overflow_y": null,
            "overflow_x": null,
            "grid_auto_flow": null,
            "grid_area": null,
            "grid_template_columns": null,
            "flex": null,
            "_model_name": "LayoutModel",
            "justify_items": null,
            "grid_row": null,
            "max_height": null,
            "align_content": null,
            "visibility": null,
            "align_self": null,
            "height": null,
            "min_height": null,
            "padding": null,
            "grid_auto_rows": null,
            "grid_gap": null,
            "max_width": null,
            "order": null,
            "_view_module_version": "1.2.0",
            "grid_template_areas": null,
            "object_position": null,
            "object_fit": null,
            "grid_auto_columns": null,
            "margin": null,
            "display": null,
            "left": null
          }
        },
        "e9c30ea2889346749fb2cfa920252fad": {
          "model_module": "@jupyter-widgets/controls",
          "model_name": "HBoxModel",
          "state": {
            "_view_name": "HBoxView",
            "_dom_classes": [],
            "_model_name": "HBoxModel",
            "_view_module": "@jupyter-widgets/controls",
            "_model_module_version": "1.5.0",
            "_view_count": null,
            "_view_module_version": "1.5.0",
            "box_style": "",
            "layout": "IPY_MODEL_8758849424d348998e2fb626087c0808",
            "_model_module": "@jupyter-widgets/controls",
            "children": [
              "IPY_MODEL_723a5694798c4cbbaf9f15a900387e7b",
              "IPY_MODEL_cd37f49c50284b8cbb221f5f917f6ca8"
            ]
          }
        },
        "8758849424d348998e2fb626087c0808": {
          "model_module": "@jupyter-widgets/base",
          "model_name": "LayoutModel",
          "state": {
            "_view_name": "LayoutView",
            "grid_template_rows": null,
            "right": null,
            "justify_content": null,
            "_view_module": "@jupyter-widgets/base",
            "overflow": null,
            "_model_module_version": "1.2.0",
            "_view_count": null,
            "flex_flow": null,
            "width": null,
            "min_width": null,
            "border": null,
            "align_items": null,
            "bottom": null,
            "_model_module": "@jupyter-widgets/base",
            "top": null,
            "grid_column": null,
            "overflow_y": null,
            "overflow_x": null,
            "grid_auto_flow": null,
            "grid_area": null,
            "grid_template_columns": null,
            "flex": null,
            "_model_name": "LayoutModel",
            "justify_items": null,
            "grid_row": null,
            "max_height": null,
            "align_content": null,
            "visibility": null,
            "align_self": null,
            "height": null,
            "min_height": null,
            "padding": null,
            "grid_auto_rows": null,
            "grid_gap": null,
            "max_width": null,
            "order": null,
            "_view_module_version": "1.2.0",
            "grid_template_areas": null,
            "object_position": null,
            "object_fit": null,
            "grid_auto_columns": null,
            "margin": null,
            "display": null,
            "left": null
          }
        },
        "723a5694798c4cbbaf9f15a900387e7b": {
          "model_module": "@jupyter-widgets/controls",
          "model_name": "IntProgressModel",
          "state": {
            "_view_name": "ProgressView",
            "style": "IPY_MODEL_2497bbd8d3a1471c8095a0c0343b119d",
            "_dom_classes": [],
            "description": "",
            "_model_name": "IntProgressModel",
            "bar_style": "success",
            "max": 1,
            "_view_module": "@jupyter-widgets/controls",
            "_model_module_version": "1.5.0",
            "value": 1,
            "_view_count": null,
            "_view_module_version": "1.5.0",
            "orientation": "horizontal",
            "min": 0,
            "description_tooltip": null,
            "_model_module": "@jupyter-widgets/controls",
            "layout": "IPY_MODEL_54b5e056bcbc441787c697cfd81e2c9e"
          }
        },
        "cd37f49c50284b8cbb221f5f917f6ca8": {
          "model_module": "@jupyter-widgets/controls",
          "model_name": "HTMLModel",
          "state": {
            "_view_name": "HTMLView",
            "style": "IPY_MODEL_1f463f0a0899456fa8f93cdad9c2eccf",
            "_dom_classes": [],
            "description": "",
            "_model_name": "HTMLModel",
            "placeholder": "​",
            "_view_module": "@jupyter-widgets/controls",
            "_model_module_version": "1.5.0",
            "value": "100it [03:45,  4.12s/it]",
            "_view_count": null,
            "_view_module_version": "1.5.0",
            "description_tooltip": null,
            "_model_module": "@jupyter-widgets/controls",
            "layout": "IPY_MODEL_7a2ee4168b5647b4b1d171c4f6eef753"
          }
        },
        "2497bbd8d3a1471c8095a0c0343b119d": {
          "model_module": "@jupyter-widgets/controls",
          "model_name": "ProgressStyleModel",
          "state": {
            "_view_name": "StyleView",
            "_model_name": "ProgressStyleModel",
            "description_width": "",
            "_view_module": "@jupyter-widgets/base",
            "_model_module_version": "1.5.0",
            "_view_count": null,
            "_view_module_version": "1.2.0",
            "bar_color": null,
            "_model_module": "@jupyter-widgets/controls"
          }
        },
        "54b5e056bcbc441787c697cfd81e2c9e": {
          "model_module": "@jupyter-widgets/base",
          "model_name": "LayoutModel",
          "state": {
            "_view_name": "LayoutView",
            "grid_template_rows": null,
            "right": null,
            "justify_content": null,
            "_view_module": "@jupyter-widgets/base",
            "overflow": null,
            "_model_module_version": "1.2.0",
            "_view_count": null,
            "flex_flow": null,
            "width": null,
            "min_width": null,
            "border": null,
            "align_items": null,
            "bottom": null,
            "_model_module": "@jupyter-widgets/base",
            "top": null,
            "grid_column": null,
            "overflow_y": null,
            "overflow_x": null,
            "grid_auto_flow": null,
            "grid_area": null,
            "grid_template_columns": null,
            "flex": null,
            "_model_name": "LayoutModel",
            "justify_items": null,
            "grid_row": null,
            "max_height": null,
            "align_content": null,
            "visibility": null,
            "align_self": null,
            "height": null,
            "min_height": null,
            "padding": null,
            "grid_auto_rows": null,
            "grid_gap": null,
            "max_width": null,
            "order": null,
            "_view_module_version": "1.2.0",
            "grid_template_areas": null,
            "object_position": null,
            "object_fit": null,
            "grid_auto_columns": null,
            "margin": null,
            "display": null,
            "left": null
          }
        },
        "1f463f0a0899456fa8f93cdad9c2eccf": {
          "model_module": "@jupyter-widgets/controls",
          "model_name": "DescriptionStyleModel",
          "state": {
            "_view_name": "StyleView",
            "_model_name": "DescriptionStyleModel",
            "description_width": "",
            "_view_module": "@jupyter-widgets/base",
            "_model_module_version": "1.5.0",
            "_view_count": null,
            "_view_module_version": "1.2.0",
            "_model_module": "@jupyter-widgets/controls"
          }
        },
        "7a2ee4168b5647b4b1d171c4f6eef753": {
          "model_module": "@jupyter-widgets/base",
          "model_name": "LayoutModel",
          "state": {
            "_view_name": "LayoutView",
            "grid_template_rows": null,
            "right": null,
            "justify_content": null,
            "_view_module": "@jupyter-widgets/base",
            "overflow": null,
            "_model_module_version": "1.2.0",
            "_view_count": null,
            "flex_flow": null,
            "width": null,
            "min_width": null,
            "border": null,
            "align_items": null,
            "bottom": null,
            "_model_module": "@jupyter-widgets/base",
            "top": null,
            "grid_column": null,
            "overflow_y": null,
            "overflow_x": null,
            "grid_auto_flow": null,
            "grid_area": null,
            "grid_template_columns": null,
            "flex": null,
            "_model_name": "LayoutModel",
            "justify_items": null,
            "grid_row": null,
            "max_height": null,
            "align_content": null,
            "visibility": null,
            "align_self": null,
            "height": null,
            "min_height": null,
            "padding": null,
            "grid_auto_rows": null,
            "grid_gap": null,
            "max_width": null,
            "order": null,
            "_view_module_version": "1.2.0",
            "grid_template_areas": null,
            "object_position": null,
            "object_fit": null,
            "grid_auto_columns": null,
            "margin": null,
            "display": null,
            "left": null
          }
        },
        "6686b9fd1fe84744aae5f7546fa9c431": {
          "model_module": "@jupyter-widgets/controls",
          "model_name": "HBoxModel",
          "state": {
            "_view_name": "HBoxView",
            "_dom_classes": [],
            "_model_name": "HBoxModel",
            "_view_module": "@jupyter-widgets/controls",
            "_model_module_version": "1.5.0",
            "_view_count": null,
            "_view_module_version": "1.5.0",
            "box_style": "",
            "layout": "IPY_MODEL_cc3741a3dc214aee9c6818d56d98d4d8",
            "_model_module": "@jupyter-widgets/controls",
            "children": [
              "IPY_MODEL_07d9c4b6533e49a1bf80d55b57fd3d5d",
              "IPY_MODEL_a5b12283796544799466b2a16944aac1"
            ]
          }
        },
        "cc3741a3dc214aee9c6818d56d98d4d8": {
          "model_module": "@jupyter-widgets/base",
          "model_name": "LayoutModel",
          "state": {
            "_view_name": "LayoutView",
            "grid_template_rows": null,
            "right": null,
            "justify_content": null,
            "_view_module": "@jupyter-widgets/base",
            "overflow": null,
            "_model_module_version": "1.2.0",
            "_view_count": null,
            "flex_flow": null,
            "width": null,
            "min_width": null,
            "border": null,
            "align_items": null,
            "bottom": null,
            "_model_module": "@jupyter-widgets/base",
            "top": null,
            "grid_column": null,
            "overflow_y": null,
            "overflow_x": null,
            "grid_auto_flow": null,
            "grid_area": null,
            "grid_template_columns": null,
            "flex": null,
            "_model_name": "LayoutModel",
            "justify_items": null,
            "grid_row": null,
            "max_height": null,
            "align_content": null,
            "visibility": null,
            "align_self": null,
            "height": null,
            "min_height": null,
            "padding": null,
            "grid_auto_rows": null,
            "grid_gap": null,
            "max_width": null,
            "order": null,
            "_view_module_version": "1.2.0",
            "grid_template_areas": null,
            "object_position": null,
            "object_fit": null,
            "grid_auto_columns": null,
            "margin": null,
            "display": null,
            "left": null
          }
        },
        "07d9c4b6533e49a1bf80d55b57fd3d5d": {
          "model_module": "@jupyter-widgets/controls",
          "model_name": "IntProgressModel",
          "state": {
            "_view_name": "ProgressView",
            "style": "IPY_MODEL_ae05a53e2406437a83fba702612debcb",
            "_dom_classes": [],
            "description": "",
            "_model_name": "IntProgressModel",
            "bar_style": "success",
            "max": 1,
            "_view_module": "@jupyter-widgets/controls",
            "_model_module_version": "1.5.0",
            "value": 1,
            "_view_count": null,
            "_view_module_version": "1.5.0",
            "orientation": "horizontal",
            "min": 0,
            "description_tooltip": null,
            "_model_module": "@jupyter-widgets/controls",
            "layout": "IPY_MODEL_470bb6d681f847ca9956132aa38f9ece"
          }
        },
        "a5b12283796544799466b2a16944aac1": {
          "model_module": "@jupyter-widgets/controls",
          "model_name": "HTMLModel",
          "state": {
            "_view_name": "HTMLView",
            "style": "IPY_MODEL_5b4f5794e7a54f8c90b2c1911e24092c",
            "_dom_classes": [],
            "description": "",
            "_model_name": "HTMLModel",
            "placeholder": "​",
            "_view_module": "@jupyter-widgets/controls",
            "_model_module_version": "1.5.0",
            "value": "100it [03:44,  4.35s/it]",
            "_view_count": null,
            "_view_module_version": "1.5.0",
            "description_tooltip": null,
            "_model_module": "@jupyter-widgets/controls",
            "layout": "IPY_MODEL_7bd01fe00fd5460398e1ef0cc5c4140c"
          }
        },
        "ae05a53e2406437a83fba702612debcb": {
          "model_module": "@jupyter-widgets/controls",
          "model_name": "ProgressStyleModel",
          "state": {
            "_view_name": "StyleView",
            "_model_name": "ProgressStyleModel",
            "description_width": "",
            "_view_module": "@jupyter-widgets/base",
            "_model_module_version": "1.5.0",
            "_view_count": null,
            "_view_module_version": "1.2.0",
            "bar_color": null,
            "_model_module": "@jupyter-widgets/controls"
          }
        },
        "470bb6d681f847ca9956132aa38f9ece": {
          "model_module": "@jupyter-widgets/base",
          "model_name": "LayoutModel",
          "state": {
            "_view_name": "LayoutView",
            "grid_template_rows": null,
            "right": null,
            "justify_content": null,
            "_view_module": "@jupyter-widgets/base",
            "overflow": null,
            "_model_module_version": "1.2.0",
            "_view_count": null,
            "flex_flow": null,
            "width": null,
            "min_width": null,
            "border": null,
            "align_items": null,
            "bottom": null,
            "_model_module": "@jupyter-widgets/base",
            "top": null,
            "grid_column": null,
            "overflow_y": null,
            "overflow_x": null,
            "grid_auto_flow": null,
            "grid_area": null,
            "grid_template_columns": null,
            "flex": null,
            "_model_name": "LayoutModel",
            "justify_items": null,
            "grid_row": null,
            "max_height": null,
            "align_content": null,
            "visibility": null,
            "align_self": null,
            "height": null,
            "min_height": null,
            "padding": null,
            "grid_auto_rows": null,
            "grid_gap": null,
            "max_width": null,
            "order": null,
            "_view_module_version": "1.2.0",
            "grid_template_areas": null,
            "object_position": null,
            "object_fit": null,
            "grid_auto_columns": null,
            "margin": null,
            "display": null,
            "left": null
          }
        },
        "5b4f5794e7a54f8c90b2c1911e24092c": {
          "model_module": "@jupyter-widgets/controls",
          "model_name": "DescriptionStyleModel",
          "state": {
            "_view_name": "StyleView",
            "_model_name": "DescriptionStyleModel",
            "description_width": "",
            "_view_module": "@jupyter-widgets/base",
            "_model_module_version": "1.5.0",
            "_view_count": null,
            "_view_module_version": "1.2.0",
            "_model_module": "@jupyter-widgets/controls"
          }
        },
        "7bd01fe00fd5460398e1ef0cc5c4140c": {
          "model_module": "@jupyter-widgets/base",
          "model_name": "LayoutModel",
          "state": {
            "_view_name": "LayoutView",
            "grid_template_rows": null,
            "right": null,
            "justify_content": null,
            "_view_module": "@jupyter-widgets/base",
            "overflow": null,
            "_model_module_version": "1.2.0",
            "_view_count": null,
            "flex_flow": null,
            "width": null,
            "min_width": null,
            "border": null,
            "align_items": null,
            "bottom": null,
            "_model_module": "@jupyter-widgets/base",
            "top": null,
            "grid_column": null,
            "overflow_y": null,
            "overflow_x": null,
            "grid_auto_flow": null,
            "grid_area": null,
            "grid_template_columns": null,
            "flex": null,
            "_model_name": "LayoutModel",
            "justify_items": null,
            "grid_row": null,
            "max_height": null,
            "align_content": null,
            "visibility": null,
            "align_self": null,
            "height": null,
            "min_height": null,
            "padding": null,
            "grid_auto_rows": null,
            "grid_gap": null,
            "max_width": null,
            "order": null,
            "_view_module_version": "1.2.0",
            "grid_template_areas": null,
            "object_position": null,
            "object_fit": null,
            "grid_auto_columns": null,
            "margin": null,
            "display": null,
            "left": null
          }
        },
        "4f3297d317584b46a23563c005f11c52": {
          "model_module": "@jupyter-widgets/controls",
          "model_name": "HBoxModel",
          "state": {
            "_view_name": "HBoxView",
            "_dom_classes": [],
            "_model_name": "HBoxModel",
            "_view_module": "@jupyter-widgets/controls",
            "_model_module_version": "1.5.0",
            "_view_count": null,
            "_view_module_version": "1.5.0",
            "box_style": "",
            "layout": "IPY_MODEL_5079a44f0aae454985e6622ed7017634",
            "_model_module": "@jupyter-widgets/controls",
            "children": [
              "IPY_MODEL_3f49041a242c4215b78f819c11f97076",
              "IPY_MODEL_2129e7f929a246f08b5baa0eab1a735c"
            ]
          }
        },
        "5079a44f0aae454985e6622ed7017634": {
          "model_module": "@jupyter-widgets/base",
          "model_name": "LayoutModel",
          "state": {
            "_view_name": "LayoutView",
            "grid_template_rows": null,
            "right": null,
            "justify_content": null,
            "_view_module": "@jupyter-widgets/base",
            "overflow": null,
            "_model_module_version": "1.2.0",
            "_view_count": null,
            "flex_flow": null,
            "width": null,
            "min_width": null,
            "border": null,
            "align_items": null,
            "bottom": null,
            "_model_module": "@jupyter-widgets/base",
            "top": null,
            "grid_column": null,
            "overflow_y": null,
            "overflow_x": null,
            "grid_auto_flow": null,
            "grid_area": null,
            "grid_template_columns": null,
            "flex": null,
            "_model_name": "LayoutModel",
            "justify_items": null,
            "grid_row": null,
            "max_height": null,
            "align_content": null,
            "visibility": null,
            "align_self": null,
            "height": null,
            "min_height": null,
            "padding": null,
            "grid_auto_rows": null,
            "grid_gap": null,
            "max_width": null,
            "order": null,
            "_view_module_version": "1.2.0",
            "grid_template_areas": null,
            "object_position": null,
            "object_fit": null,
            "grid_auto_columns": null,
            "margin": null,
            "display": null,
            "left": null
          }
        },
        "3f49041a242c4215b78f819c11f97076": {
          "model_module": "@jupyter-widgets/controls",
          "model_name": "IntProgressModel",
          "state": {
            "_view_name": "ProgressView",
            "style": "IPY_MODEL_80adfe4411fb4e26bd842f08312f6f71",
            "_dom_classes": [],
            "description": "",
            "_model_name": "IntProgressModel",
            "bar_style": "success",
            "max": 1,
            "_view_module": "@jupyter-widgets/controls",
            "_model_module_version": "1.5.0",
            "value": 1,
            "_view_count": null,
            "_view_module_version": "1.5.0",
            "orientation": "horizontal",
            "min": 0,
            "description_tooltip": null,
            "_model_module": "@jupyter-widgets/controls",
            "layout": "IPY_MODEL_e5df2419e8a54c03a690850232b5268b"
          }
        },
        "2129e7f929a246f08b5baa0eab1a735c": {
          "model_module": "@jupyter-widgets/controls",
          "model_name": "HTMLModel",
          "state": {
            "_view_name": "HTMLView",
            "style": "IPY_MODEL_2a9088ca5fc74e319126c26ff9c2fd9f",
            "_dom_classes": [],
            "description": "",
            "_model_name": "HTMLModel",
            "placeholder": "​",
            "_view_module": "@jupyter-widgets/controls",
            "_model_module_version": "1.5.0",
            "value": "100it [03:46,  6.25s/it]",
            "_view_count": null,
            "_view_module_version": "1.5.0",
            "description_tooltip": null,
            "_model_module": "@jupyter-widgets/controls",
            "layout": "IPY_MODEL_0a7f66c9ac224de79bf68a26b3125a48"
          }
        },
        "80adfe4411fb4e26bd842f08312f6f71": {
          "model_module": "@jupyter-widgets/controls",
          "model_name": "ProgressStyleModel",
          "state": {
            "_view_name": "StyleView",
            "_model_name": "ProgressStyleModel",
            "description_width": "",
            "_view_module": "@jupyter-widgets/base",
            "_model_module_version": "1.5.0",
            "_view_count": null,
            "_view_module_version": "1.2.0",
            "bar_color": null,
            "_model_module": "@jupyter-widgets/controls"
          }
        },
        "e5df2419e8a54c03a690850232b5268b": {
          "model_module": "@jupyter-widgets/base",
          "model_name": "LayoutModel",
          "state": {
            "_view_name": "LayoutView",
            "grid_template_rows": null,
            "right": null,
            "justify_content": null,
            "_view_module": "@jupyter-widgets/base",
            "overflow": null,
            "_model_module_version": "1.2.0",
            "_view_count": null,
            "flex_flow": null,
            "width": null,
            "min_width": null,
            "border": null,
            "align_items": null,
            "bottom": null,
            "_model_module": "@jupyter-widgets/base",
            "top": null,
            "grid_column": null,
            "overflow_y": null,
            "overflow_x": null,
            "grid_auto_flow": null,
            "grid_area": null,
            "grid_template_columns": null,
            "flex": null,
            "_model_name": "LayoutModel",
            "justify_items": null,
            "grid_row": null,
            "max_height": null,
            "align_content": null,
            "visibility": null,
            "align_self": null,
            "height": null,
            "min_height": null,
            "padding": null,
            "grid_auto_rows": null,
            "grid_gap": null,
            "max_width": null,
            "order": null,
            "_view_module_version": "1.2.0",
            "grid_template_areas": null,
            "object_position": null,
            "object_fit": null,
            "grid_auto_columns": null,
            "margin": null,
            "display": null,
            "left": null
          }
        },
        "2a9088ca5fc74e319126c26ff9c2fd9f": {
          "model_module": "@jupyter-widgets/controls",
          "model_name": "DescriptionStyleModel",
          "state": {
            "_view_name": "StyleView",
            "_model_name": "DescriptionStyleModel",
            "description_width": "",
            "_view_module": "@jupyter-widgets/base",
            "_model_module_version": "1.5.0",
            "_view_count": null,
            "_view_module_version": "1.2.0",
            "_model_module": "@jupyter-widgets/controls"
          }
        },
        "0a7f66c9ac224de79bf68a26b3125a48": {
          "model_module": "@jupyter-widgets/base",
          "model_name": "LayoutModel",
          "state": {
            "_view_name": "LayoutView",
            "grid_template_rows": null,
            "right": null,
            "justify_content": null,
            "_view_module": "@jupyter-widgets/base",
            "overflow": null,
            "_model_module_version": "1.2.0",
            "_view_count": null,
            "flex_flow": null,
            "width": null,
            "min_width": null,
            "border": null,
            "align_items": null,
            "bottom": null,
            "_model_module": "@jupyter-widgets/base",
            "top": null,
            "grid_column": null,
            "overflow_y": null,
            "overflow_x": null,
            "grid_auto_flow": null,
            "grid_area": null,
            "grid_template_columns": null,
            "flex": null,
            "_model_name": "LayoutModel",
            "justify_items": null,
            "grid_row": null,
            "max_height": null,
            "align_content": null,
            "visibility": null,
            "align_self": null,
            "height": null,
            "min_height": null,
            "padding": null,
            "grid_auto_rows": null,
            "grid_gap": null,
            "max_width": null,
            "order": null,
            "_view_module_version": "1.2.0",
            "grid_template_areas": null,
            "object_position": null,
            "object_fit": null,
            "grid_auto_columns": null,
            "margin": null,
            "display": null,
            "left": null
          }
        },
        "766af333d70f44fc94a373c30f2c0818": {
          "model_module": "@jupyter-widgets/controls",
          "model_name": "HBoxModel",
          "state": {
            "_view_name": "HBoxView",
            "_dom_classes": [],
            "_model_name": "HBoxModel",
            "_view_module": "@jupyter-widgets/controls",
            "_model_module_version": "1.5.0",
            "_view_count": null,
            "_view_module_version": "1.5.0",
            "box_style": "",
            "layout": "IPY_MODEL_7bc48b0a47c944748fbca1f7ff5e0183",
            "_model_module": "@jupyter-widgets/controls",
            "children": [
              "IPY_MODEL_08990d7bd18049e2843bf10416e5b031",
              "IPY_MODEL_fc9c4f960ade44e9a71d43f61a668a60"
            ]
          }
        },
        "7bc48b0a47c944748fbca1f7ff5e0183": {
          "model_module": "@jupyter-widgets/base",
          "model_name": "LayoutModel",
          "state": {
            "_view_name": "LayoutView",
            "grid_template_rows": null,
            "right": null,
            "justify_content": null,
            "_view_module": "@jupyter-widgets/base",
            "overflow": null,
            "_model_module_version": "1.2.0",
            "_view_count": null,
            "flex_flow": null,
            "width": null,
            "min_width": null,
            "border": null,
            "align_items": null,
            "bottom": null,
            "_model_module": "@jupyter-widgets/base",
            "top": null,
            "grid_column": null,
            "overflow_y": null,
            "overflow_x": null,
            "grid_auto_flow": null,
            "grid_area": null,
            "grid_template_columns": null,
            "flex": null,
            "_model_name": "LayoutModel",
            "justify_items": null,
            "grid_row": null,
            "max_height": null,
            "align_content": null,
            "visibility": null,
            "align_self": null,
            "height": null,
            "min_height": null,
            "padding": null,
            "grid_auto_rows": null,
            "grid_gap": null,
            "max_width": null,
            "order": null,
            "_view_module_version": "1.2.0",
            "grid_template_areas": null,
            "object_position": null,
            "object_fit": null,
            "grid_auto_columns": null,
            "margin": null,
            "display": null,
            "left": null
          }
        },
        "08990d7bd18049e2843bf10416e5b031": {
          "model_module": "@jupyter-widgets/controls",
          "model_name": "IntProgressModel",
          "state": {
            "_view_name": "ProgressView",
            "style": "IPY_MODEL_8a4a56d1a0654ed18325f49c92a28406",
            "_dom_classes": [],
            "description": "",
            "_model_name": "IntProgressModel",
            "bar_style": "success",
            "max": 1,
            "_view_module": "@jupyter-widgets/controls",
            "_model_module_version": "1.5.0",
            "value": 1,
            "_view_count": null,
            "_view_module_version": "1.5.0",
            "orientation": "horizontal",
            "min": 0,
            "description_tooltip": null,
            "_model_module": "@jupyter-widgets/controls",
            "layout": "IPY_MODEL_af47ce597621424e9b05f8719381492c"
          }
        },
        "fc9c4f960ade44e9a71d43f61a668a60": {
          "model_module": "@jupyter-widgets/controls",
          "model_name": "HTMLModel",
          "state": {
            "_view_name": "HTMLView",
            "style": "IPY_MODEL_ccd71898269843bb85e6f1ecd6ab0ba3",
            "_dom_classes": [],
            "description": "",
            "_model_name": "HTMLModel",
            "placeholder": "​",
            "_view_module": "@jupyter-widgets/controls",
            "_model_module_version": "1.5.0",
            "value": "100it [03:47,  3.64s/it]",
            "_view_count": null,
            "_view_module_version": "1.5.0",
            "description_tooltip": null,
            "_model_module": "@jupyter-widgets/controls",
            "layout": "IPY_MODEL_3f8c4bdf464643bba74ca9e7d07d2e21"
          }
        },
        "8a4a56d1a0654ed18325f49c92a28406": {
          "model_module": "@jupyter-widgets/controls",
          "model_name": "ProgressStyleModel",
          "state": {
            "_view_name": "StyleView",
            "_model_name": "ProgressStyleModel",
            "description_width": "",
            "_view_module": "@jupyter-widgets/base",
            "_model_module_version": "1.5.0",
            "_view_count": null,
            "_view_module_version": "1.2.0",
            "bar_color": null,
            "_model_module": "@jupyter-widgets/controls"
          }
        },
        "af47ce597621424e9b05f8719381492c": {
          "model_module": "@jupyter-widgets/base",
          "model_name": "LayoutModel",
          "state": {
            "_view_name": "LayoutView",
            "grid_template_rows": null,
            "right": null,
            "justify_content": null,
            "_view_module": "@jupyter-widgets/base",
            "overflow": null,
            "_model_module_version": "1.2.0",
            "_view_count": null,
            "flex_flow": null,
            "width": null,
            "min_width": null,
            "border": null,
            "align_items": null,
            "bottom": null,
            "_model_module": "@jupyter-widgets/base",
            "top": null,
            "grid_column": null,
            "overflow_y": null,
            "overflow_x": null,
            "grid_auto_flow": null,
            "grid_area": null,
            "grid_template_columns": null,
            "flex": null,
            "_model_name": "LayoutModel",
            "justify_items": null,
            "grid_row": null,
            "max_height": null,
            "align_content": null,
            "visibility": null,
            "align_self": null,
            "height": null,
            "min_height": null,
            "padding": null,
            "grid_auto_rows": null,
            "grid_gap": null,
            "max_width": null,
            "order": null,
            "_view_module_version": "1.2.0",
            "grid_template_areas": null,
            "object_position": null,
            "object_fit": null,
            "grid_auto_columns": null,
            "margin": null,
            "display": null,
            "left": null
          }
        },
        "ccd71898269843bb85e6f1ecd6ab0ba3": {
          "model_module": "@jupyter-widgets/controls",
          "model_name": "DescriptionStyleModel",
          "state": {
            "_view_name": "StyleView",
            "_model_name": "DescriptionStyleModel",
            "description_width": "",
            "_view_module": "@jupyter-widgets/base",
            "_model_module_version": "1.5.0",
            "_view_count": null,
            "_view_module_version": "1.2.0",
            "_model_module": "@jupyter-widgets/controls"
          }
        },
        "3f8c4bdf464643bba74ca9e7d07d2e21": {
          "model_module": "@jupyter-widgets/base",
          "model_name": "LayoutModel",
          "state": {
            "_view_name": "LayoutView",
            "grid_template_rows": null,
            "right": null,
            "justify_content": null,
            "_view_module": "@jupyter-widgets/base",
            "overflow": null,
            "_model_module_version": "1.2.0",
            "_view_count": null,
            "flex_flow": null,
            "width": null,
            "min_width": null,
            "border": null,
            "align_items": null,
            "bottom": null,
            "_model_module": "@jupyter-widgets/base",
            "top": null,
            "grid_column": null,
            "overflow_y": null,
            "overflow_x": null,
            "grid_auto_flow": null,
            "grid_area": null,
            "grid_template_columns": null,
            "flex": null,
            "_model_name": "LayoutModel",
            "justify_items": null,
            "grid_row": null,
            "max_height": null,
            "align_content": null,
            "visibility": null,
            "align_self": null,
            "height": null,
            "min_height": null,
            "padding": null,
            "grid_auto_rows": null,
            "grid_gap": null,
            "max_width": null,
            "order": null,
            "_view_module_version": "1.2.0",
            "grid_template_areas": null,
            "object_position": null,
            "object_fit": null,
            "grid_auto_columns": null,
            "margin": null,
            "display": null,
            "left": null
          }
        },
        "9cc732ae375e41e09fa9f8fb8c833961": {
          "model_module": "@jupyter-widgets/controls",
          "model_name": "HBoxModel",
          "state": {
            "_view_name": "HBoxView",
            "_dom_classes": [],
            "_model_name": "HBoxModel",
            "_view_module": "@jupyter-widgets/controls",
            "_model_module_version": "1.5.0",
            "_view_count": null,
            "_view_module_version": "1.5.0",
            "box_style": "",
            "layout": "IPY_MODEL_12fba26c46d4417eae05338baaa353fd",
            "_model_module": "@jupyter-widgets/controls",
            "children": [
              "IPY_MODEL_c39ef08fd6f34e70acc64fbfec27deaa",
              "IPY_MODEL_03096ecb58fc4e72b3d8adee09db8eae"
            ]
          }
        },
        "12fba26c46d4417eae05338baaa353fd": {
          "model_module": "@jupyter-widgets/base",
          "model_name": "LayoutModel",
          "state": {
            "_view_name": "LayoutView",
            "grid_template_rows": null,
            "right": null,
            "justify_content": null,
            "_view_module": "@jupyter-widgets/base",
            "overflow": null,
            "_model_module_version": "1.2.0",
            "_view_count": null,
            "flex_flow": null,
            "width": null,
            "min_width": null,
            "border": null,
            "align_items": null,
            "bottom": null,
            "_model_module": "@jupyter-widgets/base",
            "top": null,
            "grid_column": null,
            "overflow_y": null,
            "overflow_x": null,
            "grid_auto_flow": null,
            "grid_area": null,
            "grid_template_columns": null,
            "flex": null,
            "_model_name": "LayoutModel",
            "justify_items": null,
            "grid_row": null,
            "max_height": null,
            "align_content": null,
            "visibility": null,
            "align_self": null,
            "height": null,
            "min_height": null,
            "padding": null,
            "grid_auto_rows": null,
            "grid_gap": null,
            "max_width": null,
            "order": null,
            "_view_module_version": "1.2.0",
            "grid_template_areas": null,
            "object_position": null,
            "object_fit": null,
            "grid_auto_columns": null,
            "margin": null,
            "display": null,
            "left": null
          }
        },
        "c39ef08fd6f34e70acc64fbfec27deaa": {
          "model_module": "@jupyter-widgets/controls",
          "model_name": "IntProgressModel",
          "state": {
            "_view_name": "ProgressView",
            "style": "IPY_MODEL_30ba6710bb1e4c318a1120c5b104d94d",
            "_dom_classes": [],
            "description": "",
            "_model_name": "IntProgressModel",
            "bar_style": "success",
            "max": 1,
            "_view_module": "@jupyter-widgets/controls",
            "_model_module_version": "1.5.0",
            "value": 1,
            "_view_count": null,
            "_view_module_version": "1.5.0",
            "orientation": "horizontal",
            "min": 0,
            "description_tooltip": null,
            "_model_module": "@jupyter-widgets/controls",
            "layout": "IPY_MODEL_7478fe8269e84d5a8392c9c5c942a669"
          }
        },
        "03096ecb58fc4e72b3d8adee09db8eae": {
          "model_module": "@jupyter-widgets/controls",
          "model_name": "HTMLModel",
          "state": {
            "_view_name": "HTMLView",
            "style": "IPY_MODEL_17780a2a5da44c7fb841373b244a4dcb",
            "_dom_classes": [],
            "description": "",
            "_model_name": "HTMLModel",
            "placeholder": "​",
            "_view_module": "@jupyter-widgets/controls",
            "_model_module_version": "1.5.0",
            "value": "100it [03:46,  5.03s/it]",
            "_view_count": null,
            "_view_module_version": "1.5.0",
            "description_tooltip": null,
            "_model_module": "@jupyter-widgets/controls",
            "layout": "IPY_MODEL_feb01cd5f2ea45059fedadbf7795cc4f"
          }
        },
        "30ba6710bb1e4c318a1120c5b104d94d": {
          "model_module": "@jupyter-widgets/controls",
          "model_name": "ProgressStyleModel",
          "state": {
            "_view_name": "StyleView",
            "_model_name": "ProgressStyleModel",
            "description_width": "",
            "_view_module": "@jupyter-widgets/base",
            "_model_module_version": "1.5.0",
            "_view_count": null,
            "_view_module_version": "1.2.0",
            "bar_color": null,
            "_model_module": "@jupyter-widgets/controls"
          }
        },
        "7478fe8269e84d5a8392c9c5c942a669": {
          "model_module": "@jupyter-widgets/base",
          "model_name": "LayoutModel",
          "state": {
            "_view_name": "LayoutView",
            "grid_template_rows": null,
            "right": null,
            "justify_content": null,
            "_view_module": "@jupyter-widgets/base",
            "overflow": null,
            "_model_module_version": "1.2.0",
            "_view_count": null,
            "flex_flow": null,
            "width": null,
            "min_width": null,
            "border": null,
            "align_items": null,
            "bottom": null,
            "_model_module": "@jupyter-widgets/base",
            "top": null,
            "grid_column": null,
            "overflow_y": null,
            "overflow_x": null,
            "grid_auto_flow": null,
            "grid_area": null,
            "grid_template_columns": null,
            "flex": null,
            "_model_name": "LayoutModel",
            "justify_items": null,
            "grid_row": null,
            "max_height": null,
            "align_content": null,
            "visibility": null,
            "align_self": null,
            "height": null,
            "min_height": null,
            "padding": null,
            "grid_auto_rows": null,
            "grid_gap": null,
            "max_width": null,
            "order": null,
            "_view_module_version": "1.2.0",
            "grid_template_areas": null,
            "object_position": null,
            "object_fit": null,
            "grid_auto_columns": null,
            "margin": null,
            "display": null,
            "left": null
          }
        },
        "17780a2a5da44c7fb841373b244a4dcb": {
          "model_module": "@jupyter-widgets/controls",
          "model_name": "DescriptionStyleModel",
          "state": {
            "_view_name": "StyleView",
            "_model_name": "DescriptionStyleModel",
            "description_width": "",
            "_view_module": "@jupyter-widgets/base",
            "_model_module_version": "1.5.0",
            "_view_count": null,
            "_view_module_version": "1.2.0",
            "_model_module": "@jupyter-widgets/controls"
          }
        },
        "feb01cd5f2ea45059fedadbf7795cc4f": {
          "model_module": "@jupyter-widgets/base",
          "model_name": "LayoutModel",
          "state": {
            "_view_name": "LayoutView",
            "grid_template_rows": null,
            "right": null,
            "justify_content": null,
            "_view_module": "@jupyter-widgets/base",
            "overflow": null,
            "_model_module_version": "1.2.0",
            "_view_count": null,
            "flex_flow": null,
            "width": null,
            "min_width": null,
            "border": null,
            "align_items": null,
            "bottom": null,
            "_model_module": "@jupyter-widgets/base",
            "top": null,
            "grid_column": null,
            "overflow_y": null,
            "overflow_x": null,
            "grid_auto_flow": null,
            "grid_area": null,
            "grid_template_columns": null,
            "flex": null,
            "_model_name": "LayoutModel",
            "justify_items": null,
            "grid_row": null,
            "max_height": null,
            "align_content": null,
            "visibility": null,
            "align_self": null,
            "height": null,
            "min_height": null,
            "padding": null,
            "grid_auto_rows": null,
            "grid_gap": null,
            "max_width": null,
            "order": null,
            "_view_module_version": "1.2.0",
            "grid_template_areas": null,
            "object_position": null,
            "object_fit": null,
            "grid_auto_columns": null,
            "margin": null,
            "display": null,
            "left": null
          }
        },
        "8942bdd501564f91949dbc8ce2a8c557": {
          "model_module": "@jupyter-widgets/controls",
          "model_name": "HBoxModel",
          "state": {
            "_view_name": "HBoxView",
            "_dom_classes": [],
            "_model_name": "HBoxModel",
            "_view_module": "@jupyter-widgets/controls",
            "_model_module_version": "1.5.0",
            "_view_count": null,
            "_view_module_version": "1.5.0",
            "box_style": "",
            "layout": "IPY_MODEL_afc62a7f589d476484d8dd13e7410513",
            "_model_module": "@jupyter-widgets/controls",
            "children": [
              "IPY_MODEL_4d110b1a5c254e0b8f91ccb9e82ed75a",
              "IPY_MODEL_b3c36317e1ee469d96945e205a1e18e8"
            ]
          }
        },
        "afc62a7f589d476484d8dd13e7410513": {
          "model_module": "@jupyter-widgets/base",
          "model_name": "LayoutModel",
          "state": {
            "_view_name": "LayoutView",
            "grid_template_rows": null,
            "right": null,
            "justify_content": null,
            "_view_module": "@jupyter-widgets/base",
            "overflow": null,
            "_model_module_version": "1.2.0",
            "_view_count": null,
            "flex_flow": null,
            "width": null,
            "min_width": null,
            "border": null,
            "align_items": null,
            "bottom": null,
            "_model_module": "@jupyter-widgets/base",
            "top": null,
            "grid_column": null,
            "overflow_y": null,
            "overflow_x": null,
            "grid_auto_flow": null,
            "grid_area": null,
            "grid_template_columns": null,
            "flex": null,
            "_model_name": "LayoutModel",
            "justify_items": null,
            "grid_row": null,
            "max_height": null,
            "align_content": null,
            "visibility": null,
            "align_self": null,
            "height": null,
            "min_height": null,
            "padding": null,
            "grid_auto_rows": null,
            "grid_gap": null,
            "max_width": null,
            "order": null,
            "_view_module_version": "1.2.0",
            "grid_template_areas": null,
            "object_position": null,
            "object_fit": null,
            "grid_auto_columns": null,
            "margin": null,
            "display": null,
            "left": null
          }
        },
        "4d110b1a5c254e0b8f91ccb9e82ed75a": {
          "model_module": "@jupyter-widgets/controls",
          "model_name": "IntProgressModel",
          "state": {
            "_view_name": "ProgressView",
            "style": "IPY_MODEL_5bdb9f0740d049fc80d06e5161ec391a",
            "_dom_classes": [],
            "description": "",
            "_model_name": "IntProgressModel",
            "bar_style": "success",
            "max": 1,
            "_view_module": "@jupyter-widgets/controls",
            "_model_module_version": "1.5.0",
            "value": 1,
            "_view_count": null,
            "_view_module_version": "1.5.0",
            "orientation": "horizontal",
            "min": 0,
            "description_tooltip": null,
            "_model_module": "@jupyter-widgets/controls",
            "layout": "IPY_MODEL_e482aee9ff7d425895609e7fbbd5a013"
          }
        },
        "b3c36317e1ee469d96945e205a1e18e8": {
          "model_module": "@jupyter-widgets/controls",
          "model_name": "HTMLModel",
          "state": {
            "_view_name": "HTMLView",
            "style": "IPY_MODEL_002dfe781976419fb72f0b2fc81a8103",
            "_dom_classes": [],
            "description": "",
            "_model_name": "HTMLModel",
            "placeholder": "​",
            "_view_module": "@jupyter-widgets/controls",
            "_model_module_version": "1.5.0",
            "value": "100it [03:45,  4.37s/it]",
            "_view_count": null,
            "_view_module_version": "1.5.0",
            "description_tooltip": null,
            "_model_module": "@jupyter-widgets/controls",
            "layout": "IPY_MODEL_ab38b6c79d92471da3da4b4776d993ea"
          }
        },
        "5bdb9f0740d049fc80d06e5161ec391a": {
          "model_module": "@jupyter-widgets/controls",
          "model_name": "ProgressStyleModel",
          "state": {
            "_view_name": "StyleView",
            "_model_name": "ProgressStyleModel",
            "description_width": "",
            "_view_module": "@jupyter-widgets/base",
            "_model_module_version": "1.5.0",
            "_view_count": null,
            "_view_module_version": "1.2.0",
            "bar_color": null,
            "_model_module": "@jupyter-widgets/controls"
          }
        },
        "e482aee9ff7d425895609e7fbbd5a013": {
          "model_module": "@jupyter-widgets/base",
          "model_name": "LayoutModel",
          "state": {
            "_view_name": "LayoutView",
            "grid_template_rows": null,
            "right": null,
            "justify_content": null,
            "_view_module": "@jupyter-widgets/base",
            "overflow": null,
            "_model_module_version": "1.2.0",
            "_view_count": null,
            "flex_flow": null,
            "width": null,
            "min_width": null,
            "border": null,
            "align_items": null,
            "bottom": null,
            "_model_module": "@jupyter-widgets/base",
            "top": null,
            "grid_column": null,
            "overflow_y": null,
            "overflow_x": null,
            "grid_auto_flow": null,
            "grid_area": null,
            "grid_template_columns": null,
            "flex": null,
            "_model_name": "LayoutModel",
            "justify_items": null,
            "grid_row": null,
            "max_height": null,
            "align_content": null,
            "visibility": null,
            "align_self": null,
            "height": null,
            "min_height": null,
            "padding": null,
            "grid_auto_rows": null,
            "grid_gap": null,
            "max_width": null,
            "order": null,
            "_view_module_version": "1.2.0",
            "grid_template_areas": null,
            "object_position": null,
            "object_fit": null,
            "grid_auto_columns": null,
            "margin": null,
            "display": null,
            "left": null
          }
        },
        "002dfe781976419fb72f0b2fc81a8103": {
          "model_module": "@jupyter-widgets/controls",
          "model_name": "DescriptionStyleModel",
          "state": {
            "_view_name": "StyleView",
            "_model_name": "DescriptionStyleModel",
            "description_width": "",
            "_view_module": "@jupyter-widgets/base",
            "_model_module_version": "1.5.0",
            "_view_count": null,
            "_view_module_version": "1.2.0",
            "_model_module": "@jupyter-widgets/controls"
          }
        },
        "ab38b6c79d92471da3da4b4776d993ea": {
          "model_module": "@jupyter-widgets/base",
          "model_name": "LayoutModel",
          "state": {
            "_view_name": "LayoutView",
            "grid_template_rows": null,
            "right": null,
            "justify_content": null,
            "_view_module": "@jupyter-widgets/base",
            "overflow": null,
            "_model_module_version": "1.2.0",
            "_view_count": null,
            "flex_flow": null,
            "width": null,
            "min_width": null,
            "border": null,
            "align_items": null,
            "bottom": null,
            "_model_module": "@jupyter-widgets/base",
            "top": null,
            "grid_column": null,
            "overflow_y": null,
            "overflow_x": null,
            "grid_auto_flow": null,
            "grid_area": null,
            "grid_template_columns": null,
            "flex": null,
            "_model_name": "LayoutModel",
            "justify_items": null,
            "grid_row": null,
            "max_height": null,
            "align_content": null,
            "visibility": null,
            "align_self": null,
            "height": null,
            "min_height": null,
            "padding": null,
            "grid_auto_rows": null,
            "grid_gap": null,
            "max_width": null,
            "order": null,
            "_view_module_version": "1.2.0",
            "grid_template_areas": null,
            "object_position": null,
            "object_fit": null,
            "grid_auto_columns": null,
            "margin": null,
            "display": null,
            "left": null
          }
        },
        "62d2481035454e7681addab4e897fbc8": {
          "model_module": "@jupyter-widgets/controls",
          "model_name": "HBoxModel",
          "state": {
            "_view_name": "HBoxView",
            "_dom_classes": [],
            "_model_name": "HBoxModel",
            "_view_module": "@jupyter-widgets/controls",
            "_model_module_version": "1.5.0",
            "_view_count": null,
            "_view_module_version": "1.5.0",
            "box_style": "",
            "layout": "IPY_MODEL_0d2a746f3f874589801cfe30f3e56e8e",
            "_model_module": "@jupyter-widgets/controls",
            "children": [
              "IPY_MODEL_fdd36cfb5221491596b32faf80fada1a",
              "IPY_MODEL_636b102bed3344e1abea939d77728e31"
            ]
          }
        },
        "0d2a746f3f874589801cfe30f3e56e8e": {
          "model_module": "@jupyter-widgets/base",
          "model_name": "LayoutModel",
          "state": {
            "_view_name": "LayoutView",
            "grid_template_rows": null,
            "right": null,
            "justify_content": null,
            "_view_module": "@jupyter-widgets/base",
            "overflow": null,
            "_model_module_version": "1.2.0",
            "_view_count": null,
            "flex_flow": null,
            "width": null,
            "min_width": null,
            "border": null,
            "align_items": null,
            "bottom": null,
            "_model_module": "@jupyter-widgets/base",
            "top": null,
            "grid_column": null,
            "overflow_y": null,
            "overflow_x": null,
            "grid_auto_flow": null,
            "grid_area": null,
            "grid_template_columns": null,
            "flex": null,
            "_model_name": "LayoutModel",
            "justify_items": null,
            "grid_row": null,
            "max_height": null,
            "align_content": null,
            "visibility": null,
            "align_self": null,
            "height": null,
            "min_height": null,
            "padding": null,
            "grid_auto_rows": null,
            "grid_gap": null,
            "max_width": null,
            "order": null,
            "_view_module_version": "1.2.0",
            "grid_template_areas": null,
            "object_position": null,
            "object_fit": null,
            "grid_auto_columns": null,
            "margin": null,
            "display": null,
            "left": null
          }
        },
        "fdd36cfb5221491596b32faf80fada1a": {
          "model_module": "@jupyter-widgets/controls",
          "model_name": "IntProgressModel",
          "state": {
            "_view_name": "ProgressView",
            "style": "IPY_MODEL_75d036c03506448f9aa10392b8f227bb",
            "_dom_classes": [],
            "description": "",
            "_model_name": "IntProgressModel",
            "bar_style": "success",
            "max": 1,
            "_view_module": "@jupyter-widgets/controls",
            "_model_module_version": "1.5.0",
            "value": 1,
            "_view_count": null,
            "_view_module_version": "1.5.0",
            "orientation": "horizontal",
            "min": 0,
            "description_tooltip": null,
            "_model_module": "@jupyter-widgets/controls",
            "layout": "IPY_MODEL_73105fdeccab4e7e9640f3fbd0ac6ec0"
          }
        },
        "636b102bed3344e1abea939d77728e31": {
          "model_module": "@jupyter-widgets/controls",
          "model_name": "HTMLModel",
          "state": {
            "_view_name": "HTMLView",
            "style": "IPY_MODEL_5ff9ba00a74447478e16c37581f55c37",
            "_dom_classes": [],
            "description": "",
            "_model_name": "HTMLModel",
            "placeholder": "​",
            "_view_module": "@jupyter-widgets/controls",
            "_model_module_version": "1.5.0",
            "value": "100it [03:44,  6.38s/it]",
            "_view_count": null,
            "_view_module_version": "1.5.0",
            "description_tooltip": null,
            "_model_module": "@jupyter-widgets/controls",
            "layout": "IPY_MODEL_52baa03cb6ed49dda1aad8fecac67327"
          }
        },
        "75d036c03506448f9aa10392b8f227bb": {
          "model_module": "@jupyter-widgets/controls",
          "model_name": "ProgressStyleModel",
          "state": {
            "_view_name": "StyleView",
            "_model_name": "ProgressStyleModel",
            "description_width": "",
            "_view_module": "@jupyter-widgets/base",
            "_model_module_version": "1.5.0",
            "_view_count": null,
            "_view_module_version": "1.2.0",
            "bar_color": null,
            "_model_module": "@jupyter-widgets/controls"
          }
        },
        "73105fdeccab4e7e9640f3fbd0ac6ec0": {
          "model_module": "@jupyter-widgets/base",
          "model_name": "LayoutModel",
          "state": {
            "_view_name": "LayoutView",
            "grid_template_rows": null,
            "right": null,
            "justify_content": null,
            "_view_module": "@jupyter-widgets/base",
            "overflow": null,
            "_model_module_version": "1.2.0",
            "_view_count": null,
            "flex_flow": null,
            "width": null,
            "min_width": null,
            "border": null,
            "align_items": null,
            "bottom": null,
            "_model_module": "@jupyter-widgets/base",
            "top": null,
            "grid_column": null,
            "overflow_y": null,
            "overflow_x": null,
            "grid_auto_flow": null,
            "grid_area": null,
            "grid_template_columns": null,
            "flex": null,
            "_model_name": "LayoutModel",
            "justify_items": null,
            "grid_row": null,
            "max_height": null,
            "align_content": null,
            "visibility": null,
            "align_self": null,
            "height": null,
            "min_height": null,
            "padding": null,
            "grid_auto_rows": null,
            "grid_gap": null,
            "max_width": null,
            "order": null,
            "_view_module_version": "1.2.0",
            "grid_template_areas": null,
            "object_position": null,
            "object_fit": null,
            "grid_auto_columns": null,
            "margin": null,
            "display": null,
            "left": null
          }
        },
        "5ff9ba00a74447478e16c37581f55c37": {
          "model_module": "@jupyter-widgets/controls",
          "model_name": "DescriptionStyleModel",
          "state": {
            "_view_name": "StyleView",
            "_model_name": "DescriptionStyleModel",
            "description_width": "",
            "_view_module": "@jupyter-widgets/base",
            "_model_module_version": "1.5.0",
            "_view_count": null,
            "_view_module_version": "1.2.0",
            "_model_module": "@jupyter-widgets/controls"
          }
        },
        "52baa03cb6ed49dda1aad8fecac67327": {
          "model_module": "@jupyter-widgets/base",
          "model_name": "LayoutModel",
          "state": {
            "_view_name": "LayoutView",
            "grid_template_rows": null,
            "right": null,
            "justify_content": null,
            "_view_module": "@jupyter-widgets/base",
            "overflow": null,
            "_model_module_version": "1.2.0",
            "_view_count": null,
            "flex_flow": null,
            "width": null,
            "min_width": null,
            "border": null,
            "align_items": null,
            "bottom": null,
            "_model_module": "@jupyter-widgets/base",
            "top": null,
            "grid_column": null,
            "overflow_y": null,
            "overflow_x": null,
            "grid_auto_flow": null,
            "grid_area": null,
            "grid_template_columns": null,
            "flex": null,
            "_model_name": "LayoutModel",
            "justify_items": null,
            "grid_row": null,
            "max_height": null,
            "align_content": null,
            "visibility": null,
            "align_self": null,
            "height": null,
            "min_height": null,
            "padding": null,
            "grid_auto_rows": null,
            "grid_gap": null,
            "max_width": null,
            "order": null,
            "_view_module_version": "1.2.0",
            "grid_template_areas": null,
            "object_position": null,
            "object_fit": null,
            "grid_auto_columns": null,
            "margin": null,
            "display": null,
            "left": null
          }
        }
      }
    }
  },
  "cells": [
    {
      "cell_type": "code",
      "metadata": {
        "id": "5bKrBh6vCGDW",
        "colab_type": "code",
        "outputId": "94c62695-0f95-4c15-d6b3-0bd47bb9a927",
        "colab": {
          "base_uri": "https://localhost:8080/",
          "height": 71
        }
      },
      "source": [
        "import os\n",
        "import random\n",
        "import shutil\n",
        "\n",
        "from multiprocessing.dummy import Pool\n",
        "\n",
        "import numpy as np\n",
        "from PIL import Image\n",
        "\n",
        "import pandas as pd\n",
        "import matplotlib.pyplot as plt\n",
        "%matplotlib inline\n",
        "\n",
        "from sklearn.model_selection import train_test_split\n",
        "from sklearn.externals import joblib\n",
        "\n",
        "from skimage.morphology import binary_opening, disk, label\n",
        "\n",
        "import torch\n",
        "import torch.nn as nn\n",
        "import torch.nn.functional as F\n",
        "\n",
        "from torch.autograd import Variable\n",
        "from torch.utils.data import DataLoader, Dataset\n",
        "\n",
        "import torchvision.transforms as transforms\n",
        "\n",
        "from tqdm import tqdm_notebook"
      ],
      "execution_count": 1,
      "outputs": [
        {
          "output_type": "stream",
          "text": [
            "/usr/local/lib/python3.6/dist-packages/sklearn/externals/joblib/__init__.py:15: FutureWarning: sklearn.externals.joblib is deprecated in 0.21 and will be removed in 0.23. Please import this functionality directly from joblib, which can be installed with: pip install joblib. If this warning is raised when loading pickled models, you may need to re-serialize those models with scikit-learn 0.21+.\n",
            "  warnings.warn(msg, category=FutureWarning)\n"
          ],
          "name": "stderr"
        }
      ]
    },
    {
      "cell_type": "code",
      "metadata": {
        "id": "WJZ-Q9REBKNq",
        "colab_type": "code",
        "colab": {}
      },
      "source": [
        "class BaseDataProvider(object):\n",
        "    channels = 1\n",
        "    n_class = 2\n",
        "\n",
        "    def __init__(self, a_min=None, a_max=None):\n",
        "        self.a_min = a_min if a_min is not None else -np.inf\n",
        "        self.a_max = a_max if a_min is not None else np.inf\n",
        "\n",
        "    def _load_data_and_label(self):\n",
        "        data, label = self._next_data()\n",
        "\n",
        "        train_data = self._process_data(data)\n",
        "        labels = self._process_labels(label)\n",
        "\n",
        "        train_data, labels = self._post_process(train_data, labels)\n",
        "\n",
        "        nx = train_data.shape[1]\n",
        "        ny = train_data.shape[0]\n",
        "\n",
        "        return train_data.reshape(1, ny, nx, self.channels), labels.reshape(1, ny, nx, self.n_class),\n",
        "\n",
        "    def _process_labels(self, label):\n",
        "        if self.n_class == 2:\n",
        "            nx = label.shape[1]\n",
        "            ny = label.shape[0]\n",
        "            labels = np.zeros((ny, nx, self.n_class), dtype=np.float32)\n",
        "\n",
        "            # It is the responsibility of the child class to make sure that the label\n",
        "            # is a boolean array, but we a chech here just in case.\n",
        "            if label.dtype != 'bool':\n",
        "                label = label.astype(np.bool)\n",
        "\n",
        "            labels[..., 1] = label\n",
        "            labels[..., 0] = ~label\n",
        "            return labels\n",
        "\n",
        "        return label\n",
        "\n",
        "    def _process_data(self, data):\n",
        "        # normalization\n",
        "        data = np.clip(np.fabs(data), self.a_min, self.a_max)\n",
        "        data -= np.amin(data)\n",
        "\n",
        "        if np.amax(data) != 0:\n",
        "            data /= np.amax(data)\n",
        "\n",
        "        return data\n",
        "\n",
        "    def _post_process(self, data, labels):\n",
        "        \"\"\"\n",
        "        Post processing hook that can be used for data augmentation\n",
        "        :param data: the data array\n",
        "        :param labels: the label array\n",
        "        \"\"\"\n",
        "        return data, labels\n",
        "\n",
        "    def __call__(self, n):\n",
        "        train_data, labels = self._load_data_and_label()\n",
        "        nx = train_data.shape[1]\n",
        "        ny = train_data.shape[2]\n",
        "\n",
        "        X = np.zeros((n, nx, ny, self.channels))\n",
        "        Y = np.zeros((n, nx, ny, self.n_class))\n",
        "\n",
        "        X[0] = train_data\n",
        "        Y[0] = labels\n",
        "        for i in range(1, n):\n",
        "            train_data, labels = self._load_data_and_label()\n",
        "            X[i] = train_data\n",
        "            Y[i] = labels\n",
        "\n",
        "        return X, Y\n",
        "\n",
        "class GrayScaleDataProvider(BaseDataProvider):\n",
        "    channels = 1\n",
        "    n_class = 2\n",
        "    \n",
        "    def __init__(self, nx, ny, **kwargs):\n",
        "        super(GrayScaleDataProvider, self).__init__()\n",
        "        self.nx = nx\n",
        "        self.ny = ny\n",
        "        self.kwargs = kwargs\n",
        "        rect = kwargs.get(\"rectangles\", False)\n",
        "        if rect:\n",
        "            self.n_class=3\n",
        "        \n",
        "    def _next_data(self):\n",
        "        return create_image_and_label(self.nx, self.ny, **self.kwargs)\n",
        "\n",
        "class RgbDataProvider(BaseDataProvider):\n",
        "    channels = 3\n",
        "    n_class = 2\n",
        "    \n",
        "    def __init__(self, nx, ny, **kwargs):\n",
        "        super(RgbDataProvider, self).__init__()\n",
        "        self.nx = nx\n",
        "        self.ny = ny\n",
        "        self.kwargs = kwargs\n",
        "        rect = kwargs.get(\"rectangles\", False)\n",
        "        if rect:\n",
        "            self.n_class=3\n",
        "\n",
        "        \n",
        "    def _next_data(self):\n",
        "        data, label = create_image_and_label(self.nx, self.ny, **self.kwargs)\n",
        "        return to_rgb(data), label\n",
        "\n",
        "def create_image_and_label(nx,ny, cnt = 10, r_min = 5, r_max = 50, border = 92, sigma = 20, rectangles=False):\n",
        "    \n",
        "    \n",
        "    image = np.ones((nx, ny, 1))\n",
        "    label = np.zeros((nx, ny, 3), dtype=np.bool)\n",
        "    mask = np.zeros((nx, ny), dtype=np.bool)\n",
        "    for _ in range(cnt):\n",
        "        a = np.random.randint(border, nx-border)\n",
        "        b = np.random.randint(border, ny-border)\n",
        "        r = np.random.randint(r_min, r_max)\n",
        "        h = np.random.randint(1,255)\n",
        "\n",
        "        y,x = np.ogrid[-a:nx-a, -b:ny-b]\n",
        "        m = x*x + y*y <= r*r\n",
        "        mask = np.logical_or(mask, m)\n",
        "\n",
        "        image[m] = h\n",
        "\n",
        "    label[mask, 1] = 1\n",
        "    \n",
        "    if rectangles:\n",
        "        mask = np.zeros((nx, ny), dtype=np.bool)\n",
        "        for _ in range(cnt//2):\n",
        "            a = np.random.randint(nx)\n",
        "            b = np.random.randint(ny)\n",
        "            r =  np.random.randint(r_min, r_max)\n",
        "            h = np.random.randint(1,255)\n",
        "    \n",
        "            m = np.zeros((nx, ny), dtype=np.bool)\n",
        "            m[a:a+r, b:b+r] = True\n",
        "            mask = np.logical_or(mask, m)\n",
        "            image[m] = h\n",
        "            \n",
        "        label[mask, 2] = 1\n",
        "        \n",
        "        label[..., 0] = ~(np.logical_or(label[...,1], label[...,2]))\n",
        "    \n",
        "    image += np.random.normal(scale=sigma, size=image.shape)\n",
        "    image -= np.amin(image)\n",
        "    image /= np.amax(image)\n",
        "    \n",
        "    if rectangles:\n",
        "        return image, label\n",
        "    else:\n",
        "        return image, label[..., 1]\n",
        "\n",
        "\n",
        "\n",
        "\n",
        "def to_rgb(img):\n",
        "    img = img.reshape(img.shape[0], img.shape[1])\n",
        "    img[np.isnan(img)] = 0\n",
        "    img -= np.amin(img)\n",
        "    img /= np.amax(img)\n",
        "    blue = np.clip(4*(0.75-img), 0, 1)\n",
        "    red  = np.clip(4*(img-0.25), 0, 1)\n",
        "    green= np.clip(44*np.fabs(img-0.5)-1., 0, 1)\n",
        "    rgb = np.stack((red, green, blue), axis=2)\n",
        "    return rgb\n"
      ],
      "execution_count": 0,
      "outputs": []
    },
    {
      "cell_type": "code",
      "metadata": {
        "id": "I_JwrDK5B0BY",
        "colab_type": "code",
        "colab": {}
      },
      "source": [
        "nx = 572\n",
        "ny = 572\n",
        "original_img_size = (nx, ny)\n",
        "circle_cnt = 3"
      ],
      "execution_count": 0,
      "outputs": []
    },
    {
      "cell_type": "code",
      "metadata": {
        "id": "9a1p116DB5Um",
        "colab_type": "code",
        "colab": {}
      },
      "source": [
        "generator = RgbDataProvider(nx, ny, cnt=circle_cnt)"
      ],
      "execution_count": 0,
      "outputs": []
    },
    {
      "cell_type": "code",
      "metadata": {
        "id": "2hdK4eU4B-nn",
        "colab_type": "code",
        "colab": {}
      },
      "source": [
        "x_test, y_test = generator(1)"
      ],
      "execution_count": 0,
      "outputs": []
    },
    {
      "cell_type": "code",
      "metadata": {
        "id": "81EwxvCJCDg1",
        "colab_type": "code",
        "outputId": "fd0c4b1e-c4d2-4295-f35e-01fa551abb01",
        "colab": {
          "base_uri": "https://localhost:8080/",
          "height": 303
        }
      },
      "source": [
        "print(x_test.shape,x_test[0,...,0].shape)\n",
        "fig, ax = plt.subplots(1,2, sharey=True, figsize=(8,4))\n",
        "ax[0].imshow(x_test[0,...,0], aspect=\"auto\")\n",
        "ax[1].imshow(y_test[0,...,1], aspect=\"auto\")"
      ],
      "execution_count": 6,
      "outputs": [
        {
          "output_type": "stream",
          "text": [
            "(1, 572, 572, 3) (572, 572)\n"
          ],
          "name": "stdout"
        },
        {
          "output_type": "execute_result",
          "data": {
            "text/plain": [
              "<matplotlib.image.AxesImage at 0x7f3e92ef9550>"
            ]
          },
          "metadata": {
            "tags": []
          },
          "execution_count": 6
        },
        {
          "output_type": "display_data",
          "data": {
            "image/png": "[encoded data removed]",
            "text/plain": [
              "<Figure size 576x288 with 2 Axes>"
            ]
          },
          "metadata": {
            "tags": []
          }
        }
      ]
    },
    {
      "cell_type": "code",
      "metadata": {
        "id": "S-hpXUohJ33O",
        "colab_type": "code",
        "colab": {}
      },
      "source": [
        "# ref: https://www.kaggle.com/paulorzp/run-length-encode-and-decode\n",
        "def rle_decode(mask_rle, shape=(768, 768)):\n",
        "    '''\n",
        "    mask_rle: run-length as string formated (start length)\n",
        "    shape: (height,width) of array to return\n",
        "    Returns numpy array, 1 - mask, 0 - background\n",
        "\n",
        "    '''\n",
        "    s = mask_rle.split()\n",
        "    starts, lengths = [np.asarray(x, dtype=int) for x in (s[0:][::2], s[1:][::2])]\n",
        "    ends = starts + lengths\n",
        "    im = np.zeros(shape[0]*shape[1], dtype=np.uint8)\n",
        "    for lo, hi in zip(starts, ends):\n",
        "        im[lo:hi] = 1\n",
        "    return im.reshape(shape).T\n",
        "\n",
        "def rle_encode(im):\n",
        "    '''\n",
        "    im: numpy array, 1 - mask, 0 - background\n",
        "    Returns run length as string formated\n",
        "    '''\n",
        "    pixels = im.T.flatten()\n",
        "    pixels = np.concatenate([[0], pixels, [0]])\n",
        "    runs = np.where(pixels[1:] != pixels[:-1])[0] + 1\n",
        "    runs[1::2] -= runs[::2]\n",
        "    runs[::2] -= 1\n",
        "    return ' '.join(str(x) for x in runs)"
      ],
      "execution_count": 0,
      "outputs": []
    },
    {
      "cell_type": "code",
      "metadata": {
        "id": "YqcnyDl0LZ49",
        "colab_type": "code",
        "outputId": "ae918c5d-e82a-49ec-c21f-64604a5a0cdb",
        "colab": {
          "base_uri": "https://localhost:8080/",
          "height": 54
        }
      },
      "source": [
        "rle_encode(y_test)"
      ],
      "execution_count": 8,
      "outputs": [
        {
          "output_type": "execute_result",
          "data": {
            "text/plain": [
              "'0 63927 63928 565 64506 556 65081 551 65655 547 66229 544 66802 542 67375 540 67948 538 68521 536 69094 534 69667 532 70240 531 70812 530 71385 529 71957 528 72530 527 73102 527 73674 526 74247 525 74819 525 75391 525 75963 525 76535 525 77107 524 77680 524 78251 525 78823 525 79395 525 79967 525 80539 525 81111 526 81682 527 82254 527 82826 528 83397 529 83969 530 84540 531 85112 532 85683 534 86254 536 86825 538 87396 540 87967 542 88538 544 89109 547 89679 551 90249 556 90818 565 91384 8939 100324 566 100901 558 101476 554 102049 552 102622 549 103196 547 103768 546 104341 544 104914 542 105487 541 106059 541 106631 540 107204 539 107776 539 108348 539 108920 539 109492 538 110065 538 110636 539 111208 539 111780 539 112352 539 112924 540 113495 541 114067 541 114639 542 115210 544 115781 546 116352 547 116924 549 117494 552 118065 554 118636 558 119205 566 119772 96286 216059 568 216634 564 217207 563 217779 563 218351 562 218924 562 219495 563 220067 563 220639 564 221210 568 221779 105405 391111 1 391677 13 392246 19 392816 23 393386 27 393957 29 394528 31 395099 33 395670 35 396241 37 396812 39 397383 41 397955 41 398526 43 399098 43 399669 45 400241 45 400813 45 401384 47 401956 47 402528 47 403100 47 403672 47 404244 47 404815 49 405388 47 405960 47 406532 47 407104 47 407676 47 408248 47 408821 45 409393 45 409965 45 410538 43 411110 43 411683 41 412255 41 412828 39 413401 37 413974 35 414547 33 415120 31 415693 29 416266 27 416840 23 417414 19 417989 13 418567 1 427507 1 428074 11 428643 17 429214 19 429785 21 430355 25 430927 25 431498 27 432069 29 432640 31 433212 31 433784 31 434355 33 434927 33 435499 33 436071 33 436643 33 437214 35 437787 33 438359 33 438931 33 439503 33 440075 33 440648 31 441220 31 441792 31 442365 29 442938 27 443511 25 444083 25 444657 21 445230 19 445803 17 446378 11 446955 1 543242 1 543811 7 544382 9 544954 9 545526 9 546097 11 546670 9 547242 9 547814 9 548387 7 548962 1'"
            ]
          },
          "metadata": {
            "tags": []
          },
          "execution_count": 8
        }
      ]
    },
    {
      "cell_type": "code",
      "metadata": {
        "id": "R-OPTaN5J7pZ",
        "colab_type": "code",
        "colab": {}
      },
      "source": [
        "class ImgDataset(Dataset):\n",
        "\n",
        "    def __init__(self,\n",
        "                 img_generator,\n",
        "                 img_transform,\n",
        "                 img_dpath=None,\n",
        "                 img_fnames=None,\n",
        "                 mask_size=None,\n",
        "                 mask_transform=None):\n",
        "        self.img_fnames = img_fnames\n",
        "        self.img_generator = img_generator\n",
        "        self.img_transform = img_transform\n",
        "        self.mask_size = mask_size\n",
        "        self.mask_transform = mask_transform\n",
        "\n",
        "    def __getitem__(self, i):\n",
        "        seed = np.random.randint(2147483647)\n",
        "        img, lbl = self.img_generator(1)\n",
        "        img = Image.fromarray(img[0,...].astype(np.uint8))\n",
        "        orig_img = img\n",
        "        #img = Image.fromarray(img.transpose((0,3,1,2))[0,...])\n",
        "\n",
        "        if self.img_transform is not None:\n",
        "            random.seed(seed)\n",
        "            img = self.img_transform(img)\n",
        "\n",
        "        #mask = np.zeros(self.mask_size, dtype=np.uint8)\n",
        "        #for encoding in rle_encode(lbl):\n",
        "        #    mask += rle_decode(encoding, self.mask_size)\n",
        "        \n",
        "        #mask = np.clip(mask, 0, 1)\n",
        "        #mask = Image.fromarray(mask)\n",
        "        lbl = np.clip(lbl, 0, 1)\n",
        "        lbl = Image.fromarray(lbl[0,...,1].astype(np.uint8))\n",
        "        \n",
        "        random.seed(seed)\n",
        "        #mask = self.mask_transform(mask)\n",
        "        mask = self.mask_transform(lbl)\n",
        "\n",
        "        return img, torch.from_numpy(np.array(mask, dtype=np.int64))#, orig_img\n",
        "\n",
        "    def __len__(self):\n",
        "        return 1000#len(self.img_fnames)"
      ],
      "execution_count": 0,
      "outputs": []
    },
    {
      "cell_type": "code",
      "metadata": {
        "id": "Hvv0SJAKKvOZ",
        "colab_type": "code",
        "colab": {}
      },
      "source": [
        "class param:\n",
        "    img_size = (80, 80)\n",
        "    bs = 10\n",
        "    num_workers = 5\n",
        "    lr = 0.001\n",
        "    epochs = 10\n",
        "    unet_depth = 5\n",
        "    unet_start_filters = 8\n",
        "    log_interval = 20 # less then len(train_dl)"
      ],
      "execution_count": 0,
      "outputs": []
    },
    {
      "cell_type": "code",
      "metadata": {
        "id": "M6F4Rg0aKxX8",
        "colab_type": "code",
        "colab": {}
      },
      "source": [
        "train_tfms = transforms.Compose([transforms.Resize(param.img_size),\n",
        "                                 transforms.ToTensor()])\n",
        "val_tfms = transforms.Compose([transforms.Resize(param.img_size),\n",
        "                               transforms.ToTensor()])\n",
        "mask_tfms = transforms.Compose([transforms.Resize(param.img_size)])"
      ],
      "execution_count": 0,
      "outputs": []
    },
    {
      "cell_type": "code",
      "metadata": {
        "id": "R9BPYAIYK0qX",
        "colab_type": "code",
        "colab": {}
      },
      "source": [
        "train_ds = ImgDataset(img_generator=RgbDataProvider(nx, ny, cnt=circle_cnt), img_transform=train_tfms, mask_size=original_img_size, mask_transform=mask_tfms)\n",
        "test_ds = ImgDataset(img_generator=RgbDataProvider(nx, ny, cnt=circle_cnt), img_transform=val_tfms, mask_size=original_img_size, mask_transform=mask_tfms)"
      ],
      "execution_count": 0,
      "outputs": []
    },
    {
      "cell_type": "code",
      "metadata": {
        "id": "K1mTD2o7a-Bd",
        "colab_type": "code",
        "colab": {}
      },
      "source": [
        "img, lbl = RgbDataProvider(nx, ny, cnt=circle_cnt)(1)"
      ],
      "execution_count": 0,
      "outputs": []
    },
    {
      "cell_type": "code",
      "metadata": {
        "id": "RgNZsGUbH5Y1",
        "colab_type": "code",
        "outputId": "0553f13b-66f2-434c-8138-7bfc70fa4421",
        "colab": {
          "base_uri": "https://localhost:8080/",
          "height": 303
        }
      },
      "source": [
        "#Image.fromarray(img[0,...,0].astype(np.uint8))\n",
        "print(np.array(img).shape, img[0,...,0].shape)\n",
        "plt.imshow(Image.fromarray(img[0,...,0].astype(np.uint8)))"
      ],
      "execution_count": 14,
      "outputs": [
        {
          "output_type": "stream",
          "text": [
            "(1, 572, 572, 3) (572, 572)\n"
          ],
          "name": "stdout"
        },
        {
          "output_type": "execute_result",
          "data": {
            "text/plain": [
              "<matplotlib.image.AxesImage at 0x7f3e929b0c50>"
            ]
          },
          "metadata": {
            "tags": []
          },
          "execution_count": 14
        },
        {
          "output_type": "display_data",
          "data": {
            "image/png": "[encoded data removed]",
            "text/plain": [
              "<Figure size 432x288 with 1 Axes>"
            ]
          },
          "metadata": {
            "tags": []
          }
        }
      ]
    },
    {
      "cell_type": "code",
      "metadata": {
        "id": "_9JDHgNSIead",
        "colab_type": "code",
        "outputId": "5fbf3a66-1529-45ea-b55d-34842f6d0d89",
        "colab": {
          "base_uri": "https://localhost:8080/",
          "height": 285
        }
      },
      "source": [
        "plt.imshow(train_tfms(Image.fromarray(img[0,...,0].astype(np.uint8)))[0,...])"
      ],
      "execution_count": 15,
      "outputs": [
        {
          "output_type": "execute_result",
          "data": {
            "text/plain": [
              "<matplotlib.image.AxesImage at 0x7f3e9111c198>"
            ]
          },
          "metadata": {
            "tags": []
          },
          "execution_count": 15
        },
        {
          "output_type": "display_data",
          "data": {
            "image/png": "[encoded data removed]",
            "text/plain": [
              "<Figure size 432x288 with 1 Axes>"
            ]
          },
          "metadata": {
            "tags": []
          }
        }
      ]
    },
    {
      "cell_type": "code",
      "metadata": {
        "id": "b4ZGTuYWbBQ6",
        "colab_type": "code",
        "colab": {}
      },
      "source": [
        "#Image.fromarray(img[0,...].transpose((2,0,1))[0,...])\n",
        "#img.transpose((0,3,1,2))[0,...].shape\n",
        "#Image.fromarray(img[0,...].transpose((0,1,2)))\n",
        "#Image.fromarray(img[0,...,0].astype(np.uint8)).save('test.png')"
      ],
      "execution_count": 0,
      "outputs": []
    },
    {
      "cell_type": "code",
      "metadata": {
        "id": "8pGx0hw42wly",
        "colab_type": "code",
        "colab": {}
      },
      "source": [
        "#plt.imshow(Image.open('test.png'))"
      ],
      "execution_count": 0,
      "outputs": []
    },
    {
      "cell_type": "code",
      "metadata": {
        "id": "3PDpTxkX5ONK",
        "colab_type": "code",
        "colab": {}
      },
      "source": [
        "#img, mask, orig_img = train_ds[0]\n",
        "img, mask = train_ds[0]"
      ],
      "execution_count": 0,
      "outputs": []
    },
    {
      "cell_type": "code",
      "metadata": {
        "id": "fZBfY4FC5O7B",
        "colab_type": "code",
        "outputId": "0d85fe9f-c5c1-451f-c4ae-21c8cb0ce5a0",
        "colab": {
          "base_uri": "https://localhost:8080/",
          "height": 285
        }
      },
      "source": [
        "#np.array(img[0,...]).shape\n",
        "plt.imshow(img[0,...])\n",
        "#list(img)"
      ],
      "execution_count": 19,
      "outputs": [
        {
          "output_type": "execute_result",
          "data": {
            "text/plain": [
              "<matplotlib.image.AxesImage at 0x7f3e910fb208>"
            ]
          },
          "metadata": {
            "tags": []
          },
          "execution_count": 19
        },
        {
          "output_type": "display_data",
          "data": {
            "image/png": "[encoded data removed]",
            "text/plain": [
              "<Figure size 432x288 with 1 Axes>"
            ]
          },
          "metadata": {
            "tags": []
          }
        }
      ]
    },
    {
      "cell_type": "code",
      "metadata": {
        "id": "sXNbhoTH6OAG",
        "colab_type": "code",
        "outputId": "8cda3d01-fd9f-4b79-9e01-6687028be3ad",
        "colab": {
          "base_uri": "https://localhost:8080/",
          "height": 285
        }
      },
      "source": [
        "plt.imshow(mask)"
      ],
      "execution_count": 20,
      "outputs": [
        {
          "output_type": "execute_result",
          "data": {
            "text/plain": [
              "<matplotlib.image.AxesImage at 0x7f3e91056128>"
            ]
          },
          "metadata": {
            "tags": []
          },
          "execution_count": 20
        },
        {
          "output_type": "display_data",
          "data": {
            "image/png": "[encoded data removed]",
            "text/plain": [
              "<Figure size 432x288 with 1 Axes>"
            ]
          },
          "metadata": {
            "tags": []
          }
        }
      ]
    },
    {
      "cell_type": "code",
      "metadata": {
        "id": "WP0JBiai6v8g",
        "colab_type": "code",
        "outputId": "0cf68122-8060-4e62-bb0e-a2e8f47b6295",
        "colab": {
          "base_uri": "https://localhost:8080/",
          "height": 34
        }
      },
      "source": [
        "mask.shape"
      ],
      "execution_count": 21,
      "outputs": [
        {
          "output_type": "execute_result",
          "data": {
            "text/plain": [
              "torch.Size([80, 80])"
            ]
          },
          "metadata": {
            "tags": []
          },
          "execution_count": 21
        }
      ]
    },
    {
      "cell_type": "code",
      "metadata": {
        "id": "ULcX4ZfYK25W",
        "colab_type": "code",
        "outputId": "43380ccd-f04b-45a3-dcba-bee0de19e978",
        "colab": {
          "base_uri": "https://localhost:8080/",
          "height": 220
        }
      },
      "source": [
        "print(img.shape, mask.shape)\n",
        "plt.subplot(121)\n",
        "plt.imshow(img[0,...]) #.permute(1,2,0)\n",
        "plt.subplot(122)\n",
        "plt.imshow(mask, cmap='gray')\n",
        "plt.show()"
      ],
      "execution_count": 22,
      "outputs": [
        {
          "output_type": "stream",
          "text": [
            "torch.Size([3, 80, 80]) torch.Size([80, 80])\n"
          ],
          "name": "stdout"
        },
        {
          "output_type": "display_data",
          "data": {
            "image/png": "[encoded data removed]",
            "text/plain": [
              "<Figure size 432x288 with 2 Axes>"
            ]
          },
          "metadata": {
            "tags": []
          }
        }
      ]
    },
    {
      "cell_type": "code",
      "metadata": {
        "id": "LrStQhUA45gk",
        "colab_type": "code",
        "colab": {}
      },
      "source": [
        "def conv1x1(in_channels, out_channels, groups=1):\n",
        "    return nn.Conv2d(in_channels,\n",
        "                     out_channels,\n",
        "                     kernel_size=1,\n",
        "                     groups=groups,\n",
        "                     stride=1)\n",
        "\n",
        "def conv3x3(in_channels, out_channels, stride=1, padding=1, bias=True, groups=1):\n",
        "    return nn.Conv2d(in_channels,\n",
        "                     out_channels,\n",
        "                     kernel_size=3,\n",
        "                     stride=stride,\n",
        "                     padding=padding,\n",
        "                     bias=bias,\n",
        "                     groups=groups)\n",
        "\n",
        "def upconv2x2(in_channels, out_channels, mode='transpose'):\n",
        "    if mode == 'transpose':\n",
        "        return nn.ConvTranspose2d(in_channels,\n",
        "                                  out_channels,\n",
        "                                  kernel_size=2,\n",
        "                                  stride=2)\n",
        "    else:\n",
        "        return nn.Sequential(\n",
        "            nn.Upsample(mode='bilinear', scale_factor=2),\n",
        "            conv1x1(in_channels, out_channels))"
      ],
      "execution_count": 0,
      "outputs": []
    },
    {
      "cell_type": "code",
      "metadata": {
        "id": "GWXiXZ-163p6",
        "colab_type": "code",
        "colab": {}
      },
      "source": [
        "class DownConv(nn.Module):\n",
        "    \"\"\"\n",
        "    A helper Module that performs 2 convolutions and 1 MaxPool.\n",
        "    A ReLU activation follows each convolution.\n",
        "    \"\"\"\n",
        "    def __init__(self, in_channels, out_channels, pooling=True):\n",
        "        super(DownConv, self).__init__()\n",
        "\n",
        "        self.in_channels = in_channels\n",
        "        self.out_channels = out_channels\n",
        "        self.pooling = pooling\n",
        "\n",
        "        self.conv1 = conv3x3(self.in_channels, self.out_channels)\n",
        "        self.conv2 = conv3x3(self.out_channels, self.out_channels)\n",
        "\n",
        "        if self.pooling:\n",
        "            self.pool = nn.MaxPool2d(kernel_size=2, stride=2)\n",
        "\n",
        "    def forward(self, x):\n",
        "        x = F.relu(self.conv1(x))\n",
        "        x = F.relu(self.conv2(x))\n",
        "        before_pool = x\n",
        "        if self.pooling:\n",
        "            x = self.pool(x)\n",
        "        return x, before_pool\n",
        "\n",
        "class UpConv(nn.Module):\n",
        "    \"\"\"\n",
        "    A helper Module that performs 2 convolutions and 1 UpConvolution.\n",
        "    A ReLU activation follows each convolution.\n",
        "    \"\"\"\n",
        "    def __init__(self,\n",
        "                 in_channels,\n",
        "                 out_channels,\n",
        "                 merge_mode='concat',\n",
        "                 up_mode='transpose'):\n",
        "        super(UpConv, self).__init__()\n",
        "\n",
        "        self.in_channels = in_channels\n",
        "        self.out_channels = out_channels\n",
        "        self.merge_mode = merge_mode\n",
        "        self.up_mode = up_mode\n",
        "\n",
        "        self.upconv = upconv2x2(self.in_channels,\n",
        "                                self.out_channels,\n",
        "                                mode=self.up_mode)\n",
        "\n",
        "        if self.merge_mode == 'concat':\n",
        "            self.conv1 = conv3x3(2*self.out_channels,\n",
        "                                 self.out_channels)\n",
        "        else:\n",
        "            # num of input channels to conv2 is same\n",
        "            self.conv1 = conv3x3(self.out_channels, self.out_channels)\n",
        "\n",
        "        self.conv2 = conv3x3(self.out_channels, self.out_channels)\n",
        "\n",
        "    def forward(self, from_down, from_up):\n",
        "        \"\"\" Forward pass\n",
        "        Arguments:\n",
        "            from_down: tensor from the encoder pathway\n",
        "            from_up: upconv'd tensor from the decoder pathway\n",
        "        \"\"\"\n",
        "        from_up = self.upconv(from_up)\n",
        "        if self.merge_mode == 'concat':\n",
        "            x = torch.cat((from_up, from_down), 1)\n",
        "        else:\n",
        "            x = from_up + from_down\n",
        "        x = F.relu(self.conv1(x))\n",
        "        x = F.relu(self.conv2(x))\n",
        "        return x"
      ],
      "execution_count": 0,
      "outputs": []
    },
    {
      "cell_type": "code",
      "metadata": {
        "id": "ZKbQLxxm65lc",
        "colab_type": "code",
        "colab": {}
      },
      "source": [
        "class UNet(nn.Module):\n",
        "    \"\"\" `UNet` class is based on https://arxiv.org/abs/1505.04597\n",
        "    The U-Net is a convolutional encoder-decoder neural network.\n",
        "    Contextual spatial information (from the decoding,\n",
        "    expansive pathway) about an input tensor is merged with\n",
        "    information representing the localization of details\n",
        "    (from the encoding, compressive pathway).\n",
        "    Modifications to the original paper:\n",
        "    (1) padding is used in 3x3 convolutions to prevent loss\n",
        "        of border pixels\n",
        "    (2) merging outputs does not require cropping due to (1)\n",
        "    (3) residual connections can be used by specifying\n",
        "        UNet(merge_mode='add')\n",
        "    (4) if non-parametric upsampling is used in the decoder\n",
        "        pathway (specified by upmode='upsample'), then an\n",
        "        additional 1x1 2d convolution occurs after upsampling\n",
        "        to reduce channel dimensionality by a factor of 2.\n",
        "        This channel halving happens with the convolution in\n",
        "        the tranpose convolution (specified by upmode='transpose')\n",
        "    \"\"\"\n",
        "\n",
        "    def __init__(self, num_classes, in_channels=3, depth=5,\n",
        "                 start_filts=64, up_mode='transpose',\n",
        "                 merge_mode='concat'):\n",
        "        \"\"\"\n",
        "        Arguments:\n",
        "            in_channels: int, number of channels in the input tensor.\n",
        "                Default is 3 for RGB images.\n",
        "            depth: int, number of MaxPools in the U-Net.\n",
        "            start_filts: int, number of convolutional filters for the\n",
        "                first conv.\n",
        "            up_mode: string, type of upconvolution. Choices: 'transpose'\n",
        "                for transpose convolution or 'upsample' for nearest neighbour\n",
        "                upsampling.\n",
        "        \"\"\"\n",
        "        super(UNet, self).__init__()\n",
        "\n",
        "        if up_mode in ('transpose', 'upsample'):\n",
        "            self.up_mode = up_mode\n",
        "        else:\n",
        "            raise ValueError(\"\\\"{}\\\" is not a valid mode for \"\n",
        "                             \"upsampling. Only \\\"transpose\\\" and \"\n",
        "                             \"\\\"upsample\\\" are allowed.\".format(up_mode))\n",
        "\n",
        "        if merge_mode in ('concat', 'add'):\n",
        "            self.merge_mode = merge_mode\n",
        "        else:\n",
        "            raise ValueError(\"\\\"{}\\\" is not a valid mode for\"\n",
        "                             \"merging up and down paths. \"\n",
        "                             \"Only \\\"concat\\\" and \"\n",
        "                             \"\\\"add\\\" are allowed.\".format(up_mode))\n",
        "\n",
        "        # NOTE: up_mode 'upsample' is incompatible with merge_mode 'add'\n",
        "        if self.up_mode == 'upsample' and self.merge_mode == 'add':\n",
        "            raise ValueError(\"up_mode \\\"upsample\\\" is incompatible \"\n",
        "                             \"with merge_mode \\\"add\\\" at the moment \"\n",
        "                             \"because it doesn't make sense to use \"\n",
        "                             \"nearest neighbour to reduce \"\n",
        "                             \"depth channels (by half).\")\n",
        "\n",
        "        self.num_classes = num_classes\n",
        "        self.in_channels = in_channels\n",
        "        self.start_filts = start_filts\n",
        "        self.depth = depth\n",
        "\n",
        "        self.down_convs = []\n",
        "        self.up_convs = []\n",
        "\n",
        "        # create the encoder pathway and add to a list\n",
        "        for i in range(depth):\n",
        "            ins = self.in_channels if i == 0 else outs\n",
        "            outs = self.start_filts*(2**i)\n",
        "            pooling = True if i < depth-1 else False\n",
        "\n",
        "            down_conv = DownConv(ins, outs, pooling=pooling)\n",
        "            self.down_convs.append(down_conv)\n",
        "\n",
        "        # create the decoder pathway and add to a list\n",
        "        # - careful! decoding only requires depth-1 blocks\n",
        "        for i in range(depth-1):\n",
        "            ins = outs\n",
        "            outs = ins // 2\n",
        "            up_conv = UpConv(ins, outs, up_mode=up_mode,\n",
        "                merge_mode=merge_mode)\n",
        "            self.up_convs.append(up_conv)\n",
        "\n",
        "        self.conv_final = conv1x1(outs, self.num_classes)\n",
        "\n",
        "        # add the list of modules to current module\n",
        "        self.down_convs = nn.ModuleList(self.down_convs)\n",
        "        self.up_convs = nn.ModuleList(self.up_convs)\n",
        "\n",
        "        self.reset_params()\n",
        "\n",
        "    @staticmethod\n",
        "    def weight_init(m):\n",
        "        if isinstance(m, nn.Conv2d):\n",
        "            nn.init.xavier_normal(m.weight)\n",
        "            nn.init.constant(m.bias, 0)\n",
        "\n",
        "\n",
        "    def reset_params(self):\n",
        "        for i, m in enumerate(self.modules()):\n",
        "            self.weight_init(m)\n",
        "\n",
        "    def forward(self, x):\n",
        "        encoder_outs = []\n",
        "\n",
        "        # encoder pathway, save outputs for merging\n",
        "        for i, module in enumerate(self.down_convs):\n",
        "            x, before_pool = module(x)\n",
        "            encoder_outs.append(before_pool)\n",
        "\n",
        "        for i, module in enumerate(self.up_convs):\n",
        "            before_pool = encoder_outs[-(i+2)]\n",
        "            x = module(before_pool, x)\n",
        "\n",
        "        # No softmax is used. This means you need to use\n",
        "        # nn.CrossEntropyLoss is your training script,\n",
        "        # as this module includes a softmax already.\n",
        "        x = self.conv_final(x)\n",
        "        return x"
      ],
      "execution_count": 0,
      "outputs": []
    },
    {
      "cell_type": "code",
      "metadata": {
        "id": "-UUrehcv67Y0",
        "colab_type": "code",
        "outputId": "81bfbf04-8242-42cb-c338-cf8ddf5ef001",
        "colab": {
          "base_uri": "https://localhost:8080/",
          "height": 51
        }
      },
      "source": [
        "train_dl = DataLoader(train_ds,\n",
        "                      batch_size=param.bs,\n",
        "                      shuffle=True,\n",
        "                      pin_memory=torch.cuda.is_available(),\n",
        "                      num_workers=param.num_workers)\n",
        "val_dl = DataLoader(test_ds,\n",
        "                    batch_size=param.bs,\n",
        "                    shuffle=False,\n",
        "                    pin_memory=torch.cuda.is_available(),\n",
        "                    num_workers=param.num_workers)\n",
        "\n",
        "model = UNet(2, in_channels=3,\n",
        "             depth=param.unet_depth,\n",
        "             start_filts=param.unet_start_filters,\n",
        "             merge_mode='concat').cuda()\n",
        "optim = torch.optim.Adam(model.parameters(), lr=param.lr)"
      ],
      "execution_count": 26,
      "outputs": [
        {
          "output_type": "stream",
          "text": [
            "/usr/local/lib/python3.6/dist-packages/ipykernel_launcher.py:98: UserWarning: nn.init.xavier_normal is now deprecated in favor of nn.init.xavier_normal_.\n",
            "/usr/local/lib/python3.6/dist-packages/ipykernel_launcher.py:99: UserWarning: nn.init.constant is now deprecated in favor of nn.init.constant_.\n"
          ],
          "name": "stderr"
        }
      ]
    },
    {
      "cell_type": "code",
      "metadata": {
        "id": "9-q9N4Qf6-LG",
        "colab_type": "code",
        "colab": {}
      },
      "source": [
        "def get_loss(dl, model):\n",
        "    loss = 0\n",
        "    for X, y in dl:\n",
        "        X, y = Variable(X).cuda(), Variable(y).cuda()\n",
        "        output = model(X)\n",
        "        loss += F.cross_entropy(output, y).item()\n",
        "    loss = loss / len(dl)\n",
        "    return loss"
      ],
      "execution_count": 0,
      "outputs": []
    },
    {
      "cell_type": "code",
      "metadata": {
        "id": "BNRnOLIR_FFH",
        "colab_type": "code",
        "colab": {}
      },
      "source": [
        "for i, (X, y) in enumerate(train_dl):\n",
        "  break"
      ],
      "execution_count": 0,
      "outputs": []
    },
    {
      "cell_type": "code",
      "metadata": {
        "id": "ACq5R6nU_GLC",
        "colab_type": "code",
        "outputId": "97ecc946-c96c-42c5-88b7-b8d16a219f63",
        "colab": {
          "base_uri": "https://localhost:8080/",
          "height": 34
        }
      },
      "source": [
        "X.shape"
      ],
      "execution_count": 29,
      "outputs": [
        {
          "output_type": "execute_result",
          "data": {
            "text/plain": [
              "torch.Size([10, 3, 80, 80])"
            ]
          },
          "metadata": {
            "tags": []
          },
          "execution_count": 29
        }
      ]
    },
    {
      "cell_type": "code",
      "metadata": {
        "id": "NqdH9lHT79H8",
        "colab_type": "code",
        "outputId": "d1a3c51c-4711-41ce-ea9b-57a9901a3893",
        "colab": {
          "base_uri": "https://localhost:8080/",
          "height": 386,
          "referenced_widgets": [
            "8e47a7ad5eea4cc398046c2e61fe1cb7",
            "fbe06a8028994bd482acdbdfe1940ff8",
            "3f4452470b4045ff9c651c223be5684c",
            "2e6d657083114252af726ce300ba126e",
            "b0b2afd1242a482d815bdacc5632b01b",
            "6012788a02d140e3a5d009c901448983",
            "9ea65041ef4a488e8077c9c65cf9a73a",
            "076f135356a34ad7bf58524fabadb720",
            "ae85dc0284774e39b1f0f21537e26ab2",
            "cf52e7516f044c9cbe389dd59877d155",
            "198ee65790a446fbacb8aa454612245a",
            "7245fae134c044ceb3e8315621ae3f61",
            "263444fe9e334bb694ff4568b71c2c5c",
            "b3f728b4cde04f9a9a7a1aaf1c2e64a5",
            "8ec945e85eb64d5a839772940fa3850e",
            "21cdd017e9984a85a69f6e6989433eb9",
            "08b118db998d46e4af6467b88142a1aa",
            "916011ee605f41d082f9530c58cf5035",
            "825977a16d5249a79263487b4e6f3d91",
            "341f9db7fbe44abf8e9324559830486a",
            "2416aa0bd50d4d77a47360a6c63e281d",
            "ddbb56781ae74139930cfc9d4f59cf23",
            "443ccc0cf4b847d48064462ea9118db7",
            "a545f768290546e78ebaeaa0cd99c061",
            "f907db53e14545dfa229f58c8b2b52d8",
            "d2a33dd7409e496abb84ad2ff065b329",
            "90cdf37647484751b163ef5edd9237a0",
            "69dbf5bb0b814259a5d9a425e51b00a7",
            "cb7badf95f5641d58c31d00d2283595d",
            "6adfeae6757542f2943c64d2afe88fb9",
            "b2e7d2698b004005b40059546bc48a3c",
            "2e90c16b2e0246798152bd3f1aa971b7",
            "e9c30ea2889346749fb2cfa920252fad",
            "8758849424d348998e2fb626087c0808",
            "723a5694798c4cbbaf9f15a900387e7b",
            "cd37f49c50284b8cbb221f5f917f6ca8",
            "2497bbd8d3a1471c8095a0c0343b119d",
            "54b5e056bcbc441787c697cfd81e2c9e",
            "1f463f0a0899456fa8f93cdad9c2eccf",
            "7a2ee4168b5647b4b1d171c4f6eef753",
            "6686b9fd1fe84744aae5f7546fa9c431",
            "cc3741a3dc214aee9c6818d56d98d4d8",
            "07d9c4b6533e49a1bf80d55b57fd3d5d",
            "a5b12283796544799466b2a16944aac1",
            "ae05a53e2406437a83fba702612debcb",
            "470bb6d681f847ca9956132aa38f9ece",
            "5b4f5794e7a54f8c90b2c1911e24092c",
            "7bd01fe00fd5460398e1ef0cc5c4140c",
            "4f3297d317584b46a23563c005f11c52",
            "5079a44f0aae454985e6622ed7017634",
            "3f49041a242c4215b78f819c11f97076",
            "2129e7f929a246f08b5baa0eab1a735c",
            "80adfe4411fb4e26bd842f08312f6f71",
            "e5df2419e8a54c03a690850232b5268b",
            "2a9088ca5fc74e319126c26ff9c2fd9f",
            "0a7f66c9ac224de79bf68a26b3125a48",
            "766af333d70f44fc94a373c30f2c0818",
            "7bc48b0a47c944748fbca1f7ff5e0183",
            "08990d7bd18049e2843bf10416e5b031",
            "fc9c4f960ade44e9a71d43f61a668a60",
            "8a4a56d1a0654ed18325f49c92a28406",
            "af47ce597621424e9b05f8719381492c",
            "ccd71898269843bb85e6f1ecd6ab0ba3",
            "3f8c4bdf464643bba74ca9e7d07d2e21",
            "9cc732ae375e41e09fa9f8fb8c833961",
            "12fba26c46d4417eae05338baaa353fd",
            "c39ef08fd6f34e70acc64fbfec27deaa",
            "03096ecb58fc4e72b3d8adee09db8eae",
            "30ba6710bb1e4c318a1120c5b104d94d",
            "7478fe8269e84d5a8392c9c5c942a669",
            "17780a2a5da44c7fb841373b244a4dcb",
            "feb01cd5f2ea45059fedadbf7795cc4f",
            "8942bdd501564f91949dbc8ce2a8c557",
            "afc62a7f589d476484d8dd13e7410513",
            "4d110b1a5c254e0b8f91ccb9e82ed75a",
            "b3c36317e1ee469d96945e205a1e18e8",
            "5bdb9f0740d049fc80d06e5161ec391a",
            "e482aee9ff7d425895609e7fbbd5a013",
            "002dfe781976419fb72f0b2fc81a8103",
            "ab38b6c79d92471da3da4b4776d993ea",
            "62d2481035454e7681addab4e897fbc8",
            "0d2a746f3f874589801cfe30f3e56e8e",
            "fdd36cfb5221491596b32faf80fada1a",
            "636b102bed3344e1abea939d77728e31",
            "75d036c03506448f9aa10392b8f227bb",
            "73105fdeccab4e7e9640f3fbd0ac6ec0",
            "5ff9ba00a74447478e16c37581f55c37",
            "52baa03cb6ed49dda1aad8fecac67327"
          ]
        }
      },
      "source": [
        "iters = []\n",
        "train_losses = []\n",
        "val_losses = []\n",
        "\n",
        "it = 0\n",
        "min_loss = np.inf\n",
        "\n",
        "model.train()\n",
        "for epoch in tqdm_notebook(range(param.epochs)):\n",
        "    for i, (X, y) in tqdm_notebook(enumerate(train_dl)):\n",
        "        X = Variable(X).cuda()  # [N, 1, H, W]\n",
        "        y = Variable(y).cuda()  # [N, H, W] with class indices (0, 1)\n",
        "        #print(X.shape)\n",
        "        output = model(X)  # [N, 2, H, W]\n",
        "        loss = F.cross_entropy(output, y)\n",
        "\n",
        "        optim.zero_grad()\n",
        "        loss.backward()\n",
        "        optim.step()\n",
        "\n",
        "        if (i + 1) % param.log_interval == 0:\n",
        "            it += param.log_interval * param.bs\n",
        "            iters.append(it)\n",
        "            train_losses.append(loss.item())\n",
        "\n",
        "            model.eval()\n",
        "            val_loss = get_loss(val_dl, model)\n",
        "            model.train()\n",
        "            val_losses.append(val_loss)\n",
        "\n",
        "\n",
        "model.eval()\n",
        "val_loss = get_loss(val_dl, model)"
      ],
      "execution_count": 30,
      "outputs": [
        {
          "output_type": "display_data",
          "data": {
            "application/vnd.jupyter.widget-view+json": {
              "model_id": "8e47a7ad5eea4cc398046c2e61fe1cb7",
              "version_minor": 0,
              "version_major": 2
            },
            "text/plain": [
              "HBox(children=(IntProgress(value=0, max=10), HTML(value='')))"
            ]
          },
          "metadata": {
            "tags": []
          }
        },
        {
          "output_type": "display_data",
          "data": {
            "application/vnd.jupyter.widget-view+json": {
              "model_id": "ae85dc0284774e39b1f0f21537e26ab2",
              "version_minor": 0,
              "version_major": 2
            },
            "text/plain": [
              "HBox(children=(IntProgress(value=1, bar_style='info', max=1), HTML(value='')))"
            ]
          },
          "metadata": {
            "tags": []
          }
        },
        {
          "output_type": "display_data",
          "data": {
            "application/vnd.jupyter.widget-view+json": {
              "model_id": "08b118db998d46e4af6467b88142a1aa",
              "version_minor": 0,
              "version_major": 2
            },
            "text/plain": [
              "HBox(children=(IntProgress(value=1, bar_style='info', max=1), HTML(value='')))"
            ]
          },
          "metadata": {
            "tags": []
          }
        },
        {
          "output_type": "display_data",
          "data": {
            "application/vnd.jupyter.widget-view+json": {
              "model_id": "f907db53e14545dfa229f58c8b2b52d8",
              "version_minor": 0,
              "version_major": 2
            },
            "text/plain": [
              "HBox(children=(IntProgress(value=1, bar_style='info', max=1), HTML(value='')))"
            ]
          },
          "metadata": {
            "tags": []
          }
        },
        {
          "output_type": "display_data",
          "data": {
            "application/vnd.jupyter.widget-view+json": {
              "model_id": "e9c30ea2889346749fb2cfa920252fad",
              "version_minor": 0,
              "version_major": 2
            },
            "text/plain": [
              "HBox(children=(IntProgress(value=1, bar_style='info', max=1), HTML(value='')))"
            ]
          },
          "metadata": {
            "tags": []
          }
        },
        {
          "output_type": "display_data",
          "data": {
            "application/vnd.jupyter.widget-view+json": {
              "model_id": "6686b9fd1fe84744aae5f7546fa9c431",
              "version_minor": 0,
              "version_major": 2
            },
            "text/plain": [
              "HBox(children=(IntProgress(value=1, bar_style='info', max=1), HTML(value='')))"
            ]
          },
          "metadata": {
            "tags": []
          }
        },
        {
          "output_type": "display_data",
          "data": {
            "application/vnd.jupyter.widget-view+json": {
              "model_id": "4f3297d317584b46a23563c005f11c52",
              "version_minor": 0,
              "version_major": 2
            },
            "text/plain": [
              "HBox(children=(IntProgress(value=1, bar_style='info', max=1), HTML(value='')))"
            ]
          },
          "metadata": {
            "tags": []
          }
        },
        {
          "output_type": "display_data",
          "data": {
            "application/vnd.jupyter.widget-view+json": {
              "model_id": "766af333d70f44fc94a373c30f2c0818",
              "version_minor": 0,
              "version_major": 2
            },
            "text/plain": [
              "HBox(children=(IntProgress(value=1, bar_style='info', max=1), HTML(value='')))"
            ]
          },
          "metadata": {
            "tags": []
          }
        },
        {
          "output_type": "display_data",
          "data": {
            "application/vnd.jupyter.widget-view+json": {
              "model_id": "9cc732ae375e41e09fa9f8fb8c833961",
              "version_minor": 0,
              "version_major": 2
            },
            "text/plain": [
              "HBox(children=(IntProgress(value=1, bar_style='info', max=1), HTML(value='')))"
            ]
          },
          "metadata": {
            "tags": []
          }
        },
        {
          "output_type": "display_data",
          "data": {
            "application/vnd.jupyter.widget-view+json": {
              "model_id": "8942bdd501564f91949dbc8ce2a8c557",
              "version_minor": 0,
              "version_major": 2
            },
            "text/plain": [
              "HBox(children=(IntProgress(value=1, bar_style='info', max=1), HTML(value='')))"
            ]
          },
          "metadata": {
            "tags": []
          }
        },
        {
          "output_type": "display_data",
          "data": {
            "application/vnd.jupyter.widget-view+json": {
              "model_id": "62d2481035454e7681addab4e897fbc8",
              "version_minor": 0,
              "version_major": 2
            },
            "text/plain": [
              "HBox(children=(IntProgress(value=1, bar_style='info', max=1), HTML(value='')))"
            ]
          },
          "metadata": {
            "tags": []
          }
        },
        {
          "output_type": "stream",
          "text": [
            "\n"
          ],
          "name": "stdout"
        }
      ]
    },
    {
      "cell_type": "code",
      "metadata": {
        "id": "z1YkBpmg79oW",
        "colab_type": "code",
        "outputId": "3246f9a5-dde3-4c3d-88e9-c591c4cd4859",
        "colab": {
          "base_uri": "https://localhost:8080/",
          "height": 265
        }
      },
      "source": [
        "plt.plot(iters, train_losses)\n",
        "plt.plot(iters, val_losses)\n",
        "plt.show()"
      ],
      "execution_count": 31,
      "outputs": [
        {
          "output_type": "display_data",
          "data": {
            "image/png": "[encoded data removed]",
            "text/plain": [
              "<Figure size 432x288 with 1 Axes>"
            ]
          },
          "metadata": {
            "tags": []
          }
        }
      ]
    },
    {
      "cell_type": "code",
      "metadata": {
        "id": "LNi0tb2l7_0_",
        "colab_type": "code",
        "colab": {}
      },
      "source": [
        "model.eval()\n",
        "for X, masks in val_dl:\n",
        "    X = X.cuda()\n",
        "    output = model(X)\n",
        "    break"
      ],
      "execution_count": 0,
      "outputs": []
    },
    {
      "cell_type": "code",
      "metadata": {
        "id": "k4mLlHwM8BdR",
        "colab_type": "code",
        "outputId": "d6274964-82b1-4445-a694-f8c8949eccd9",
        "colab": {
          "base_uri": "https://localhost:8080/",
          "height": 248
        }
      },
      "source": [
        "num_item = 5\n",
        "image, mask, predicted = X[num_item],  masks[num_item], output[num_item, 1]\n",
        "plt.figure(figsize=(12,4))\n",
        "plt.subplot(131) \n",
        "plt.imshow(image.cpu()[0,...]) #.permute(1,2,0)\n",
        "plt.subplot(132)\n",
        "plt.imshow(mask.cpu(), cmap='gray')\n",
        "plt.subplot(133)\n",
        "plt.imshow(predicted.detach().cpu(), cmap='gray')\n",
        "plt.show()"
      ],
      "execution_count": 33,
      "outputs": [
        {
          "output_type": "display_data",
          "data": {
            "image/png": "[encoded data removed]",
            "text/plain": [
              "<Figure size 864x288 with 3 Axes>"
            ]
          },
          "metadata": {
            "tags": []
          }
        }
      ]
    },
    {
      "cell_type": "code",
      "metadata": {
        "id": "UX1UcIPtFKR4",
        "colab_type": "code",
        "colab": {}
      },
      "source": [
        ""
      ],
      "execution_count": 0,
      "outputs": []
    }
  ]
}